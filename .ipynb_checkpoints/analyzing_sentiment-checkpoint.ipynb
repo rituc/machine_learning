{
 "cells": [
  {
   "cell_type": "code",
   "execution_count": 4,
   "metadata": {
    "collapsed": false
   },
   "outputs": [],
   "source": [
    "import graphlab\n",
    "products = graphlab.SFrame('data/amazon_baby.gl')"
   ]
  },
  {
   "cell_type": "code",
   "execution_count": 5,
   "metadata": {
    "collapsed": false
   },
   "outputs": [
    {
     "data": {
      "text/html": [
       "<div style=\"max-height:1000px;max-width:1500px;overflow:auto;\"><table frame=\"box\" rules=\"cols\">\n",
       "    <tr>\n",
       "        <th style=\"padding-left: 1em; padding-right: 1em; text-align: center\">name</th>\n",
       "        <th style=\"padding-left: 1em; padding-right: 1em; text-align: center\">review</th>\n",
       "        <th style=\"padding-left: 1em; padding-right: 1em; text-align: center\">rating</th>\n",
       "    </tr>\n",
       "    <tr>\n",
       "        <td style=\"padding-left: 1em; padding-right: 1em; text-align: center; vertical-align: top\">Planetwise Flannel Wipes</td>\n",
       "        <td style=\"padding-left: 1em; padding-right: 1em; text-align: center; vertical-align: top\">These flannel wipes are<br>OK, but in my opinion ...</td>\n",
       "        <td style=\"padding-left: 1em; padding-right: 1em; text-align: center; vertical-align: top\">3.0</td>\n",
       "    </tr>\n",
       "    <tr>\n",
       "        <td style=\"padding-left: 1em; padding-right: 1em; text-align: center; vertical-align: top\">Planetwise Wipe Pouch</td>\n",
       "        <td style=\"padding-left: 1em; padding-right: 1em; text-align: center; vertical-align: top\">it came early and was not<br>disappointed. i love ...</td>\n",
       "        <td style=\"padding-left: 1em; padding-right: 1em; text-align: center; vertical-align: top\">5.0</td>\n",
       "    </tr>\n",
       "    <tr>\n",
       "        <td style=\"padding-left: 1em; padding-right: 1em; text-align: center; vertical-align: top\">Annas Dream Full Quilt<br>with 2 Shams ...</td>\n",
       "        <td style=\"padding-left: 1em; padding-right: 1em; text-align: center; vertical-align: top\">Very soft and comfortable<br>and warmer than it ...</td>\n",
       "        <td style=\"padding-left: 1em; padding-right: 1em; text-align: center; vertical-align: top\">5.0</td>\n",
       "    </tr>\n",
       "    <tr>\n",
       "        <td style=\"padding-left: 1em; padding-right: 1em; text-align: center; vertical-align: top\">Stop Pacifier Sucking<br>without tears with ...</td>\n",
       "        <td style=\"padding-left: 1em; padding-right: 1em; text-align: center; vertical-align: top\">This is a product well<br>worth the purchase.  I ...</td>\n",
       "        <td style=\"padding-left: 1em; padding-right: 1em; text-align: center; vertical-align: top\">5.0</td>\n",
       "    </tr>\n",
       "    <tr>\n",
       "        <td style=\"padding-left: 1em; padding-right: 1em; text-align: center; vertical-align: top\">Stop Pacifier Sucking<br>without tears with ...</td>\n",
       "        <td style=\"padding-left: 1em; padding-right: 1em; text-align: center; vertical-align: top\">All of my kids have cried<br>non-stop when I tried to ...</td>\n",
       "        <td style=\"padding-left: 1em; padding-right: 1em; text-align: center; vertical-align: top\">5.0</td>\n",
       "    </tr>\n",
       "    <tr>\n",
       "        <td style=\"padding-left: 1em; padding-right: 1em; text-align: center; vertical-align: top\">Stop Pacifier Sucking<br>without tears with ...</td>\n",
       "        <td style=\"padding-left: 1em; padding-right: 1em; text-align: center; vertical-align: top\">When the Binky Fairy came<br>to our house, we didn't ...</td>\n",
       "        <td style=\"padding-left: 1em; padding-right: 1em; text-align: center; vertical-align: top\">5.0</td>\n",
       "    </tr>\n",
       "    <tr>\n",
       "        <td style=\"padding-left: 1em; padding-right: 1em; text-align: center; vertical-align: top\">A Tale of Baby's Days<br>with Peter Rabbit ...</td>\n",
       "        <td style=\"padding-left: 1em; padding-right: 1em; text-align: center; vertical-align: top\">Lovely book, it's bound<br>tightly so you may no ...</td>\n",
       "        <td style=\"padding-left: 1em; padding-right: 1em; text-align: center; vertical-align: top\">4.0</td>\n",
       "    </tr>\n",
       "    <tr>\n",
       "        <td style=\"padding-left: 1em; padding-right: 1em; text-align: center; vertical-align: top\">Baby Tracker&amp;reg; - Daily<br>Childcare Journal, ...</td>\n",
       "        <td style=\"padding-left: 1em; padding-right: 1em; text-align: center; vertical-align: top\">Perfect for new parents.<br>We were able to keep ...</td>\n",
       "        <td style=\"padding-left: 1em; padding-right: 1em; text-align: center; vertical-align: top\">5.0</td>\n",
       "    </tr>\n",
       "    <tr>\n",
       "        <td style=\"padding-left: 1em; padding-right: 1em; text-align: center; vertical-align: top\">Baby Tracker&amp;reg; - Daily<br>Childcare Journal, ...</td>\n",
       "        <td style=\"padding-left: 1em; padding-right: 1em; text-align: center; vertical-align: top\">A friend of mine pinned<br>this product on Pinte ...</td>\n",
       "        <td style=\"padding-left: 1em; padding-right: 1em; text-align: center; vertical-align: top\">5.0</td>\n",
       "    </tr>\n",
       "    <tr>\n",
       "        <td style=\"padding-left: 1em; padding-right: 1em; text-align: center; vertical-align: top\">Baby Tracker&amp;reg; - Daily<br>Childcare Journal, ...</td>\n",
       "        <td style=\"padding-left: 1em; padding-right: 1em; text-align: center; vertical-align: top\">This has been an easy way<br>for my nanny to record ...</td>\n",
       "        <td style=\"padding-left: 1em; padding-right: 1em; text-align: center; vertical-align: top\">4.0</td>\n",
       "    </tr>\n",
       "</table>\n",
       "[183531 rows x 3 columns]<br/>Note: Only the head of the SFrame is printed.<br/>You can use print_rows(num_rows=m, num_columns=n) to print more rows and columns.\n",
       "</div>"
      ],
      "text/plain": [
       "Columns:\n",
       "\tname\tstr\n",
       "\treview\tstr\n",
       "\trating\tfloat\n",
       "\n",
       "Rows: 183531\n",
       "\n",
       "Data:\n",
       "+-------------------------------+-------------------------------+--------+\n",
       "|              name             |             review            | rating |\n",
       "+-------------------------------+-------------------------------+--------+\n",
       "|    Planetwise Flannel Wipes   | These flannel wipes are OK... |  3.0   |\n",
       "|     Planetwise Wipe Pouch     | it came early and was not ... |  5.0   |\n",
       "| Annas Dream Full Quilt wit... | Very soft and comfortable ... |  5.0   |\n",
       "| Stop Pacifier Sucking with... | This is a product well wor... |  5.0   |\n",
       "| Stop Pacifier Sucking with... | All of my kids have cried ... |  5.0   |\n",
       "| Stop Pacifier Sucking with... | When the Binky Fairy came ... |  5.0   |\n",
       "| A Tale of Baby's Days with... | Lovely book, it's bound ti... |  4.0   |\n",
       "| Baby Tracker&reg; - Daily ... | Perfect for new parents. W... |  5.0   |\n",
       "| Baby Tracker&reg; - Daily ... | A friend of mine pinned th... |  5.0   |\n",
       "| Baby Tracker&reg; - Daily ... | This has been an easy way ... |  4.0   |\n",
       "+-------------------------------+-------------------------------+--------+\n",
       "[183531 rows x 3 columns]\n",
       "Note: Only the head of the SFrame is printed.\n",
       "You can use print_rows(num_rows=m, num_columns=n) to print more rows and columns."
      ]
     },
     "execution_count": 5,
     "metadata": {},
     "output_type": "execute_result"
    }
   ],
   "source": [
    "products\n"
   ]
  },
  {
   "cell_type": "code",
   "execution_count": 7,
   "metadata": {
    "collapsed": false
   },
   "outputs": [
    {
     "data": {
      "text/plain": [
       "dtype: dict\n",
       "Rows: 183531\n",
       "[{'and': 5, '6': 1, 'stink': 1, 'because': 1, 'ordered': 1, 'just': 1, 'boyfor': 1, 'wipes-ocean': 1, 'wipes,': 1, 'replace': 1, 'not': 1, 'softer': 1, 'are': 3, 'have': 2, 'in': 1, 'need': 1, 'rough': 1, 'ok,': 1, 'issues': 1, 'seemed': 1, 'use': 1, 'blue-12': 1, 'vimse': 1, 'for': 2, 'no': 1, 'that': 1, 'larger,': 1, 'been': 1, 'to': 2, 'someimse': 1, 'quality.': 1, '8': 1, 'flannel': 1, 'worth': 1, 'higher': 1, 'them': 1, 'get': 1, 'keeping.': 1, 'countwhich': 1, 'texture': 1, 'but': 1, 'cloth': 2, 'nicer,': 1, 'they': 1, 'hands': 1, 'fab': 1, 'now': 1, 'had': 2, 'a': 2, 'also': 1, 'about': 1, 'usingthirsties': 1, 'longer': 1, 'i': 2, 'my': 1, 'months': 1, 'wipes': 2, 'these': 1, 'while': 1, 'stripping': 1, 'faces': 1, 'handles.': 1, 'opinion': 1, 'starting': 1, 'pack': 1}, {'and': 3, 'love': 1, 'it': 2, 'highly': 1, 'osocozy': 1, 'bags': 1, 'holder.': 1, 'moist': 1, 'does': 1, 'recommend': 1, 'was': 1, 'wipes': 1, 'it.': 1, 'early': 1, 'disappointed.': 1, 'not': 2, 'now': 1, 'wipe': 1, 'keps': 1, 'wise': 1, 'i': 1, 'leak.': 1, 'planet': 1, 'my': 2, 'came': 1}, {'and': 2, 'quilt': 1, 'it': 1, 'comfortable': 1, 'warmer': 1, 'size': 1, 'anyone': 1, 'for': 1, 'looking': 1, 'to': 1, 'recommend': 1, 'type': 1, 'full': 1, 'very': 1, 'looks...fit': 1, 'than': 1, 'perfectly...would': 1, 'this': 1, 'of': 1, 'bed': 1, 'the': 1, 'soft': 1}, {'ingenious': 1, 'and': 3, 'love': 2, 'positive,': 1, 'what': 1, 'is': 4, 'it': 1, 'not': 1, 'fairy.': 1, 'have': 1, 'in': 2, 'rid': 1, 'she': 1, 'little': 1, 'her': 1, 'to': 1, 'how': 1, 'much': 1, 'has': 1, 'approach': 2, 'worth': 1, 'herself,': 1, 'tool.': 1, 'product': 2, 'clever': 1, 'chart': 1, 'else': 1, 'most': 1, 'artwork,': 1, 'ownership': 1, 'losing': 1, 'purchase.': 1, 'a': 2, 'about': 1, 'daughter': 1, 'like': 1, 'anything': 1, 'getting': 1, 'this': 3, 'of': 3, 'proud': 1, 'well': 1, 'this,': 1, 'i': 3, 'back,': 1, 'so': 1, 'binky.': 2, 'loves': 1, 'found': 1, 'the': 7, 'my': 1}, {'and': 2, 'parents!!': 1, 'all': 2, 'puppet.': 1, 'help': 1, 'cried': 1, 'is': 3, 'easy': 1, 'it': 1, 'soo': 1, 'rock!!': 1, 'have': 1, 'pacifier': 1, 'where': 1, 'your': 1, 'tried': 1, 'from': 1, 'for': 2, 'to': 5, 'when': 1, 'their': 2, 'going': 1, 'way': 1, 'pacifier,': 1, 'you': 2, 'save': 1, 'until': 1, \"love's\": 1, 'book!': 1, 'them': 4, 'buy': 1, 'ween': 1, 'book,': 1, 'part': 1, 'understand': 1, 'binky': 1, 'an': 1, 'with': 1, 'must': 1, 'a': 2, 'great': 1, 'kids': 2, 'off': 1, 'gift': 1, 'it.this': 1, 'many': 1, 'work': 1, 'this': 1, 'non-stop': 1, 'thumbuddy': 1, 'will': 1, 'i': 2, 'expecting': 1, 'allow': 1, 'of': 1, 'found': 1, 'fairy': 1, 'my': 1, 'headaches.thanks': 1}, {'and': 2, 'this': 2, 'her': 1, 'help': 2, 'doll': 1, 'is': 2, \"didn't\": 1, 'it': 1, 'house,': 1, 'highly': 1, 'have': 1, 'pacifier': 1, 'comes.': 1, 'any': 2, 'special': 1, 'happens': 1, 'what': 1, 'thumb': 1, 'would': 1, 'their': 1, 'lots': 1, 'explain': 1, 'when': 2, 'habit.': 1, 'your': 1, 'to': 6, 'book': 2, 'item.': 1, 'recommend': 1, 'pacifier.': 1, 'adorable': 1, 'product': 1, 'sucking': 1, 'parent': 1, 'our': 2, 'stop': 1, 'great': 1, 'break': 1, 'how': 1, 'job': 1, 'important': 1, 'we': 2, 'child': 1, 'telling': 1, 'using': 1, 'binky': 3, 'trying': 1, 'with': 1, 'fairy': 3, 'a': 2, 'loss': 1, 'about': 2, 'made': 1, 'daughter': 1, 'for': 2, 'gift': 1, 'i': 1, 'of': 2, 'favorite': 1, 'movies': 1, 'prepare': 1, 'cute': 1, 'does': 1, 'the': 6, 'or': 1, 'came': 1}, {'shop': 1, 'noble': 1, 'is': 1, 'it': 1, 'as': 1, 'spaces': 1, 'at': 1, 'in': 1, 'before': 1, 'from': 1, 'for': 1, '&': 1, '29.95!': 1, 'barnes': 1, 'currently': 1, 'able': 1, 'aside': 1, 'tightly': 1, 'to': 1, 'add': 1, 'listed': 1, 'you': 2, 'lovely': 1, 'be': 1, 'photos/cards': 1, 'around': 1, 'may': 1, 'designated': 1, 'book,': 1, 'book.': 1, 'bound': 1, 'not': 1, 'purchase,': 1, 'of': 1, 'so': 1, 'alot': 1, \"it's\": 1, 'the': 2}, {'and': 2, 'all': 1, 'right': 1, 'when': 1, 'able': 1, 'we': 2, 'there!': 1, 'because': 1, 'sleep': 1, 'questions': 1, 'perfect': 1, 'her': 1, 'doctor': 1, 'feeding,': 1, \"baby's\": 1, 'two': 1, 'for': 2, 'to': 1, 'new': 1, 'easier': 1, 'life': 1, 'schedule': 1, 'track': 1, 'it': 1, 'diaper': 1, 'half': 1, 'ask': 1, 'change': 1, 'had': 1, 'a': 1, 'about': 1, 'made': 1, 'would': 1, 'of': 2, 'months': 1, 'keep': 1, 'habits': 1, 'were': 1, 'life.': 1, 'the': 2, 'first': 1, 'parents.': 1}, {'and': 1, 'help': 1, 'give': 1, 'is': 1, 'it': 2, 'decided': 1, 'are': 1, 'if': 1, 'pinterest': 1, 'pinned': 1, 'to': 1, 'feedings,': 1, 'new': 1, 'you': 2, 'friend': 1, 'product': 1, 'like!': 1, 'track': 1, 'fantastic!': 1, 'whirl!': 1, 'mine': 1, 'diaper': 1, 'a': 3, 'on': 1, 'this': 2, 'of': 2, 'parent,': 1, 'keep': 1, 'will': 1, 'i': 1, 'so': 1, 'the': 1, 'changes': 1}, {'journal.': 1, 'nanny': 1, 'standarad': 1, 'another': 1, 'when': 2, 'is': 2, 'some': 1, 'it': 1, 'one': 1, 'baby': 2, 'because': 1, 'at': 1, 'have': 1, 'in': 1, 'happen': 1, 'your': 1, 'out': 1, 'options.i': 1, \"you're\": 1, 'what': 1, 'would': 1, 'record': 1, 'ordering': 1, 'there': 1, 'informed': 1, 'while': 1, 'been': 2, 'the': 1, 'to': 4, 'only': 1, '5': 1, 'easy': 1, 'recommend': 1, 'for': 1, 'has': 1, 'home.': 1, 'events': 1, 'more': 1, 'wants': 1, 'we': 1, 'someone': 1, 'run': 1, 'way': 1, 'that': 1, 'who': 1, 'stay': 1, 'highly': 1, 'reason': 1, 'pre-printed': 1, 'key': 1, 'not': 2, 'an': 1, 'with': 1, 'pages': 1, 'a': 1, 'on': 1, 'all': 1, 'this': 3, 'of': 2, 'could': 1, 'up': 1, 'i': 1, 'home.the': 1, \"i'm\": 1, 'my': 2, 'think': 1, \"isn't\": 1, 'plan': 1}, {'all': 1, 'forget': 1, 'just': 1, 'food': 1, \"daughter's\": 1, 'sleep': 1, 'milk': 1, 'weekly': 1, 'layout': 1, 'had': 1, 'nap': 1, 'to': 11, 'only': 1, 'easy': 1, 'has': 2, 'real': 1, 'complaint': 1, 'etc.)': 1, 'very': 1, 'overall': 1, 'took,': 1, 'sleep,': 1, 'nanny,': 1, 'now': 1, 'older).my': 1, 'today)': 1, 'instructions': 1, 'notes': 1, 'all,': 1, 'leave': 1, 'she': 3, 'night': 1, 'often': 1, 'back': 1, 'design': 1, 'our': 2, 'out': 1, 'what': 1, 'and/or': 1, 'for': 2, 'space': 1, 'sun': 1, 'comments': 2, 'time,': 1, \"nanny's\": 1, 'day,': 1, 'reply': 1, 'previous': 1, 'journal': 1, 'knowing': 1, 'we': 1, 'eating': 1, 'schedule': 1, 'screen': 1, 'communicate': 1, 'nanny': 2, 'rash,': 1, 'ask': 1, 'on': 3, 'about': 1, '(please': 1, 'column': 1, 'of': 4, 'amount': 1, 'changes': 1, 'or': 2, 'love': 2, \"baby's\": 2, 'time--tummy': 1, 'highly': 1, 'specifics': 1, 'morning.': 1, 'use': 2, 'notes.': 1, 'her': 2, \"it's\": 1, 'there': 1, 'add': 1, 'quickly': 1, 'patterns': 1, 'recommend': 1, 'tracker.': 1, '(i.e.': 3, 'naturally': 1, 'that': 2, 'moved': 1, 'stick': 1, 'baby': 4, 'with': 1, 'specify': 1, 'rush': 1, 'this': 2, 'tell': 1, 'etc)': 1, 'my': 2, 'and': 5, 'activities.': 1, 'is': 2, 'post-its': 1, \"didn't\": 1, 'it': 3, 'as': 2, 'want': 1, 'in': 5, 'everyday': 1, 'fill': 1, 'no': 1, 'make': 1, '-': 1, 'walk': 1, 'also': 1, 'hot': 1, 'other': 2, 'details': 2, 'gets': 1, 'play': 1, 'track': 2, 'uses': 1, 'lunch,': 1, 'a': 1, 'i': 7, 'sometimes': 1, 'well': 1, 'park,': 1, 'time': 1, 'the': 9}, {'and': 1, 'the': 1, 'is': 1, 'mom,': 1, 'it': 1, 'visits.': 1, 'changes,': 1, 'moms.': 1, 'in': 1, 'perfect!': 1, 'would': 1, 'doctor': 1, \"it's\": 1, 'to': 1, 'enough': 1, 'book': 2, 'easy': 1, 'recommend': 1, 'feedings,': 1, 'plus': 1, 'that': 1, 'track': 1, 'back': 1, 'diaper': 2, 'new': 2, 'sleep.': 1, 'throw': 1, 'a': 1, 'made': 1, 'for': 2, 'i': 1, 'of': 1, 'keep': 1, 'this': 3, 'definitely': 1, 'so': 1, 'time': 1, 'small': 1, \"i'm\": 1, 'first': 1}, {'all': 1, 'just': 1, 'when': 2, 'one.': 1, 'not': 1, 'paper': 1, '6pm': 1, 'provided.': 1, 'before': 1, 'perfect': 2, 'fit': 1, 'also': 2, 'pouch': 1, 'deal.': 1, 'complain': 1, 'better': 1, 'to': 9, 'only': 1, 'pretty': 2, 'has': 1, 'gave': 1, 'real': 1, 'shorthand,': 1, 'goes': 1, 'emergency': 1, 'solution!': 1, 'very': 1, 'big': 1, 'me': 1, 'they': 1, 'front': 1, 'now': 1, 'day': 1, 'entire': 1, 'helpful': 1, 'leave': 1, 'situation.': 1, 'she': 4, 'also,': 1, 'each': 1, 'small': 1, 'works': 1, 'page': 1, \"isn't\": 1, 'incomplete/inaccurate': 1, 'because': 1, 'me,': 1, 'wohld': 1, 'some': 2, 'him': 1, 'home': 1, 'try': 1, 'for': 7, 'space': 2, 'section': 1, 'day,': 1, '7': 2, 'ends': 1, 'little': 2, 'reported': 1, 'phone.': 1, 'nanny': 2, 'wanted': 2, 'on': 1, 'about': 1, 'her': 1, 'getting': 2, 'of': 6, 'could': 1, 'transfer': 1, \"i'm\": 2, 'out.': 1, 'and': 5, 'useful': 1, 'info.': 1, 'app': 1, 'daycare/nanny/caregiver': 1, '6.': 1, 'down': 1, 'use': 2, 'from': 2, 'additional': 1, 'would': 2, \"it's\": 1, 'format.': 1, 'there': 1, 'two': 1, 'much': 1, 'too': 1, 'way': 1, '6': 1, '6pm.': 1, 'was': 2, 'baby.': 1, 'behind': 1, 'with': 2, 'park': 1, 'but': 2, 'phone': 1, 'information.': 1, 'info': 2, 'this': 5, 'originally': 1, 'up': 1, 'reviews': 1, 'suppose': 1, 'starts': 1, 'problem': 1, 'my': 4, 'example': 1, 'at': 2, 'control': 1, 'is': 3, 'changes.': 1, 'it': 2, 'an': 2, 'complaint:': 1, 'something': 1, 'have': 1, 'in': 1, 'fill': 1, 'information': 3, 'documents': 1, 'end': 1, 'provide': 1, 'get': 1, '-': 6, 'write': 1, 'how': 2, 'other': 1, 'pad': 2, 'take': 2, 'you': 2, 'if': 1, 'difficult': 1, 'track': 1, 'notebook': 1, 'pages': 1, 'a': 8, '7am': 2, 'tracking': 1, 'remember': 1, 'i': 7, 'naps/feedings/diaper': 1, 'contact': 1, 'time': 1, 'the': 15, 'wanted.': 1}, {'least': 2, 'forget': 1, 'just': 1, \"don't\": 1, 'able': 1, 'month': 1, '(i': 1, 'sleep': 2, 'perfect': 1, '(helpful': 1, 'also': 1, '3': 1, 'than': 2, 'better': 1, 'to': 5, 'either,': 1, 'connect).': 1, \"haven't\": 1, 'hit': 1, 'every': 1, 'not': 1, 'him': 1, 'like': 1, 'all,': 1, 'serves': 1, 'morning': 1, 'grab': 1, 'side': 1, 'often': 2, 'me.': 1, 'are': 2, 'satisfaction).': 1, '*both*': 1, 'really': 1, 'what': 2, 'perverse': 1, 'for': 2, '(baby': 1, 'pen': 1, 'nurse': 1, 'journal': 1, 'handwritten': 1, 'be': 1, 'we': 3, \"you're\": 2, 'example,': 1, 'by': 1, 'on': 2, 'about': 1, 'feeling': 1, 'last': 1, 'of': 1, 'taking': 1, 'keep': 1, 'thing': 1, \"i'd\": 1, 'place': 1, \"i'm\": 1, 'or': 1, 'useful': 1, 'simple': 1, 'app': 2, 'skilled': 1, 'yourself': 1, 'been': 1, 'feedings': 1, '177': 1, 'your': 2, 'training).': 1, 'time.)2.)': 1, 'would': 1, \"it's\": 1, 'long': 1, 'start': 1, 'tell': 2, 'gives': 1, 'on.': 1, 'breastfeeding,': 1, 'that': 4, 'started': 2, '-': 6, 'entertained.': 1, 'but': 2, 'phone': 2, 'with': 1, '(granted': 1, \"here's\": 1, 'me': 4, 'keeping': 1, 'look': 1, 'this': 2, 'can': 3, 'deprived': 1, 'more': 1, 'and': 4, 'side,': 1, 'consistently': 1, 'it': 3, 'as': 1, 'at': 5, 'have': 5, 'in': 2, 'close': 1, 'times': 1, 'nursed': 1, 'data.': 1, 'no': 1, 'when': 1, 'same': 1, 'how': 1, 'other': 1, 'button.3.)': 1, 'why:1.)': 1, 'you': 3, 'if': 1, 'nice': 1, 'used': 1, 'notebook': 1, 'purpose': 1, 'nice.': 1, 'a': 5, 'mindlessly': 1, 'i': 7, 'average': 1, 'think': 1, 'thought': 1, 'so': 2, 'time': 1, 'the': 4}, {'it.': 1, 'a': 1, 'and': 1, 'wanted!!': 1, 'useful': 1, 'for': 1, 'what': 1, 'i': 1, 'of': 1, 'is': 1, 'exactly': 1, 'with': 1, 'it': 1, 'photos,': 1, 'monthly': 1, 'info': 1, 'lot': 1, 'stickers': 1, 'come': 1, 'space': 1}, {'and': 3, 'weight,': 1, 'useful': 1, 'have': 2, 'just': 1, 'photo': 1, 'sticker': 1, 'some': 1, 'it': 3, 'whatever': 1, 'one': 1, 'baby': 1, 'second': 1, 'well.': 1, 'likes': 1, 'calender': 2, 'stickers': 1, 'event': 1, 'special': 1, 'before': 1, 'write': 1, 'what': 1, 'do.': 1, 'would': 1, 'to': 3, 'fine': 1, 'there': 1, 'for': 5, 'day.': 1, 'also': 1, 'only': 1, 'does': 1, 'asterisks': 1, 'has': 1, 'is': 3, 'friend': 1, 'happened': 1, 'be': 1, 'complaint': 1, 'colorful': 1, 'that': 2, 'very': 2, 'placed.': 1, 'like,': 1, 'but': 1, 'boxes': 1, 'son.': 1, 'date': 1, 'not': 1, 'writing.': 1, 'a': 3, 'on': 2, 'myself': 1, 'room': 3, 'this': 1, 'many': 1, 'put': 1, 'as': 4, 'height,': 1, 'i': 4, 'she': 1, 'each': 2, 'found': 1, 'the': 1, 'bought': 2, 'my': 2, 'page': 2}, {'and': 1, 'this': 1, 'all': 1, 'love': 1, 'like': 1, 'track': 1, 'of': 2, \"baby's\": 1, 'little': 1, 'keep': 1, 'too.': 1, 'can': 1, 'you': 1, 'the': 2, 'i': 2, 'stickers': 1, 'illustrations,': 1, 'firsts.': 1, 'calender,': 1}, {'and': 1, 'one': 3, 'second': 1, 'are': 1, 'calender': 1, 'year': 1, 'still': 1, 'find': 1, 'note': 1, 'i': 3, 'for': 2, 'things': 1, 'there': 1, 'him.': 1, 'to': 2, 'only': 1, 'better': 1, 'got': 1, 'was': 2, 'after': 1, 'year.': 1, 'they': 1, 'wanted': 1, 'than': 1, 'cause': 1, 'this': 2, 'many': 1, 'could': 1, 'turn': 1, 'continue': 1, 'so': 1, 'did': 1, 'the': 4, '1.': 1, 'first': 2}, {'and': 5, 'all': 3, 'have': 1, 'simple': 1, 'year': 2, 'it': 1, 'questions': 1, 'second': 1, 'something': 1, 'want': 1, 'in': 1, 'calendar': 2, 'still': 1, 'stickers': 1, 'enjoyed': 1, 'special': 2, 'really': 2, 'at': 1, 'layout': 1, 'for': 1, \"he's\": 1, 'things': 1, 'since': 1, '-': 2, 'least': 1, 'day.': 1, 'to': 2, 'amazing': 1, 'much': 1, 'you': 1, 'might': 1, 'completed': 1, \"son's\": 1, 'his': 1, 'moments!': 1, 'that': 1, 'doing': 1, 'tracking': 1, 'every': 1, 'milestone': 1, 'not': 1, 'wanted': 1, 'those': 1, 'a': 1, 'milestones': 1, 'like': 1, 'moments': 1, 'i': 3, 'of': 2, 'keep': 1, 'recording': 1, 'while': 1, 'continue': 1, 'so': 2, \"it's\": 1, 'fun': 1, 'the': 4, 'my': 1, 'first': 1}, {'and': 2, 'cute': 1, 'is': 1, 'something': 1, 'our': 1, 'keep': 1, 'out': 1, 'option.': 1, 'what': 1, 'wanted': 1, 'there': 2, 'to': 2, 'does': 1, 'we': 2, 'get': 1, 'track': 1, 'exactly': 1, \"child's\": 1, \"aren't\": 1, 'a': 1, 'milestones': 1, 'this': 2, 'many': 1, 'choices': 1, 'of': 1, 'other': 1, 'wanted.': 1}, {'and': 3, 'all': 1, 'memories.': 1, 'reference': 1, 'picture': 1, 'well': 1, 'is': 3, 'hard': 1, 'some': 1, 'it': 2, 'years': 1, 'milestones...and': 1, 'put': 1, \"month's\": 1, 'vs': 1, 'have': 1, 'in': 2, 'calendar': 1, 'find': 1, 'down': 1, 'out': 1, 'has': 1, 'little': 1, 'everything': 1, 'ones!': 1, 'had': 1, 'enough': 1, 'write': 1, 'to': 5, 'only': 1, 'much': 1, 'way': 1, 'finding': 1, 'you': 1, 'fill': 1, 'across': 1, 'so!': 1, 'do': 2, 'jot': 1, 'that': 1, 'track': 1, 'big': 1, 'spot': 1, 'book.': 1, 'great!': 1, 'two': 1, 'they': 1, 'baby': 2, 'one': 1, 'change': 1, 'a': 6, 'on': 1, 'great': 1, 'squares': 1, 'as': 2, 'like': 1, 'this': 3, 'of': 1, 'later': 1, 'year': 1, 'second': 1, 'keep': 1, 'large': 1, 'i': 5, 'easier': 1, 'calendar,': 1, 'so': 2, 'can': 2, 'time': 1, 'the': 5, 'book': 1, 'came': 1, 'first': 1}, {'and': 1, 'cute': 1, 'selection': 1, 'just': 1, 'certain': 1, 'is': 1, 'hard': 1, 'some': 1, 'it': 2, 'an': 1, 'calendar.': 1, 'finish': 1, 'are': 1, 'purchased': 1, 'in': 1, 'my': 2, 'calendar': 1, 'stickers': 1, 'hopefully': 1, 'out': 1, 'one': 3, 'for': 4, \"it's\": 1, 'old-fashioned': 1, 'had': 1, 'pages': 2, 'write': 1, 'to': 1, 'only': 2, 'other': 1, 'disappointed': 1, 'which': 1, 'second-year': 2, 'got': 1, 'really': 1, 'was': 2, 'available': 1, 'son': 1, 'looking.': 1, 'okay': 1, 'pretty': 1, 'with': 3, 'pens.': 1, 'calendars': 2, 'lack': 1, 'because': 2, 'they': 1, \"aren't\": 1, 'come': 1, 'purchasers.': 1, 'a': 1, 'on': 2, 'daughter.': 1, 'this': 1, 'general,': 1, 'ones.': 1, 'will': 1, 'i': 4, 'future': 1, 'so': 1, 'glossy': 1, 'of': 2, 'very': 1, 'the': 6, 'makes': 1}, {'and': 4, 'cute': 1, 'love': 1, 'want': 1, 'just': 1, 'is': 2, '1st': 1, \"didn't\": 1, 'one.': 1, 'highly': 1, 'stop': 1, 'not': 1, 'second': 2, 'are': 2, 'have': 1, 'year': 4, \"nature's\": 1, 'calendar': 2, 'stickers': 1, 'calendar!': 1, 'out': 1, 'perfect': 1, 'reocording': 1, 'gender.': 1, 'for': 3, 'record': 2, \"it's\": 1, 'own.': 1, 'there': 2, 'calendars': 1, 'to': 2, 'wonderful': 1, 'lullabies': 1, 'recommend': 1, 'might': 1, 'events': 2, 'loved': 1, 'recording': 1, 'his': 1, 'that': 2, 'with': 1, 'keeping.': 1, 'continuing': 1, 'helped': 1, 'plenty': 1, 'baby': 1, 'now': 1, 'super': 1, 'he': 1, 'me': 1, 'on': 2, 'milestones': 1, 'brat': 1, 'this': 2, 'of': 6, 'daily': 1, 'thought': 1, 'i': 4, 'plus': 1, 'either': 1, 'life.': 1, 'the': 1, \"son's\": 1, 'my': 2, 'think': 1, 'first': 1}, {'just': 1, 'use.': 1, 'is': 1, 'it': 2, 'as': 1, 'are': 1, 'calendar': 1, 'stickers': 1, 'find': 1, 'lots': 1, 'there': 1, 'to': 2, 'was': 1, 'nice': 1, 'be': 1, 'very': 1, 'exactly': 1, 'but': 1, 'disappointed': 1, 'described,': 1, 'look': 1, 'i': 2, 'of': 2, 'cheap.': 2, 'so': 1, 'the': 1, 'looks': 1}, {'and': 2, 'dont': 1, 'just': 1, 'is': 1, 'milestone': 1, 'it': 1, 'as': 1, 'well.': 1, 'down,': 1, 'have': 1, 'mark': 1, 'stickers': 1, 'out': 1, 'option.': 1, 'use': 1, 'for': 3, 'sit': 1, 'scrap': 1, 'actually': 1, 'to': 3, 'enough': 1, 'ton': 1, 'lot': 1, 'new': 1, 'borders': 1, 'spaces': 1, 'sticker': 1, 'firsts.': 1, 'easy': 1, 'moms': 1, 'who': 1, 'includes': 1, 'photos': 1, 'haul': 1, 'scrapbook': 1, 'with': 1, 'a': 3, 'especially': 1, 'wife': 1, 'this': 1, 'of': 2, 'photos,': 1, 'calender.': 1, 'supplies': 1, 'etc,': 1, 'loves': 1, 'time': 1, 'very': 1, 'the': 1, 'options': 1, 'comes': 1, 'booking': 1}, {'and': 2, 'this': 1, 'one-year': 1, 'art': 1, 'able': 1, 'keepsake.': 1, '1st': 1, 'nearing': 1, 'son': 1, 'calendar.': 1, 'second': 1, 'ago.': 1, 'thanks': 1, 'year': 3, 'tender': 1, 'calendar': 1, 'stickers': 1, 'fill': 1, 'for': 3, 'record': 1, 'when': 1, 'looking': 1, 'to': 4, 'wonderful': 1, 'sweet': 1, 'fill.': 1, 'was': 3, 'over': 1, 'nice': 1, 'it.': 1, 'his': 2, 'get': 1, '-': 2, 'amazon': 1, 'birthday': 1, 'baby': 1, 'unique': 1, 'pages': 1, 'milestones.': 1, 'had': 1, 'a': 6, 'daughter': 1, 'helpful': 1, 'gift': 1, 'receive': 1, 'work': 1, 'up': 1, 'old!': 1, 'i': 1, 'her': 3, 'she': 3, 'loves': 1, 'did': 1, 'my': 1, 'first': 2}, {'and': 1, 'remembering': 1, 'ago': 1, 'tired': 1, 'ate,': 1, 'helped': 1, 'baby': 1, 'as': 1, 'through': 1, 'long': 1, 'mom,': 1, 'useful!': 1, 'inexpedient,': 1, 'two': 1, 'months.': 1, 'how': 1, 'new': 1, 'a': 1, 'not': 1, 'extremely': 1, 'me': 1, 'this': 1, 'definitely': 1, 'the': 1, 'first': 1}, {'and': 4, 'right': 1, 'just': 2, 'show': 1, 'face.maybe': 1, 'it': 2, 'son': 1, 'hair': 1, 'shakes': 1, 'through': 1, 'likes': 2, 'mirror': 1, 'perfect!': 1, 'if': 2, 'around.': 1, 'thought': 1, 'end': 1, 'takes': 1, 'would': 1, \"he's\": 1, 'make': 1, 'when': 2, 'months': 1, 'him.': 1, 'also': 1, 'enough': 1, 'does': 1, '9': 1, \"doesn't\": 1, 'be': 1, 'his': 1, 'though': 1, 'blow-kisses': 1, 'however': 1, 'but': 1, 'gestures': 1, 'most': 1, 'cover.': 1, 'fan': 1, 'hands': 1, 'front': 1, 'peek': 1, 'now': 1, 'with': 1, 'him': 1, 'he': 5, 'a': 1, 'peekaboo': 1, 'engage': 1, 'like': 1, 'older': 1, 'i': 4, 'of': 1, 'age': 1, 'pretend': 1, 'cover': 1, 'flip': 2, 'will': 1, 'this': 3, 'seems.': 1, 'so': 1, 'flaps': 1, 'loves': 1, 'boo': 1, 'the': 10, 'my': 1, 'book': 4, 'towards': 1, 'at': 2}, {'and': 2, 'because': 1, 'just': 1, 'less': 1, \"baby's\": 1, 'is': 1, 'some': 1, 'it': 1, 'one': 1, 'see': 1, 'washable!': 1, 'in': 1, 'star': 1, 'your': 1, 'perfect': 1, 'family': 1, 'people': 1, '-': 1, '1': 1, 'to': 1, 'white': 1, 'gave': 1, 'diversity': 1, 'not': 1, ';)': 1, 'than': 1, 'like': 1, 'i': 1, 'of': 1, 'favorite': 1, 'books,': 1, \"i'd\": 1, 'the': 1, 'first': 1, 'typical': 1}, {'family': 1, 'over': 1, 'lost.': 1, 'seat': 1, 'hook': 1, 'members.': 1, 'go': 1, 'your': 1, 'how': 1, '-': 1, 'to': 3, 'book': 1, 'way': 1, 'has': 1, 'attach': 1, 'a': 1, 'get': 1, 'it': 2, 'wont': 1, 'great': 1, 'like': 1, 'i': 1, 'car': 1, 'or': 1, 'the': 1, 'stroller': 1}, {'and': 2, 'beautiful': 1, 'love': 1, 'saying': 1, 'it': 1, 'are': 1, 'story': 1, 'interacting': 1, 'when': 1, 'actually': 1, 'to': 1, 'you': 1, 'it.': 1, 'then': 1, 'attention': 1, 'little': 2, 'book.': 1, 'finished': 1, 'baby': 2, 'hold': 1, 'with': 1, 'pages': 1, 'a': 1, 'on': 1, 'great': 1, 'short': 1, 'you....keeps': 1, 'i': 1, 'of': 1, 'turn': 1, 'can': 1, 'the': 4}, {'and': 1, 'page.': 1, 'says': 1, 'cute': 1, 'is': 1, 'money.': 1, 'it': 2, 'born': 1, 'are': 1, 'open': 1, 'before.': 1, 'for': 1, 'interactive!': 1, \"it's\": 1, 'there': 1, 'to': 4, 'book': 1, 'worth': 1, 'be': 1, '9+': 1, 'very': 1, 'use': 1, 'but': 1, 'every': 1, 'baby': 1, 'wait': 1, 'box': 1, 'on': 2, 'i': 1, 'months': 1, 'try': 1, 'this': 1, 'so': 2, 'flaps': 1, 'the': 2, 'my': 1, \"can't\": 1}, {'and': 3, 'chew': 1, 'one-year-old': 1, 'house!': 1, 'love': 1, 'just': 1, 'can': 2, 'simple': 1, 'is': 1, 'all': 1, 'rip': 1, 'chunks': 1, 'paper': 1, 'learning': 1, 'carry': 1, 'our': 1, '\"puppy,\"': 1, 'open': 1, 'out': 1, 'little': 1, 'for': 1, \"it's\": 1, 'bite': 1, 'that': 2, 'book': 2, 'board': 1, 'got': 1, 'over': 1, 'she': 5, 'it.': 2, 'we': 2, 'on': 2, '\"daddy,\"': 1, 'it': 3, 'it,': 2, 'one.': 1, 'words': 1, 'a': 2, 'pull': 1, 'like': 3, 'this': 1, 'of': 1, 'so': 1, 'flaps': 1, 'loves': 2, '\"mommy,\"': 1, 'the': 2, 'nice': 1, 'etc.': 1, 'or': 1, \"can't\": 1}, {'and': 2, 'overnight.': 1, 'is': 2, \"didn't\": 1, 'older.': 1, '6months': 1, 'in': 1, 'perfect': 1, 'and/or': 1, 'for': 1, 'material.': 1, 'only': 1, 'book': 2, 'was': 1, 'then': 1, 'colorful': 1, 'detergent.': 1, 'smell': 1, 'let': 1, 'dunked': 1, 'strong': 1, 'pages': 1, 'dry': 1, 'like': 1, 'i': 2, 'of': 1, 'thing': 1, 'dyes': 1, 'the': 6}, {'and': 3, 'family': 1, 'is': 1, 'some': 1, 'we': 1, 'one': 1, 'hair': 1, 'are': 1, 'our': 1, 'said,': 1, 'out': 1, 'huge': 1, 'little': 1, 'hands,': 1, '(no': 1, 'to': 1, 'fans': 1, 'book': 1, 'brother)': 1, 'cause': 1, 'play': 1, 'that': 1, 'lamaze': 1, 'hurt': 1, 'products,': 1, 'members': 1, 'baby': 1, 'with': 1, 'the': 2, 'cute,': 1, 'possibly': 1, 'this': 1, 'of': 1, 'leaves': 1, 'feelings.': 1, 'can': 1, 'loves': 1, 'flaps!': 1, 'however,': 1}, {'page.': 1, \"couldn't\": 1, 'is': 1, 'books': 2, 'been': 1, 'another': 1, \"old's\": 1, 'your': 1, 'perfect': 1, 'baby!': 1, 'damaged': 1, 'adds': 1, 'for': 3, 'drool...so': 1, 'plastic': 1, 'looking': 1, 'to': 1, 'book': 3, 'which': 1, 'be': 1, 'babies!': 1, 'flap': 1, 'options.': 1, 'what': 1, 'cloth': 2, 'part': 1, 'every': 1, 'book--a': 1, 'by': 1, '10-month': 1, 'a': 1, 'on': 1, 'great': 1, 'level': 1, 'this': 2, \"i'd\": 1, 'were': 1, 'fun': 1, 'moving': 1, 'interactive': 1, 'my': 3, 'or': 2, 'usual': 1}, {'all': 1, 'being': 1, 'course': 1, 'still': 1, 'perfect': 1, 'now': 2, \"he's\": 1, 'to': 1, 'only': 2, 'board': 1, 'teaching': 1, 'his': 2, 'lamaze': 2, 'nearly': 1, 'they': 1, 'not': 2, 'one': 2, 'like': 1, 'books,': 1, 'them,': 1, 'enjoy': 1, 'chew': 1, 'because': 1, 'books': 1, 'are': 2, 'out': 1, 'for': 4, 'parent.i': 1, 'does': 1, 'reading': 1, 'discovery': 1, 'peek': 1, 'we': 2, 'book,': 1, 'members': 1, 'infant.': 1, 'on': 1, 'about': 1, 'of': 3, \"i'd\": 1, 'liked': 1, 'love': 1, 'family': 1, 'son': 3, 'names': 1, \"doesn't\": 1, 'additional': 1, 'would': 1, 'two': 1, 'lot': 1, 'was': 3, 'flap': 1, 'series,': 1, 'that': 3, 'much,': 1, 'but': 4, 'lift': 1, 'child': 1, 'with': 2, 'he': 3, 'loved': 1, 'look': 1, 'this': 4, 'cat,': 1, 'say': 1, 'learn': 1, 'fun': 2, 'favorites.': 1, 'etc.': 1, 'and': 6, 'sister,': 1, \"didn't\": 1, 'it': 6, 'an': 1, 'as': 3, 'well.': 1, 'at': 1, 'have': 1, 'my': 3, 'issue.': 1, 'grandparents,': 1, 'book': 2, 'destroy': 1, 'used': 1, 'again.': 1, 'farm': 1, 'a': 3, 'i': 1, 'dog': 1, 'boo,': 1, 'the': 5, 'playing': 1}, {'and': 1, 'it': 3, 'our': 1, 'for': 1, '&': 1, 'own.': 1, 'when': 1, 'to': 1, 'him,': 1, 'book': 1, 'enjoys': 2, 'has': 1, '...': 1, 'his': 1, 'loved': 1, 'read': 1, 'baby': 1, 'now': 1, 'with': 1, 'he': 1, 'a': 1, 'on': 1, 'i': 1, 'this': 1, 'while': 1, 'loves': 1, 'playing': 1}, {}, {'a': 1, 'brushing': 1, 'play': 1, 'kids': 1, 'likes': 1, ':)': 1, 'almost': 1, 'of': 1, 'haha': 1, 'son': 1, 'to': 1, 'book': 1, 'let': 1, 'too': 1, 'my': 1, 'the': 1, \"elmo's\": 1, 'with': 1, 'teeth.': 1, 'nice': 1}, {'and': 3, 'grandchildren.': 1, 'love': 1, 'imaginative': 1, 'it': 2, 'through': 1, 'are': 1, 'year': 1, 'go': 1, 'old': 1, 'for': 1, 'sit': 1, 'pictures': 1, 'young': 1, '.': 1, 'to': 1, 'book': 1, 'themselves': 1, 'appeal': 1, 'was': 1, 'buy': 1, 'again!': 1, 'birthday': 1, 'they': 1, 'children.': 1, '2': 1, 'by': 1, 'present': 1, 'a': 1, 'would': 1, 'this': 2, 'will': 1, 'the': 1, 'my': 1, 'page': 2}, {'and': 3, 'rating': 1, 'giggled': 1, 'just': 1, 'cute': 1, 'simple': 1, 'is': 1, \"disappointment....it's\": 1, 'back': 1, 'dead': 1, 'down': 1, 'batteries': 1, 'growled': 1, 'something': 1, 'have': 1, 'in': 1, 'mail': 1, 'star': 1, 'saw': 1, 'find': 1, 'battery': 1, 'if': 2, 'even': 1, 'would': 2, 'no': 1, \"it's\": 1, 'absolutely': 1, 'give': 1, 'when': 1, 'now!': 1, 'actually': 1, 'how': 1, 'other': 1, '5': 1, 'take': 1, 'new': 1, 'was': 2, 'kenzie,': 1, 'adorable': 1, 'handle': 1, 'to': 2, 'suppose': 1, 'but': 1, 'it': 6, 'bear': 1, 'got': 1, 'was!': 1, 'such': 1, 'super': 1, 'day': 1, 'a': 4, 'going': 1, 'like': 1, 'gift': 1, 'this': 1, 'where': 1, 'could': 1, 'as': 2, 'excited': 1, 'granddaughter,': 1, 'i': 6, 'place': 1, 'the': 3, 'to!': 2, 'my': 1, 'or': 1, \"can't\": 1}, {'and': 4, 'soft': 1, 'page,': 1, 'because': 1, 'her.': 1, 'elmo': 3, 'too.': 1, 'is': 5, 'all': 1, 'one': 1, 'illustrated': 1, 'baby': 1, 'featured': 1, 'street': 1, 'are': 1, 'another': 1, 'beautifully': 1, 'fun,': 1, '(which': 1, 'seemed': 1, 'perfect': 1, 'my': 2, 'he': 1, 'lovers': 1, 'price).': 1, 'would': 1, 'to': 1, 'absolutely': 1, 'character': 1, 'right:': 1, 'for': 3, 'also': 2, 'time.': 1, 'book': 3, 'which': 1, 'recommend': 1, 'main': 1, 'was': 1, 'nice': 1, 'available': 1, 'centric': 1, 'that': 1, 'little': 1, 'it': 2, 'amazon': 1, '\"twinkle,': 1, 'everywhere': 1, 'characters': 1, 'street/elmo': 1, \"i'm\": 1, 'great,': 1, 'a': 1, 'on': 2, 'great': 1, 'takes': 1, 'hides': 1, 'this': 2, 'of': 2, 'twinkle': 1, '\"reads\"': 1, 'elmo\"': 1, 'sesame': 2, 'i': 2, 'while': 1, 'so': 2, 'loves': 1, 'each': 1, 'the': 3, 'happy': 1, 'interactive,': 1, 'other': 1, 'say': 1}, {'and': 2, 'love': 1, 'is': 1, 'bright': 1, 'are': 1, 'any': 1, \"doesn't\": 1, 'for': 2, 'two': 1, 'book': 1, 'lastly,': 1, 'baby,': 1, 'bought': 1, 'colors': 1, 'who': 1, 'baby': 1, 'showers!': 1, 'recent': 1, 'great': 1, 'i': 1, 'interactive,': 1, 'elmo!': 1, 'the': 2, 'soft': 1, 'beautiful.': 1}, {'and': 2, 'another': 1, 'elmo': 1, 'is': 2, 'one': 1, 'creative.': 1, 'softplay': 1, 'fun,': 1, 'birds': 1, 'variety': 1, 'two': 1, 'to': 1, 'only': 1, 'book': 2, 'has': 1, 'bird': 1, 'more': 2, 'we': 2, 'get': 1, 'big': 2, 'book,': 1, 'but': 1, 'wanted': 1, 'friends': 1, 'like': 1, 'this': 1, 'books.': 1, 'found': 1, 'the': 3}, {'and': 1, 'cute': 1, 'story': 1, 'soft.': 1, 'safe.': 1, 'for': 1, 'this': 1, \"it's\": 2, 'is': 2, 'it': 1, 'book.': 1, 'handle.': 1, 'to': 1, 'a': 1, 'easy': 1, 'baby': 1, 'peek-a-boo': 1, 'little': 1}, {'and': 7, 'old': 1, 'elmo': 1, 'is': 1, 'laughs': 1, 'it': 1, 'son': 1, 'say': 1, 'books': 1, 'have': 1, 'find': 1, 'different': 1, '&#34;peekaboo': 1, 'for': 1, 'few': 1, 'to': 1, '3': 1, '5': 1, 'stars': 1, 'over': 2, 'sure.': 1, 'smiles': 1, 'it,': 1, 'elmo!&#34;': 1, 'colorful': 1, 'read': 1, 'book.': 1, 'read.': 1, 'most': 1, 'we': 3, 'every': 1, 'baby': 1, 'month': 1, 'he': 1, 'a': 1, 'adores': 1, 'this': 2, 'my': 1, 'so': 1, 'loves': 1, 'time': 1, 'fun': 1, 'the': 1, 'soft': 1}, {'cute': 1, 'great': 1, 'loves': 1, 'for': 1, '&': 1, 'this': 2, 'my': 1, 'make': 1, 'bright': 1, 'son': 1, 'very': 1, 'toddlers.': 1, 'babies': 1, 'illustrations': 1, 'the': 1, 'colorful': 1, 'book!': 2, 'interactive': 1}, {'and': 2, 'over.': 1, 'all': 1, 'love': 2, 'play': 1, 'safe.': 1, 'elmo': 1, 'mos,': 1, 'them': 1, 'high': 1, 'see': 1, 'are': 3, 'still': 1, 'as': 1, 'before': 1, 'use': 1, 'for': 1, 'to': 2, 'when': 2, 'two': 1, 'they': 8, 'how': 1, 'time.': 1, '9': 1, 'got': 1, 'reading': 1, 'bought': 1, 'soft,': 1, 'we': 1, 'buy': 1, 'blocks': 1, 'it': 1, 'book,': 1, 'falls': 1, 'if': 1, 'granddauchildren': 1, 'kiss': 1, 'fall': 1, 'baby': 1, 'now': 1, 'with': 2, 'stack': 1, 'a': 1, 'on': 1, 'elmo.': 1, 'i': 1, 'present.': 1, 'so': 1, 'can': 1, 'were': 1, 'fun': 1, 'them.': 2, 'the': 4, 'them,': 1, 'having': 1}, {'and': 5, 'chew': 1, 'all': 1, 'the,': 2, 'teething': 1, 'over': 2, \"didn't\": 1, 'rolling': 1, 'have': 1, 'crawling.': 1, 'letting': 1, 'bank.': 1, 'for': 3, 'their': 1, 'to': 2, 'encourage': 1, 'setting': 1, 'ruining': 1, 'babies': 1, 'christmas': 1, 'them': 2, 'great': 3, 'about': 1, 'break': 1, 'they': 1, 'baby': 1, 'the': 2, 'younger': 1, 'off': 1, 'gift': 1, 'these': 1, 'worrying': 1, 'droll': 1, 'i': 1, 'without': 1, 'were': 2, 'them.': 1, 'entertaining': 1, 'side': 1}, {'a': 1, 'this': 1, 'boring.': 1, 'would': 1, 'i': 1, 'of': 1, 'is': 2, 'money.': 1, 'it': 2, 'to': 1, 'granddaughter.': 1, 'book': 1, 'nothing': 1, 'recommend': 1, 'not': 1, 'waste': 1, 'my': 1, 'stimulate': 1}, {'old': 1, 'want': 1, 'show': 1, 'is': 2, 'year': 1, 'it': 1, 'one': 1, 'nothing': 1, 'books': 1, 'looks': 1, 'have': 1, 'lion...': 1, 'images': 1, 'our': 1, 'find': 1, '1': 1, 'what': 3, 'animals/objects': 1, 'with': 1, 'looking': 1, 'to': 2, 'of': 1, '\"lion\"': 1, 'is,': 1, 'many': 1, 'real': 2, 'we': 3, 'hard': 1, 'fantastic.': 1, 'that': 1, 'portrayals': 1, 'like,': 1, 'exactly': 1, 'but': 1, 'cloth': 1, 'not': 1, 'teach': 1, 'unrealistic': 1, 'him': 1, 'look': 1, 'a': 4, 'on': 1, 'actual': 1, 'like': 1, 'this': 1, 'lion.': 1, 'drawing': 1, 'so': 2, 'for!!when': 1, 'were': 1, 'them!': 1}, {'is': 1, 'something': 1, 'cute...so': 1, 'little': 1, 'for': 1, 'no': 1, 'memories': 1, 'there': 1, 'young': 1, 'destroying..many': 1, 'reading': 1, 'happy': 2, 'them': 1, 'very': 1, '&#34;': 1, 'read&#34;': 1, 'they': 1, 'child,': 1, 'of': 1, 'chance': 1, 'can': 1, 'the': 1, 'or': 1}, {'cute': 1, '1-year': 1, 'old': 1, 'i': 1, 'interesting': 1, 'anyway': 1, 'but': 2, 'mot': 1, 'to': 1, 'bad': 1, 'thought.': 1, '[texture,': 1, 'not': 2, 'etc]': 1, 'my': 1, 'as': 2, 'interactive': 1}, {'and': 1, 'be': 1, 'great': 1, 'love': 1, 'daughter': 1, 'this': 1, \"it's\": 1, 'when': 1, 'it!': 1, 'will': 1, 'me': 1, 'so': 1, 'a': 2, 'our': 1, 'fun': 1, 'born.': 1, 'calendar': 1, 'momento.': 1, 'was': 1, 'friend': 1, 'bought': 1}, {'a': 2, 'and': 1, 'little': 1, 'milestones': 1, 'especially': 1, 'for': 1, 'up': 1, 'busy,': 1, 'first-time': 1, 'one,': 1, 'all': 1, 'keep': 1, 'to': 1, 'mom.': 1, 'easy': 1, 'of': 1, 'quick': 1, 'the': 1, 'with': 1, 'first': 1}, {'remembering': 1, 'and': 4, 'reviews.': 1, 'pictures.': 1, 'year': 1, 'am': 1, 'back': 1, 'month': 1, 'high': 1, 'personalization': 1, 'calendar': 1, 'throughout': 1, 'down': 1, 'perfect': 1, 'based': 1, 'for': 3, 'to': 1, 'memories': 1, 'did.': 1, \"baby's\": 1, 'spots': 1, 'jotting': 1, 'also': 1, 'low': 1, 'has': 1, 'happy': 1, 'be': 1, 'on.': 1, 'that': 1, '&#34;firsts&#34;.': 1, 'quick': 1, 'one': 1, 'a': 1, 'on': 2, 'dates': 1, 'look': 1, 'this': 1, 'of': 1, 'will': 1, 'i': 3, 'so': 1, 'searched': 1, 'fun': 1, 'the': 2, 'settled': 1, 'first': 1}, {'enjoy': 1, 'this': 1, 'give': 1, 'is': 2, 'soon': 1, 'one': 1, 'baby': 1, 'as': 3, 'are': 1, 'want': 1, 'their': 1, 'from': 1, 'would': 1, 'to': 3, 'had': 1, 'looking': 1, 'start': 1, 'parents': 2, 'themselves.': 1, 'new': 1, 'mother.': 1, '&#34;firsts&#34;': 1, 'good': 1, 'that': 1, 'very': 2, 'calendars': 1, 'chart': 1, 'it': 1, '&#34;firsts&#34;.': 1, 'five': 1, 'they': 3, 'children.': 1, 'now': 1, 'beginning': 1, 'you': 1, 'especially': 1, 'a': 2, 'for': 2, 'gift': 1, 'born': 1, 'i': 1, 'of': 2, 'up': 1, 'these': 1, 'so': 1, 'can': 1, 'each': 1, 'the': 3, 'my': 1}, {}, {'and': 2, 'it.': 1, 'all': 1, 'love': 1, 'absolutely': 1, 'it': 1, 'born': 1, 'purchased': 1, 'in': 1, 'for': 1, 'when': 1, 'same': 1, 'to': 1, 'version': 1, 'was': 2, 'daughter-in-law': 1, 'again.': 1, 'thrilled': 1, 'baby': 1, 'he': 1, 'boy': 1, 'grandson': 1, 'receive': 1, 'scripture': 1, 'i': 1, 'of': 1, 'the': 3, 'my': 2, 'book': 1}, {'simple': 1, 'down.': 1, 'verses': 1, 'as': 1, 'at': 1, 'in': 1, 'pages.': 1, 'law.': 1, 'for': 1, 'bottom': 1, 'memories': 1, 'to': 1, 'bought': 1, 'it.': 1, 'but': 1, 'important': 1, 'put': 1, 'a': 2, 'loved': 2, 'daughter': 1, 'gift': 1, 'i': 1, 'of': 1, 'place': 1, 'she': 1, 'the': 1, 'my': 1}, {'all': 1, 'right': 1, 'memories,': 1, 'prayers': 1, 'almost': 1, 'some': 1, 'are': 1, 'have': 1, 'religious': 1, 'out': 1, 'that,': 1, 'lifestyle,': 1, 'i': 3, 'for': 3, 'etc.).': 1, 'realize': 1, 'book': 1, '(not': 1, \"didn't\": 1, 'has': 1, 'was': 1, 'baby,': 1, 'it.': 2, 'fir': 1, 'we': 1, 'sure': 1, 'returned': 1, 'that': 2, 'ages': 1, 'but': 2, 'product,': 1, 'ask': 1, 'with': 1, 'pages': 1, 'a': 1, 'keeping': 1, 'anything': 1, \"wasn't\": 1, 'of': 1, 'favorite': 1, 'against': 1, 'this': 1, 'so': 2, 'scripture,': 1, 'the': 4}, {'and': 4, 'cute': 1, 'liked': 1, 'had': 1, 'is': 3, 'gift!': 1, 'one.': 1, 'one': 1, 'born': 1, 'want': 1, 'perfect': 1, 'your': 2, 'even': 1, 'little': 2, 'for': 4, 'to': 2, 'memories': 1, 'when': 2, 'hair....etc!': 1, 'gets': 1, 'asking': 1, 'which': 1, 'it': 2, 'place': 1, 'you': 1, 'main': 1, 'book!': 1, 'we': 1, 'loved': 1, 'baby': 3, 'prints': 1, 'hand': 1, 'reason': 1, 'keepsakes': 1, 'foot': 1, 'why': 1, 'bigger': 1, 'a': 2, 'also': 1, 'great': 1, 'has': 1, 'remember': 1, 'places': 1, 'locks': 1, 'this': 2, 'of': 1, 'put': 1, 'omg.....we': 1, 'shower': 1, 'so': 1, 'questions.': 1, 'pockets': 1, 'starts': 1, 'the': 2, 'first': 1}, {'pink': 1, 'beautiful': 2, 'life': 1, 'love': 1, 'pastel': 1, 'i': 1, 'my': 1, 'color.': 1, 'book,': 1, 'great': 1, 'times': 1, 'to': 1, 'cherished': 1, 'in': 1, 'it': 1, 'the': 1, 'granddaughters': 1, 'with': 1, 'record': 1}, {'and': 2, 'mini': 1, 'happy!': 1, 'is': 2, 'one.': 1, 'an': 1, 'firsts...and': 1, 'maternity': 1, 'hair,': 1, 'in': 1, 'fill': 1, 'perfect': 1, 'bracelet...really': 1, 'for': 1, 'purchase.': 1, 'family,': 1, 'looking': 1, 'to': 2, 'book': 1, 'lot': 1, 'really': 1, 'was': 1, 'happy': 1, 'preserve': 1, 'flammish)': 1, 'french': 1, 'baby': 1, 'with': 1, 'info': 1, ':': 1, 'i': 1, 'of': 1, 'this': 2, 'pockets': 1, 'english': 1, 'the': 2, 'daddy': 1, \"(i'm\": 1}, {'detailed': 1, 'and': 2, 'everyone': 1, 'is': 1, 'it': 1, 'serving': 1, 'through': 1, 'descriptions': 1, 'questions': 1, 'in': 1, '\"my': 1, 'your': 2, 'life.': 1, 'perfect': 1, 'kindergartener.': 1, 'for': 2, 'entitled,': 1, 'its': 1, 'kindergarten': 2, 'to': 3, 'book': 2, 'way': 1, 'recommend': 1, 'answer': 1, 'receiving': 1, 'was': 1, 'surprised': 1, \"one's\": 1, 'photographs': 1, \"parent.i'd\": 1, \"child's\": 1, 'very': 1, 'memory': 1, 'upon': 1, 'important': 1, 'purpose': 1, 'child': 1, 'with': 1, 'pleasantly': 1, 'a': 1, 'i': 1, 'of': 1, 'this': 2, 'experience': 1, 'record': 2, 'while': 1, 'time': 1, 'fun': 1, 'year\".': 1, 'the': 4, 'are': 1}, {'and': 1, 'already': 1, 'answered': 1, 'back': 1, 'years': 1, 'see': 1, 'questions': 1, 'stumbled': 1, 'to': 2, 'answering': 1, 'how': 1, 'memory': 1, 'questions.': 1, 'has': 1, 'be': 1, 'started': 1, 'upon': 1, 'it': 1, 'son': 1, \"i'm\": 1, 'glad': 1, 'he': 1, 'a': 1, 'great': 1, 'look': 1, 'these': 1, 'later': 1, 'gem.': 1, 'will': 1, 'i': 2, 'so': 1, 'the': 1, 'my': 1, 'think': 1}, {'and': 1, 'page.': 1, 'old': 1, 'just': 2, 'character': 1, 'is': 1, 'it': 1, 'son.': 1, 'month': 1, 'as': 1, 'have': 1, 'toy': 1, \"he's\": 1, 'when': 1, 'long': 1, 'pages': 1, 'to': 3, 'enough': 1, 'book': 2, 'stuffed': 1, '6': 1, 'neat': 1, 'be': 1, 'we': 1, 'attention': 1, 'elephant': 1, 'realization': 1, 'words': 1, 'few': 2, 'with': 1, 'between': 1, 'association': 1, 'a': 2, 'short': 1, 'older': 1, 'of': 2, 'well': 1, 'see': 1, 'keep': 1, 'will': 1, 'so': 1, 'each': 1, 'the': 7, 'my': 1}, {'and': 1, 'is': 1, 'gift.': 1, 'pretty,.': 1, 'for': 1, 'also': 1, 'recommend': 1, 'gives': 1, 'be': 1, 'used': 1, 'very': 1, 'it': 3, 'years...i': 1, 'a': 3, 'great': 1, 'made': 1, 'this': 1, 'light': 1, 'well': 1, 'will': 1, 'highly.': 1, 'nice': 1, 'makes': 1}, {'affordable': 1, 'and': 2, '!easy': 1, 'for': 1, 'project': 1, 'wall': 1, 'spring': 1, 'a': 1, 'up': 1, '**********': 1, '...fine': 1, 'decals': 1, 'this': 1, ',fun': 1, 'try': 1, 'brightens': 1, '5+': 1, 'room..': 1, 'quality': 1, 'any': 1, 'out': 1}, {'all': 1, 'because': 1, 'reason:small': 1, 'wall': 1, 'money': 1, 'is': 1, 'it': 1, 'pieceyou': 1, 'see': 1, 'in': 2, 'apply': 1, 'one': 1, 'flower': 1, 'floor': 1, 'when': 1, 'how': 1, 'only': 1, 'you': 1, 'waste': 1, 'roll.': 1, 'to': 1, 'most': 1, 'fell': 1, 'know': 1, 'flowers': 1, 'day': 1, 'a': 1, 'on': 2, 'sizehard': 1, 'of': 1, 'second': 1, 'morning': 1, 'will': 1, 'part': 1, 'the': 4}, {'and': 1, 'would': 2, 'almost': 1, 'coming': 1, 'decals': 1, 'as': 1, 'thick': 1, 'recommend.': 1, 'again': 1, 'for': 1, 'literally': 1, 'stayed': 1, 'plastic': 1, 'stuck': 1, '5': 1, 'was': 1, 'then': 1, 'started': 1, 'peeling': 1, 'stick!': 1, 'not': 2, 'applying': 1, 'wall': 1, 'off.': 1, 'purchase': 1, 'about': 1, 'off': 1, 'like': 1, 'i': 1, 'them!': 1, 'were': 2, 'the': 3, 'minutes': 1, 'or': 1}, {'and': 3, 'fantastic': 1, \"don't\": 1, 'winnie': 1, 'paintwork.': 1, 'cost': 1, 'at': 1, 'in': 1, 'themed': 1, '&#34;look&#34;': 1, 'stickers': 2, 'impressed': 1, 'decor': 1, 'with.': 1, 'get': 1, '-': 1, 'seamless': 1, 'to': 1, 'easy': 1, 'new': 1, 'was': 1, 'zealand': 1, 'option': 1, 'that': 1, 'very': 4, 'stick': 1, 'they': 2, 'not': 1, 'pooh': 1, 'wall': 2, 'like': 1, 'a': 1, 'on': 3, 'look': 1, 'effective': 1, 'i': 2, 'all.': 1, 'could': 1, 'these': 2, 'were': 2, 'professional': 1, 'the': 3}, {'page.': 1, 'on': 1, 'and': 1, 'said': 1, 'i': 2, 'product,': 2, 'grat': 1, 'it': 1, 'highly': 1, 'about': 1, 'very': 1, 'as': 1, 'design,': 1, 'came': 1, 'reccomend': 1, 'satisfied': 1, 'follow': 1, 'more.': 1, 'ir': 1, 'the': 2, 'buying': 1}, {'mercy.': 1, 'chain': 1, 'our': 1, 'an': 1, 'lives!': 1, 'in': 1, 'need': 1, 'love': 1, 'divine': 3, 'your': 1, 'jesuswho': 1, 'jesus': 1, 'for': 1, 'pray': 1, 'god': 1, 'to': 1, 'offers': 1, 'you': 1, 'nice': 1, 'around': 1, 'on': 1, 'neck.': 1, 'it!': 1, 'pendant': 1, 'now': 1, 'him': 1, 'represents': 1, 'of': 2, 'country.': 1, 'us': 1, 'ocean': 1, 'very': 1, 'my': 1, 'mercy': 2}, {\"i'll\": 1, 'wipes.': 2, 'right': 1, 'love': 1, 'simple': 1, 'are': 3, 'changes.': 1, 'our': 1, 'done.': 1, 'find': 1, 'for': 2, 'ordering': 1, 'get': 1, 'now!': 1, 'actually': 1, 'other': 1, 'my': 1, 'more': 1, 'a': 2, 'them': 2, 'after': 1, 'that': 1, 'price': 1, 'million': 1, 'great': 1, 'uses': 1, 'know': 1, 'they': 3, 'baby': 1, 'during': 1, 'reusable': 1, 'dry': 1, 'and': 4, 'these': 1, 'of': 1, 'days': 1, 'i': 2, 'so': 1, 'clean': 1, \"i'm\": 1, 'soft': 1, 'diaper': 2}, {'and': 2, 'thought,': 1, 'smaller': 1, 'just': 1, 'is': 1, 'it': 2, 'wall.': 1, 'looks': 1, 'measurements.': 1, 'what': 1, 'was': 2, 'nice': 1, 'that': 1, 'but': 1, 'not': 1, 'bit': 1, 'than': 1, 'a': 1, 'on': 1, 'great': 1, 'i': 1, 'fault': 1, 'taking': 1, 'the': 1, 'my': 2}, {'and': 2, 'old': 1, 'significantly': 1, 'we': 2, 'son': 1, 'high': 1, 'as': 1, 'are': 1, 'year': 1, 'seem': 1, 'open': 3, 'their': 1, 'size': 1, 'given': 1, 'for': 1, 'needed': 1, 'package...': 1, 'that': 1, 'able': 1, 'how': 1, 'only': 1, 'safety': 1, 'normal': 1, '6': 1, 'pins': 3, 'new': 1, 'learned': 1, 'has': 1, 'was': 2, 'more': 2, 'them': 1, 'his': 1, 'to': 4, 'though': 1, 'price': 1, 'time': 1, 'use': 1, 'clothes.': 1, 'break': 1, 'broken': 1, 'bit': 1, 'one': 1, 'than': 1, 'he': 2, 'a': 1, 'on': 1, 'open.': 1, 'autistic': 1, 'sturdy': 1, 'i': 1, 'of': 2, \"hasn't\": 1, 'shipping': 1, 'or': 1, 'recall': 1, 'these': 1, 'reasonable': 1, 'night': 1, 'the': 4, 'bought': 1, 'my': 1, 'side': 1, 'once': 1}, {'and': 1, 'be': 1, 'quality--worked': 1, 'used': 1, 'fine--heavy': 1, 'to': 1, 'these': 1, 'no': 1, 'others': 1, 'duty--able': 1, 'needed': 1, 'as': 1, 'good': 1, 'way': 1, 'in': 1, 'need': 1, 'my': 1, 'any': 1, 'filled': 1, 'were': 1}, {'and': 1, 'a': 3, 'great': 2, 'uses.': 1, 'for': 1, 'dozen.': 1, 'that': 1, 'lots': 1, 'of': 1, 'pin': 1, 'colors': 1, 'bargain': 1, 'to': 1, 'bright': 1, 'safety': 1, 'easy': 1, 'has': 1, 'with': 1, 'find': 1}, {'and': 1, 'baby': 1, 'are': 2, 'in': 1, 'thick': 1, 'little': 1, 'fabric': 1, 'no': 2, 'fortunately': 1, 'there': 1, 'to': 1, 'flimsy': 1, 'stuck.': 1, 'pins': 2, 'was': 2, 'them': 1, 'used': 1, 'on.': 1, 'involved,': 1, 'received': 1, 'diaper': 1, 'not': 1, 'attractive,': 1, 'hold': 1, 'on': 1, 'did': 1, 'metal': 1, 'up': 1, 'i': 2, 'while': 1, 'so': 1, 'the': 4}, {'honduras,': 1, 'honduras': 1, 'sent.': 1, 'is': 1, 'it': 1, 'kits': 1, 'have': 1, 'in': 2, 'our': 1, 'find': 1, 'to': 3, 'with': 1, 'also': 1, 'pins': 2, 'sent': 1, 'difficult': 1, 'do': 1, 'we': 2, 'diapers': 1, 'age.': 1, 'diaper': 2, 'they': 2, 'not': 1, '&#34;pampers&#34;.': 1, 'hold': 1, '&#34;disposable&#34;': 1, 'appreciated': 1, 'went': 1, 'cloth': 1, 'these': 1, 'the': 3, 'missionaries.': 1}, {'and': 3, 'dressmaker': 1, 'pin': 1, 'do': 1, 'a': 1, 'we': 2, 'tended': 1, 'one': 1, 'course': 1, 'through': 2, 'have': 1, 'during': 1, 'open': 1, 'your': 1, 'idea.': 1, 'little': 1, 'but': 3, 'i': 2, 'cycle.': 1, 'needed': 1, 'since': 1, 'been': 1, 'pins,': 1, 'to': 4, 'recommended': 1, 'pins': 2, 'perfectly': 1, 'was': 2, 'suggested': 1, 'staying': 1, 'working': 1, 'tried': 1, 'get': 1, 'it': 1, 'never': 1, \"thery're\": 1, 'washing.': 1, '&#34;friended': 1, 'socks': 2, 'they': 2, 'using': 1, 'brass': 1, 'years': 1, 'tricky': 1, 'open,': 1, 'has': 1, 'like': 1, 'lost': 1, 'wash': 2, 'up&#34;.': 1, 'of': 2, 'wife': 1, 'up': 1, 'together': 2, 'keep': 1, 'yet.': 1, 'matter': 1, 'can': 1, 'many': 1, 'them.': 1, 'the': 4, 'my': 2, 'that': 1, 'fact': 1, 'diaper': 2}, {'and': 4, 'the': 11, 'before': 1, 'reviews.': 1, 'another': 1, 'just': 2, \"don't\": 1, 'sock': 1, 'into': 1, 'each': 1, 'am': 1, 'idea': 1, 'socks': 6, 'one': 1, 'as': 2, 'done': 1, 'are': 2, 'have': 1, 'feet.': 1, 'my': 2, 'dried,': 1, 'still': 1, 'saved': 1, 'hamper': 1, 'out': 1, 'washer,': 1, 'these': 1, 'use': 1, 'reviewer': 1, 'pin': 2, 'for': 1, 'to': 2, 'open': 1, 'with': 2, 'noted,': 1, 'had': 1, 'matching': 1, 'line.': 1, 'of': 4, 'come': 1, 'grab': 1, 'lot': 1, 'pins': 1, 'hamper,': 1, 'has': 1, 'it.': 1, 'dry': 2, 'them': 1, 'on.': 1, 'washing.': 1, 'read': 1, 'hang': 2, 'it': 1, 'after': 1, 'shelf.': 1, 'great': 2, 'here': 1, 'stay': 1, 'mismatched': 1, 'they': 2, 'put': 1, 'line': 1, 'now': 1, 'clothespins,': 1, 'by': 1, 'glad': 1, 'a': 3, 'on': 5, 'about': 1, 'lost': 1, 'this': 2, 'wish': 1, 'side': 1, 'leave': 1, 'i': 7, 'without': 1, 'dirty': 1, 'time': 1, 'life.': 1, 'problem': 1, 'whole': 1, 'or': 1, 'once': 1}, {'fabric.': 1, 'all,': 1, 'old': 1, 'is': 1, 'hard': 1, 'it': 1, 'through': 1, 'at': 1, 'still': 1, 'pins,': 1, 'recommend.': 1, 'would': 1, 'thicker': 1, 'to': 1, 'which': 1, 'steel': 1, 'have.': 1, 'very': 1, 'part': 1, 'diaper': 1, 'not': 2, 'strong': 1, 'a': 1, 'unlike': 1, 'i': 1, 'work': 1, 'the': 2}, {'am': 1, 'back': 1, 'really': 1, 'are': 2, 'have': 1, 'in': 1, 'should': 1, 'dozen': 1, 'thought': 1, 'use': 1, 'there': 1, 'when': 1, 'mark': 1, 'to': 2, 'only': 2, 'going': 1, 'safety': 1, 'pins': 1, 'pins.': 1, 'was': 1, 'be': 1, 'them': 1, '10.': 1, 'pins..turns': 1, 'overpriced.': 1, 'regular': 1, 'they': 1, 'crochet': 1, 'sad..and': 1, 'a': 1, 'that': 1, 'getting': 1, 'i': 8, 'yarn': 1, 'counted': 1, 'will': 1, 'so': 1, 'picture..as': 1, 'the': 2, 'out': 1, 'think': 1}, {'because': 1, 'anymore.': 1, 'tabs': 1, 'is': 1, 'am': 1, 'ends': 1, 'through': 2, 'bend': 1, 'sharp': 1, 'work': 1, 'said,': 1, \"doesn't\": 1, 'which': 1, 'dislike': 1, '=': 2, 'them': 1, 'that': 2, 'pushing': 1, 'diapers': 2, 'velcro': 2, 'easier.': 1, 'sides': 1, 'a': 1, 'on': 1, 'pierce': 1, 'like': 1, 'older': 1, 'i': 1, 'pain.': 1, 'the': 2, 'my': 2}, {'and': 1, 'right': 1, 'happy,': 1, 'bends': 1, 'is': 1, 'am': 2, 'as': 2, 'are': 1, 'for': 1, 'these,': 1, 'expected.': 1, 'steel': 1, 'material': 1, 'needle': 1, 'color,': 1, 'but': 1, 'not': 2, 'strong': 1, 'with': 1, 'easily,': 1, 'a': 1, 'on': 1, 'i': 3, 'dog': 1, 'bed': 1, 'pinning': 1, 'these': 1, 'so': 1, 'diapers.': 1, 'the': 3}, {'a': 1, 'hard': 1, 'useful': 1, 'purpose...': 1, 'item': 1, 'this': 1, 'is': 1, 'no': 1, '-': 1, 'locally!': 1, 'to': 2, 'are': 1, 'have': 1, 'pins': 1, 'the': 1, 'diaper': 1, 'find': 1, 'matter': 1}, {'hold': 1, 'picture': 2, 'just': 1, \"don't\": 1, 'wall': 1, 'hand.': 1, 'am': 1, 'branches': 1, 'an': 4, 'put': 1, 'as': 3, 'design': 1, 'numbers': 1, 'have': 1, 'sense': 2, 'seen': 1, 'any': 1, \"doesn't\": 1, 'compared': 1, 'start': 1, 'make': 2, 'give': 1, 'had': 2, 'actually': 1, 'to': 3, '2': 1, 'way': 1, 'you': 2, 'was': 1, 'sort': 1, 'a': 1, 'far': 1, 'peeled': 1, 'pleased': 1, 'free': 1, 'it': 6, 'putting': 1, 'they': 1, 'half': 1, 'not': 1, 'actual': 1, 'be': 1, 'difference': 1, 'with': 2, 'weeks': 1, 'bigger': 1, 'ago': 1, 'about': 1, 'made': 1, 'off': 1, 'all.': 1, 'i': 4, 'of': 1, 'could': 1, 'instruction': 1, 'up': 3, 'together': 1, '--': 2, 'aligned': 1, 'so': 1, 'wish': 1, 'the': 5, 'my': 1, 'at': 1}, {'do': 1, 'them': 1, 'peel': 1, 'to': 3, 'these': 1, 'soon': 1, 'wall.': 2, 'start': 1, 'as': 2, 'stick': 2, 'they': 1, 'not': 1, 'the': 2, 'you': 1}, {'frustrating!': 1, 'money': 1, 'into': 1, 'back': 1, 'pieces': 1, 'ended': 1, 'girls': 1, 'at': 1, 'bedroom': 1, 'bedroom!': 1, 'glue': 1, 'baby': 1, 'wall...very': 1, 'for': 1, 'when': 1, 'to': 3, 'disappointing.': 1, 'got': 1, 'waste': 1, 'was': 2, 'is': 1, 'it.': 1, 'floor!': 1, 'product': 1, 'get': 1, 'very': 2, 'it': 2, 'every': 1, 'not': 1, 'picking': 1, 'sticky': 1, 'super': 1, 'excited': 1, 'on': 1, 'off': 1, 'all!': 1, 'this': 1, 'of': 1, \"wouldn't\": 1, 'up': 2, 'walked': 1, 'having': 1, 'i': 4, 'so': 1, 'time': 2, 'the': 5, 'my': 1, 'or': 1}, {'and': 3, 'heart': 1, 'because': 1, 'ordered': 1, 'just': 1, 'photo': 1, 'knotted': 1, 'am': 1, 'it': 4, 'lovely': 1, 'as': 1, 'in': 3, 'our': 2, 'novena': 1, 'blessed': 1, 'again': 1, 'copy': 1, 'pope': 2, 'would': 1, 'to': 1, 'giving': 1, 'disappointed': 1, 'for': 2, 'whom': 1, 'francis.': 1, 'strong': 1, 'between': 1, 'has': 1, 'was': 1, 'is': 2, 'friend': 2, 'fathers.': 1, 'buy': 1, 'devotion.': 1, 'crystal,': 1, 'with': 2, 'recommend': 1, 'beat.': 1, 'not': 1, 'along': 1, 'francis': 1, 'lady': 1, 'by': 1, 'a': 4, 'made': 1, 'rosary': 2, 'knots,': 1, 'undoer)': 1, 'this': 3, 'of': 3, 'untier': 1, 'looked': 1, 'i': 4, 'definitely': 1, '(or': 1, 'the': 3, 'my': 1, 'beautiful,': 1}, {'and': 2, 'all': 1, 'right': 1, 'price.': 1, 'just': 1, 'scapular': 1, 'some': 1, 'an': 1, 'quality': 1, 'for': 2, 'to': 1, 'more': 1, 'wearing': 1, 'brown': 1, 'around': 1, 'blessing': 1, 'precious.': 1, 'excellent': 1, 'a': 1, 'neck': 1, 'makes': 1, 'value': 1, 'item': 1, 'the': 5, 'such.': 1, 'or': 1, 'orattaching': 1}, {'and': 3, 'beautiful': 2, 'watching': 1, 'love': 1, 'have': 1, \"don't\": 1, 'recognize': 1, 'is': 4, 'me.': 1, 'am': 3, 'it': 4, 'an': 1, 'down': 1, 'as': 2, 'someone': 1, 'through': 1, 'fast': 1, 'nativity.': 1, '$25.00.': 1, 'still': 1, 'if': 3, 'even': 1, 'song.': 1, 'slow': 1, 'would': 2, 'there': 2, 'had': 3, 'been': 2, 'for': 1, 'to': 5, 'finally': 1, 'music': 4, 'too': 1, 'way': 2, 'beware...': 1, 'item.': 1, 'get': 1, 'was': 1, 'tell': 1, 'happy': 2, 'be': 1, 'play': 1, 'box.': 1, 'song': 1, 'very': 1, 'great': 1, 'but': 1, 'excuse': 1, 'know': 1, 'box;': 1, 'not': 3, 'with': 1, 'nativity;': 1, 'a': 2, 'nativity': 1, 'about': 1, 'look': 1, 'this': 1, 'of': 1, 'right.buyer': 1, 'months': 1, 'excited': 2, 'i': 10, 'so': 3, 'wish': 1, 'the': 7, 'spend': 1, 'once': 1}, {'size': 1, 'and': 2, 'hand.': 1, 'love': 1, 'fit.': 1, 'over': 1, 'am': 1, 'satisfied': 1, 'slid': 1, 'hair': 1, 'snug': 1, 'are': 2, 'have': 2, 'tough': 2, 'shipping!': 1, '.': 1, 'pleased': 1, 'if': 1, 'fit': 1, 'bangles': 1, 'product.': 1, 'had': 1, 'lotion.': 1, 'fast': 1, 'for': 1, 'to': 3, 'fitting': 1, 'whew': 1, 'got': 1, 'small.': 1, 'was': 1, 'stay.': 1, 'them': 1, 'get': 1, 'overall': 1, 'however': 1, 'but': 2, 'hand': 1, 'wrist': 1, 'adult': 1, 'they': 4, 'hands': 1, 'bit': 1, 'product': 1, 'with': 3, 'bigger': 1, 'kid': 1, 'a': 3, 'on': 2, 'like': 1, 'these': 1, \"wouldn't\": 1, 'large': 1, 'i': 5, 'also.': 1, 'were': 1, 'small': 2, 'the': 3, 'my': 1, 'on!!': 1, 'bangle': 1}, {'and': 2, 'set': 1, 'old': 1, 'cooking.': 1, 'for': 1, '2': 1, 'lot': 1, 'has': 1, 'was': 1, 'granddaughter': 1, 'with': 1, 'a': 1, 'great': 1, 'yr.': 1, 'this': 1, 'of': 1, 'pretend': 1, 'she': 1, 'fun': 1, 'the': 1, 'my': 1, 'playing': 1}, {'and': 1, 'is': 1, 'wash': 1, 'are': 1, 'bibs.': 1, 'useful.': 1, 'to': 1, 'easy': 1, 'awesome.': 1, 'them': 1, 'dry.': 1, 'very': 2, 'price': 1, 'much.': 1, 'they': 1, 'friends': 1, 'those': 1, 'also': 1, 'like': 2, 'i': 1, 'the': 1, 'my': 1}, {'beautiful': 1, 'old': 1, 'too.': 1, 'when': 1, 'is': 1, 'wash': 1, 'good': 1, 'in': 1, 'messy': 1, 'mouth.': 1, 'provided': 1, '20': 1, 'for': 1, 'eaters,': 1, 'front': 1, 'missing': 1, 'curls': 1, 'to': 2, 'bibs,': 1, 'easy': 1, 'elbows': 1, 'his': 2, 'boy': 1, 'very': 1, 'who': 1, 'pasta': 2, 'pocket': 1, 'marinara': 1, 'protections': 1, 'fall': 1, 'fingers.': 1, 'bibs': 1, 'with': 1, 'eat': 1, 'a': 1, 'loved': 1, 'daughter': 1, 'grandson': 1, 'this': 2, 'months': 1, 'loves': 1, 'the': 2, 'my': 2, 'or': 1}, {'perfect': 1, 'and': 1, 'this': 2, 'for': 1, 'collection!': 1, 'cute': 1, 'i': 1, 'tree!': 1, 'is': 2, 'collect': 1, 'it': 1, 'nativity': 2, 'to': 2, 'add': 1, 'a': 1, 'ornaments': 1, 'ornament,': 1, 'such': 1, 'my': 2, \"can't\": 1, 'wait': 1}, ... ]"
      ]
     },
     "execution_count": 7,
     "metadata": {},
     "output_type": "execute_result"
    }
   ],
   "source": [
    "products['word_count'] = graphlab.text_analytics.count_words(products['review'])\n",
    "products['word_count']"
   ]
  },
  {
   "cell_type": "code",
   "execution_count": 8,
   "metadata": {
    "collapsed": false
   },
   "outputs": [
    {
     "name": "stdout",
     "output_type": "stream",
     "text": [
      "Canvas is accessible via web browser at the URL: http://localhost:52076/index.html\n",
      "Opening Canvas in default web browser.\n"
     ]
    }
   ],
   "source": [
    "products['name'].show()"
   ]
  },
  {
   "cell_type": "code",
   "execution_count": 11,
   "metadata": {
    "collapsed": false
   },
   "outputs": [
    {
     "data": {
      "text/html": [
       "<div style=\"max-height:1000px;max-width:1500px;overflow:auto;\"><table frame=\"box\" rules=\"cols\">\n",
       "    <tr>\n",
       "        <th style=\"padding-left: 1em; padding-right: 1em; text-align: center\">name</th>\n",
       "        <th style=\"padding-left: 1em; padding-right: 1em; text-align: center\">review</th>\n",
       "        <th style=\"padding-left: 1em; padding-right: 1em; text-align: center\">rating</th>\n",
       "        <th style=\"padding-left: 1em; padding-right: 1em; text-align: center\">word_count</th>\n",
       "        <th style=\"padding-left: 1em; padding-right: 1em; text-align: center\">sentiment</th>\n",
       "    </tr>\n",
       "    <tr>\n",
       "        <td style=\"padding-left: 1em; padding-right: 1em; text-align: center; vertical-align: top\">Planetwise Wipe Pouch</td>\n",
       "        <td style=\"padding-left: 1em; padding-right: 1em; text-align: center; vertical-align: top\">it came early and was not<br>disappointed. i love ...</td>\n",
       "        <td style=\"padding-left: 1em; padding-right: 1em; text-align: center; vertical-align: top\">5.0</td>\n",
       "        <td style=\"padding-left: 1em; padding-right: 1em; text-align: center; vertical-align: top\">{'and': 3, 'love': 1,<br>'it': 2, 'highly': 1, ...</td>\n",
       "        <td style=\"padding-left: 1em; padding-right: 1em; text-align: center; vertical-align: top\">1</td>\n",
       "    </tr>\n",
       "    <tr>\n",
       "        <td style=\"padding-left: 1em; padding-right: 1em; text-align: center; vertical-align: top\">Annas Dream Full Quilt<br>with 2 Shams ...</td>\n",
       "        <td style=\"padding-left: 1em; padding-right: 1em; text-align: center; vertical-align: top\">Very soft and comfortable<br>and warmer than it ...</td>\n",
       "        <td style=\"padding-left: 1em; padding-right: 1em; text-align: center; vertical-align: top\">5.0</td>\n",
       "        <td style=\"padding-left: 1em; padding-right: 1em; text-align: center; vertical-align: top\">{'and': 2, 'quilt': 1,<br>'it': 1, 'comfortable': ...</td>\n",
       "        <td style=\"padding-left: 1em; padding-right: 1em; text-align: center; vertical-align: top\">1</td>\n",
       "    </tr>\n",
       "    <tr>\n",
       "        <td style=\"padding-left: 1em; padding-right: 1em; text-align: center; vertical-align: top\">Stop Pacifier Sucking<br>without tears with ...</td>\n",
       "        <td style=\"padding-left: 1em; padding-right: 1em; text-align: center; vertical-align: top\">This is a product well<br>worth the purchase.  I ...</td>\n",
       "        <td style=\"padding-left: 1em; padding-right: 1em; text-align: center; vertical-align: top\">5.0</td>\n",
       "        <td style=\"padding-left: 1em; padding-right: 1em; text-align: center; vertical-align: top\">{'ingenious': 1, 'and':<br>3, 'love': 2, ...</td>\n",
       "        <td style=\"padding-left: 1em; padding-right: 1em; text-align: center; vertical-align: top\">1</td>\n",
       "    </tr>\n",
       "    <tr>\n",
       "        <td style=\"padding-left: 1em; padding-right: 1em; text-align: center; vertical-align: top\">Stop Pacifier Sucking<br>without tears with ...</td>\n",
       "        <td style=\"padding-left: 1em; padding-right: 1em; text-align: center; vertical-align: top\">All of my kids have cried<br>non-stop when I tried to ...</td>\n",
       "        <td style=\"padding-left: 1em; padding-right: 1em; text-align: center; vertical-align: top\">5.0</td>\n",
       "        <td style=\"padding-left: 1em; padding-right: 1em; text-align: center; vertical-align: top\">{'and': 2, 'parents!!':<br>1, 'all': 2, 'puppet.': ...</td>\n",
       "        <td style=\"padding-left: 1em; padding-right: 1em; text-align: center; vertical-align: top\">1</td>\n",
       "    </tr>\n",
       "    <tr>\n",
       "        <td style=\"padding-left: 1em; padding-right: 1em; text-align: center; vertical-align: top\">Stop Pacifier Sucking<br>without tears with ...</td>\n",
       "        <td style=\"padding-left: 1em; padding-right: 1em; text-align: center; vertical-align: top\">When the Binky Fairy came<br>to our house, we didn't ...</td>\n",
       "        <td style=\"padding-left: 1em; padding-right: 1em; text-align: center; vertical-align: top\">5.0</td>\n",
       "        <td style=\"padding-left: 1em; padding-right: 1em; text-align: center; vertical-align: top\">{'and': 2, 'this': 2,<br>'her': 1, 'help': 2, ...</td>\n",
       "        <td style=\"padding-left: 1em; padding-right: 1em; text-align: center; vertical-align: top\">1</td>\n",
       "    </tr>\n",
       "    <tr>\n",
       "        <td style=\"padding-left: 1em; padding-right: 1em; text-align: center; vertical-align: top\">A Tale of Baby's Days<br>with Peter Rabbit ...</td>\n",
       "        <td style=\"padding-left: 1em; padding-right: 1em; text-align: center; vertical-align: top\">Lovely book, it's bound<br>tightly so you may no ...</td>\n",
       "        <td style=\"padding-left: 1em; padding-right: 1em; text-align: center; vertical-align: top\">4.0</td>\n",
       "        <td style=\"padding-left: 1em; padding-right: 1em; text-align: center; vertical-align: top\">{'shop': 1, 'noble': 1,<br>'is': 1, 'it': 1, 'as': ...</td>\n",
       "        <td style=\"padding-left: 1em; padding-right: 1em; text-align: center; vertical-align: top\">1</td>\n",
       "    </tr>\n",
       "    <tr>\n",
       "        <td style=\"padding-left: 1em; padding-right: 1em; text-align: center; vertical-align: top\">Baby Tracker&amp;reg; - Daily<br>Childcare Journal, ...</td>\n",
       "        <td style=\"padding-left: 1em; padding-right: 1em; text-align: center; vertical-align: top\">Perfect for new parents.<br>We were able to keep ...</td>\n",
       "        <td style=\"padding-left: 1em; padding-right: 1em; text-align: center; vertical-align: top\">5.0</td>\n",
       "        <td style=\"padding-left: 1em; padding-right: 1em; text-align: center; vertical-align: top\">{'and': 2, 'all': 1,<br>'right': 1, 'when': 1, ...</td>\n",
       "        <td style=\"padding-left: 1em; padding-right: 1em; text-align: center; vertical-align: top\">1</td>\n",
       "    </tr>\n",
       "    <tr>\n",
       "        <td style=\"padding-left: 1em; padding-right: 1em; text-align: center; vertical-align: top\">Baby Tracker&amp;reg; - Daily<br>Childcare Journal, ...</td>\n",
       "        <td style=\"padding-left: 1em; padding-right: 1em; text-align: center; vertical-align: top\">A friend of mine pinned<br>this product on Pinte ...</td>\n",
       "        <td style=\"padding-left: 1em; padding-right: 1em; text-align: center; vertical-align: top\">5.0</td>\n",
       "        <td style=\"padding-left: 1em; padding-right: 1em; text-align: center; vertical-align: top\">{'and': 1, 'help': 1,<br>'give': 1, 'is': 1, ' ...</td>\n",
       "        <td style=\"padding-left: 1em; padding-right: 1em; text-align: center; vertical-align: top\">1</td>\n",
       "    </tr>\n",
       "    <tr>\n",
       "        <td style=\"padding-left: 1em; padding-right: 1em; text-align: center; vertical-align: top\">Baby Tracker&amp;reg; - Daily<br>Childcare Journal, ...</td>\n",
       "        <td style=\"padding-left: 1em; padding-right: 1em; text-align: center; vertical-align: top\">This has been an easy way<br>for my nanny to record ...</td>\n",
       "        <td style=\"padding-left: 1em; padding-right: 1em; text-align: center; vertical-align: top\">4.0</td>\n",
       "        <td style=\"padding-left: 1em; padding-right: 1em; text-align: center; vertical-align: top\">{'journal.': 1, 'nanny':<br>1, 'standarad': 1, ...</td>\n",
       "        <td style=\"padding-left: 1em; padding-right: 1em; text-align: center; vertical-align: top\">1</td>\n",
       "    </tr>\n",
       "    <tr>\n",
       "        <td style=\"padding-left: 1em; padding-right: 1em; text-align: center; vertical-align: top\">Baby Tracker&amp;reg; - Daily<br>Childcare Journal, ...</td>\n",
       "        <td style=\"padding-left: 1em; padding-right: 1em; text-align: center; vertical-align: top\">I love this journal and<br>our nanny uses it ...</td>\n",
       "        <td style=\"padding-left: 1em; padding-right: 1em; text-align: center; vertical-align: top\">4.0</td>\n",
       "        <td style=\"padding-left: 1em; padding-right: 1em; text-align: center; vertical-align: top\">{'all': 1, 'forget': 1,<br>'just': 1, 'food': 1, ...</td>\n",
       "        <td style=\"padding-left: 1em; padding-right: 1em; text-align: center; vertical-align: top\">1</td>\n",
       "    </tr>\n",
       "</table>\n",
       "[10 rows x 5 columns]<br/>\n",
       "</div>"
      ],
      "text/plain": [
       "Columns:\n",
       "\tname\tstr\n",
       "\treview\tstr\n",
       "\trating\tfloat\n",
       "\tword_count\tdict\n",
       "\tsentiment\tint\n",
       "\n",
       "Rows: 10\n",
       "\n",
       "Data:\n",
       "+-------------------------------+-------------------------------+--------+\n",
       "|              name             |             review            | rating |\n",
       "+-------------------------------+-------------------------------+--------+\n",
       "|     Planetwise Wipe Pouch     | it came early and was not ... |  5.0   |\n",
       "| Annas Dream Full Quilt wit... | Very soft and comfortable ... |  5.0   |\n",
       "| Stop Pacifier Sucking with... | This is a product well wor... |  5.0   |\n",
       "| Stop Pacifier Sucking with... | All of my kids have cried ... |  5.0   |\n",
       "| Stop Pacifier Sucking with... | When the Binky Fairy came ... |  5.0   |\n",
       "| A Tale of Baby's Days with... | Lovely book, it's bound ti... |  4.0   |\n",
       "| Baby Tracker&reg; - Daily ... | Perfect for new parents. W... |  5.0   |\n",
       "| Baby Tracker&reg; - Daily ... | A friend of mine pinned th... |  5.0   |\n",
       "| Baby Tracker&reg; - Daily ... | This has been an easy way ... |  4.0   |\n",
       "| Baby Tracker&reg; - Daily ... | I love this journal and ou... |  4.0   |\n",
       "+-------------------------------+-------------------------------+--------+\n",
       "+-------------------------------+-----------+\n",
       "|           word_count          | sentiment |\n",
       "+-------------------------------+-----------+\n",
       "| {'and': 3, 'love': 1, 'it'... |     1     |\n",
       "| {'and': 2, 'quilt': 1, 'it... |     1     |\n",
       "| {'ingenious': 1, 'and': 3,... |     1     |\n",
       "| {'and': 2, 'parents!!': 1,... |     1     |\n",
       "| {'and': 2, 'this': 2, 'her... |     1     |\n",
       "| {'shop': 1, 'noble': 1, 'i... |     1     |\n",
       "| {'and': 2, 'all': 1, 'righ... |     1     |\n",
       "| {'and': 1, 'help': 1, 'giv... |     1     |\n",
       "| {'journal.': 1, 'nanny': 1... |     1     |\n",
       "| {'all': 1, 'forget': 1, 'j... |     1     |\n",
       "+-------------------------------+-----------+\n",
       "[10 rows x 5 columns]"
      ]
     },
     "execution_count": 11,
     "metadata": {},
     "output_type": "execute_result"
    }
   ],
   "source": [
    "products = products[products['rating'] != 3]\n",
    "products['sentiment'] = products['rating'] >= 4\n",
    "products.head()"
   ]
  },
  {
   "cell_type": "code",
   "execution_count": 12,
   "metadata": {
    "collapsed": true
   },
   "outputs": [],
   "source": [
    "train_data, test_data = products.random_split(0.8, seed = 0)"
   ]
  },
  {
   "cell_type": "code",
   "execution_count": 16,
   "metadata": {
    "collapsed": false
   },
   "outputs": [
    {
     "data": {
      "text/html": [
       "<pre>WARNING: The number of feature dimensions in this problem is very large in comparison with the number of examples. Unless an appropriate regularization value is set, this model may not provide accurate predictions for a validation/test set.</pre>"
      ],
      "text/plain": [
       "WARNING: The number of feature dimensions in this problem is very large in comparison with the number of examples. Unless an appropriate regularization value is set, this model may not provide accurate predictions for a validation/test set."
      ]
     },
     "metadata": {},
     "output_type": "display_data"
    },
    {
     "data": {
      "text/html": [
       "<pre>Logistic regression:</pre>"
      ],
      "text/plain": [
       "Logistic regression:"
      ]
     },
     "metadata": {},
     "output_type": "display_data"
    },
    {
     "data": {
      "text/html": [
       "<pre>--------------------------------------------------------</pre>"
      ],
      "text/plain": [
       "--------------------------------------------------------"
      ]
     },
     "metadata": {},
     "output_type": "display_data"
    },
    {
     "data": {
      "text/html": [
       "<pre>Number of examples          : 133448</pre>"
      ],
      "text/plain": [
       "Number of examples          : 133448"
      ]
     },
     "metadata": {},
     "output_type": "display_data"
    },
    {
     "data": {
      "text/html": [
       "<pre>Number of classes           : 2</pre>"
      ],
      "text/plain": [
       "Number of classes           : 2"
      ]
     },
     "metadata": {},
     "output_type": "display_data"
    },
    {
     "data": {
      "text/html": [
       "<pre>Number of feature columns   : 1</pre>"
      ],
      "text/plain": [
       "Number of feature columns   : 1"
      ]
     },
     "metadata": {},
     "output_type": "display_data"
    },
    {
     "data": {
      "text/html": [
       "<pre>Number of unpacked features : 219217</pre>"
      ],
      "text/plain": [
       "Number of unpacked features : 219217"
      ]
     },
     "metadata": {},
     "output_type": "display_data"
    },
    {
     "data": {
      "text/html": [
       "<pre>Number of coefficients    : 219218</pre>"
      ],
      "text/plain": [
       "Number of coefficients    : 219218"
      ]
     },
     "metadata": {},
     "output_type": "display_data"
    },
    {
     "data": {
      "text/html": [
       "<pre>Starting L-BFGS</pre>"
      ],
      "text/plain": [
       "Starting L-BFGS"
      ]
     },
     "metadata": {},
     "output_type": "display_data"
    },
    {
     "data": {
      "text/html": [
       "<pre>--------------------------------------------------------</pre>"
      ],
      "text/plain": [
       "--------------------------------------------------------"
      ]
     },
     "metadata": {},
     "output_type": "display_data"
    },
    {
     "data": {
      "text/html": [
       "<pre>+-----------+----------+-----------+--------------+-------------------+---------------------+</pre>"
      ],
      "text/plain": [
       "+-----------+----------+-----------+--------------+-------------------+---------------------+"
      ]
     },
     "metadata": {},
     "output_type": "display_data"
    },
    {
     "data": {
      "text/html": [
       "<pre>| Iteration | Passes   | Step size | Elapsed Time | Training-accuracy | Validation-accuracy |</pre>"
      ],
      "text/plain": [
       "| Iteration | Passes   | Step size | Elapsed Time | Training-accuracy | Validation-accuracy |"
      ]
     },
     "metadata": {},
     "output_type": "display_data"
    },
    {
     "data": {
      "text/html": [
       "<pre>+-----------+----------+-----------+--------------+-------------------+---------------------+</pre>"
      ],
      "text/plain": [
       "+-----------+----------+-----------+--------------+-------------------+---------------------+"
      ]
     },
     "metadata": {},
     "output_type": "display_data"
    },
    {
     "data": {
      "text/html": [
       "<pre>| 1         | 5        | 0.000002  | 3.067500     | 0.841481          | 0.839989            |</pre>"
      ],
      "text/plain": [
       "| 1         | 5        | 0.000002  | 3.067500     | 0.841481          | 0.839989            |"
      ]
     },
     "metadata": {},
     "output_type": "display_data"
    },
    {
     "data": {
      "text/html": [
       "<pre>| 2         | 9        | 3.000000  | 4.767066     | 0.947425          | 0.894877            |</pre>"
      ],
      "text/plain": [
       "| 2         | 9        | 3.000000  | 4.767066     | 0.947425          | 0.894877            |"
      ]
     },
     "metadata": {},
     "output_type": "display_data"
    },
    {
     "data": {
      "text/html": [
       "<pre>| 3         | 10       | 3.000000  | 5.441566     | 0.923768          | 0.866232            |</pre>"
      ],
      "text/plain": [
       "| 3         | 10       | 3.000000  | 5.441566     | 0.923768          | 0.866232            |"
      ]
     },
     "metadata": {},
     "output_type": "display_data"
    },
    {
     "data": {
      "text/html": [
       "<pre>| 4         | 11       | 3.000000  | 6.114343     | 0.971779          | 0.912743            |</pre>"
      ],
      "text/plain": [
       "| 4         | 11       | 3.000000  | 6.114343     | 0.971779          | 0.912743            |"
      ]
     },
     "metadata": {},
     "output_type": "display_data"
    },
    {
     "data": {
      "text/html": [
       "<pre>| 5         | 12       | 3.000000  | 6.790097     | 0.975511          | 0.908900            |</pre>"
      ],
      "text/plain": [
       "| 5         | 12       | 3.000000  | 6.790097     | 0.975511          | 0.908900            |"
      ]
     },
     "metadata": {},
     "output_type": "display_data"
    },
    {
     "data": {
      "text/html": [
       "<pre>| 6         | 13       | 3.000000  | 7.470250     | 0.899991          | 0.825967            |</pre>"
      ],
      "text/plain": [
       "| 6         | 13       | 3.000000  | 7.470250     | 0.899991          | 0.825967            |"
      ]
     },
     "metadata": {},
     "output_type": "display_data"
    },
    {
     "data": {
      "text/html": [
       "<pre>| 10        | 18       | 1.000000  | 10.563845    | 0.988715          | 0.916256            |</pre>"
      ],
      "text/plain": [
       "| 10        | 18       | 1.000000  | 10.563845    | 0.988715          | 0.916256            |"
      ]
     },
     "metadata": {},
     "output_type": "display_data"
    },
    {
     "data": {
      "text/html": [
       "<pre>+-----------+----------+-----------+--------------+-------------------+---------------------+</pre>"
      ],
      "text/plain": [
       "+-----------+----------+-----------+--------------+-------------------+---------------------+"
      ]
     },
     "metadata": {},
     "output_type": "display_data"
    },
    {
     "data": {
      "text/html": [
       "<pre>TERMINATED: Iteration limit reached.</pre>"
      ],
      "text/plain": [
       "TERMINATED: Iteration limit reached."
      ]
     },
     "metadata": {},
     "output_type": "display_data"
    },
    {
     "data": {
      "text/html": [
       "<pre>This model may not be optimal. To improve it, consider increasing `max_iterations`.</pre>"
      ],
      "text/plain": [
       "This model may not be optimal. To improve it, consider increasing `max_iterations`."
      ]
     },
     "metadata": {},
     "output_type": "display_data"
    }
   ],
   "source": [
    "sentiment_analysis_model = graphlab.logistic_classifier.create(train_data, target='sentiment', features=['word_count'], validation_set=test_data)"
   ]
  },
  {
   "cell_type": "code",
   "execution_count": 17,
   "metadata": {
    "collapsed": false
   },
   "outputs": [
    {
     "data": {
      "text/plain": [
       "{'roc_curve': Columns:\n",
       " \tthreshold\tfloat\n",
       " \tfpr\tfloat\n",
       " \ttpr\tfloat\n",
       " \tp\tint\n",
       " \tn\tint\n",
       " \n",
       " Rows: 100001\n",
       " \n",
       " Data:\n",
       " +-----------+----------------+----------------+-------+------+\n",
       " | threshold |      fpr       |      tpr       |   p   |  n   |\n",
       " +-----------+----------------+----------------+-------+------+\n",
       " |    0.0    |      1.0       |      1.0       | 27976 | 5328 |\n",
       " |   1e-05   | 0.909346846847 | 0.998856162425 | 27976 | 5328 |\n",
       " |   2e-05   | 0.896021021021 | 0.998748927652 | 27976 | 5328 |\n",
       " |   3e-05   | 0.886448948949 | 0.998462968259 | 27976 | 5328 |\n",
       " |   4e-05   | 0.879692192192 | 0.998284243637 | 27976 | 5328 |\n",
       " |   5e-05   | 0.875187687688 | 0.998212753789 | 27976 | 5328 |\n",
       " |   6e-05   | 0.872184684685 | 0.998177008865 | 27976 | 5328 |\n",
       " |   7e-05   | 0.868618618619 | 0.998034029168 | 27976 | 5328 |\n",
       " |   8e-05   | 0.864677177177 | 0.997998284244 | 27976 | 5328 |\n",
       " |   9e-05   | 0.860735735736 | 0.997962539319 | 27976 | 5328 |\n",
       " +-----------+----------------+----------------+-------+------+\n",
       " [100001 rows x 5 columns]\n",
       " Note: Only the head of the SFrame is printed.\n",
       " You can use print_rows(num_rows=m, num_columns=n) to print more rows and columns.}"
      ]
     },
     "execution_count": 17,
     "metadata": {},
     "output_type": "execute_result"
    }
   ],
   "source": [
    "sentiment_analysis_model.evaluate(test_data, metric='roc_curve')"
   ]
  },
  {
   "cell_type": "code",
   "execution_count": 18,
   "metadata": {
    "collapsed": false
   },
   "outputs": [
    {
     "name": "stdout",
     "output_type": "stream",
     "text": [
      "Canvas is updated and available in a tab in the default browser.\n"
     ]
    }
   ],
   "source": [
    "sentiment_analysis_model.show(view='Evaluation')"
   ]
  },
  {
   "cell_type": "code",
   "execution_count": 21,
   "metadata": {
    "collapsed": true
   },
   "outputs": [],
   "source": [
    "graphlab.canvas.set_target('ipynb')"
   ]
  },
  {
   "cell_type": "code",
   "execution_count": 22,
   "metadata": {
    "collapsed": false
   },
   "outputs": [
    {
     "data": {
      "application/javascript": [
       "$(\"head\").append($(\"<link/>\").attr({\n",
       "  rel:  \"stylesheet\",\n",
       "  type: \"text/css\",\n",
       "  href: \"//cdnjs.cloudflare.com/ajax/libs/font-awesome/4.1.0/css/font-awesome.min.css\"\n",
       "}));\n",
       "$(\"head\").append($(\"<link/>\").attr({\n",
       "  rel:  \"stylesheet\",\n",
       "  type: \"text/css\",\n",
       "  href: \"https://static.turi.com/products/graphlab-create/2.0.1/canvas/css/canvas.css\"\n",
       "}));\n",
       "\n",
       "            (function(){\n",
       "\n",
       "                var e = null;\n",
       "                if (typeof element == 'undefined') {\n",
       "                    var scripts = document.getElementsByTagName('script');\n",
       "                    var thisScriptTag = scripts[scripts.length-1];\n",
       "                    var parentDiv = thisScriptTag.parentNode;\n",
       "                    e = document.createElement('div');\n",
       "                    parentDiv.appendChild(e);\n",
       "                } else {\n",
       "                    e = element[0];\n",
       "                }\n",
       "\n",
       "                if (typeof requirejs !== 'undefined') {\n",
       "                    // disable load timeout; ipython_app.js is large and can take a while to load.\n",
       "                    requirejs.config({waitSeconds: 0});\n",
       "                }\n",
       "\n",
       "                require(['https://static.turi.com/products/graphlab-create/2.0.1/canvas/js/ipython_app.js'], function(IPythonApp){\n",
       "                    var app = new IPythonApp();\n",
       "                    app.attachView('model','Evaluation', {\"comparison\": null, \"selected_variable\": {\"comparison\": null, \"name\": [\"sentiment_analysis_model\"], \"view_file\": \"model\", \"view_component\": \"Evaluation\", \"view_params\": {\"model_type\": \"regression\", \"view\": \"Evaluation\"}, \"view_components\": [\"Summary\", \"Evaluation\", \"Comparison\"], \"model_type\": \"regression\", \"attributes\": {\"section_titles\": [\"Schema\", \"Hyperparameters\", \"Training Summary\", \"Settings\", \"Highest Positive Coefficients\", \"Lowest Negative Coefficients\"], \"sections\": [[[\"Number of coefficients\", 219218], [\"Number of examples\", 133448], [\"Number of classes\", 2], [\"Number of feature columns\", 1], [\"Number of unpacked features\", 219217]], [[\"L1 penalty\", 0.0], [\"L2 penalty\", 0.01]], [[\"Solver\", \"lbfgs\"], [\"Solver iterations\", 10], [\"Solver status\", \"TERMINATED: Iteration limit reached.\"], [\"Training time (sec)\", 10.9016]], [[\"Log-likelihood\", 4956.6901]], [[\"word_count[pinkjeep]\", 13.5701], [\"word_count[(http://www.amazon.com/review/rhgg6qp7tdnhb/ref=cm_cr_pr_cmt?ie=utf8&asin;=b00318cla0&nodeid;)]\", 12.3088], [\"word_count[label/box.]\", 11.1774], [\"word_count[product.***]\", 11.064], [\"word_count[direct-pumping]\", 11.0531]], [[\"word_count[it.update:after]\", -18.3631], [\"word_count[5months.]\", -16.0906], [\"word_count[oldest.if]\", -15.9315], [\"word_count[maxima.]\", -15.8084], [\"word_count[(160.00)]\", -15.4512]]]}, \"evaluations\": [[\"test_data\", {\"roc_curve\": [{\"threshold\": 0.0, \"p\": 27976, \"fpr\": 1.0, \"tpr\": 1.0, \"n\": 5328}, {\"threshold\": 0.001, \"p\": 27976, \"fpr\": 0.7755255255255256, \"tpr\": 0.9963897626537032, \"n\": 5328}, {\"threshold\": 0.002, \"p\": 27976, \"fpr\": 0.7355480480480481, \"tpr\": 0.9953531598513011, \"n\": 5328}, {\"threshold\": 0.003, \"p\": 27976, \"fpr\": 0.7128378378378378, \"tpr\": 0.9947454961395482, \"n\": 5328}, {\"threshold\": 0.004, \"p\": 27976, \"fpr\": 0.6972597597597597, \"tpr\": 0.9942808121246783, \"n\": 5328}, {\"threshold\": 0.005, \"p\": 27976, \"fpr\": 0.6859984984984985, \"tpr\": 0.9939233628824707, \"n\": 5328}, {\"threshold\": 0.006, \"p\": 27976, \"fpr\": 0.6762387387387387, \"tpr\": 0.99342293394338, \"n\": 5328}, {\"threshold\": 0.007, \"p\": 27976, \"fpr\": 0.6657282282282282, \"tpr\": 0.9930654847011724, \"n\": 5328}, {\"threshold\": 0.008, \"p\": 27976, \"fpr\": 0.6554054054054054, \"tpr\": 0.9928152702316271, \"n\": 5328}, {\"threshold\": 0.009, \"p\": 27976, \"fpr\": 0.6480855855855856, \"tpr\": 0.9924935659136402, \"n\": 5328}, {\"threshold\": 0.01, \"p\": 27976, \"fpr\": 0.6394519519519519, \"tpr\": 0.9922433514440949, \"n\": 5328}, {\"threshold\": 0.011, \"p\": 27976, \"fpr\": 0.6325075075075075, \"tpr\": 0.9919573920503288, \"n\": 5328}, {\"threshold\": 0.012, \"p\": 27976, \"fpr\": 0.6270645645645646, \"tpr\": 0.991635687732342, \"n\": 5328}, {\"threshold\": 0.013, \"p\": 27976, \"fpr\": 0.6203078078078078, \"tpr\": 0.9913854732627967, \"n\": 5328}, {\"threshold\": 0.014, \"p\": 27976, \"fpr\": 0.6154279279279279, \"tpr\": 0.9911352587932514, \"n\": 5328}, {\"threshold\": 0.015, \"p\": 27976, \"fpr\": 0.6086711711711712, \"tpr\": 0.990885044323706, \"n\": 5328}, {\"threshold\": 0.016, \"p\": 27976, \"fpr\": 0.603978978978979, \"tpr\": 0.9905633400057192, \"n\": 5328}, {\"threshold\": 0.017, \"p\": 27976, \"fpr\": 0.6002252252252253, \"tpr\": 0.9903131255361739, \"n\": 5328}, {\"threshold\": 0.018, \"p\": 27976, \"fpr\": 0.5953453453453453, \"tpr\": 0.9901701458392909, \"n\": 5328}, {\"threshold\": 0.019, \"p\": 27976, \"fpr\": 0.5904654654654654, \"tpr\": 0.9900271661424078, \"n\": 5328}, {\"threshold\": 0.02, \"p\": 27976, \"fpr\": 0.585960960960961, \"tpr\": 0.9898126965970833, \"n\": 5328}, {\"threshold\": 0.021, \"p\": 27976, \"fpr\": 0.5822072072072072, \"tpr\": 0.989705461824421, \"n\": 5328}, {\"threshold\": 0.022, \"p\": 27976, \"fpr\": 0.5793918918918919, \"tpr\": 0.9894552473548756, \"n\": 5328}, {\"threshold\": 0.023, \"p\": 27976, \"fpr\": 0.5773273273273273, \"tpr\": 0.9893480125822133, \"n\": 5328}, {\"threshold\": 0.024, \"p\": 27976, \"fpr\": 0.5730105105105106, \"tpr\": 0.9892050328853302, \"n\": 5328}, {\"threshold\": 0.025, \"p\": 27976, \"fpr\": 0.5698198198198198, \"tpr\": 0.9890263082642264, \"n\": 5328}, {\"threshold\": 0.026, \"p\": 27976, \"fpr\": 0.5662537537537538, \"tpr\": 0.9889190734915642, \"n\": 5328}, {\"threshold\": 0.027, \"p\": 27976, \"fpr\": 0.5630630630630631, \"tpr\": 0.9886688590220188, \"n\": 5328}, {\"threshold\": 0.028, \"p\": 27976, \"fpr\": 0.5602477477477478, \"tpr\": 0.988490134400915, \"n\": 5328}, {\"threshold\": 0.029, \"p\": 27976, \"fpr\": 0.5566816816816816, \"tpr\": 0.988347154704032, \"n\": 5328}, {\"threshold\": 0.03, \"p\": 27976, \"fpr\": 0.5527402402402403, \"tpr\": 0.9880969402344867, \"n\": 5328}, {\"threshold\": 0.031, \"p\": 27976, \"fpr\": 0.5512387387387387, \"tpr\": 0.9879897054618244, \"n\": 5328}, {\"threshold\": 0.032, \"p\": 27976, \"fpr\": 0.547484984984985, \"tpr\": 0.9877394909922791, \"n\": 5328}, {\"threshold\": 0.033, \"p\": 27976, \"fpr\": 0.5433558558558559, \"tpr\": 0.987596511295396, \"n\": 5328}, {\"threshold\": 0.034, \"p\": 27976, \"fpr\": 0.541478978978979, \"tpr\": 0.9874892765227338, \"n\": 5328}, {\"threshold\": 0.035, \"p\": 27976, \"fpr\": 0.5396021021021021, \"tpr\": 0.987453531598513, \"n\": 5328}, {\"threshold\": 0.036, \"p\": 27976, \"fpr\": 0.5375375375375375, \"tpr\": 0.9873462968258507, \"n\": 5328}, {\"threshold\": 0.037, \"p\": 27976, \"fpr\": 0.5350975975975976, \"tpr\": 0.9872748069774092, \"n\": 5328}, {\"threshold\": 0.038, \"p\": 27976, \"fpr\": 0.5319069069069069, \"tpr\": 0.9869173577352016, \"n\": 5328}, {\"threshold\": 0.039, \"p\": 27976, \"fpr\": 0.5307807807807807, \"tpr\": 0.9867028881898771, \"n\": 5328}, {\"threshold\": 0.04, \"p\": 27976, \"fpr\": 0.5294669669669669, \"tpr\": 0.9865956534172148, \"n\": 5328}, {\"threshold\": 0.041, \"p\": 27976, \"fpr\": 0.5272147147147147, \"tpr\": 0.9865241635687733, \"n\": 5328}, {\"threshold\": 0.042, \"p\": 27976, \"fpr\": 0.5242117117117117, \"tpr\": 0.9863811838718902, \"n\": 5328}, {\"threshold\": 0.043, \"p\": 27976, \"fpr\": 0.5230855855855856, \"tpr\": 0.9862024592507864, \"n\": 5328}, {\"threshold\": 0.044, \"p\": 27976, \"fpr\": 0.5206456456456456, \"tpr\": 0.9860952244781241, \"n\": 5328}, {\"threshold\": 0.045, \"p\": 27976, \"fpr\": 0.5195195195195195, \"tpr\": 0.9859522447812411, \"n\": 5328}, {\"threshold\": 0.046, \"p\": 27976, \"fpr\": 0.5167042042042042, \"tpr\": 0.9859164998570203, \"n\": 5328}, {\"threshold\": 0.047, \"p\": 27976, \"fpr\": 0.5148273273273273, \"tpr\": 0.9857020303116958, \"n\": 5328}, {\"threshold\": 0.048, \"p\": 27976, \"fpr\": 0.512575075075075, \"tpr\": 0.9854875607663712, \"n\": 5328}, {\"threshold\": 0.049, \"p\": 27976, \"fpr\": 0.511448948948949, \"tpr\": 0.9853445810694881, \"n\": 5328}, {\"threshold\": 0.05, \"p\": 27976, \"fpr\": 0.5095720720720721, \"tpr\": 0.985201601372605, \"n\": 5328}, {\"threshold\": 0.051, \"p\": 27976, \"fpr\": 0.5063813813813813, \"tpr\": 0.9849871318272805, \"n\": 5328}, {\"threshold\": 0.052, \"p\": 27976, \"fpr\": 0.5037537537537538, \"tpr\": 0.9848441521303974, \"n\": 5328}, {\"threshold\": 0.053, \"p\": 27976, \"fpr\": 0.5020645645645646, \"tpr\": 0.9848084072061767, \"n\": 5328}, {\"threshold\": 0.054, \"p\": 27976, \"fpr\": 0.5, \"tpr\": 0.9846296825850729, \"n\": 5328}, {\"threshold\": 0.055, \"p\": 27976, \"fpr\": 0.4988738738738739, \"tpr\": 0.9845581927366314, \"n\": 5328}, {\"threshold\": 0.056, \"p\": 27976, \"fpr\": 0.4964339339339339, \"tpr\": 0.9845224478124106, \"n\": 5328}, {\"threshold\": 0.057, \"p\": 27976, \"fpr\": 0.49436936936936937, \"tpr\": 0.984307978267086, \"n\": 5328}, {\"threshold\": 0.058, \"p\": 27976, \"fpr\": 0.49211711711711714, \"tpr\": 0.984164998570203, \"n\": 5328}, {\"threshold\": 0.059, \"p\": 27976, \"fpr\": 0.49099099099099097, \"tpr\": 0.98402201887332, \"n\": 5328}, {\"threshold\": 0.06, \"p\": 27976, \"fpr\": 0.48855105105105107, \"tpr\": 0.9839862739490992, \"n\": 5328}, {\"threshold\": 0.061, \"p\": 27976, \"fpr\": 0.4864864864864865, \"tpr\": 0.9838432942522162, \"n\": 5328}, {\"threshold\": 0.062, \"p\": 27976, \"fpr\": 0.48460960960960964, \"tpr\": 0.9838075493279954, \"n\": 5328}, {\"threshold\": 0.063, \"p\": 27976, \"fpr\": 0.4832957957957958, \"tpr\": 0.9837360594795539, \"n\": 5328}, {\"threshold\": 0.064, \"p\": 27976, \"fpr\": 0.4821696696696697, \"tpr\": 0.9835930797826709, \"n\": 5328}, {\"threshold\": 0.065, \"p\": 27976, \"fpr\": 0.48085585585585583, \"tpr\": 0.9835930797826709, \"n\": 5328}, {\"threshold\": 0.066, \"p\": 27976, \"fpr\": 0.4802927927927928, \"tpr\": 0.9835930797826709, \"n\": 5328}, {\"threshold\": 0.067, \"p\": 27976, \"fpr\": 0.47954204204204204, \"tpr\": 0.9835215899342293, \"n\": 5328}, {\"threshold\": 0.068, \"p\": 27976, \"fpr\": 0.4784159159159159, \"tpr\": 0.9833428653131255, \"n\": 5328}, {\"threshold\": 0.069, \"p\": 27976, \"fpr\": 0.4772897897897898, \"tpr\": 0.9833071203889048, \"n\": 5328}, {\"threshold\": 0.07, \"p\": 27976, \"fpr\": 0.47653903903903905, \"tpr\": 0.9832356305404633, \"n\": 5328}, {\"threshold\": 0.071, \"p\": 27976, \"fpr\": 0.4752252252252252, \"tpr\": 0.9831998856162425, \"n\": 5328}, {\"threshold\": 0.072, \"p\": 27976, \"fpr\": 0.4739114114114114, \"tpr\": 0.9831998856162425, \"n\": 5328}, {\"threshold\": 0.073, \"p\": 27976, \"fpr\": 0.47203453453453453, \"tpr\": 0.9831641406920217, \"n\": 5328}, {\"threshold\": 0.074, \"p\": 27976, \"fpr\": 0.470533033033033, \"tpr\": 0.9830569059193595, \"n\": 5328}, {\"threshold\": 0.075, \"p\": 27976, \"fpr\": 0.46865615615615613, \"tpr\": 0.9829496711466972, \"n\": 5328}, {\"threshold\": 0.076, \"p\": 27976, \"fpr\": 0.4677177177177177, \"tpr\": 0.9827709465255934, \"n\": 5328}, {\"threshold\": 0.077, \"p\": 27976, \"fpr\": 0.4664039039039039, \"tpr\": 0.9827352016013726, \"n\": 5328}, {\"threshold\": 0.078, \"p\": 27976, \"fpr\": 0.46546546546546547, \"tpr\": 0.9824492422076065, \"n\": 5328}, {\"threshold\": 0.079, \"p\": 27976, \"fpr\": 0.46452702702702703, \"tpr\": 0.9824492422076065, \"n\": 5328}, {\"threshold\": 0.08, \"p\": 27976, \"fpr\": 0.4635885885885886, \"tpr\": 0.9823420074349443, \"n\": 5328}, {\"threshold\": 0.081, \"p\": 27976, \"fpr\": 0.46283783783783783, \"tpr\": 0.9823062625107235, \"n\": 5328}, {\"threshold\": 0.082, \"p\": 27976, \"fpr\": 0.46133633633633636, \"tpr\": 0.9822705175865027, \"n\": 5328}, {\"threshold\": 0.083, \"p\": 27976, \"fpr\": 0.45983483483483484, \"tpr\": 0.9820560480411782, \"n\": 5328}, {\"threshold\": 0.084, \"p\": 27976, \"fpr\": 0.45852102102102105, \"tpr\": 0.9819845581927367, \"n\": 5328}, {\"threshold\": 0.085, \"p\": 27976, \"fpr\": 0.45645645645645644, \"tpr\": 0.9819845581927367, \"n\": 5328}, {\"threshold\": 0.086, \"p\": 27976, \"fpr\": 0.455518018018018, \"tpr\": 0.9819488132685159, \"n\": 5328}, {\"threshold\": 0.087, \"p\": 27976, \"fpr\": 0.45401651651651653, \"tpr\": 0.9818773234200744, \"n\": 5328}, {\"threshold\": 0.088, \"p\": 27976, \"fpr\": 0.452515015015015, \"tpr\": 0.9816628538747498, \"n\": 5328}, {\"threshold\": 0.089, \"p\": 27976, \"fpr\": 0.4519519519519519, \"tpr\": 0.981484129253646, \"n\": 5328}, {\"threshold\": 0.09, \"p\": 27976, \"fpr\": 0.4510135135135135, \"tpr\": 0.9814126394052045, \"n\": 5328}, {\"threshold\": 0.091, \"p\": 27976, \"fpr\": 0.45007507507507505, \"tpr\": 0.9813768944809838, \"n\": 5328}, {\"threshold\": 0.092, \"p\": 27976, \"fpr\": 0.44894894894894893, \"tpr\": 0.9813768944809838, \"n\": 5328}, {\"threshold\": 0.093, \"p\": 27976, \"fpr\": 0.44763513513513514, \"tpr\": 0.9812339147841006, \"n\": 5328}, {\"threshold\": 0.094, \"p\": 27976, \"fpr\": 0.4468843843843844, \"tpr\": 0.9811624249356591, \"n\": 5328}, {\"threshold\": 0.095, \"p\": 27976, \"fpr\": 0.44594594594594594, \"tpr\": 0.9810551901629968, \"n\": 5328}, {\"threshold\": 0.096, \"p\": 27976, \"fpr\": 0.4450075075075075, \"tpr\": 0.9809479553903345, \"n\": 5328}, {\"threshold\": 0.097, \"p\": 27976, \"fpr\": 0.44425675675675674, \"tpr\": 0.9809122104661138, \"n\": 5328}, {\"threshold\": 0.098, \"p\": 27976, \"fpr\": 0.443506006006006, \"tpr\": 0.9806977409207892, \"n\": 5328}, {\"threshold\": 0.099, \"p\": 27976, \"fpr\": 0.44256756756756754, \"tpr\": 0.9804832713754646, \"n\": 5328}, {\"threshold\": 0.1, \"p\": 27976, \"fpr\": 0.4416291291291291, \"tpr\": 0.9804117815270231, \"n\": 5328}, {\"threshold\": 0.101, \"p\": 27976, \"fpr\": 0.43975225225225223, \"tpr\": 0.9803402916785816, \"n\": 5328}, {\"threshold\": 0.102, \"p\": 27976, \"fpr\": 0.43825075075075076, \"tpr\": 0.9802330569059193, \"n\": 5328}, {\"threshold\": 0.103, \"p\": 27976, \"fpr\": 0.4375, \"tpr\": 0.9801973119816986, \"n\": 5328}, {\"threshold\": 0.104, \"p\": 27976, \"fpr\": 0.4363738738738739, \"tpr\": 0.9800185873605948, \"n\": 5328}, {\"threshold\": 0.105, \"p\": 27976, \"fpr\": 0.4359984984984985, \"tpr\": 0.979839862739491, \"n\": 5328}, {\"threshold\": 0.106, \"p\": 27976, \"fpr\": 0.43430930930930933, \"tpr\": 0.9796968830426079, \"n\": 5328}, {\"threshold\": 0.107, \"p\": 27976, \"fpr\": 0.43318318318318316, \"tpr\": 0.9796611381183872, \"n\": 5328}, {\"threshold\": 0.108, \"p\": 27976, \"fpr\": 0.43262012012012013, \"tpr\": 0.9795896482699457, \"n\": 5328}, {\"threshold\": 0.109, \"p\": 27976, \"fpr\": 0.431493993993994, \"tpr\": 0.9794109236488419, \"n\": 5328}, {\"threshold\": 0.11, \"p\": 27976, \"fpr\": 0.43074324324324326, \"tpr\": 0.9793036888761796, \"n\": 5328}, {\"threshold\": 0.111, \"p\": 27976, \"fpr\": 0.42924174174174173, \"tpr\": 0.9793036888761796, \"n\": 5328}, {\"threshold\": 0.112, \"p\": 27976, \"fpr\": 0.4286786786786787, \"tpr\": 0.9791607091792965, \"n\": 5328}, {\"threshold\": 0.113, \"p\": 27976, \"fpr\": 0.42792792792792794, \"tpr\": 0.9790177294824135, \"n\": 5328}, {\"threshold\": 0.114, \"p\": 27976, \"fpr\": 0.4271771771771772, \"tpr\": 0.9789819845581927, \"n\": 5328}, {\"threshold\": 0.115, \"p\": 27976, \"fpr\": 0.42567567567567566, \"tpr\": 0.9788747497855305, \"n\": 5328}, {\"threshold\": 0.116, \"p\": 27976, \"fpr\": 0.4247372372372372, \"tpr\": 0.9788390048613097, \"n\": 5328}, {\"threshold\": 0.117, \"p\": 27976, \"fpr\": 0.4241741741741742, \"tpr\": 0.9787317700886474, \"n\": 5328}, {\"threshold\": 0.118, \"p\": 27976, \"fpr\": 0.4239864864864865, \"tpr\": 0.9786602802402059, \"n\": 5328}, {\"threshold\": 0.119, \"p\": 27976, \"fpr\": 0.42323573573573575, \"tpr\": 0.9786245353159851, \"n\": 5328}, {\"threshold\": 0.12, \"p\": 27976, \"fpr\": 0.422484984984985, \"tpr\": 0.9785530454675436, \"n\": 5328}, {\"threshold\": 0.121, \"p\": 27976, \"fpr\": 0.4219219219219219, \"tpr\": 0.9783028309979983, \"n\": 5328}, {\"threshold\": 0.122, \"p\": 27976, \"fpr\": 0.4219219219219219, \"tpr\": 0.978195596225336, \"n\": 5328}, {\"threshold\": 0.123, \"p\": 27976, \"fpr\": 0.42173423423423423, \"tpr\": 0.9781241063768945, \"n\": 5328}, {\"threshold\": 0.124, \"p\": 27976, \"fpr\": 0.4206081081081081, \"tpr\": 0.9780168716042322, \"n\": 5328}, {\"threshold\": 0.125, \"p\": 27976, \"fpr\": 0.42004504504504503, \"tpr\": 0.9779811266800115, \"n\": 5328}, {\"threshold\": 0.126, \"p\": 27976, \"fpr\": 0.4191066066066066, \"tpr\": 0.9779811266800115, \"n\": 5328}, {\"threshold\": 0.127, \"p\": 27976, \"fpr\": 0.41835585585585583, \"tpr\": 0.9778024020589077, \"n\": 5328}, {\"threshold\": 0.128, \"p\": 27976, \"fpr\": 0.4176051051051051, \"tpr\": 0.9777666571346869, \"n\": 5328}, {\"threshold\": 0.129, \"p\": 27976, \"fpr\": 0.41704204204204204, \"tpr\": 0.9775879325135831, \"n\": 5328}, {\"threshold\": 0.13, \"p\": 27976, \"fpr\": 0.4159159159159159, \"tpr\": 0.9773734629682586, \"n\": 5328}, {\"threshold\": 0.131, \"p\": 27976, \"fpr\": 0.41535285285285284, \"tpr\": 0.9773377180440378, \"n\": 5328}, {\"threshold\": 0.132, \"p\": 27976, \"fpr\": 0.41403903903903905, \"tpr\": 0.9771947383471548, \"n\": 5328}, {\"threshold\": 0.133, \"p\": 27976, \"fpr\": 0.41347597597597596, \"tpr\": 0.9771232484987132, \"n\": 5328}, {\"threshold\": 0.134, \"p\": 27976, \"fpr\": 0.41234984984984985, \"tpr\": 0.9770160137260508, \"n\": 5328}, {\"threshold\": 0.135, \"p\": 27976, \"fpr\": 0.41066066066066065, \"tpr\": 0.9769087789533886, \"n\": 5328}, {\"threshold\": 0.136, \"p\": 27976, \"fpr\": 0.4099099099099099, \"tpr\": 0.9769087789533886, \"n\": 5328}, {\"threshold\": 0.137, \"p\": 27976, \"fpr\": 0.40878378378378377, \"tpr\": 0.9766585644838433, \"n\": 5328}, {\"threshold\": 0.138, \"p\": 27976, \"fpr\": 0.40822072072072074, \"tpr\": 0.9766228195596225, \"n\": 5328}, {\"threshold\": 0.139, \"p\": 27976, \"fpr\": 0.4072822822822823, \"tpr\": 0.9765870746354017, \"n\": 5328}, {\"threshold\": 0.14, \"p\": 27976, \"fpr\": 0.40709459459459457, \"tpr\": 0.976551329711181, \"n\": 5328}, {\"threshold\": 0.141, \"p\": 27976, \"fpr\": 0.4069069069069069, \"tpr\": 0.9765155847869602, \"n\": 5328}, {\"threshold\": 0.142, \"p\": 27976, \"fpr\": 0.40615615615615613, \"tpr\": 0.9764798398627395, \"n\": 5328}, {\"threshold\": 0.143, \"p\": 27976, \"fpr\": 0.4052177177177177, \"tpr\": 0.9764440949385187, \"n\": 5328}, {\"threshold\": 0.144, \"p\": 27976, \"fpr\": 0.40484234234234234, \"tpr\": 0.9764440949385187, \"n\": 5328}, {\"threshold\": 0.145, \"p\": 27976, \"fpr\": 0.40315315315315314, \"tpr\": 0.9764083500142979, \"n\": 5328}, {\"threshold\": 0.146, \"p\": 27976, \"fpr\": 0.4024024024024024, \"tpr\": 0.9763368601658564, \"n\": 5328}, {\"threshold\": 0.147, \"p\": 27976, \"fpr\": 0.40127627627627627, \"tpr\": 0.9762653703174149, \"n\": 5328}, {\"threshold\": 0.148, \"p\": 27976, \"fpr\": 0.4010885885885886, \"tpr\": 0.9761581355447526, \"n\": 5328}, {\"threshold\": 0.149, \"p\": 27976, \"fpr\": 0.4005255255255255, \"tpr\": 0.9761223906205319, \"n\": 5328}, {\"threshold\": 0.15, \"p\": 27976, \"fpr\": 0.3999624624624625, \"tpr\": 0.9760866456963111, \"n\": 5328}, {\"threshold\": 0.151, \"p\": 27976, \"fpr\": 0.39883633633633636, \"tpr\": 0.9760509007720903, \"n\": 5328}, {\"threshold\": 0.152, \"p\": 27976, \"fpr\": 0.39883633633633636, \"tpr\": 0.9759794109236488, \"n\": 5328}, {\"threshold\": 0.153, \"p\": 27976, \"fpr\": 0.3982732732732733, \"tpr\": 0.9758364312267658, \"n\": 5328}, {\"threshold\": 0.154, \"p\": 27976, \"fpr\": 0.39714714714714716, \"tpr\": 0.9757649413783243, \"n\": 5328}, {\"threshold\": 0.155, \"p\": 27976, \"fpr\": 0.39677177177177175, \"tpr\": 0.9756219616814412, \"n\": 5328}, {\"threshold\": 0.156, \"p\": 27976, \"fpr\": 0.3962087087087087, \"tpr\": 0.9755504718329997, \"n\": 5328}, {\"threshold\": 0.157, \"p\": 27976, \"fpr\": 0.39602102102102105, \"tpr\": 0.9754432370603374, \"n\": 5328}, {\"threshold\": 0.158, \"p\": 27976, \"fpr\": 0.3952702702702703, \"tpr\": 0.9753717472118959, \"n\": 5328}, {\"threshold\": 0.159, \"p\": 27976, \"fpr\": 0.3950825825825826, \"tpr\": 0.9753360022876751, \"n\": 5328}, {\"threshold\": 0.16, \"p\": 27976, \"fpr\": 0.3945195195195195, \"tpr\": 0.9753360022876751, \"n\": 5328}, {\"threshold\": 0.161, \"p\": 27976, \"fpr\": 0.39376876876876876, \"tpr\": 0.9752645124392336, \"n\": 5328}, {\"threshold\": 0.162, \"p\": 27976, \"fpr\": 0.39320570570570573, \"tpr\": 0.9751930225907921, \"n\": 5328}, {\"threshold\": 0.163, \"p\": 27976, \"fpr\": 0.3928303303303303, \"tpr\": 0.9751215327423506, \"n\": 5328}, {\"threshold\": 0.164, \"p\": 27976, \"fpr\": 0.3918918918918919, \"tpr\": 0.9751215327423506, \"n\": 5328}, {\"threshold\": 0.165, \"p\": 27976, \"fpr\": 0.3911411411411411, \"tpr\": 0.9750142979696883, \"n\": 5328}, {\"threshold\": 0.166, \"p\": 27976, \"fpr\": 0.39076576576576577, \"tpr\": 0.9749428081212468, \"n\": 5328}, {\"threshold\": 0.167, \"p\": 27976, \"fpr\": 0.39039039039039036, \"tpr\": 0.9748355733485845, \"n\": 5328}, {\"threshold\": 0.168, \"p\": 27976, \"fpr\": 0.390015015015015, \"tpr\": 0.974764083500143, \"n\": 5328}, {\"threshold\": 0.169, \"p\": 27976, \"fpr\": 0.38926426426426425, \"tpr\": 0.9746568487274807, \"n\": 5328}, {\"threshold\": 0.17, \"p\": 27976, \"fpr\": 0.38795045045045046, \"tpr\": 0.9745496139548184, \"n\": 5328}, {\"threshold\": 0.171, \"p\": 27976, \"fpr\": 0.38682432432432434, \"tpr\": 0.9745496139548184, \"n\": 5328}, {\"threshold\": 0.172, \"p\": 27976, \"fpr\": 0.38644894894894893, \"tpr\": 0.9744781241063769, \"n\": 5328}, {\"threshold\": 0.173, \"p\": 27976, \"fpr\": 0.3855105105105105, \"tpr\": 0.9744781241063769, \"n\": 5328}, {\"threshold\": 0.174, \"p\": 27976, \"fpr\": 0.3853228228228228, \"tpr\": 0.9744066342579354, \"n\": 5328}, {\"threshold\": 0.175, \"p\": 27976, \"fpr\": 0.38513513513513514, \"tpr\": 0.9742636545610524, \"n\": 5328}, {\"threshold\": 0.176, \"p\": 27976, \"fpr\": 0.3843843843843844, \"tpr\": 0.9742279096368316, \"n\": 5328}, {\"threshold\": 0.177, \"p\": 27976, \"fpr\": 0.38288288288288286, \"tpr\": 0.9741921647126108, \"n\": 5328}, {\"threshold\": 0.178, \"p\": 27976, \"fpr\": 0.38213213213213215, \"tpr\": 0.9740849299399486, \"n\": 5328}, {\"threshold\": 0.179, \"p\": 27976, \"fpr\": 0.38175675675675674, \"tpr\": 0.974013440091507, \"n\": 5328}, {\"threshold\": 0.18, \"p\": 27976, \"fpr\": 0.3808183183183183, \"tpr\": 0.9739062053188448, \"n\": 5328}, {\"threshold\": 0.181, \"p\": 27976, \"fpr\": 0.3802552552552553, \"tpr\": 0.9738347154704032, \"n\": 5328}, {\"threshold\": 0.182, \"p\": 27976, \"fpr\": 0.3795045045045045, \"tpr\": 0.9736202459250787, \"n\": 5328}, {\"threshold\": 0.183, \"p\": 27976, \"fpr\": 0.37875375375375375, \"tpr\": 0.9734772662281956, \"n\": 5328}, {\"threshold\": 0.184, \"p\": 27976, \"fpr\": 0.3783783783783784, \"tpr\": 0.9733342865313126, \"n\": 5328}, {\"threshold\": 0.185, \"p\": 27976, \"fpr\": 0.3778153153153153, \"tpr\": 0.9732985416070918, \"n\": 5328}, {\"threshold\": 0.186, \"p\": 27976, \"fpr\": 0.3768768768768769, \"tpr\": 0.9732985416070918, \"n\": 5328}, {\"threshold\": 0.187, \"p\": 27976, \"fpr\": 0.37575075075075076, \"tpr\": 0.9731555619102088, \"n\": 5328}, {\"threshold\": 0.188, \"p\": 27976, \"fpr\": 0.37575075075075076, \"tpr\": 0.973119816985988, \"n\": 5328}, {\"threshold\": 0.189, \"p\": 27976, \"fpr\": 0.37537537537537535, \"tpr\": 0.9730483271375465, \"n\": 5328}, {\"threshold\": 0.19, \"p\": 27976, \"fpr\": 0.375, \"tpr\": 0.9729053474406634, \"n\": 5328}, {\"threshold\": 0.191, \"p\": 27976, \"fpr\": 0.3744369369369369, \"tpr\": 0.9728338575922219, \"n\": 5328}, {\"threshold\": 0.192, \"p\": 27976, \"fpr\": 0.37424924924924924, \"tpr\": 0.9727266228195596, \"n\": 5328}, {\"threshold\": 0.193, \"p\": 27976, \"fpr\": 0.3736861861861862, \"tpr\": 0.972655132971118, \"n\": 5328}, {\"threshold\": 0.194, \"p\": 27976, \"fpr\": 0.3733108108108108, \"tpr\": 0.9725836431226765, \"n\": 5328}, {\"threshold\": 0.195, \"p\": 27976, \"fpr\": 0.37293543543543545, \"tpr\": 0.972512153274235, \"n\": 5328}, {\"threshold\": 0.196, \"p\": 27976, \"fpr\": 0.37256006006006004, \"tpr\": 0.9724406634257935, \"n\": 5328}, {\"threshold\": 0.197, \"p\": 27976, \"fpr\": 0.37237237237237236, \"tpr\": 0.9724049185015727, \"n\": 5328}, {\"threshold\": 0.198, \"p\": 27976, \"fpr\": 0.3721846846846847, \"tpr\": 0.972369173577352, \"n\": 5328}, {\"threshold\": 0.199, \"p\": 27976, \"fpr\": 0.37180930930930933, \"tpr\": 0.9722619388046897, \"n\": 5328}, {\"threshold\": 0.2, \"p\": 27976, \"fpr\": 0.37105855855855857, \"tpr\": 0.9722261938804689, \"n\": 5328}, {\"threshold\": 0.201, \"p\": 27976, \"fpr\": 0.3704954954954955, \"tpr\": 0.9721904489562482, \"n\": 5328}, {\"threshold\": 0.202, \"p\": 27976, \"fpr\": 0.37012012012012013, \"tpr\": 0.9721189591078067, \"n\": 5328}, {\"threshold\": 0.203, \"p\": 27976, \"fpr\": 0.37012012012012013, \"tpr\": 0.9720832141835859, \"n\": 5328}, {\"threshold\": 0.204, \"p\": 27976, \"fpr\": 0.36955705705705705, \"tpr\": 0.9719402344867029, \"n\": 5328}, {\"threshold\": 0.205, \"p\": 27976, \"fpr\": 0.36843093093093093, \"tpr\": 0.9717972547898198, \"n\": 5328}, {\"threshold\": 0.206, \"p\": 27976, \"fpr\": 0.3674924924924925, \"tpr\": 0.9717257649413783, \"n\": 5328}, {\"threshold\": 0.207, \"p\": 27976, \"fpr\": 0.36711711711711714, \"tpr\": 0.9717257649413783, \"n\": 5328}, {\"threshold\": 0.208, \"p\": 27976, \"fpr\": 0.36674174174174173, \"tpr\": 0.971618530168716, \"n\": 5328}, {\"threshold\": 0.209, \"p\": 27976, \"fpr\": 0.3658033033033033, \"tpr\": 0.9715470403202745, \"n\": 5328}, {\"threshold\": 0.21, \"p\": 27976, \"fpr\": 0.3644894894894895, \"tpr\": 0.971475550471833, \"n\": 5328}, {\"threshold\": 0.211, \"p\": 27976, \"fpr\": 0.3641141141141141, \"tpr\": 0.9713683156991707, \"n\": 5328}, {\"threshold\": 0.212, \"p\": 27976, \"fpr\": 0.3639264264264264, \"tpr\": 0.9711538461538461, \"n\": 5328}, {\"threshold\": 0.213, \"p\": 27976, \"fpr\": 0.3633633633633634, \"tpr\": 0.9711181012296254, \"n\": 5328}, {\"threshold\": 0.214, \"p\": 27976, \"fpr\": 0.362987987987988, \"tpr\": 0.9710108664569631, \"n\": 5328}, {\"threshold\": 0.215, \"p\": 27976, \"fpr\": 0.36242492492492495, \"tpr\": 0.9709751215327423, \"n\": 5328}, {\"threshold\": 0.216, \"p\": 27976, \"fpr\": 0.3614864864864865, \"tpr\": 0.9709036316843008, \"n\": 5328}, {\"threshold\": 0.217, \"p\": 27976, \"fpr\": 0.3611111111111111, \"tpr\": 0.9709036316843008, \"n\": 5328}, {\"threshold\": 0.218, \"p\": 27976, \"fpr\": 0.359984984984985, \"tpr\": 0.9709036316843008, \"n\": 5328}, {\"threshold\": 0.219, \"p\": 27976, \"fpr\": 0.35923423423423423, \"tpr\": 0.9708321418358593, \"n\": 5328}, {\"threshold\": 0.22, \"p\": 27976, \"fpr\": 0.3582957957957958, \"tpr\": 0.9707963969116385, \"n\": 5328}, {\"threshold\": 0.221, \"p\": 27976, \"fpr\": 0.3577327327327327, \"tpr\": 0.9706891621389763, \"n\": 5328}, {\"threshold\": 0.222, \"p\": 27976, \"fpr\": 0.35754504504504503, \"tpr\": 0.9706891621389763, \"n\": 5328}, {\"threshold\": 0.223, \"p\": 27976, \"fpr\": 0.3571696696696697, \"tpr\": 0.9704746925936517, \"n\": 5328}, {\"threshold\": 0.224, \"p\": 27976, \"fpr\": 0.35623123123123124, \"tpr\": 0.9704032027452102, \"n\": 5328}, {\"threshold\": 0.225, \"p\": 27976, \"fpr\": 0.3554804804804805, \"tpr\": 0.9703674578209894, \"n\": 5328}, {\"threshold\": 0.226, \"p\": 27976, \"fpr\": 0.3549174174174174, \"tpr\": 0.9702602230483272, \"n\": 5328}, {\"threshold\": 0.227, \"p\": 27976, \"fpr\": 0.3547297297297297, \"tpr\": 0.9700457535030026, \"n\": 5328}, {\"threshold\": 0.228, \"p\": 27976, \"fpr\": 0.3541666666666667, \"tpr\": 0.9699742636545611, \"n\": 5328}, {\"threshold\": 0.229, \"p\": 27976, \"fpr\": 0.3534159159159159, \"tpr\": 0.9699385187303403, \"n\": 5328}, {\"threshold\": 0.23, \"p\": 27976, \"fpr\": 0.3530405405405405, \"tpr\": 0.9699027738061196, \"n\": 5328}, {\"threshold\": 0.231, \"p\": 27976, \"fpr\": 0.3522897897897898, \"tpr\": 0.9697955390334573, \"n\": 5328}, {\"threshold\": 0.232, \"p\": 27976, \"fpr\": 0.35135135135135137, \"tpr\": 0.9697240491850158, \"n\": 5328}, {\"threshold\": 0.233, \"p\": 27976, \"fpr\": 0.35097597597597596, \"tpr\": 0.9696525593365742, \"n\": 5328}, {\"threshold\": 0.234, \"p\": 27976, \"fpr\": 0.3506006006006006, \"tpr\": 0.9696168144123535, \"n\": 5328}, {\"threshold\": 0.235, \"p\": 27976, \"fpr\": 0.35041291291291293, \"tpr\": 0.9696168144123535, \"n\": 5328}, {\"threshold\": 0.236, \"p\": 27976, \"fpr\": 0.3494744744744745, \"tpr\": 0.9695810694881327, \"n\": 5328}, {\"threshold\": 0.237, \"p\": 27976, \"fpr\": 0.3490990990990991, \"tpr\": 0.969545324563912, \"n\": 5328}, {\"threshold\": 0.238, \"p\": 27976, \"fpr\": 0.34816066066066065, \"tpr\": 0.9695095796396912, \"n\": 5328}, {\"threshold\": 0.239, \"p\": 27976, \"fpr\": 0.3475975975975976, \"tpr\": 0.9694738347154704, \"n\": 5328}, {\"threshold\": 0.24, \"p\": 27976, \"fpr\": 0.3474099099099099, \"tpr\": 0.9691878753217044, \"n\": 5328}, {\"threshold\": 0.241, \"p\": 27976, \"fpr\": 0.3466591591591592, \"tpr\": 0.9690806405490421, \"n\": 5328}, {\"threshold\": 0.242, \"p\": 27976, \"fpr\": 0.34647147147147145, \"tpr\": 0.9690091507006006, \"n\": 5328}, {\"threshold\": 0.243, \"p\": 27976, \"fpr\": 0.3460960960960961, \"tpr\": 0.9689019159279383, \"n\": 5328}, {\"threshold\": 0.244, \"p\": 27976, \"fpr\": 0.34572072072072074, \"tpr\": 0.9688304260794968, \"n\": 5328}, {\"threshold\": 0.245, \"p\": 27976, \"fpr\": 0.3447822822822823, \"tpr\": 0.9687231913068344, \"n\": 5328}, {\"threshold\": 0.246, \"p\": 27976, \"fpr\": 0.34403153153153154, \"tpr\": 0.9686517014583929, \"n\": 5328}, {\"threshold\": 0.247, \"p\": 27976, \"fpr\": 0.34403153153153154, \"tpr\": 0.9685802116099513, \"n\": 5328}, {\"threshold\": 0.248, \"p\": 27976, \"fpr\": 0.34365615615615613, \"tpr\": 0.9685444666857306, \"n\": 5328}, {\"threshold\": 0.249, \"p\": 27976, \"fpr\": 0.3432807807807808, \"tpr\": 0.9684729768372891, \"n\": 5328}, {\"threshold\": 0.25, \"p\": 27976, \"fpr\": 0.34290540540540543, \"tpr\": 0.9684372319130683, \"n\": 5328}, {\"threshold\": 0.251, \"p\": 27976, \"fpr\": 0.34253003003003, \"tpr\": 0.9684014869888475, \"n\": 5328}, {\"threshold\": 0.252, \"p\": 27976, \"fpr\": 0.34234234234234234, \"tpr\": 0.9682942522161853, \"n\": 5328}, {\"threshold\": 0.253, \"p\": 27976, \"fpr\": 0.341966966966967, \"tpr\": 0.9682227623677437, \"n\": 5328}, {\"threshold\": 0.254, \"p\": 27976, \"fpr\": 0.3415915915915916, \"tpr\": 0.968187017443523, \"n\": 5328}, {\"threshold\": 0.255, \"p\": 27976, \"fpr\": 0.34121621621621623, \"tpr\": 0.9681512725193022, \"n\": 5328}, {\"threshold\": 0.256, \"p\": 27976, \"fpr\": 0.34046546546546547, \"tpr\": 0.9680797826708607, \"n\": 5328}, {\"threshold\": 0.257, \"p\": 27976, \"fpr\": 0.3400900900900901, \"tpr\": 0.9680440377466399, \"n\": 5328}, {\"threshold\": 0.258, \"p\": 27976, \"fpr\": 0.3399024024024024, \"tpr\": 0.9679725478981984, \"n\": 5328}, {\"threshold\": 0.259, \"p\": 27976, \"fpr\": 0.33877627627627627, \"tpr\": 0.9679368029739777, \"n\": 5328}, {\"threshold\": 0.26, \"p\": 27976, \"fpr\": 0.3385885885885886, \"tpr\": 0.9678653131255361, \"n\": 5328}, {\"threshold\": 0.261, \"p\": 27976, \"fpr\": 0.3385885885885886, \"tpr\": 0.9677938232770946, \"n\": 5328}, {\"threshold\": 0.262, \"p\": 27976, \"fpr\": 0.33821321321321324, \"tpr\": 0.9677938232770946, \"n\": 5328}, {\"threshold\": 0.263, \"p\": 27976, \"fpr\": 0.33765015015015015, \"tpr\": 0.9677223334286531, \"n\": 5328}, {\"threshold\": 0.264, \"p\": 27976, \"fpr\": 0.3372747747747748, \"tpr\": 0.9676508435802116, \"n\": 5328}, {\"threshold\": 0.265, \"p\": 27976, \"fpr\": 0.3367117117117117, \"tpr\": 0.9676150986559908, \"n\": 5328}, {\"threshold\": 0.266, \"p\": 27976, \"fpr\": 0.33652402402402404, \"tpr\": 0.9674721189591078, \"n\": 5328}, {\"threshold\": 0.267, \"p\": 27976, \"fpr\": 0.3355855855855856, \"tpr\": 0.967436374034887, \"n\": 5328}, {\"threshold\": 0.268, \"p\": 27976, \"fpr\": 0.3352102102102102, \"tpr\": 0.9673291392622247, \"n\": 5328}, {\"threshold\": 0.269, \"p\": 27976, \"fpr\": 0.33483483483483484, \"tpr\": 0.9672576494137832, \"n\": 5328}, {\"threshold\": 0.27, \"p\": 27976, \"fpr\": 0.33464714714714716, \"tpr\": 0.9672576494137832, \"n\": 5328}, {\"threshold\": 0.271, \"p\": 27976, \"fpr\": 0.3344594594594595, \"tpr\": 0.9671146697169002, \"n\": 5328}, {\"threshold\": 0.272, \"p\": 27976, \"fpr\": 0.33352102102102105, \"tpr\": 0.9671146697169002, \"n\": 5328}, {\"threshold\": 0.273, \"p\": 27976, \"fpr\": 0.33295795795795796, \"tpr\": 0.9670789247926794, \"n\": 5328}, {\"threshold\": 0.274, \"p\": 27976, \"fpr\": 0.3323948948948949, \"tpr\": 0.9670074349442379, \"n\": 5328}, {\"threshold\": 0.275, \"p\": 27976, \"fpr\": 0.33183183183183185, \"tpr\": 0.9669002001715756, \"n\": 5328}, {\"threshold\": 0.276, \"p\": 27976, \"fpr\": 0.33145645645645644, \"tpr\": 0.9668644552473549, \"n\": 5328}, {\"threshold\": 0.277, \"p\": 27976, \"fpr\": 0.3310810810810811, \"tpr\": 0.9668644552473549, \"n\": 5328}, {\"threshold\": 0.278, \"p\": 27976, \"fpr\": 0.33070570570570573, \"tpr\": 0.9668287103231341, \"n\": 5328}, {\"threshold\": 0.279, \"p\": 27976, \"fpr\": 0.33014264264264265, \"tpr\": 0.9667929653989134, \"n\": 5328}, {\"threshold\": 0.28, \"p\": 27976, \"fpr\": 0.32995495495495497, \"tpr\": 0.9667929653989134, \"n\": 5328}, {\"threshold\": 0.281, \"p\": 27976, \"fpr\": 0.32957957957957956, \"tpr\": 0.9666857306262511, \"n\": 5328}, {\"threshold\": 0.282, \"p\": 27976, \"fpr\": 0.32957957957957956, \"tpr\": 0.9666499857020303, \"n\": 5328}, {\"threshold\": 0.283, \"p\": 27976, \"fpr\": 0.3286411411411411, \"tpr\": 0.966542750929368, \"n\": 5328}, {\"threshold\": 0.284, \"p\": 27976, \"fpr\": 0.32826576576576577, \"tpr\": 0.9664355161567058, \"n\": 5328}, {\"threshold\": 0.285, \"p\": 27976, \"fpr\": 0.3277027027027027, \"tpr\": 0.9663282813840435, \"n\": 5328}, {\"threshold\": 0.286, \"p\": 27976, \"fpr\": 0.327515015015015, \"tpr\": 0.9662925364598227, \"n\": 5328}, {\"threshold\": 0.287, \"p\": 27976, \"fpr\": 0.3269519519519519, \"tpr\": 0.9661495567629397, \"n\": 5328}, {\"threshold\": 0.288, \"p\": 27976, \"fpr\": 0.3263888888888889, \"tpr\": 0.9660423219902774, \"n\": 5328}, {\"threshold\": 0.289, \"p\": 27976, \"fpr\": 0.3260135135135135, \"tpr\": 0.9659350872176151, \"n\": 5328}, {\"threshold\": 0.29, \"p\": 27976, \"fpr\": 0.32563813813813813, \"tpr\": 0.9657921075207321, \"n\": 5328}, {\"threshold\": 0.291, \"p\": 27976, \"fpr\": 0.32507507507507505, \"tpr\": 0.9657206176722906, \"n\": 5328}, {\"threshold\": 0.292, \"p\": 27976, \"fpr\": 0.3246996996996997, \"tpr\": 0.9656133828996283, \"n\": 5328}, {\"threshold\": 0.293, \"p\": 27976, \"fpr\": 0.3241366366366366, \"tpr\": 0.9655418930511868, \"n\": 5328}, {\"threshold\": 0.294, \"p\": 27976, \"fpr\": 0.3241366366366366, \"tpr\": 0.9653989133543037, \"n\": 5328}, {\"threshold\": 0.295, \"p\": 27976, \"fpr\": 0.32394894894894893, \"tpr\": 0.9652916785816414, \"n\": 5328}, {\"threshold\": 0.296, \"p\": 27976, \"fpr\": 0.3233858858858859, \"tpr\": 0.9652559336574207, \"n\": 5328}, {\"threshold\": 0.297, \"p\": 27976, \"fpr\": 0.32263513513513514, \"tpr\": 0.9651844438089792, \"n\": 5328}, {\"threshold\": 0.298, \"p\": 27976, \"fpr\": 0.32244744744744747, \"tpr\": 0.9650772090363169, \"n\": 5328}, {\"threshold\": 0.299, \"p\": 27976, \"fpr\": 0.3218843843843844, \"tpr\": 0.9650414641120961, \"n\": 5328}, {\"threshold\": 0.3, \"p\": 27976, \"fpr\": 0.3216966966966967, \"tpr\": 0.9648984844152131, \"n\": 5328}, {\"threshold\": 0.301, \"p\": 27976, \"fpr\": 0.32094594594594594, \"tpr\": 0.9648627394909923, \"n\": 5328}, {\"threshold\": 0.302, \"p\": 27976, \"fpr\": 0.32075825825825827, \"tpr\": 0.96475550471833, \"n\": 5328}, {\"threshold\": 0.303, \"p\": 27976, \"fpr\": 0.3201951951951952, \"tpr\": 0.96475550471833, \"n\": 5328}, {\"threshold\": 0.304, \"p\": 27976, \"fpr\": 0.31963213213213215, \"tpr\": 0.9646840148698885, \"n\": 5328}, {\"threshold\": 0.305, \"p\": 27976, \"fpr\": 0.31906906906906907, \"tpr\": 0.964612525021447, \"n\": 5328}, {\"threshold\": 0.306, \"p\": 27976, \"fpr\": 0.318506006006006, \"tpr\": 0.9645052902487846, \"n\": 5328}, {\"threshold\": 0.307, \"p\": 27976, \"fpr\": 0.318506006006006, \"tpr\": 0.9644338004003431, \"n\": 5328}, {\"threshold\": 0.308, \"p\": 27976, \"fpr\": 0.31813063063063063, \"tpr\": 0.9644338004003431, \"n\": 5328}, {\"threshold\": 0.309, \"p\": 27976, \"fpr\": 0.3171921921921922, \"tpr\": 0.9644338004003431, \"n\": 5328}, {\"threshold\": 0.31, \"p\": 27976, \"fpr\": 0.3170045045045045, \"tpr\": 0.9642550757792393, \"n\": 5328}, {\"threshold\": 0.311, \"p\": 27976, \"fpr\": 0.31625375375375375, \"tpr\": 0.9642550757792393, \"n\": 5328}, {\"threshold\": 0.312, \"p\": 27976, \"fpr\": 0.3160660660660661, \"tpr\": 0.964147841006577, \"n\": 5328}, {\"threshold\": 0.313, \"p\": 27976, \"fpr\": 0.31569069069069067, \"tpr\": 0.9640406062339147, \"n\": 5328}, {\"threshold\": 0.314, \"p\": 27976, \"fpr\": 0.31512762762762764, \"tpr\": 0.9640406062339147, \"n\": 5328}, {\"threshold\": 0.315, \"p\": 27976, \"fpr\": 0.3140015015015015, \"tpr\": 0.964004861309694, \"n\": 5328}, {\"threshold\": 0.316, \"p\": 27976, \"fpr\": 0.3136261261261261, \"tpr\": 0.963861881612811, \"n\": 5328}, {\"threshold\": 0.317, \"p\": 27976, \"fpr\": 0.31287537537537535, \"tpr\": 0.9637189019159279, \"n\": 5328}, {\"threshold\": 0.318, \"p\": 27976, \"fpr\": 0.3126876876876877, \"tpr\": 0.9636474120674864, \"n\": 5328}, {\"threshold\": 0.319, \"p\": 27976, \"fpr\": 0.3123123123123123, \"tpr\": 0.9635401772948241, \"n\": 5328}, {\"threshold\": 0.32, \"p\": 27976, \"fpr\": 0.31212462462462465, \"tpr\": 0.9634686874463826, \"n\": 5328}, {\"threshold\": 0.321, \"p\": 27976, \"fpr\": 0.3119369369369369, \"tpr\": 0.9633614526737203, \"n\": 5328}, {\"threshold\": 0.322, \"p\": 27976, \"fpr\": 0.31156156156156156, \"tpr\": 0.9631469831283958, \"n\": 5328}, {\"threshold\": 0.323, \"p\": 27976, \"fpr\": 0.3113738738738739, \"tpr\": 0.9631469831283958, \"n\": 5328}, {\"threshold\": 0.324, \"p\": 27976, \"fpr\": 0.3111861861861862, \"tpr\": 0.9630754932799542, \"n\": 5328}, {\"threshold\": 0.325, \"p\": 27976, \"fpr\": 0.3108108108108108, \"tpr\": 0.9630040034315127, \"n\": 5328}, {\"threshold\": 0.326, \"p\": 27976, \"fpr\": 0.31043543543543545, \"tpr\": 0.9628967686588504, \"n\": 5328}, {\"threshold\": 0.327, \"p\": 27976, \"fpr\": 0.31006006006006004, \"tpr\": 0.9628610237346297, \"n\": 5328}, {\"threshold\": 0.328, \"p\": 27976, \"fpr\": 0.3089339339339339, \"tpr\": 0.9628252788104089, \"n\": 5328}, {\"threshold\": 0.329, \"p\": 27976, \"fpr\": 0.30818318318318316, \"tpr\": 0.9627895338861882, \"n\": 5328}, {\"threshold\": 0.33, \"p\": 27976, \"fpr\": 0.30743243243243246, \"tpr\": 0.9627537889619674, \"n\": 5328}, {\"threshold\": 0.331, \"p\": 27976, \"fpr\": 0.30705705705705705, \"tpr\": 0.9627180440377466, \"n\": 5328}, {\"threshold\": 0.332, \"p\": 27976, \"fpr\": 0.30686936936936937, \"tpr\": 0.9626108092650844, \"n\": 5328}, {\"threshold\": 0.333, \"p\": 27976, \"fpr\": 0.3066816816816817, \"tpr\": 0.9625393194166428, \"n\": 5328}, {\"threshold\": 0.334, \"p\": 27976, \"fpr\": 0.30574324324324326, \"tpr\": 0.9625393194166428, \"n\": 5328}, {\"threshold\": 0.335, \"p\": 27976, \"fpr\": 0.30536786786786785, \"tpr\": 0.9625035744924221, \"n\": 5328}, {\"threshold\": 0.336, \"p\": 27976, \"fpr\": 0.3049924924924925, \"tpr\": 0.9624678295682013, \"n\": 5328}, {\"threshold\": 0.337, \"p\": 27976, \"fpr\": 0.30461711711711714, \"tpr\": 0.9623248498713183, \"n\": 5328}, {\"threshold\": 0.338, \"p\": 27976, \"fpr\": 0.30424174174174173, \"tpr\": 0.962217615098656, \"n\": 5328}, {\"threshold\": 0.339, \"p\": 27976, \"fpr\": 0.3038663663663664, \"tpr\": 0.9621818701744352, \"n\": 5328}, {\"threshold\": 0.34, \"p\": 27976, \"fpr\": 0.30292792792792794, \"tpr\": 0.9620388904775522, \"n\": 5328}, {\"threshold\": 0.341, \"p\": 27976, \"fpr\": 0.30274024024024027, \"tpr\": 0.9619674006291107, \"n\": 5328}, {\"threshold\": 0.342, \"p\": 27976, \"fpr\": 0.3019894894894895, \"tpr\": 0.9618601658564484, \"n\": 5328}, {\"threshold\": 0.343, \"p\": 27976, \"fpr\": 0.3019894894894895, \"tpr\": 0.9617529310837861, \"n\": 5328}, {\"threshold\": 0.344, \"p\": 27976, \"fpr\": 0.30180180180180183, \"tpr\": 0.9615384615384616, \"n\": 5328}, {\"threshold\": 0.345, \"p\": 27976, \"fpr\": 0.30123873873873874, \"tpr\": 0.96146697169002, \"n\": 5328}, {\"threshold\": 0.346, \"p\": 27976, \"fpr\": 0.30105105105105107, \"tpr\": 0.9614312267657993, \"n\": 5328}, {\"threshold\": 0.347, \"p\": 27976, \"fpr\": 0.3003003003003003, \"tpr\": 0.9612882470689162, \"n\": 5328}, {\"threshold\": 0.348, \"p\": 27976, \"fpr\": 0.30011261261261263, \"tpr\": 0.9612525021446955, \"n\": 5328}, {\"threshold\": 0.349, \"p\": 27976, \"fpr\": 0.29992492492492495, \"tpr\": 0.961181012296254, \"n\": 5328}, {\"threshold\": 0.35, \"p\": 27976, \"fpr\": 0.29992492492492495, \"tpr\": 0.9611095224478124, \"n\": 5328}, {\"threshold\": 0.351, \"p\": 27976, \"fpr\": 0.2989864864864865, \"tpr\": 0.9610380325993709, \"n\": 5328}, {\"threshold\": 0.352, \"p\": 27976, \"fpr\": 0.2987987987987988, \"tpr\": 0.9610022876751502, \"n\": 5328}, {\"threshold\": 0.353, \"p\": 27976, \"fpr\": 0.29823573573573575, \"tpr\": 0.9608593079782671, \"n\": 5328}, {\"threshold\": 0.354, \"p\": 27976, \"fpr\": 0.2980480480480481, \"tpr\": 0.9607878181298256, \"n\": 5328}, {\"threshold\": 0.355, \"p\": 27976, \"fpr\": 0.2980480480480481, \"tpr\": 0.9606448384329426, \"n\": 5328}, {\"threshold\": 0.356, \"p\": 27976, \"fpr\": 0.29786036036036034, \"tpr\": 0.9606448384329426, \"n\": 5328}, {\"threshold\": 0.357, \"p\": 27976, \"fpr\": 0.2972972972972973, \"tpr\": 0.9605376036602803, \"n\": 5328}, {\"threshold\": 0.358, \"p\": 27976, \"fpr\": 0.29710960960960964, \"tpr\": 0.9604661138118388, \"n\": 5328}, {\"threshold\": 0.359, \"p\": 27976, \"fpr\": 0.29710960960960964, \"tpr\": 0.9603588790391764, \"n\": 5328}, {\"threshold\": 0.36, \"p\": 27976, \"fpr\": 0.2963588588588589, \"tpr\": 0.9603231341149556, \"n\": 5328}, {\"threshold\": 0.361, \"p\": 27976, \"fpr\": 0.29617117117117114, \"tpr\": 0.9602158993422933, \"n\": 5328}, {\"threshold\": 0.362, \"p\": 27976, \"fpr\": 0.29598348348348347, \"tpr\": 0.9601444094938518, \"n\": 5328}, {\"threshold\": 0.363, \"p\": 27976, \"fpr\": 0.2956081081081081, \"tpr\": 0.9600371747211895, \"n\": 5328}, {\"threshold\": 0.364, \"p\": 27976, \"fpr\": 0.2956081081081081, \"tpr\": 0.9600014297969688, \"n\": 5328}, {\"threshold\": 0.365, \"p\": 27976, \"fpr\": 0.2952327327327327, \"tpr\": 0.9599299399485273, \"n\": 5328}, {\"threshold\": 0.366, \"p\": 27976, \"fpr\": 0.29485735735735735, \"tpr\": 0.9598584501000857, \"n\": 5328}, {\"threshold\": 0.367, \"p\": 27976, \"fpr\": 0.294481981981982, \"tpr\": 0.959822705175865, \"n\": 5328}, {\"threshold\": 0.368, \"p\": 27976, \"fpr\": 0.294481981981982, \"tpr\": 0.9596439805547612, \"n\": 5328}, {\"threshold\": 0.369, \"p\": 27976, \"fpr\": 0.294481981981982, \"tpr\": 0.9594652559336574, \"n\": 5328}, {\"threshold\": 0.37, \"p\": 27976, \"fpr\": 0.29429429429429427, \"tpr\": 0.9594295110094366, \"n\": 5328}, {\"threshold\": 0.371, \"p\": 27976, \"fpr\": 0.29429429429429427, \"tpr\": 0.9593222762367744, \"n\": 5328}, {\"threshold\": 0.372, \"p\": 27976, \"fpr\": 0.2941066066066066, \"tpr\": 0.9592507863883328, \"n\": 5328}, {\"threshold\": 0.373, \"p\": 27976, \"fpr\": 0.29354354354354356, \"tpr\": 0.9592507863883328, \"n\": 5328}, {\"threshold\": 0.374, \"p\": 27976, \"fpr\": 0.29316816816816815, \"tpr\": 0.9592507863883328, \"n\": 5328}, {\"threshold\": 0.375, \"p\": 27976, \"fpr\": 0.2929804804804805, \"tpr\": 0.9591435516156706, \"n\": 5328}, {\"threshold\": 0.376, \"p\": 27976, \"fpr\": 0.2924174174174174, \"tpr\": 0.9591435516156706, \"n\": 5328}, {\"threshold\": 0.377, \"p\": 27976, \"fpr\": 0.2922297297297297, \"tpr\": 0.959072061767229, \"n\": 5328}, {\"threshold\": 0.378, \"p\": 27976, \"fpr\": 0.29185435435435436, \"tpr\": 0.958786102373463, \"n\": 5328}, {\"threshold\": 0.379, \"p\": 27976, \"fpr\": 0.2912912912912913, \"tpr\": 0.9587503574492422, \"n\": 5328}, {\"threshold\": 0.38, \"p\": 27976, \"fpr\": 0.2911036036036036, \"tpr\": 0.9586073777523592, \"n\": 5328}, {\"threshold\": 0.381, \"p\": 27976, \"fpr\": 0.2905405405405405, \"tpr\": 0.9585358879039176, \"n\": 5328}, {\"threshold\": 0.382, \"p\": 27976, \"fpr\": 0.2897897897897898, \"tpr\": 0.9584643980554761, \"n\": 5328}, {\"threshold\": 0.383, \"p\": 27976, \"fpr\": 0.2896021021021021, \"tpr\": 0.9582856734343723, \"n\": 5328}, {\"threshold\": 0.384, \"p\": 27976, \"fpr\": 0.2894144144144144, \"tpr\": 0.95817843866171, \"n\": 5328}, {\"threshold\": 0.385, \"p\": 27976, \"fpr\": 0.2894144144144144, \"tpr\": 0.9580712038890478, \"n\": 5328}, {\"threshold\": 0.386, \"p\": 27976, \"fpr\": 0.2882882882882883, \"tpr\": 0.958035458964827, \"n\": 5328}, {\"threshold\": 0.387, \"p\": 27976, \"fpr\": 0.28791291291291293, \"tpr\": 0.958035458964827, \"n\": 5328}, {\"threshold\": 0.388, \"p\": 27976, \"fpr\": 0.2869744744744745, \"tpr\": 0.957892479267944, \"n\": 5328}, {\"threshold\": 0.389, \"p\": 27976, \"fpr\": 0.28622372372372373, \"tpr\": 0.9578209894195024, \"n\": 5328}, {\"threshold\": 0.39, \"p\": 27976, \"fpr\": 0.28603603603603606, \"tpr\": 0.9577494995710609, \"n\": 5328}, {\"threshold\": 0.391, \"p\": 27976, \"fpr\": 0.28547297297297297, \"tpr\": 0.9576780097226194, \"n\": 5328}, {\"threshold\": 0.392, \"p\": 27976, \"fpr\": 0.2850975975975976, \"tpr\": 0.9575707749499571, \"n\": 5328}, {\"threshold\": 0.393, \"p\": 27976, \"fpr\": 0.28434684684684686, \"tpr\": 0.9573563054046326, \"n\": 5328}, {\"threshold\": 0.394, \"p\": 27976, \"fpr\": 0.28397147147147145, \"tpr\": 0.9573205604804118, \"n\": 5328}, {\"threshold\": 0.395, \"p\": 27976, \"fpr\": 0.28378378378378377, \"tpr\": 0.9571775807835288, \"n\": 5328}, {\"threshold\": 0.396, \"p\": 27976, \"fpr\": 0.2834084084084084, \"tpr\": 0.9571060909350873, \"n\": 5328}, {\"threshold\": 0.397, \"p\": 27976, \"fpr\": 0.28284534534534533, \"tpr\": 0.9570346010866457, \"n\": 5328}, {\"threshold\": 0.398, \"p\": 27976, \"fpr\": 0.28246996996997, \"tpr\": 0.9570346010866457, \"n\": 5328}, {\"threshold\": 0.399, \"p\": 27976, \"fpr\": 0.28246996996997, \"tpr\": 0.9569631112382042, \"n\": 5328}, {\"threshold\": 0.4, \"p\": 27976, \"fpr\": 0.2819069069069069, \"tpr\": 0.9568558764655419, \"n\": 5328}, {\"threshold\": 0.401, \"p\": 27976, \"fpr\": 0.28096846846846846, \"tpr\": 0.9567843866171004, \"n\": 5328}, {\"threshold\": 0.402, \"p\": 27976, \"fpr\": 0.28040540540540543, \"tpr\": 0.9566414069202174, \"n\": 5328}, {\"threshold\": 0.403, \"p\": 27976, \"fpr\": 0.27984234234234234, \"tpr\": 0.9565699170717759, \"n\": 5328}, {\"threshold\": 0.404, \"p\": 27976, \"fpr\": 0.27984234234234234, \"tpr\": 0.9565341721475551, \"n\": 5328}, {\"threshold\": 0.405, \"p\": 27976, \"fpr\": 0.27984234234234234, \"tpr\": 0.9565341721475551, \"n\": 5328}, {\"threshold\": 0.406, \"p\": 27976, \"fpr\": 0.27965465465465467, \"tpr\": 0.9564984272233343, \"n\": 5328}, {\"threshold\": 0.407, \"p\": 27976, \"fpr\": 0.279466966966967, \"tpr\": 0.9564984272233343, \"n\": 5328}, {\"threshold\": 0.408, \"p\": 27976, \"fpr\": 0.2789039039039039, \"tpr\": 0.9564269373748928, \"n\": 5328}, {\"threshold\": 0.409, \"p\": 27976, \"fpr\": 0.27852852852852855, \"tpr\": 0.9563554475264513, \"n\": 5328}, {\"threshold\": 0.41, \"p\": 27976, \"fpr\": 0.2783408408408408, \"tpr\": 0.9563554475264513, \"n\": 5328}, {\"threshold\": 0.411, \"p\": 27976, \"fpr\": 0.27815315315315314, \"tpr\": 0.9561052330569059, \"n\": 5328}, {\"threshold\": 0.412, \"p\": 27976, \"fpr\": 0.2775900900900901, \"tpr\": 0.9560694881326851, \"n\": 5328}, {\"threshold\": 0.413, \"p\": 27976, \"fpr\": 0.2772147147147147, \"tpr\": 0.9560694881326851, \"n\": 5328}, {\"threshold\": 0.414, \"p\": 27976, \"fpr\": 0.2766516516516517, \"tpr\": 0.9559979982842436, \"n\": 5328}, {\"threshold\": 0.415, \"p\": 27976, \"fpr\": 0.2766516516516517, \"tpr\": 0.9559622533600228, \"n\": 5328}, {\"threshold\": 0.416, \"p\": 27976, \"fpr\": 0.27627627627627627, \"tpr\": 0.9558907635115813, \"n\": 5328}, {\"threshold\": 0.417, \"p\": 27976, \"fpr\": 0.27571321321321324, \"tpr\": 0.9558550185873605, \"n\": 5328}, {\"threshold\": 0.418, \"p\": 27976, \"fpr\": 0.27571321321321324, \"tpr\": 0.9557477838146983, \"n\": 5328}, {\"threshold\": 0.419, \"p\": 27976, \"fpr\": 0.27533783783783783, \"tpr\": 0.955640549042036, \"n\": 5328}, {\"threshold\": 0.42, \"p\": 27976, \"fpr\": 0.27533783783783783, \"tpr\": 0.9556048041178152, \"n\": 5328}, {\"threshold\": 0.421, \"p\": 27976, \"fpr\": 0.2749624624624625, \"tpr\": 0.9555333142693737, \"n\": 5328}, {\"threshold\": 0.422, \"p\": 27976, \"fpr\": 0.2747747747747748, \"tpr\": 0.9554260794967114, \"n\": 5328}, {\"threshold\": 0.423, \"p\": 27976, \"fpr\": 0.27458708708708707, \"tpr\": 0.9553188447240492, \"n\": 5328}, {\"threshold\": 0.424, \"p\": 27976, \"fpr\": 0.27458708708708707, \"tpr\": 0.9552116099513869, \"n\": 5328}, {\"threshold\": 0.425, \"p\": 27976, \"fpr\": 0.2743993993993994, \"tpr\": 0.9551758650271661, \"n\": 5328}, {\"threshold\": 0.426, \"p\": 27976, \"fpr\": 0.27383633633633636, \"tpr\": 0.9551758650271661, \"n\": 5328}, {\"threshold\": 0.427, \"p\": 27976, \"fpr\": 0.2732732732732733, \"tpr\": 0.9551401201029454, \"n\": 5328}, {\"threshold\": 0.428, \"p\": 27976, \"fpr\": 0.27233483483483484, \"tpr\": 0.9549613954818416, \"n\": 5328}, {\"threshold\": 0.429, \"p\": 27976, \"fpr\": 0.27177177177177175, \"tpr\": 0.9548184157849585, \"n\": 5328}, {\"threshold\": 0.43, \"p\": 27976, \"fpr\": 0.2712087087087087, \"tpr\": 0.954746925936517, \"n\": 5328}, {\"threshold\": 0.431, \"p\": 27976, \"fpr\": 0.2708333333333333, \"tpr\": 0.9546754360880755, \"n\": 5328}, {\"threshold\": 0.432, \"p\": 27976, \"fpr\": 0.2700825825825826, \"tpr\": 0.954603946239634, \"n\": 5328}, {\"threshold\": 0.433, \"p\": 27976, \"fpr\": 0.2697072072072072, \"tpr\": 0.9545324563911924, \"n\": 5328}, {\"threshold\": 0.434, \"p\": 27976, \"fpr\": 0.2695195195195195, \"tpr\": 0.9544967114669717, \"n\": 5328}, {\"threshold\": 0.435, \"p\": 27976, \"fpr\": 0.26914414414414417, \"tpr\": 0.9544967114669717, \"n\": 5328}, {\"threshold\": 0.436, \"p\": 27976, \"fpr\": 0.26914414414414417, \"tpr\": 0.9543894766943094, \"n\": 5328}, {\"threshold\": 0.437, \"p\": 27976, \"fpr\": 0.26876876876876876, \"tpr\": 0.9542822419216471, \"n\": 5328}, {\"threshold\": 0.438, \"p\": 27976, \"fpr\": 0.26820570570570573, \"tpr\": 0.9542464969974264, \"n\": 5328}, {\"threshold\": 0.439, \"p\": 27976, \"fpr\": 0.26820570570570573, \"tpr\": 0.9542107520732056, \"n\": 5328}, {\"threshold\": 0.44, \"p\": 27976, \"fpr\": 0.26764264264264265, \"tpr\": 0.9540677723763226, \"n\": 5328}, {\"threshold\": 0.441, \"p\": 27976, \"fpr\": 0.26764264264264265, \"tpr\": 0.9539605376036603, \"n\": 5328}, {\"threshold\": 0.442, \"p\": 27976, \"fpr\": 0.26745495495495497, \"tpr\": 0.9538175579067772, \"n\": 5328}, {\"threshold\": 0.443, \"p\": 27976, \"fpr\": 0.2672672672672673, \"tpr\": 0.9537818129825565, \"n\": 5328}, {\"threshold\": 0.444, \"p\": 27976, \"fpr\": 0.26632882882882886, \"tpr\": 0.9537818129825565, \"n\": 5328}, {\"threshold\": 0.445, \"p\": 27976, \"fpr\": 0.26576576576576577, \"tpr\": 0.9537460680583357, \"n\": 5328}, {\"threshold\": 0.446, \"p\": 27976, \"fpr\": 0.26539039039039036, \"tpr\": 0.9536388332856734, \"n\": 5328}, {\"threshold\": 0.447, \"p\": 27976, \"fpr\": 0.265015015015015, \"tpr\": 0.9536030883614527, \"n\": 5328}, {\"threshold\": 0.448, \"p\": 27976, \"fpr\": 0.26482732732732733, \"tpr\": 0.9534243637403489, \"n\": 5328}, {\"threshold\": 0.449, \"p\": 27976, \"fpr\": 0.26463963963963966, \"tpr\": 0.9532813840434659, \"n\": 5328}, {\"threshold\": 0.45, \"p\": 27976, \"fpr\": 0.26407657657657657, \"tpr\": 0.9532098941950243, \"n\": 5328}, {\"threshold\": 0.451, \"p\": 27976, \"fpr\": 0.2633258258258258, \"tpr\": 0.953102659422362, \"n\": 5328}, {\"threshold\": 0.452, \"p\": 27976, \"fpr\": 0.2633258258258258, \"tpr\": 0.952959679725479, \"n\": 5328}, {\"threshold\": 0.453, \"p\": 27976, \"fpr\": 0.2627627627627628, \"tpr\": 0.9529239348012583, \"n\": 5328}, {\"threshold\": 0.454, \"p\": 27976, \"fpr\": 0.2627627627627628, \"tpr\": 0.9528524449528167, \"n\": 5328}, {\"threshold\": 0.455, \"p\": 27976, \"fpr\": 0.26257507507507505, \"tpr\": 0.9527809551043752, \"n\": 5328}, {\"threshold\": 0.456, \"p\": 27976, \"fpr\": 0.26238738738738737, \"tpr\": 0.9526737203317129, \"n\": 5328}, {\"threshold\": 0.457, \"p\": 27976, \"fpr\": 0.2621996996996997, \"tpr\": 0.9524949957106091, \"n\": 5328}, {\"threshold\": 0.458, \"p\": 27976, \"fpr\": 0.262012012012012, \"tpr\": 0.9523162710895053, \"n\": 5328}, {\"threshold\": 0.459, \"p\": 27976, \"fpr\": 0.262012012012012, \"tpr\": 0.9522090363168431, \"n\": 5328}, {\"threshold\": 0.46, \"p\": 27976, \"fpr\": 0.2616366366366366, \"tpr\": 0.9520303116957392, \"n\": 5328}, {\"threshold\": 0.461, \"p\": 27976, \"fpr\": 0.26144894894894893, \"tpr\": 0.9519588218472976, \"n\": 5328}, {\"threshold\": 0.462, \"p\": 27976, \"fpr\": 0.2608858858858859, \"tpr\": 0.9517086073777523, \"n\": 5328}, {\"threshold\": 0.463, \"p\": 27976, \"fpr\": 0.2605105105105105, \"tpr\": 0.9516371175293108, \"n\": 5328}, {\"threshold\": 0.464, \"p\": 27976, \"fpr\": 0.2603228228228228, \"tpr\": 0.9515656276808693, \"n\": 5328}, {\"threshold\": 0.465, \"p\": 27976, \"fpr\": 0.26013513513513514, \"tpr\": 0.9514226479839862, \"n\": 5328}, {\"threshold\": 0.466, \"p\": 27976, \"fpr\": 0.25994744744744747, \"tpr\": 0.9513869030597655, \"n\": 5328}, {\"threshold\": 0.467, \"p\": 27976, \"fpr\": 0.25957207207207206, \"tpr\": 0.951315413211324, \"n\": 5328}, {\"threshold\": 0.468, \"p\": 27976, \"fpr\": 0.2593843843843844, \"tpr\": 0.9511366885902202, \"n\": 5328}, {\"threshold\": 0.469, \"p\": 27976, \"fpr\": 0.2586336336336336, \"tpr\": 0.9511009436659994, \"n\": 5328}, {\"threshold\": 0.47, \"p\": 27976, \"fpr\": 0.25788288288288286, \"tpr\": 0.9511009436659994, \"n\": 5328}, {\"threshold\": 0.471, \"p\": 27976, \"fpr\": 0.25788288288288286, \"tpr\": 0.9510651987417786, \"n\": 5328}, {\"threshold\": 0.472, \"p\": 27976, \"fpr\": 0.25731981981981983, \"tpr\": 0.9508864741206748, \"n\": 5328}, {\"threshold\": 0.473, \"p\": 27976, \"fpr\": 0.25713213213213215, \"tpr\": 0.9507434944237918, \"n\": 5328}, {\"threshold\": 0.474, \"p\": 27976, \"fpr\": 0.2561936936936937, \"tpr\": 0.950707749499571, \"n\": 5328}, {\"threshold\": 0.475, \"p\": 27976, \"fpr\": 0.256006006006006, \"tpr\": 0.9506720045753503, \"n\": 5328}, {\"threshold\": 0.476, \"p\": 27976, \"fpr\": 0.256006006006006, \"tpr\": 0.9504932799542465, \"n\": 5328}, {\"threshold\": 0.477, \"p\": 27976, \"fpr\": 0.2558183183183183, \"tpr\": 0.9503860451815842, \"n\": 5328}, {\"threshold\": 0.478, \"p\": 27976, \"fpr\": 0.25506756756756754, \"tpr\": 0.9503145553331427, \"n\": 5328}, {\"threshold\": 0.479, \"p\": 27976, \"fpr\": 0.25506756756756754, \"tpr\": 0.9502430654847012, \"n\": 5328}, {\"threshold\": 0.48, \"p\": 27976, \"fpr\": 0.2546921921921922, \"tpr\": 0.9501000857878181, \"n\": 5328}, {\"threshold\": 0.481, \"p\": 27976, \"fpr\": 0.2541291291291291, \"tpr\": 0.9500285959393766, \"n\": 5328}, {\"threshold\": 0.482, \"p\": 27976, \"fpr\": 0.2533783783783784, \"tpr\": 0.9499928510151558, \"n\": 5328}, {\"threshold\": 0.483, \"p\": 27976, \"fpr\": 0.25319069069069067, \"tpr\": 0.9499213611667143, \"n\": 5328}, {\"threshold\": 0.484, \"p\": 27976, \"fpr\": 0.2528153153153153, \"tpr\": 0.9497068916213898, \"n\": 5328}, {\"threshold\": 0.485, \"p\": 27976, \"fpr\": 0.25243993993993996, \"tpr\": 0.9496354017729483, \"n\": 5328}, {\"threshold\": 0.486, \"p\": 27976, \"fpr\": 0.25243993993993996, \"tpr\": 0.9494924220760652, \"n\": 5328}, {\"threshold\": 0.487, \"p\": 27976, \"fpr\": 0.25225225225225223, \"tpr\": 0.9493136974549614, \"n\": 5328}, {\"threshold\": 0.488, \"p\": 27976, \"fpr\": 0.2516891891891892, \"tpr\": 0.9492779525307407, \"n\": 5328}, {\"threshold\": 0.489, \"p\": 27976, \"fpr\": 0.2516891891891892, \"tpr\": 0.9491707177580784, \"n\": 5328}, {\"threshold\": 0.49, \"p\": 27976, \"fpr\": 0.25093843843843844, \"tpr\": 0.9490992279096369, \"n\": 5328}, {\"threshold\": 0.491, \"p\": 27976, \"fpr\": 0.2505630630630631, \"tpr\": 0.9490634829854161, \"n\": 5328}, {\"threshold\": 0.492, \"p\": 27976, \"fpr\": 0.25037537537537535, \"tpr\": 0.9489562482127538, \"n\": 5328}, {\"threshold\": 0.493, \"p\": 27976, \"fpr\": 0.25037537537537535, \"tpr\": 0.9488847583643123, \"n\": 5328}, {\"threshold\": 0.494, \"p\": 27976, \"fpr\": 0.25037537537537535, \"tpr\": 0.9487417786674293, \"n\": 5328}, {\"threshold\": 0.495, \"p\": 27976, \"fpr\": 0.2501876876876877, \"tpr\": 0.948634543894767, \"n\": 5328}, {\"threshold\": 0.496, \"p\": 27976, \"fpr\": 0.2501876876876877, \"tpr\": 0.9484558192736632, \"n\": 5328}, {\"threshold\": 0.497, \"p\": 27976, \"fpr\": 0.25, \"tpr\": 0.9482770946525594, \"n\": 5328}, {\"threshold\": 0.498, \"p\": 27976, \"fpr\": 0.24981231231231232, \"tpr\": 0.9481341149556763, \"n\": 5328}, {\"threshold\": 0.499, \"p\": 27976, \"fpr\": 0.24981231231231232, \"tpr\": 0.9479553903345725, \"n\": 5328}, {\"threshold\": 0.5, \"p\": 27976, \"fpr\": 0.24924924924924924, \"tpr\": 0.9477766657134686, \"n\": 5328}, {\"threshold\": 0.501, \"p\": 27976, \"fpr\": 0.24887387387387389, \"tpr\": 0.9477051758650271, \"n\": 5328}, {\"threshold\": 0.502, \"p\": 27976, \"fpr\": 0.2484984984984985, \"tpr\": 0.9476694309408064, \"n\": 5328}, {\"threshold\": 0.503, \"p\": 27976, \"fpr\": 0.24793543543543545, \"tpr\": 0.9475621961681441, \"n\": 5328}, {\"threshold\": 0.504, \"p\": 27976, \"fpr\": 0.24756006006006007, \"tpr\": 0.947419216471261, \"n\": 5328}, {\"threshold\": 0.505, \"p\": 27976, \"fpr\": 0.24756006006006007, \"tpr\": 0.947276236774378, \"n\": 5328}, {\"threshold\": 0.506, \"p\": 27976, \"fpr\": 0.2468093093093093, \"tpr\": 0.9472047469259365, \"n\": 5328}, {\"threshold\": 0.507, \"p\": 27976, \"fpr\": 0.24643393393393392, \"tpr\": 0.9470975121532742, \"n\": 5328}, {\"threshold\": 0.508, \"p\": 27976, \"fpr\": 0.24643393393393392, \"tpr\": 0.9469545324563912, \"n\": 5328}, {\"threshold\": 0.509, \"p\": 27976, \"fpr\": 0.24605855855855857, \"tpr\": 0.9468472976837289, \"n\": 5328}, {\"threshold\": 0.51, \"p\": 27976, \"fpr\": 0.2453078078078078, \"tpr\": 0.9468115527595081, \"n\": 5328}, {\"threshold\": 0.511, \"p\": 27976, \"fpr\": 0.24474474474474475, \"tpr\": 0.9466328281384043, \"n\": 5328}, {\"threshold\": 0.512, \"p\": 27976, \"fpr\": 0.24455705705705705, \"tpr\": 0.9465970832141836, \"n\": 5328}, {\"threshold\": 0.513, \"p\": 27976, \"fpr\": 0.2441816816816817, \"tpr\": 0.946525593365742, \"n\": 5328}, {\"threshold\": 0.514, \"p\": 27976, \"fpr\": 0.2441816816816817, \"tpr\": 0.9463468687446382, \"n\": 5328}, {\"threshold\": 0.515, \"p\": 27976, \"fpr\": 0.24324324324324326, \"tpr\": 0.9463111238204175, \"n\": 5328}, {\"threshold\": 0.516, \"p\": 27976, \"fpr\": 0.24305555555555555, \"tpr\": 0.9462753788961967, \"n\": 5328}, {\"threshold\": 0.517, \"p\": 27976, \"fpr\": 0.24268018018018017, \"tpr\": 0.9461681441235344, \"n\": 5328}, {\"threshold\": 0.518, \"p\": 27976, \"fpr\": 0.24268018018018017, \"tpr\": 0.9461681441235344, \"n\": 5328}, {\"threshold\": 0.519, \"p\": 27976, \"fpr\": 0.24268018018018017, \"tpr\": 0.9460966542750929, \"n\": 5328}, {\"threshold\": 0.52, \"p\": 27976, \"fpr\": 0.2424924924924925, \"tpr\": 0.9460609093508722, \"n\": 5328}, {\"threshold\": 0.521, \"p\": 27976, \"fpr\": 0.24211711711711711, \"tpr\": 0.9459894195024307, \"n\": 5328}, {\"threshold\": 0.522, \"p\": 27976, \"fpr\": 0.24155405405405406, \"tpr\": 0.9458106948813269, \"n\": 5328}, {\"threshold\": 0.523, \"p\": 27976, \"fpr\": 0.24117867867867868, \"tpr\": 0.9457034601086646, \"n\": 5328}, {\"threshold\": 0.524, \"p\": 27976, \"fpr\": 0.24042792792792791, \"tpr\": 0.9455962253360023, \"n\": 5328}, {\"threshold\": 0.525, \"p\": 27976, \"fpr\": 0.23986486486486486, \"tpr\": 0.9454532456391193, \"n\": 5328}, {\"threshold\": 0.526, \"p\": 27976, \"fpr\": 0.23948948948948948, \"tpr\": 0.9453817557906777, \"n\": 5328}, {\"threshold\": 0.527, \"p\": 27976, \"fpr\": 0.2393018018018018, \"tpr\": 0.9452387760937947, \"n\": 5328}, {\"threshold\": 0.528, \"p\": 27976, \"fpr\": 0.23855105105105104, \"tpr\": 0.9451315413211324, \"n\": 5328}, {\"threshold\": 0.529, \"p\": 27976, \"fpr\": 0.23798798798798798, \"tpr\": 0.9450243065484701, \"n\": 5328}, {\"threshold\": 0.53, \"p\": 27976, \"fpr\": 0.2376126126126126, \"tpr\": 0.9449528167000286, \"n\": 5328}, {\"threshold\": 0.531, \"p\": 27976, \"fpr\": 0.2376126126126126, \"tpr\": 0.9448098370031456, \"n\": 5328}, {\"threshold\": 0.532, \"p\": 27976, \"fpr\": 0.23723723723723725, \"tpr\": 0.9448098370031456, \"n\": 5328}, {\"threshold\": 0.533, \"p\": 27976, \"fpr\": 0.23704954954954954, \"tpr\": 0.9447740920789248, \"n\": 5328}, {\"threshold\": 0.534, \"p\": 27976, \"fpr\": 0.23667417417417416, \"tpr\": 0.9447026022304833, \"n\": 5328}, {\"threshold\": 0.535, \"p\": 27976, \"fpr\": 0.23592342342342343, \"tpr\": 0.9445238776093795, \"n\": 5328}, {\"threshold\": 0.536, \"p\": 27976, \"fpr\": 0.23573573573573572, \"tpr\": 0.944452387760938, \"n\": 5328}, {\"threshold\": 0.537, \"p\": 27976, \"fpr\": 0.23554804804804805, \"tpr\": 0.9444166428367172, \"n\": 5328}, {\"threshold\": 0.538, \"p\": 27976, \"fpr\": 0.23554804804804805, \"tpr\": 0.9442736631398342, \"n\": 5328}, {\"threshold\": 0.539, \"p\": 27976, \"fpr\": 0.23536036036036037, \"tpr\": 0.9441664283671719, \"n\": 5328}, {\"threshold\": 0.54, \"p\": 27976, \"fpr\": 0.23517267267267267, \"tpr\": 0.9441306834429511, \"n\": 5328}, {\"threshold\": 0.541, \"p\": 27976, \"fpr\": 0.234984984984985, \"tpr\": 0.9440949385187304, \"n\": 5328}, {\"threshold\": 0.542, \"p\": 27976, \"fpr\": 0.234984984984985, \"tpr\": 0.9439519588218473, \"n\": 5328}, {\"threshold\": 0.543, \"p\": 27976, \"fpr\": 0.2346096096096096, \"tpr\": 0.9439162138976266, \"n\": 5328}, {\"threshold\": 0.544, \"p\": 27976, \"fpr\": 0.23404654654654655, \"tpr\": 0.9438447240491851, \"n\": 5328}, {\"threshold\": 0.545, \"p\": 27976, \"fpr\": 0.23404654654654655, \"tpr\": 0.9438089791249643, \"n\": 5328}, {\"threshold\": 0.546, \"p\": 27976, \"fpr\": 0.2332957957957958, \"tpr\": 0.9437017443523019, \"n\": 5328}, {\"threshold\": 0.547, \"p\": 27976, \"fpr\": 0.23310810810810811, \"tpr\": 0.9436302545038604, \"n\": 5328}, {\"threshold\": 0.548, \"p\": 27976, \"fpr\": 0.2329204204204204, \"tpr\": 0.9435587646554189, \"n\": 5328}, {\"threshold\": 0.549, \"p\": 27976, \"fpr\": 0.23235735735735735, \"tpr\": 0.9433800400343151, \"n\": 5328}, {\"threshold\": 0.55, \"p\": 27976, \"fpr\": 0.23198198198198197, \"tpr\": 0.9433085501858736, \"n\": 5328}, {\"threshold\": 0.551, \"p\": 27976, \"fpr\": 0.23160660660660662, \"tpr\": 0.9432013154132113, \"n\": 5328}, {\"threshold\": 0.552, \"p\": 27976, \"fpr\": 0.23160660660660662, \"tpr\": 0.9431298255647698, \"n\": 5328}, {\"threshold\": 0.553, \"p\": 27976, \"fpr\": 0.23123123123123124, \"tpr\": 0.9430583357163282, \"n\": 5328}, {\"threshold\": 0.554, \"p\": 27976, \"fpr\": 0.23048048048048048, \"tpr\": 0.9429868458678867, \"n\": 5328}, {\"threshold\": 0.555, \"p\": 27976, \"fpr\": 0.2301051051051051, \"tpr\": 0.9428796110952244, \"n\": 5328}, {\"threshold\": 0.556, \"p\": 27976, \"fpr\": 0.22954204204204204, \"tpr\": 0.9426651415498999, \"n\": 5328}, {\"threshold\": 0.557, \"p\": 27976, \"fpr\": 0.22916666666666666, \"tpr\": 0.9425221618530168, \"n\": 5328}, {\"threshold\": 0.558, \"p\": 27976, \"fpr\": 0.2286036036036036, \"tpr\": 0.9425221618530168, \"n\": 5328}, {\"threshold\": 0.559, \"p\": 27976, \"fpr\": 0.2286036036036036, \"tpr\": 0.9423791821561338, \"n\": 5328}, {\"threshold\": 0.56, \"p\": 27976, \"fpr\": 0.2286036036036036, \"tpr\": 0.9423791821561338, \"n\": 5328}, {\"threshold\": 0.561, \"p\": 27976, \"fpr\": 0.22841591591591592, \"tpr\": 0.9421647126108093, \"n\": 5328}, {\"threshold\": 0.562, \"p\": 27976, \"fpr\": 0.22785285285285287, \"tpr\": 0.9420217329139262, \"n\": 5328}, {\"threshold\": 0.563, \"p\": 27976, \"fpr\": 0.22728978978978978, \"tpr\": 0.9419502430654847, \"n\": 5328}, {\"threshold\": 0.564, \"p\": 27976, \"fpr\": 0.2271021021021021, \"tpr\": 0.9418787532170432, \"n\": 5328}, {\"threshold\": 0.565, \"p\": 27976, \"fpr\": 0.22672672672672672, \"tpr\": 0.9417000285959394, \"n\": 5328}, {\"threshold\": 0.566, \"p\": 27976, \"fpr\": 0.22653903903903905, \"tpr\": 0.9415927938232771, \"n\": 5328}, {\"threshold\": 0.567, \"p\": 27976, \"fpr\": 0.22635135135135134, \"tpr\": 0.9415927938232771, \"n\": 5328}, {\"threshold\": 0.568, \"p\": 27976, \"fpr\": 0.22578828828828829, \"tpr\": 0.9415570488990563, \"n\": 5328}, {\"threshold\": 0.569, \"p\": 27976, \"fpr\": 0.2254129129129129, \"tpr\": 0.9414140692021733, \"n\": 5328}, {\"threshold\": 0.57, \"p\": 27976, \"fpr\": 0.22522522522522523, \"tpr\": 0.941306834429511, \"n\": 5328}, {\"threshold\": 0.571, \"p\": 27976, \"fpr\": 0.22522522522522523, \"tpr\": 0.9412353445810695, \"n\": 5328}, {\"threshold\": 0.572, \"p\": 27976, \"fpr\": 0.22466216216216217, \"tpr\": 0.941163854732628, \"n\": 5328}, {\"threshold\": 0.573, \"p\": 27976, \"fpr\": 0.22466216216216217, \"tpr\": 0.9410923648841865, \"n\": 5328}, {\"threshold\": 0.574, \"p\": 27976, \"fpr\": 0.22447447447447447, \"tpr\": 0.9409493851873034, \"n\": 5328}, {\"threshold\": 0.575, \"p\": 27976, \"fpr\": 0.22372372372372373, \"tpr\": 0.9408778953388619, \"n\": 5328}, {\"threshold\": 0.576, \"p\": 27976, \"fpr\": 0.22334834834834835, \"tpr\": 0.9406991707177581, \"n\": 5328}, {\"threshold\": 0.577, \"p\": 27976, \"fpr\": 0.2227852852852853, \"tpr\": 0.9405919359450958, \"n\": 5328}, {\"threshold\": 0.578, \"p\": 27976, \"fpr\": 0.22240990990990991, \"tpr\": 0.9405561910208751, \"n\": 5328}, {\"threshold\": 0.579, \"p\": 27976, \"fpr\": 0.2222222222222222, \"tpr\": 0.9403774663997713, \"n\": 5328}, {\"threshold\": 0.58, \"p\": 27976, \"fpr\": 0.2222222222222222, \"tpr\": 0.940270231627109, \"n\": 5328}, {\"threshold\": 0.581, \"p\": 27976, \"fpr\": 0.22147147147147148, \"tpr\": 0.9401629968544467, \"n\": 5328}, {\"threshold\": 0.582, \"p\": 27976, \"fpr\": 0.22053303303303304, \"tpr\": 0.9400200171575637, \"n\": 5328}, {\"threshold\": 0.583, \"p\": 27976, \"fpr\": 0.22034534534534533, \"tpr\": 0.9399485273091222, \"n\": 5328}, {\"threshold\": 0.584, \"p\": 27976, \"fpr\": 0.22015765765765766, \"tpr\": 0.9399127823849014, \"n\": 5328}, {\"threshold\": 0.585, \"p\": 27976, \"fpr\": 0.21978228228228228, \"tpr\": 0.9398412925364599, \"n\": 5328}, {\"threshold\": 0.586, \"p\": 27976, \"fpr\": 0.2195945945945946, \"tpr\": 0.9397698026880184, \"n\": 5328}, {\"threshold\": 0.587, \"p\": 27976, \"fpr\": 0.21921921921921922, \"tpr\": 0.9397340577637976, \"n\": 5328}, {\"threshold\": 0.588, \"p\": 27976, \"fpr\": 0.21903153153153154, \"tpr\": 0.9396983128395768, \"n\": 5328}, {\"threshold\": 0.589, \"p\": 27976, \"fpr\": 0.21865615615615616, \"tpr\": 0.9396268229911353, \"n\": 5328}, {\"threshold\": 0.59, \"p\": 27976, \"fpr\": 0.21828078078078078, \"tpr\": 0.9394480983700314, \"n\": 5328}, {\"threshold\": 0.591, \"p\": 27976, \"fpr\": 0.2180930930930931, \"tpr\": 0.9394480983700314, \"n\": 5328}, {\"threshold\": 0.592, \"p\": 27976, \"fpr\": 0.2179054054054054, \"tpr\": 0.9394123534458106, \"n\": 5328}, {\"threshold\": 0.593, \"p\": 27976, \"fpr\": 0.21753003003003002, \"tpr\": 0.9393051186731484, \"n\": 5328}, {\"threshold\": 0.594, \"p\": 27976, \"fpr\": 0.21696696696696696, \"tpr\": 0.9392336288247068, \"n\": 5328}, {\"threshold\": 0.595, \"p\": 27976, \"fpr\": 0.21621621621621623, \"tpr\": 0.9390906491278238, \"n\": 5328}, {\"threshold\": 0.596, \"p\": 27976, \"fpr\": 0.21565315315315314, \"tpr\": 0.9390191592793823, \"n\": 5328}, {\"threshold\": 0.597, \"p\": 27976, \"fpr\": 0.2152777777777778, \"tpr\": 0.93891192450672, \"n\": 5328}, {\"threshold\": 0.598, \"p\": 27976, \"fpr\": 0.2147147147147147, \"tpr\": 0.9388404346582785, \"n\": 5328}, {\"threshold\": 0.599, \"p\": 27976, \"fpr\": 0.21433933933933935, \"tpr\": 0.938768944809837, \"n\": 5328}, {\"threshold\": 0.6, \"p\": 27976, \"fpr\": 0.21396396396396397, \"tpr\": 0.9386974549613954, \"n\": 5328}, {\"threshold\": 0.601, \"p\": 27976, \"fpr\": 0.2135885885885886, \"tpr\": 0.9385544752645124, \"n\": 5328}, {\"threshold\": 0.602, \"p\": 27976, \"fpr\": 0.21283783783783783, \"tpr\": 0.9384829854160709, \"n\": 5328}, {\"threshold\": 0.603, \"p\": 27976, \"fpr\": 0.2120870870870871, \"tpr\": 0.9384472404918501, \"n\": 5328}, {\"threshold\": 0.604, \"p\": 27976, \"fpr\": 0.21152402402402404, \"tpr\": 0.9384114955676294, \"n\": 5328}, {\"threshold\": 0.605, \"p\": 27976, \"fpr\": 0.21096096096096095, \"tpr\": 0.9382327709465256, \"n\": 5328}, {\"threshold\": 0.606, \"p\": 27976, \"fpr\": 0.21058558558558557, \"tpr\": 0.9380540463254218, \"n\": 5328}, {\"threshold\": 0.607, \"p\": 27976, \"fpr\": 0.21058558558558557, \"tpr\": 0.9379468115527595, \"n\": 5328}, {\"threshold\": 0.608, \"p\": 27976, \"fpr\": 0.21021021021021022, \"tpr\": 0.9378395767800972, \"n\": 5328}, {\"threshold\": 0.609, \"p\": 27976, \"fpr\": 0.21002252252252251, \"tpr\": 0.9376965970832142, \"n\": 5328}, {\"threshold\": 0.61, \"p\": 27976, \"fpr\": 0.21002252252252251, \"tpr\": 0.9376965970832142, \"n\": 5328}, {\"threshold\": 0.611, \"p\": 27976, \"fpr\": 0.20983483483483484, \"tpr\": 0.9375893623105519, \"n\": 5328}, {\"threshold\": 0.612, \"p\": 27976, \"fpr\": 0.20964714714714713, \"tpr\": 0.9374821275378896, \"n\": 5328}, {\"threshold\": 0.613, \"p\": 27976, \"fpr\": 0.20945945945945946, \"tpr\": 0.9373391478410066, \"n\": 5328}, {\"threshold\": 0.614, \"p\": 27976, \"fpr\": 0.20927177177177178, \"tpr\": 0.9372319130683443, \"n\": 5328}, {\"threshold\": 0.615, \"p\": 27976, \"fpr\": 0.20908408408408408, \"tpr\": 0.9370889333714613, \"n\": 5328}, {\"threshold\": 0.616, \"p\": 27976, \"fpr\": 0.2088963963963964, \"tpr\": 0.9369102087503575, \"n\": 5328}, {\"threshold\": 0.617, \"p\": 27976, \"fpr\": 0.2087087087087087, \"tpr\": 0.9367314841292537, \"n\": 5328}, {\"threshold\": 0.618, \"p\": 27976, \"fpr\": 0.2087087087087087, \"tpr\": 0.9365170145839291, \"n\": 5328}, {\"threshold\": 0.619, \"p\": 27976, \"fpr\": 0.20852102102102102, \"tpr\": 0.9363382899628253, \"n\": 5328}, {\"threshold\": 0.62, \"p\": 27976, \"fpr\": 0.20852102102102102, \"tpr\": 0.9362668001143838, \"n\": 5328}, {\"threshold\": 0.621, \"p\": 27976, \"fpr\": 0.20814564564564564, \"tpr\": 0.9360523305690592, \"n\": 5328}, {\"threshold\": 0.622, \"p\": 27976, \"fpr\": 0.20777027027027026, \"tpr\": 0.9358736059479554, \"n\": 5328}, {\"threshold\": 0.623, \"p\": 27976, \"fpr\": 0.20758258258258258, \"tpr\": 0.9358021160995139, \"n\": 5328}, {\"threshold\": 0.624, \"p\": 27976, \"fpr\": 0.20701951951951952, \"tpr\": 0.9356948813268516, \"n\": 5328}, {\"threshold\": 0.625, \"p\": 27976, \"fpr\": 0.20645645645645647, \"tpr\": 0.9355876465541894, \"n\": 5328}, {\"threshold\": 0.626, \"p\": 27976, \"fpr\": 0.20645645645645647, \"tpr\": 0.9354804117815271, \"n\": 5328}, {\"threshold\": 0.627, \"p\": 27976, \"fpr\": 0.20608108108108109, \"tpr\": 0.9353731770088647, \"n\": 5328}, {\"threshold\": 0.628, \"p\": 27976, \"fpr\": 0.2057057057057057, \"tpr\": 0.9351229625393194, \"n\": 5328}, {\"threshold\": 0.629, \"p\": 27976, \"fpr\": 0.20514264264264265, \"tpr\": 0.9349084929939948, \"n\": 5328}, {\"threshold\": 0.63, \"p\": 27976, \"fpr\": 0.20495495495495494, \"tpr\": 0.9346940234486703, \"n\": 5328}, {\"threshold\": 0.631, \"p\": 27976, \"fpr\": 0.20476726726726727, \"tpr\": 0.9343723191306834, \"n\": 5328}, {\"threshold\": 0.632, \"p\": 27976, \"fpr\": 0.2045795795795796, \"tpr\": 0.9343008292822419, \"n\": 5328}, {\"threshold\": 0.633, \"p\": 27976, \"fpr\": 0.2042042042042042, \"tpr\": 0.9341935945095796, \"n\": 5328}, {\"threshold\": 0.634, \"p\": 27976, \"fpr\": 0.2040165165165165, \"tpr\": 0.9340863597369173, \"n\": 5328}, {\"threshold\": 0.635, \"p\": 27976, \"fpr\": 0.20382882882882883, \"tpr\": 0.9339076351158135, \"n\": 5328}, {\"threshold\": 0.636, \"p\": 27976, \"fpr\": 0.20364114114114115, \"tpr\": 0.9337289104947097, \"n\": 5328}, {\"threshold\": 0.637, \"p\": 27976, \"fpr\": 0.2028903903903904, \"tpr\": 0.9336574206462682, \"n\": 5328}, {\"threshold\": 0.638, \"p\": 27976, \"fpr\": 0.20270270270270271, \"tpr\": 0.9335859307978267, \"n\": 5328}, {\"threshold\": 0.639, \"p\": 27976, \"fpr\": 0.202515015015015, \"tpr\": 0.9333714612525021, \"n\": 5328}, {\"threshold\": 0.64, \"p\": 27976, \"fpr\": 0.202515015015015, \"tpr\": 0.9332999714040606, \"n\": 5328}, {\"threshold\": 0.641, \"p\": 27976, \"fpr\": 0.20195195195195195, \"tpr\": 0.9331569917071776, \"n\": 5328}, {\"threshold\": 0.642, \"p\": 27976, \"fpr\": 0.2013888888888889, \"tpr\": 0.9330497569345153, \"n\": 5328}, {\"threshold\": 0.643, \"p\": 27976, \"fpr\": 0.20101351351351351, \"tpr\": 0.9329782670860738, \"n\": 5328}, {\"threshold\": 0.644, \"p\": 27976, \"fpr\": 0.20063813813813813, \"tpr\": 0.932942522161853, \"n\": 5328}, {\"threshold\": 0.645, \"p\": 27976, \"fpr\": 0.20063813813813813, \"tpr\": 0.9328352873891907, \"n\": 5328}, {\"threshold\": 0.646, \"p\": 27976, \"fpr\": 0.20045045045045046, \"tpr\": 0.9327280526165285, \"n\": 5328}, {\"threshold\": 0.647, \"p\": 27976, \"fpr\": 0.20045045045045046, \"tpr\": 0.9326208178438662, \"n\": 5328}, {\"threshold\": 0.648, \"p\": 27976, \"fpr\": 0.20026276276276275, \"tpr\": 0.9325850729196454, \"n\": 5328}, {\"threshold\": 0.649, \"p\": 27976, \"fpr\": 0.1998873873873874, \"tpr\": 0.9323348584501001, \"n\": 5328}, {\"threshold\": 0.65, \"p\": 27976, \"fpr\": 0.1996996996996997, \"tpr\": 0.9320846439805548, \"n\": 5328}, {\"threshold\": 0.651, \"p\": 27976, \"fpr\": 0.19857357357357358, \"tpr\": 0.931905919359451, \"n\": 5328}, {\"threshold\": 0.652, \"p\": 27976, \"fpr\": 0.19857357357357358, \"tpr\": 0.9316914498141264, \"n\": 5328}, {\"threshold\": 0.653, \"p\": 27976, \"fpr\": 0.1981981981981982, \"tpr\": 0.9316199599656849, \"n\": 5328}, {\"threshold\": 0.654, \"p\": 27976, \"fpr\": 0.19801051051051052, \"tpr\": 0.9315127251930226, \"n\": 5328}, {\"threshold\": 0.655, \"p\": 27976, \"fpr\": 0.19725975975975976, \"tpr\": 0.9313697454961396, \"n\": 5328}, {\"threshold\": 0.656, \"p\": 27976, \"fpr\": 0.19688438438438438, \"tpr\": 0.9312267657992565, \"n\": 5328}, {\"threshold\": 0.657, \"p\": 27976, \"fpr\": 0.196509009009009, \"tpr\": 0.9310837861023734, \"n\": 5328}, {\"threshold\": 0.658, \"p\": 27976, \"fpr\": 0.19594594594594594, \"tpr\": 0.9309408064054904, \"n\": 5328}, {\"threshold\": 0.659, \"p\": 27976, \"fpr\": 0.19575825825825827, \"tpr\": 0.9307978267086073, \"n\": 5328}, {\"threshold\": 0.66, \"p\": 27976, \"fpr\": 0.19557057057057056, \"tpr\": 0.9307620817843866, \"n\": 5328}, {\"threshold\": 0.661, \"p\": 27976, \"fpr\": 0.19519519519519518, \"tpr\": 0.9305833571632828, \"n\": 5328}, {\"threshold\": 0.662, \"p\": 27976, \"fpr\": 0.19519519519519518, \"tpr\": 0.9304403774663997, \"n\": 5328}, {\"threshold\": 0.663, \"p\": 27976, \"fpr\": 0.19481981981981983, \"tpr\": 0.9302616528452959, \"n\": 5328}, {\"threshold\": 0.664, \"p\": 27976, \"fpr\": 0.19481981981981983, \"tpr\": 0.9301544180726337, \"n\": 5328}, {\"threshold\": 0.665, \"p\": 27976, \"fpr\": 0.19463213213213212, \"tpr\": 0.9299399485273091, \"n\": 5328}, {\"threshold\": 0.666, \"p\": 27976, \"fpr\": 0.1938813813813814, \"tpr\": 0.9297969688304261, \"n\": 5328}, {\"threshold\": 0.667, \"p\": 27976, \"fpr\": 0.193506006006006, \"tpr\": 0.929653989133543, \"n\": 5328}, {\"threshold\": 0.668, \"p\": 27976, \"fpr\": 0.19294294294294295, \"tpr\": 0.9294752645124392, \"n\": 5328}, {\"threshold\": 0.669, \"p\": 27976, \"fpr\": 0.19256756756756757, \"tpr\": 0.9294037746639977, \"n\": 5328}, {\"threshold\": 0.67, \"p\": 27976, \"fpr\": 0.19237987987987987, \"tpr\": 0.9292607949671147, \"n\": 5328}, {\"threshold\": 0.671, \"p\": 27976, \"fpr\": 0.1921921921921922, \"tpr\": 0.9291535601944524, \"n\": 5328}, {\"threshold\": 0.672, \"p\": 27976, \"fpr\": 0.1921921921921922, \"tpr\": 0.9290463254217901, \"n\": 5328}, {\"threshold\": 0.673, \"p\": 27976, \"fpr\": 0.1921921921921922, \"tpr\": 0.9289390906491278, \"n\": 5328}, {\"threshold\": 0.674, \"p\": 27976, \"fpr\": 0.19125375375375375, \"tpr\": 0.9286888761795825, \"n\": 5328}, {\"threshold\": 0.675, \"p\": 27976, \"fpr\": 0.18693693693693694, \"tpr\": 0.9235773520160138, \"n\": 5328}, {\"threshold\": 0.676, \"p\": 27976, \"fpr\": 0.18637387387387389, \"tpr\": 0.9233628824706892, \"n\": 5328}, {\"threshold\": 0.677, \"p\": 27976, \"fpr\": 0.18562312312312312, \"tpr\": 0.9231484129253646, \"n\": 5328}, {\"threshold\": 0.678, \"p\": 27976, \"fpr\": 0.18524774774774774, \"tpr\": 0.9230411781527024, \"n\": 5328}, {\"threshold\": 0.679, \"p\": 27976, \"fpr\": 0.18506006006006007, \"tpr\": 0.9228981984558192, \"n\": 5328}, {\"threshold\": 0.68, \"p\": 27976, \"fpr\": 0.18487237237237236, \"tpr\": 0.9226837289104947, \"n\": 5328}, {\"threshold\": 0.681, \"p\": 27976, \"fpr\": 0.18468468468468469, \"tpr\": 0.9226479839862739, \"n\": 5328}, {\"threshold\": 0.682, \"p\": 27976, \"fpr\": 0.1843093093093093, \"tpr\": 0.9225050042893909, \"n\": 5328}, {\"threshold\": 0.683, \"p\": 27976, \"fpr\": 0.18412162162162163, \"tpr\": 0.9223977695167286, \"n\": 5328}, {\"threshold\": 0.684, \"p\": 27976, \"fpr\": 0.18299549549549549, \"tpr\": 0.9222905347440663, \"n\": 5328}, {\"threshold\": 0.685, \"p\": 27976, \"fpr\": 0.1828078078078078, \"tpr\": 0.9221475550471833, \"n\": 5328}, {\"threshold\": 0.686, \"p\": 27976, \"fpr\": 0.18262012012012013, \"tpr\": 0.9219688304260795, \"n\": 5328}, {\"threshold\": 0.687, \"p\": 27976, \"fpr\": 0.18205705705705705, \"tpr\": 0.921897340577638, \"n\": 5328}, {\"threshold\": 0.688, \"p\": 27976, \"fpr\": 0.18093093093093093, \"tpr\": 0.9216828710323134, \"n\": 5328}, {\"threshold\": 0.689, \"p\": 27976, \"fpr\": 0.18018018018018017, \"tpr\": 0.9214684014869888, \"n\": 5328}, {\"threshold\": 0.69, \"p\": 27976, \"fpr\": 0.18018018018018017, \"tpr\": 0.921289676865885, \"n\": 5328}, {\"threshold\": 0.691, \"p\": 27976, \"fpr\": 0.17942942942942944, \"tpr\": 0.921146697169002, \"n\": 5328}, {\"threshold\": 0.692, \"p\": 27976, \"fpr\": 0.17942942942942944, \"tpr\": 0.9209679725478982, \"n\": 5328}, {\"threshold\": 0.693, \"p\": 27976, \"fpr\": 0.17924174174174173, \"tpr\": 0.9207177580783529, \"n\": 5328}, {\"threshold\": 0.694, \"p\": 27976, \"fpr\": 0.17867867867867868, \"tpr\": 0.9205390334572491, \"n\": 5328}, {\"threshold\": 0.695, \"p\": 27976, \"fpr\": 0.17811561561561562, \"tpr\": 0.9203603088361453, \"n\": 5328}, {\"threshold\": 0.696, \"p\": 27976, \"fpr\": 0.17717717717717718, \"tpr\": 0.9203245639119245, \"n\": 5328}, {\"threshold\": 0.697, \"p\": 27976, \"fpr\": 0.17698948948948948, \"tpr\": 0.9200028595939377, \"n\": 5328}, {\"threshold\": 0.698, \"p\": 27976, \"fpr\": 0.17698948948948948, \"tpr\": 0.9198598798970546, \"n\": 5328}, {\"threshold\": 0.699, \"p\": 27976, \"fpr\": 0.17661411411411412, \"tpr\": 0.9197883900486131, \"n\": 5328}, {\"threshold\": 0.7, \"p\": 27976, \"fpr\": 0.17661411411411412, \"tpr\": 0.9196811552759508, \"n\": 5328}, {\"threshold\": 0.701, \"p\": 27976, \"fpr\": 0.17567567567567569, \"tpr\": 0.9196096654275093, \"n\": 5328}, {\"threshold\": 0.702, \"p\": 27976, \"fpr\": 0.17567567567567569, \"tpr\": 0.919359450957964, \"n\": 5328}, {\"threshold\": 0.703, \"p\": 27976, \"fpr\": 0.1753003003003003, \"tpr\": 0.919216471261081, \"n\": 5328}, {\"threshold\": 0.704, \"p\": 27976, \"fpr\": 0.1751126126126126, \"tpr\": 0.9191807263368602, \"n\": 5328}, {\"threshold\": 0.705, \"p\": 27976, \"fpr\": 0.17417417417417416, \"tpr\": 0.9191092364884187, \"n\": 5328}, {\"threshold\": 0.706, \"p\": 27976, \"fpr\": 0.1737987987987988, \"tpr\": 0.9188232770946526, \"n\": 5328}, {\"threshold\": 0.707, \"p\": 27976, \"fpr\": 0.17267267267267267, \"tpr\": 0.9185373177008864, \"n\": 5328}, {\"threshold\": 0.708, \"p\": 27976, \"fpr\": 0.172484984984985, \"tpr\": 0.9183585930797826, \"n\": 5328}, {\"threshold\": 0.709, \"p\": 27976, \"fpr\": 0.1721096096096096, \"tpr\": 0.9180726336860165, \"n\": 5328}, {\"threshold\": 0.71, \"p\": 27976, \"fpr\": 0.1709834834834835, \"tpr\": 0.9178224192164712, \"n\": 5328}, {\"threshold\": 0.711, \"p\": 27976, \"fpr\": 0.1707957957957958, \"tpr\": 0.9176436945953674, \"n\": 5328}, {\"threshold\": 0.712, \"p\": 27976, \"fpr\": 0.1707957957957958, \"tpr\": 0.9173934801258221, \"n\": 5328}, {\"threshold\": 0.713, \"p\": 27976, \"fpr\": 0.1704204204204204, \"tpr\": 0.9170717758078353, \"n\": 5328}, {\"threshold\": 0.714, \"p\": 27976, \"fpr\": 0.16948198198198197, \"tpr\": 0.9168930511867315, \"n\": 5328}, {\"threshold\": 0.715, \"p\": 27976, \"fpr\": 0.16910660660660662, \"tpr\": 0.9167143265656277, \"n\": 5328}, {\"threshold\": 0.716, \"p\": 27976, \"fpr\": 0.16891891891891891, \"tpr\": 0.9164998570203031, \"n\": 5328}, {\"threshold\": 0.717, \"p\": 27976, \"fpr\": 0.16854354354354353, \"tpr\": 0.9162496425507578, \"n\": 5328}, {\"threshold\": 0.718, \"p\": 27976, \"fpr\": 0.16798048048048048, \"tpr\": 0.9161066628538748, \"n\": 5328}, {\"threshold\": 0.719, \"p\": 27976, \"fpr\": 0.1676051051051051, \"tpr\": 0.9160351730054332, \"n\": 5328}, {\"threshold\": 0.72, \"p\": 27976, \"fpr\": 0.16741741741741742, \"tpr\": 0.9159994280812125, \"n\": 5328}, {\"threshold\": 0.721, \"p\": 27976, \"fpr\": 0.16704204204204204, \"tpr\": 0.9157849585358879, \"n\": 5328}, {\"threshold\": 0.722, \"p\": 27976, \"fpr\": 0.1661036036036036, \"tpr\": 0.9154632542179011, \"n\": 5328}, {\"threshold\": 0.723, \"p\": 27976, \"fpr\": 0.16591591591591592, \"tpr\": 0.9152845295967973, \"n\": 5328}, {\"threshold\": 0.724, \"p\": 27976, \"fpr\": 0.16591591591591592, \"tpr\": 0.9151058049756935, \"n\": 5328}, {\"threshold\": 0.725, \"p\": 27976, \"fpr\": 0.16554054054054054, \"tpr\": 0.9149628252788105, \"n\": 5328}, {\"threshold\": 0.726, \"p\": 27976, \"fpr\": 0.16516516516516516, \"tpr\": 0.9146411209608236, \"n\": 5328}, {\"threshold\": 0.727, \"p\": 27976, \"fpr\": 0.16497747747747749, \"tpr\": 0.9143909064912782, \"n\": 5328}, {\"threshold\": 0.728, \"p\": 27976, \"fpr\": 0.16478978978978978, \"tpr\": 0.9143194166428367, \"n\": 5328}, {\"threshold\": 0.729, \"p\": 27976, \"fpr\": 0.1646021021021021, \"tpr\": 0.9141764369459536, \"n\": 5328}, {\"threshold\": 0.73, \"p\": 27976, \"fpr\": 0.16422672672672672, \"tpr\": 0.9140334572490706, \"n\": 5328}, {\"threshold\": 0.731, \"p\": 27976, \"fpr\": 0.16366366366366367, \"tpr\": 0.9137474978553045, \"n\": 5328}, {\"threshold\": 0.732, \"p\": 27976, \"fpr\": 0.1629129129129129, \"tpr\": 0.9136045181584215, \"n\": 5328}, {\"threshold\": 0.733, \"p\": 27976, \"fpr\": 0.16272522522522523, \"tpr\": 0.9132470689162139, \"n\": 5328}, {\"threshold\": 0.734, \"p\": 27976, \"fpr\": 0.16253753753753752, \"tpr\": 0.9130683442951101, \"n\": 5328}, {\"threshold\": 0.735, \"p\": 27976, \"fpr\": 0.16234984984984985, \"tpr\": 0.912925364598227, \"n\": 5328}, {\"threshold\": 0.736, \"p\": 27976, \"fpr\": 0.16216216216216217, \"tpr\": 0.9126751501286817, \"n\": 5328}, {\"threshold\": 0.737, \"p\": 27976, \"fpr\": 0.16216216216216217, \"tpr\": 0.9125321704317987, \"n\": 5328}, {\"threshold\": 0.738, \"p\": 27976, \"fpr\": 0.16159909909909909, \"tpr\": 0.9123534458106949, \"n\": 5328}, {\"threshold\": 0.739, \"p\": 27976, \"fpr\": 0.16103603603603603, \"tpr\": 0.9120674864169288, \"n\": 5328}, {\"threshold\": 0.74, \"p\": 27976, \"fpr\": 0.16066066066066065, \"tpr\": 0.9119602516442665, \"n\": 5328}, {\"threshold\": 0.741, \"p\": 27976, \"fpr\": 0.15990990990990991, \"tpr\": 0.9118172719473835, \"n\": 5328}, {\"threshold\": 0.742, \"p\": 27976, \"fpr\": 0.1597222222222222, \"tpr\": 0.9116028024020589, \"n\": 5328}, {\"threshold\": 0.743, \"p\": 27976, \"fpr\": 0.15915915915915915, \"tpr\": 0.9114598227051759, \"n\": 5328}, {\"threshold\": 0.744, \"p\": 27976, \"fpr\": 0.1585960960960961, \"tpr\": 0.9112096082356306, \"n\": 5328}, {\"threshold\": 0.745, \"p\": 27976, \"fpr\": 0.15840840840840842, \"tpr\": 0.9110308836145268, \"n\": 5328}, {\"threshold\": 0.746, \"p\": 27976, \"fpr\": 0.15822072072072071, \"tpr\": 0.9107091792965399, \"n\": 5328}, {\"threshold\": 0.747, \"p\": 27976, \"fpr\": 0.15784534534534533, \"tpr\": 0.9106019445238777, \"n\": 5328}, {\"threshold\": 0.748, \"p\": 27976, \"fpr\": 0.15765765765765766, \"tpr\": 0.91024449528167, \"n\": 5328}, {\"threshold\": 0.749, \"p\": 27976, \"fpr\": 0.15746996996996998, \"tpr\": 0.9099227909636831, \"n\": 5328}, {\"threshold\": 0.75, \"p\": 27976, \"fpr\": 0.1570945945945946, \"tpr\": 0.9097083214183586, \"n\": 5328}, {\"threshold\": 0.751, \"p\": 27976, \"fpr\": 0.15578078078078078, \"tpr\": 0.9095653417214755, \"n\": 5328}, {\"threshold\": 0.752, \"p\": 27976, \"fpr\": 0.1555930930930931, \"tpr\": 0.909350872176151, \"n\": 5328}, {\"threshold\": 0.753, \"p\": 27976, \"fpr\": 0.15446696696696696, \"tpr\": 0.9091006577066056, \"n\": 5328}, {\"threshold\": 0.754, \"p\": 27976, \"fpr\": 0.15427927927927929, \"tpr\": 0.9090291678581641, \"n\": 5328}, {\"threshold\": 0.755, \"p\": 27976, \"fpr\": 0.15427927927927929, \"tpr\": 0.9088504432370603, \"n\": 5328}, {\"threshold\": 0.756, \"p\": 27976, \"fpr\": 0.1539039039039039, \"tpr\": 0.9086359736917358, \"n\": 5328}, {\"threshold\": 0.757, \"p\": 27976, \"fpr\": 0.15371621621621623, \"tpr\": 0.9082785244495282, \"n\": 5328}, {\"threshold\": 0.758, \"p\": 27976, \"fpr\": 0.15296546546546547, \"tpr\": 0.9080283099799829, \"n\": 5328}, {\"threshold\": 0.759, \"p\": 27976, \"fpr\": 0.1524024024024024, \"tpr\": 0.907563625965113, \"n\": 5328}, {\"threshold\": 0.76, \"p\": 27976, \"fpr\": 0.1522147147147147, \"tpr\": 0.9073134114955677, \"n\": 5328}, {\"threshold\": 0.761, \"p\": 27976, \"fpr\": 0.15183933933933935, \"tpr\": 0.9070274521018016, \"n\": 5328}, {\"threshold\": 0.762, \"p\": 27976, \"fpr\": 0.15146396396396397, \"tpr\": 0.906670002859594, \"n\": 5328}, {\"threshold\": 0.763, \"p\": 27976, \"fpr\": 0.15090090090090091, \"tpr\": 0.9065627680869317, \"n\": 5328}, {\"threshold\": 0.764, \"p\": 27976, \"fpr\": 0.15052552552552553, \"tpr\": 0.9061338289962825, \"n\": 5328}, {\"threshold\": 0.765, \"p\": 27976, \"fpr\": 0.15015015015015015, \"tpr\": 0.9058836145267372, \"n\": 5328}, {\"threshold\": 0.766, \"p\": 27976, \"fpr\": 0.1495870870870871, \"tpr\": 0.9057406348298541, \"n\": 5328}, {\"threshold\": 0.767, \"p\": 27976, \"fpr\": 0.1493993993993994, \"tpr\": 0.9054189305118673, \"n\": 5328}, {\"threshold\": 0.768, \"p\": 27976, \"fpr\": 0.14921171171171171, \"tpr\": 0.9052759508149842, \"n\": 5328}, {\"threshold\": 0.769, \"p\": 27976, \"fpr\": 0.14883633633633633, \"tpr\": 0.9049542464969974, \"n\": 5328}, {\"threshold\": 0.77, \"p\": 27976, \"fpr\": 0.14883633633633633, \"tpr\": 0.9047755218758936, \"n\": 5328}, {\"threshold\": 0.771, \"p\": 27976, \"fpr\": 0.14846096096096095, \"tpr\": 0.904418072633686, \"n\": 5328}, {\"threshold\": 0.772, \"p\": 27976, \"fpr\": 0.14827327327327328, \"tpr\": 0.9040963683156992, \"n\": 5328}, {\"threshold\": 0.773, \"p\": 27976, \"fpr\": 0.14771021021021022, \"tpr\": 0.9038104089219331, \"n\": 5328}, {\"threshold\": 0.774, \"p\": 27976, \"fpr\": 0.14714714714714713, \"tpr\": 0.9035959393766085, \"n\": 5328}, {\"threshold\": 0.775, \"p\": 27976, \"fpr\": 0.14677177177177178, \"tpr\": 0.9034172147555047, \"n\": 5328}, {\"threshold\": 0.776, \"p\": 27976, \"fpr\": 0.1462087087087087, \"tpr\": 0.903381469831284, \"n\": 5328}, {\"threshold\": 0.777, \"p\": 27976, \"fpr\": 0.14545795795795796, \"tpr\": 0.9031312553617387, \"n\": 5328}, {\"threshold\": 0.778, \"p\": 27976, \"fpr\": 0.14527027027027026, \"tpr\": 0.9028810408921933, \"n\": 5328}, {\"threshold\": 0.779, \"p\": 27976, \"fpr\": 0.1447072072072072, \"tpr\": 0.902487846725765, \"n\": 5328}, {\"threshold\": 0.78, \"p\": 27976, \"fpr\": 0.1447072072072072, \"tpr\": 0.9022018873319989, \"n\": 5328}, {\"threshold\": 0.781, \"p\": 27976, \"fpr\": 0.14451951951951952, \"tpr\": 0.9020946525593366, \"n\": 5328}, {\"threshold\": 0.782, \"p\": 27976, \"fpr\": 0.14395645645645647, \"tpr\": 0.9017372033171289, \"n\": 5328}, {\"threshold\": 0.783, \"p\": 27976, \"fpr\": 0.14395645645645647, \"tpr\": 0.9015227337718044, \"n\": 5328}, {\"threshold\": 0.784, \"p\": 27976, \"fpr\": 0.14395645645645647, \"tpr\": 0.9012367743780383, \"n\": 5328}, {\"threshold\": 0.785, \"p\": 27976, \"fpr\": 0.14358108108108109, \"tpr\": 0.900986559908493, \"n\": 5328}, {\"threshold\": 0.786, \"p\": 27976, \"fpr\": 0.14358108108108109, \"tpr\": 0.9007363454389476, \"n\": 5328}, {\"threshold\": 0.787, \"p\": 27976, \"fpr\": 0.14283033033033032, \"tpr\": 0.9004146411209608, \"n\": 5328}, {\"threshold\": 0.788, \"p\": 27976, \"fpr\": 0.14245495495495494, \"tpr\": 0.900235916499857, \"n\": 5328}, {\"threshold\": 0.789, \"p\": 27976, \"fpr\": 0.1415165165165165, \"tpr\": 0.8999857020303117, \"n\": 5328}, {\"threshold\": 0.79, \"p\": 27976, \"fpr\": 0.1415165165165165, \"tpr\": 0.8997354875607664, \"n\": 5328}, {\"threshold\": 0.791, \"p\": 27976, \"fpr\": 0.14132882882882883, \"tpr\": 0.8994852730912211, \"n\": 5328}, {\"threshold\": 0.792, \"p\": 27976, \"fpr\": 0.14076576576576577, \"tpr\": 0.8992350586216757, \"n\": 5328}, {\"threshold\": 0.793, \"p\": 27976, \"fpr\": 0.1403903903903904, \"tpr\": 0.8989848441521304, \"n\": 5328}, {\"threshold\": 0.794, \"p\": 27976, \"fpr\": 0.13982732732732733, \"tpr\": 0.8986988847583643, \"n\": 5328}, {\"threshold\": 0.795, \"p\": 27976, \"fpr\": 0.13945195195195195, \"tpr\": 0.898448670288819, \"n\": 5328}, {\"threshold\": 0.796, \"p\": 27976, \"fpr\": 0.1387012012012012, \"tpr\": 0.898162710895053, \"n\": 5328}, {\"threshold\": 0.797, \"p\": 27976, \"fpr\": 0.13813813813813813, \"tpr\": 0.8979482413497284, \"n\": 5328}, {\"threshold\": 0.798, \"p\": 27976, \"fpr\": 0.13776276276276275, \"tpr\": 0.897698026880183, \"n\": 5328}, {\"threshold\": 0.799, \"p\": 27976, \"fpr\": 0.1371996996996997, \"tpr\": 0.8974478124106376, \"n\": 5328}, {\"threshold\": 0.8, \"p\": 27976, \"fpr\": 0.13701201201201202, \"tpr\": 0.8974120674864169, \"n\": 5328}, {\"threshold\": 0.801, \"p\": 27976, \"fpr\": 0.13663663663663664, \"tpr\": 0.89709036316843, \"n\": 5328}, {\"threshold\": 0.802, \"p\": 27976, \"fpr\": 0.13607357357357358, \"tpr\": 0.8967686588504432, \"n\": 5328}, {\"threshold\": 0.803, \"p\": 27976, \"fpr\": 0.1356981981981982, \"tpr\": 0.8964112096082356, \"n\": 5328}, {\"threshold\": 0.804, \"p\": 27976, \"fpr\": 0.1356981981981982, \"tpr\": 0.8959822705175865, \"n\": 5328}, {\"threshold\": 0.805, \"p\": 27976, \"fpr\": 0.13494744744744744, \"tpr\": 0.8956248212753789, \"n\": 5328}, {\"threshold\": 0.806, \"p\": 27976, \"fpr\": 0.13494744744744744, \"tpr\": 0.8954460966542751, \"n\": 5328}, {\"threshold\": 0.807, \"p\": 27976, \"fpr\": 0.13475975975975976, \"tpr\": 0.8952316271089505, \"n\": 5328}, {\"threshold\": 0.808, \"p\": 27976, \"fpr\": 0.1341966966966967, \"tpr\": 0.8950886474120675, \"n\": 5328}, {\"threshold\": 0.809, \"p\": 27976, \"fpr\": 0.13363363363363365, \"tpr\": 0.8945524735487561, \"n\": 5328}, {\"threshold\": 0.81, \"p\": 27976, \"fpr\": 0.13344594594594594, \"tpr\": 0.8941592793823278, \"n\": 5328}, {\"threshold\": 0.811, \"p\": 27976, \"fpr\": 0.13325825825825827, \"tpr\": 0.8938375750643409, \"n\": 5328}, {\"threshold\": 0.812, \"p\": 27976, \"fpr\": 0.13288288288288289, \"tpr\": 0.8936945953674578, \"n\": 5328}, {\"threshold\": 0.813, \"p\": 27976, \"fpr\": 0.13269519519519518, \"tpr\": 0.8934801258221332, \"n\": 5328}, {\"threshold\": 0.814, \"p\": 27976, \"fpr\": 0.13269519519519518, \"tpr\": 0.8930869316557049, \"n\": 5328}, {\"threshold\": 0.815, \"p\": 27976, \"fpr\": 0.13213213213213212, \"tpr\": 0.8926937374892765, \"n\": 5328}, {\"threshold\": 0.816, \"p\": 27976, \"fpr\": 0.13194444444444445, \"tpr\": 0.8925865027166142, \"n\": 5328}, {\"threshold\": 0.817, \"p\": 27976, \"fpr\": 0.131006006006006, \"tpr\": 0.8922647983986274, \"n\": 5328}, {\"threshold\": 0.818, \"p\": 27976, \"fpr\": 0.131006006006006, \"tpr\": 0.8920145839290821, \"n\": 5328}, {\"threshold\": 0.819, \"p\": 27976, \"fpr\": 0.1308183183183183, \"tpr\": 0.891728624535316, \"n\": 5328}, {\"threshold\": 0.82, \"p\": 27976, \"fpr\": 0.1308183183183183, \"tpr\": 0.8910852158993423, \"n\": 5328}, {\"threshold\": 0.821, \"p\": 27976, \"fpr\": 0.13006756756756757, \"tpr\": 0.8907277666571347, \"n\": 5328}, {\"threshold\": 0.822, \"p\": 27976, \"fpr\": 0.13006756756756757, \"tpr\": 0.8902988275664856, \"n\": 5328}, {\"threshold\": 0.823, \"p\": 27976, \"fpr\": 0.12987987987987987, \"tpr\": 0.8899056334000572, \"n\": 5328}, {\"threshold\": 0.824, \"p\": 27976, \"fpr\": 0.12950450450450451, \"tpr\": 0.8895839290820704, \"n\": 5328}, {\"threshold\": 0.825, \"p\": 27976, \"fpr\": 0.12856606606606608, \"tpr\": 0.8891907349156419, \"n\": 5328}, {\"threshold\": 0.826, \"p\": 27976, \"fpr\": 0.128003003003003, \"tpr\": 0.8886903059765513, \"n\": 5328}, {\"threshold\": 0.827, \"p\": 27976, \"fpr\": 0.12762762762762764, \"tpr\": 0.8882971118101229, \"n\": 5328}, {\"threshold\": 0.828, \"p\": 27976, \"fpr\": 0.12706456456456455, \"tpr\": 0.8880468973405776, \"n\": 5328}, {\"threshold\": 0.829, \"p\": 27976, \"fpr\": 0.1266891891891892, \"tpr\": 0.8878324277952531, \"n\": 5328}, {\"threshold\": 0.83, \"p\": 27976, \"fpr\": 0.1265015015015015, \"tpr\": 0.8874749785530455, \"n\": 5328}, {\"threshold\": 0.831, \"p\": 27976, \"fpr\": 0.12518768768768768, \"tpr\": 0.8873319988561624, \"n\": 5328}, {\"threshold\": 0.832, \"p\": 27976, \"fpr\": 0.12481231231231231, \"tpr\": 0.8868673148412926, \"n\": 5328}, {\"threshold\": 0.833, \"p\": 27976, \"fpr\": 0.12406156156156156, \"tpr\": 0.8864741206748642, \"n\": 5328}, {\"threshold\": 0.834, \"p\": 27976, \"fpr\": 0.12368618618618618, \"tpr\": 0.8860094366599943, \"n\": 5328}, {\"threshold\": 0.835, \"p\": 27976, \"fpr\": 0.12293543543543543, \"tpr\": 0.8856877323420075, \"n\": 5328}, {\"threshold\": 0.836, \"p\": 27976, \"fpr\": 0.12218468468468469, \"tpr\": 0.8852230483271375, \"n\": 5328}, {\"threshold\": 0.837, \"p\": 27976, \"fpr\": 0.1218093093093093, \"tpr\": 0.8849728338575922, \"n\": 5328}, {\"threshold\": 0.838, \"p\": 27976, \"fpr\": 0.12143393393393394, \"tpr\": 0.8847941092364884, \"n\": 5328}, {\"threshold\": 0.839, \"p\": 27976, \"fpr\": 0.12143393393393394, \"tpr\": 0.884257935373177, \"n\": 5328}, {\"threshold\": 0.84, \"p\": 27976, \"fpr\": 0.12068318318318318, \"tpr\": 0.8836502716614241, \"n\": 5328}, {\"threshold\": 0.841, \"p\": 27976, \"fpr\": 0.12030780780780781, \"tpr\": 0.8834358021160995, \"n\": 5328}, {\"threshold\": 0.842, \"p\": 27976, \"fpr\": 0.11974474474474474, \"tpr\": 0.8828281384043466, \"n\": 5328}, {\"threshold\": 0.843, \"p\": 27976, \"fpr\": 0.11955705705705706, \"tpr\": 0.882327709465256, \"n\": 5328}, {\"threshold\": 0.844, \"p\": 27976, \"fpr\": 0.11861861861861862, \"tpr\": 0.8816485559050615, \"n\": 5328}, {\"threshold\": 0.845, \"p\": 27976, \"fpr\": 0.11786786786786786, \"tpr\": 0.8813983414355162, \"n\": 5328}, {\"threshold\": 0.846, \"p\": 27976, \"fpr\": 0.11768018018018019, \"tpr\": 0.88111238204175, \"n\": 5328}, {\"threshold\": 0.847, \"p\": 27976, \"fpr\": 0.1174924924924925, \"tpr\": 0.8807906777237632, \"n\": 5328}, {\"threshold\": 0.848, \"p\": 27976, \"fpr\": 0.11655405405405406, \"tpr\": 0.8805404632542179, \"n\": 5328}, {\"threshold\": 0.849, \"p\": 27976, \"fpr\": 0.11636636636636637, \"tpr\": 0.8801115241635687, \"n\": 5328}, {\"threshold\": 0.85, \"p\": 27976, \"fpr\": 0.11617867867867868, \"tpr\": 0.8797183299971404, \"n\": 5328}, {\"threshold\": 0.851, \"p\": 27976, \"fpr\": 0.11599099099099099, \"tpr\": 0.879325135830712, \"n\": 5328}, {\"threshold\": 0.852, \"p\": 27976, \"fpr\": 0.11580330330330331, \"tpr\": 0.8788604518158422, \"n\": 5328}, {\"threshold\": 0.853, \"p\": 27976, \"fpr\": 0.11505255255255255, \"tpr\": 0.878431512725193, \"n\": 5328}, {\"threshold\": 0.854, \"p\": 27976, \"fpr\": 0.11467717717717718, \"tpr\": 0.8780383185587647, \"n\": 5328}, {\"threshold\": 0.855, \"p\": 27976, \"fpr\": 0.11411411411411411, \"tpr\": 0.8773234200743495, \"n\": 5328}, {\"threshold\": 0.856, \"p\": 27976, \"fpr\": 0.11392642642642643, \"tpr\": 0.8767515012868172, \"n\": 5328}, {\"threshold\": 0.857, \"p\": 27976, \"fpr\": 0.11373873873873874, \"tpr\": 0.8765012868172719, \"n\": 5328}, {\"threshold\": 0.858, \"p\": 27976, \"fpr\": 0.11298798798798798, \"tpr\": 0.8761080926508436, \"n\": 5328}, {\"threshold\": 0.859, \"p\": 27976, \"fpr\": 0.11298798798798798, \"tpr\": 0.8755361738633114, \"n\": 5328}, {\"threshold\": 0.86, \"p\": 27976, \"fpr\": 0.1128003003003003, \"tpr\": 0.8750714898484415, \"n\": 5328}, {\"threshold\": 0.861, \"p\": 27976, \"fpr\": 0.11223723723723723, \"tpr\": 0.8748212753788962, \"n\": 5328}, {\"threshold\": 0.862, \"p\": 27976, \"fpr\": 0.11204954954954954, \"tpr\": 0.8744280812124678, \"n\": 5328}, {\"threshold\": 0.863, \"p\": 27976, \"fpr\": 0.11186186186186187, \"tpr\": 0.8740348870460395, \"n\": 5328}, {\"threshold\": 0.864, \"p\": 27976, \"fpr\": 0.1111111111111111, \"tpr\": 0.8737131827280527, \"n\": 5328}, {\"threshold\": 0.865, \"p\": 27976, \"fpr\": 0.10998498498498499, \"tpr\": 0.8731412639405205, \"n\": 5328}, {\"threshold\": 0.866, \"p\": 27976, \"fpr\": 0.10942192192192192, \"tpr\": 0.8724263654561052, \"n\": 5328}, {\"threshold\": 0.867, \"p\": 27976, \"fpr\": 0.10885885885885886, \"tpr\": 0.8720689162138976, \"n\": 5328}, {\"threshold\": 0.868, \"p\": 27976, \"fpr\": 0.10867117117117117, \"tpr\": 0.8715327423505862, \"n\": 5328}, {\"threshold\": 0.869, \"p\": 27976, \"fpr\": 0.10829579579579579, \"tpr\": 0.8712467829568201, \"n\": 5328}, {\"threshold\": 0.87, \"p\": 27976, \"fpr\": 0.10754504504504504, \"tpr\": 0.8707106090935087, \"n\": 5328}, {\"threshold\": 0.871, \"p\": 27976, \"fpr\": 0.10716966966966968, \"tpr\": 0.8704603946239634, \"n\": 5328}, {\"threshold\": 0.872, \"p\": 27976, \"fpr\": 0.10623123123123124, \"tpr\": 0.8699957106090935, \"n\": 5328}, {\"threshold\": 0.873, \"p\": 27976, \"fpr\": 0.10566816816816817, \"tpr\": 0.8693523019731199, \"n\": 5328}, {\"threshold\": 0.874, \"p\": 27976, \"fpr\": 0.10529279279279279, \"tpr\": 0.8689948527309123, \"n\": 5328}, {\"threshold\": 0.875, \"p\": 27976, \"fpr\": 0.10472972972972973, \"tpr\": 0.86842293394338, \"n\": 5328}, {\"threshold\": 0.876, \"p\": 27976, \"fpr\": 0.10397897897897898, \"tpr\": 0.8681012296253932, \"n\": 5328}, {\"threshold\": 0.877, \"p\": 27976, \"fpr\": 0.10322822822822823, \"tpr\": 0.8674578209894195, \"n\": 5328}, {\"threshold\": 0.878, \"p\": 27976, \"fpr\": 0.1022897897897898, \"tpr\": 0.8669573920503288, \"n\": 5328}, {\"threshold\": 0.879, \"p\": 27976, \"fpr\": 0.10191441441441441, \"tpr\": 0.8664569631112382, \"n\": 5328}, {\"threshold\": 0.88, \"p\": 27976, \"fpr\": 0.10172672672672672, \"tpr\": 0.8656705747783815, \"n\": 5328}, {\"threshold\": 0.881, \"p\": 27976, \"fpr\": 0.10135135135135136, \"tpr\": 0.8649199313697455, \"n\": 5328}, {\"threshold\": 0.882, \"p\": 27976, \"fpr\": 0.10078828828828829, \"tpr\": 0.8643480125822133, \"n\": 5328}, {\"threshold\": 0.883, \"p\": 27976, \"fpr\": 0.10041291291291292, \"tpr\": 0.8637403488704604, \"n\": 5328}, {\"threshold\": 0.884, \"p\": 27976, \"fpr\": 0.09947447447447448, \"tpr\": 0.8629897054618244, \"n\": 5328}, {\"threshold\": 0.885, \"p\": 27976, \"fpr\": 0.0990990990990991, \"tpr\": 0.8621318272805262, \"n\": 5328}, {\"threshold\": 0.886, \"p\": 27976, \"fpr\": 0.09891141141141141, \"tpr\": 0.8617386331140978, \"n\": 5328}, {\"threshold\": 0.887, \"p\": 27976, \"fpr\": 0.09853603603603604, \"tpr\": 0.8609522447812411, \"n\": 5328}, {\"threshold\": 0.888, \"p\": 27976, \"fpr\": 0.09816066066066066, \"tpr\": 0.8602730912210466, \"n\": 5328}, {\"threshold\": 0.889, \"p\": 27976, \"fpr\": 0.09778528528528528, \"tpr\": 0.8598441521303974, \"n\": 5328}, {\"threshold\": 0.89, \"p\": 27976, \"fpr\": 0.09628378378378379, \"tpr\": 0.8592364884186445, \"n\": 5328}, {\"threshold\": 0.891, \"p\": 27976, \"fpr\": 0.0959084084084084, \"tpr\": 0.8583071203889048, \"n\": 5328}, {\"threshold\": 0.892, \"p\": 27976, \"fpr\": 0.09515765765765766, \"tpr\": 0.8576637117529311, \"n\": 5328}, {\"threshold\": 0.893, \"p\": 27976, \"fpr\": 0.09478228228228228, \"tpr\": 0.8569488132685159, \"n\": 5328}, {\"threshold\": 0.894, \"p\": 27976, \"fpr\": 0.09384384384384384, \"tpr\": 0.856019445238776, \"n\": 5328}, {\"threshold\": 0.895, \"p\": 27976, \"fpr\": 0.09346846846846847, \"tpr\": 0.8553402916785816, \"n\": 5328}, {\"threshold\": 0.896, \"p\": 27976, \"fpr\": 0.09346846846846847, \"tpr\": 0.8545181584215041, \"n\": 5328}, {\"threshold\": 0.897, \"p\": 27976, \"fpr\": 0.09328078078078078, \"tpr\": 0.8538032599370889, \"n\": 5328}, {\"threshold\": 0.898, \"p\": 27976, \"fpr\": 0.0929054054054054, \"tpr\": 0.853195596225336, \"n\": 5328}, {\"threshold\": 0.899, \"p\": 27976, \"fpr\": 0.09234234234234234, \"tpr\": 0.8524092078924793, \"n\": 5328}, {\"threshold\": 0.9, \"p\": 27976, \"fpr\": 0.09196696696696696, \"tpr\": 0.8517300543322848, \"n\": 5328}, {\"threshold\": 0.901, \"p\": 27976, \"fpr\": 0.09102852852852852, \"tpr\": 0.8510509007720903, \"n\": 5328}, {\"threshold\": 0.902, \"p\": 27976, \"fpr\": 0.09084084084084085, \"tpr\": 0.8503717472118959, \"n\": 5328}, {\"threshold\": 0.903, \"p\": 27976, \"fpr\": 0.09027777777777778, \"tpr\": 0.8500500428939091, \"n\": 5328}, {\"threshold\": 0.904, \"p\": 27976, \"fpr\": 0.09009009009009009, \"tpr\": 0.8492279096368316, \"n\": 5328}, {\"threshold\": 0.905, \"p\": 27976, \"fpr\": 0.08915165165165165, \"tpr\": 0.8486559908492994, \"n\": 5328}, {\"threshold\": 0.906, \"p\": 27976, \"fpr\": 0.08802552552552552, \"tpr\": 0.8477266228195596, \"n\": 5328}, {\"threshold\": 0.907, \"p\": 27976, \"fpr\": 0.08727477477477477, \"tpr\": 0.8468687446382613, \"n\": 5328}, {\"threshold\": 0.908, \"p\": 27976, \"fpr\": 0.08633633633633633, \"tpr\": 0.8458321418358593, \"n\": 5328}, {\"threshold\": 0.909, \"p\": 27976, \"fpr\": 0.08614864864864864, \"tpr\": 0.8447955390334573, \"n\": 5328}, {\"threshold\": 0.91, \"p\": 27976, \"fpr\": 0.08596096096096097, \"tpr\": 0.843937660852159, \"n\": 5328}, {\"threshold\": 0.911, \"p\": 27976, \"fpr\": 0.0852102102102102, \"tpr\": 0.8430082928224192, \"n\": 5328}, {\"threshold\": 0.912, \"p\": 27976, \"fpr\": 0.08502252252252253, \"tpr\": 0.8423291392622247, \"n\": 5328}, {\"threshold\": 0.913, \"p\": 27976, \"fpr\": 0.08464714714714715, \"tpr\": 0.8416142407778096, \"n\": 5328}, {\"threshold\": 0.914, \"p\": 27976, \"fpr\": 0.08464714714714715, \"tpr\": 0.8409350872176151, \"n\": 5328}, {\"threshold\": 0.915, \"p\": 27976, \"fpr\": 0.08427177177177177, \"tpr\": 0.8398269945667716, \"n\": 5328}, {\"threshold\": 0.916, \"p\": 27976, \"fpr\": 0.08370870870870871, \"tpr\": 0.8389333714612525, \"n\": 5328}, {\"threshold\": 0.917, \"p\": 27976, \"fpr\": 0.08295795795795796, \"tpr\": 0.8375393194166428, \"n\": 5328}, {\"threshold\": 0.918, \"p\": 27976, \"fpr\": 0.08295795795795796, \"tpr\": 0.8362525021446955, \"n\": 5328}, {\"threshold\": 0.919, \"p\": 27976, \"fpr\": 0.08239489489489489, \"tpr\": 0.8353588790391764, \"n\": 5328}, {\"threshold\": 0.92, \"p\": 27976, \"fpr\": 0.08164414414414414, \"tpr\": 0.833929082070346, \"n\": 5328}, {\"threshold\": 0.921, \"p\": 27976, \"fpr\": 0.08126876876876876, \"tpr\": 0.8329282241921647, \"n\": 5328}, {\"threshold\": 0.922, \"p\": 27976, \"fpr\": 0.08033033033033032, \"tpr\": 0.8317843866171004, \"n\": 5328}, {\"threshold\": 0.923, \"p\": 27976, \"fpr\": 0.07957957957957958, \"tpr\": 0.830640549042036, \"n\": 5328}, {\"threshold\": 0.924, \"p\": 27976, \"fpr\": 0.07920420420420421, \"tpr\": 0.8297111810122962, \"n\": 5328}, {\"threshold\": 0.925, \"p\": 27976, \"fpr\": 0.07882882882882883, \"tpr\": 0.8289247926794395, \"n\": 5328}, {\"threshold\": 0.926, \"p\": 27976, \"fpr\": 0.07789039039039039, \"tpr\": 0.8276022304832714, \"n\": 5328}, {\"threshold\": 0.927, \"p\": 27976, \"fpr\": 0.07789039039039039, \"tpr\": 0.8264226479839862, \"n\": 5328}, {\"threshold\": 0.928, \"p\": 27976, \"fpr\": 0.0777027027027027, \"tpr\": 0.8254575350300257, \"n\": 5328}, {\"threshold\": 0.929, \"p\": 27976, \"fpr\": 0.07695195195195195, \"tpr\": 0.8240992279096369, \"n\": 5328}, {\"threshold\": 0.93, \"p\": 27976, \"fpr\": 0.0762012012012012, \"tpr\": 0.8228839004861309, \"n\": 5328}, {\"threshold\": 0.931, \"p\": 27976, \"fpr\": 0.07507507507507508, \"tpr\": 0.8213111238204175, \"n\": 5328}, {\"threshold\": 0.932, \"p\": 27976, \"fpr\": 0.07488738738738739, \"tpr\": 0.8199170717758079, \"n\": 5328}, {\"threshold\": 0.933, \"p\": 27976, \"fpr\": 0.07488738738738739, \"tpr\": 0.8187374892765227, \"n\": 5328}, {\"threshold\": 0.934, \"p\": 27976, \"fpr\": 0.0746996996996997, \"tpr\": 0.81720045753503, \"n\": 5328}, {\"threshold\": 0.935, \"p\": 27976, \"fpr\": 0.07451201201201202, \"tpr\": 0.8156634257935373, \"n\": 5328}, {\"threshold\": 0.936, \"p\": 27976, \"fpr\": 0.07394894894894895, \"tpr\": 0.8144480983700314, \"n\": 5328}, {\"threshold\": 0.937, \"p\": 27976, \"fpr\": 0.07338588588588589, \"tpr\": 0.8133400057191879, \"n\": 5328}, {\"threshold\": 0.938, \"p\": 27976, \"fpr\": 0.07301051051051051, \"tpr\": 0.8118744638261367, \"n\": 5328}, {\"threshold\": 0.939, \"p\": 27976, \"fpr\": 0.07263513513513513, \"tpr\": 0.8103374320846439, \"n\": 5328}, {\"threshold\": 0.94, \"p\": 27976, \"fpr\": 0.07188438438438438, \"tpr\": 0.8085144409493852, \"n\": 5328}, {\"threshold\": 0.941, \"p\": 27976, \"fpr\": 0.07132132132132132, \"tpr\": 0.8071918787532171, \"n\": 5328}, {\"threshold\": 0.942, \"p\": 27976, \"fpr\": 0.07057057057057058, \"tpr\": 0.8057620817843866, \"n\": 5328}, {\"threshold\": 0.943, \"p\": 27976, \"fpr\": 0.07038288288288289, \"tpr\": 0.8042250500428939, \"n\": 5328}, {\"threshold\": 0.944, \"p\": 27976, \"fpr\": 0.06963213213213214, \"tpr\": 0.8027952530740635, \"n\": 5328}, {\"threshold\": 0.945, \"p\": 27976, \"fpr\": 0.06925675675675676, \"tpr\": 0.8011867314841292, \"n\": 5328}, {\"threshold\": 0.946, \"p\": 27976, \"fpr\": 0.06888138138138138, \"tpr\": 0.7993279954246497, \"n\": 5328}, {\"threshold\": 0.947, \"p\": 27976, \"fpr\": 0.06794294294294294, \"tpr\": 0.7976479839862739, \"n\": 5328}, {\"threshold\": 0.948, \"p\": 27976, \"fpr\": 0.06737987987987988, \"tpr\": 0.7962539319416643, \"n\": 5328}, {\"threshold\": 0.949, \"p\": 27976, \"fpr\": 0.06587837837837837, \"tpr\": 0.7946096654275093, \"n\": 5328}, {\"threshold\": 0.95, \"p\": 27976, \"fpr\": 0.06456456456456457, \"tpr\": 0.7921432656562768, \"n\": 5328}, {\"threshold\": 0.951, \"p\": 27976, \"fpr\": 0.06381381381381382, \"tpr\": 0.7906062339147841, \"n\": 5328}, {\"threshold\": 0.952, \"p\": 27976, \"fpr\": 0.06306306306306306, \"tpr\": 0.7890334572490706, \"n\": 5328}, {\"threshold\": 0.953, \"p\": 27976, \"fpr\": 0.0625, \"tpr\": 0.7866385473262797, \"n\": 5328}, {\"threshold\": 0.954, \"p\": 27976, \"fpr\": 0.061936936936936936, \"tpr\": 0.7842078924792679, \"n\": 5328}, {\"threshold\": 0.955, \"p\": 27976, \"fpr\": 0.06118618618618619, \"tpr\": 0.7820631970260223, \"n\": 5328}, {\"threshold\": 0.956, \"p\": 27976, \"fpr\": 0.0609984984984985, \"tpr\": 0.7804189305118673, \"n\": 5328}, {\"threshold\": 0.957, \"p\": 27976, \"fpr\": 0.05987237237237237, \"tpr\": 0.7782027452101802, \"n\": 5328}, {\"threshold\": 0.958, \"p\": 27976, \"fpr\": 0.05912162162162162, \"tpr\": 0.776272519302259, \"n\": 5328}, {\"threshold\": 0.959, \"p\": 27976, \"fpr\": 0.05818318318318318, \"tpr\": 0.7734844152130398, \"n\": 5328}, {\"threshold\": 0.96, \"p\": 27976, \"fpr\": 0.05780780780780781, \"tpr\": 0.7710895052902488, \"n\": 5328}, {\"threshold\": 0.961, \"p\": 27976, \"fpr\": 0.057244744744744745, \"tpr\": 0.7685516156705747, \"n\": 5328}, {\"threshold\": 0.962, \"p\": 27976, \"fpr\": 0.05593093093093093, \"tpr\": 0.7664069202173291, \"n\": 5328}, {\"threshold\": 0.963, \"p\": 27976, \"fpr\": 0.05536786786786787, \"tpr\": 0.763440091507006, \"n\": 5328}, {\"threshold\": 0.964, \"p\": 27976, \"fpr\": 0.05442942942942943, \"tpr\": 0.7602230483271375, \"n\": 5328}, {\"threshold\": 0.965, \"p\": 27976, \"fpr\": 0.053678678678678676, \"tpr\": 0.7577209036316843, \"n\": 5328}, {\"threshold\": 0.966, \"p\": 27976, \"fpr\": 0.05292792792792793, \"tpr\": 0.7547540749213612, \"n\": 5328}, {\"threshold\": 0.967, \"p\": 27976, \"fpr\": 0.052177177177177174, \"tpr\": 0.7517157563625965, \"n\": 5328}, {\"threshold\": 0.968, \"p\": 27976, \"fpr\": 0.05161411411411412, \"tpr\": 0.7481770088647413, \"n\": 5328}, {\"threshold\": 0.969, \"p\": 27976, \"fpr\": 0.051238738738738736, \"tpr\": 0.7450314555333143, \"n\": 5328}, {\"threshold\": 0.97, \"p\": 27976, \"fpr\": 0.050112612612612614, \"tpr\": 0.7412782384901344, \"n\": 5328}, {\"threshold\": 0.971, \"p\": 27976, \"fpr\": 0.049174174174174176, \"tpr\": 0.738204175007149, \"n\": 5328}, {\"threshold\": 0.972, \"p\": 27976, \"fpr\": 0.04823573573573574, \"tpr\": 0.734164998570203, \"n\": 5328}, {\"threshold\": 0.973, \"p\": 27976, \"fpr\": 0.047672672672672674, \"tpr\": 0.7306977409207892, \"n\": 5328}, {\"threshold\": 0.974, \"p\": 27976, \"fpr\": 0.046546546546546545, \"tpr\": 0.7262653703174149, \"n\": 5328}, {\"threshold\": 0.975, \"p\": 27976, \"fpr\": 0.045420420420420424, \"tpr\": 0.7218329997140406, \"n\": 5328}, {\"threshold\": 0.976, \"p\": 27976, \"fpr\": 0.04373123123123123, \"tpr\": 0.7173648841864455, \"n\": 5328}, {\"threshold\": 0.977, \"p\": 27976, \"fpr\": 0.0426051051051051, \"tpr\": 0.7127537889619674, \"n\": 5328}, {\"threshold\": 0.978, \"p\": 27976, \"fpr\": 0.041666666666666664, \"tpr\": 0.7083929082070346, \"n\": 5328}, {\"threshold\": 0.979, \"p\": 27976, \"fpr\": 0.04129129129129129, \"tpr\": 0.7033886188161281, \"n\": 5328}, {\"threshold\": 0.98, \"p\": 27976, \"fpr\": 0.040728228228228226, \"tpr\": 0.6974549613954818, \"n\": 5328}, {\"threshold\": 0.981, \"p\": 27976, \"fpr\": 0.03997747747747748, \"tpr\": 0.6917000285959394, \"n\": 5328}, {\"threshold\": 0.982, \"p\": 27976, \"fpr\": 0.03866366366366367, \"tpr\": 0.6851229625393194, \"n\": 5328}, {\"threshold\": 0.983, \"p\": 27976, \"fpr\": 0.0365990990990991, \"tpr\": 0.6791893051186731, \"n\": 5328}, {\"threshold\": 0.984, \"p\": 27976, \"fpr\": 0.0350975975975976, \"tpr\": 0.6718615956534172, \"n\": 5328}, {\"threshold\": 0.985, \"p\": 27976, \"fpr\": 0.03453453453453453, \"tpr\": 0.6642479267943951, \"n\": 5328}, {\"threshold\": 0.986, \"p\": 27976, \"fpr\": 0.03322072072072072, \"tpr\": 0.6559551043751787, \"n\": 5328}, {\"threshold\": 0.987, \"p\": 27976, \"fpr\": 0.03228228228228228, \"tpr\": 0.6466971690020017, \"n\": 5328}, {\"threshold\": 0.988, \"p\": 27976, \"fpr\": 0.030968468468468468, \"tpr\": 0.6373677437803832, \"n\": 5328}, {\"threshold\": 0.989, \"p\": 27976, \"fpr\": 0.02927927927927928, \"tpr\": 0.6274306548470118, \"n\": 5328}, {\"threshold\": 0.99, \"p\": 27976, \"fpr\": 0.026839339339339338, \"tpr\": 0.6158492993994853, \"n\": 5328}, {\"threshold\": 0.991, \"p\": 27976, \"fpr\": 0.025525525525525526, \"tpr\": 0.6035887903917644, \"n\": 5328}, {\"threshold\": 0.992, \"p\": 27976, \"fpr\": 0.02421171171171171, \"tpr\": 0.5895052902487846, \"n\": 5328}, {\"threshold\": 0.993, \"p\": 27976, \"fpr\": 0.022334834834834835, \"tpr\": 0.5742779525307407, \"n\": 5328}, {\"threshold\": 0.994, \"p\": 27976, \"fpr\": 0.020833333333333332, \"tpr\": 0.5570846439805548, \"n\": 5328}, {\"threshold\": 0.995, \"p\": 27976, \"fpr\": 0.019707207207207207, \"tpr\": 0.5346725764941378, \"n\": 5328}, {\"threshold\": 0.996, \"p\": 27976, \"fpr\": 0.018205705705705705, \"tpr\": 0.5075064340863598, \"n\": 5328}, {\"threshold\": 0.997, \"p\": 27976, \"fpr\": 0.01614114114114114, \"tpr\": 0.47419216471261083, \"n\": 5328}, {\"threshold\": 0.998, \"p\": 27976, \"fpr\": 0.013138138138138139, \"tpr\": 0.4294752645124392, \"n\": 5328}, {\"threshold\": 0.999, \"p\": 27976, \"fpr\": 0.009384384384384385, \"tpr\": 0.3602016013726051, \"n\": 5328}, {\"threshold\": 1.0, \"p\": 27976, \"fpr\": 0.0, \"tpr\": 0.0, \"n\": 5328}]}]], \"type\": \"Model\"}, \"ipython\": true, \"view_params\": {\"model_type\": \"regression\", \"view\": \"Evaluation\"}, \"model_type\": \"regression\", \"attributes\": {\"section_titles\": [\"Schema\", \"Hyperparameters\", \"Training Summary\", \"Settings\", \"Highest Positive Coefficients\", \"Lowest Negative Coefficients\"], \"sections\": [[[\"Number of coefficients\", 219218], [\"Number of examples\", 133448], [\"Number of classes\", 2], [\"Number of feature columns\", 1], [\"Number of unpacked features\", 219217]], [[\"L1 penalty\", 0.0], [\"L2 penalty\", 0.01]], [[\"Solver\", \"lbfgs\"], [\"Solver iterations\", 10], [\"Solver status\", \"TERMINATED: Iteration limit reached.\"], [\"Training time (sec)\", 10.9016]], [[\"Log-likelihood\", 4956.6901]], [[\"word_count[pinkjeep]\", 13.5701], [\"word_count[(http://www.amazon.com/review/rhgg6qp7tdnhb/ref=cm_cr_pr_cmt?ie=utf8&asin;=b00318cla0&nodeid;)]\", 12.3088], [\"word_count[label/box.]\", 11.1774], [\"word_count[product.***]\", 11.064], [\"word_count[direct-pumping]\", 11.0531]], [[\"word_count[it.update:after]\", -18.3631], [\"word_count[5months.]\", -16.0906], [\"word_count[oldest.if]\", -15.9315], [\"word_count[maxima.]\", -15.8084], [\"word_count[(160.00)]\", -15.4512]]]}, \"evaluations\": [[\"test_data\", {\"roc_curve\": [{\"threshold\": 0.0, \"p\": 27976, \"fpr\": 1.0, \"tpr\": 1.0, \"n\": 5328}, {\"threshold\": 0.001, \"p\": 27976, \"fpr\": 0.7755255255255256, \"tpr\": 0.9963897626537032, \"n\": 5328}, {\"threshold\": 0.002, \"p\": 27976, \"fpr\": 0.7355480480480481, \"tpr\": 0.9953531598513011, \"n\": 5328}, {\"threshold\": 0.003, \"p\": 27976, \"fpr\": 0.7128378378378378, \"tpr\": 0.9947454961395482, \"n\": 5328}, {\"threshold\": 0.004, \"p\": 27976, \"fpr\": 0.6972597597597597, \"tpr\": 0.9942808121246783, \"n\": 5328}, {\"threshold\": 0.005, \"p\": 27976, \"fpr\": 0.6859984984984985, \"tpr\": 0.9939233628824707, \"n\": 5328}, {\"threshold\": 0.006, \"p\": 27976, \"fpr\": 0.6762387387387387, \"tpr\": 0.99342293394338, \"n\": 5328}, {\"threshold\": 0.007, \"p\": 27976, \"fpr\": 0.6657282282282282, \"tpr\": 0.9930654847011724, \"n\": 5328}, {\"threshold\": 0.008, \"p\": 27976, \"fpr\": 0.6554054054054054, \"tpr\": 0.9928152702316271, \"n\": 5328}, {\"threshold\": 0.009, \"p\": 27976, \"fpr\": 0.6480855855855856, \"tpr\": 0.9924935659136402, \"n\": 5328}, {\"threshold\": 0.01, \"p\": 27976, \"fpr\": 0.6394519519519519, \"tpr\": 0.9922433514440949, \"n\": 5328}, {\"threshold\": 0.011, \"p\": 27976, \"fpr\": 0.6325075075075075, \"tpr\": 0.9919573920503288, \"n\": 5328}, {\"threshold\": 0.012, \"p\": 27976, \"fpr\": 0.6270645645645646, \"tpr\": 0.991635687732342, \"n\": 5328}, {\"threshold\": 0.013, \"p\": 27976, \"fpr\": 0.6203078078078078, \"tpr\": 0.9913854732627967, \"n\": 5328}, {\"threshold\": 0.014, \"p\": 27976, \"fpr\": 0.6154279279279279, \"tpr\": 0.9911352587932514, \"n\": 5328}, {\"threshold\": 0.015, \"p\": 27976, \"fpr\": 0.6086711711711712, \"tpr\": 0.990885044323706, \"n\": 5328}, {\"threshold\": 0.016, \"p\": 27976, \"fpr\": 0.603978978978979, \"tpr\": 0.9905633400057192, \"n\": 5328}, {\"threshold\": 0.017, \"p\": 27976, \"fpr\": 0.6002252252252253, \"tpr\": 0.9903131255361739, \"n\": 5328}, {\"threshold\": 0.018, \"p\": 27976, \"fpr\": 0.5953453453453453, \"tpr\": 0.9901701458392909, \"n\": 5328}, {\"threshold\": 0.019, \"p\": 27976, \"fpr\": 0.5904654654654654, \"tpr\": 0.9900271661424078, \"n\": 5328}, {\"threshold\": 0.02, \"p\": 27976, \"fpr\": 0.585960960960961, \"tpr\": 0.9898126965970833, \"n\": 5328}, {\"threshold\": 0.021, \"p\": 27976, \"fpr\": 0.5822072072072072, \"tpr\": 0.989705461824421, \"n\": 5328}, {\"threshold\": 0.022, \"p\": 27976, \"fpr\": 0.5793918918918919, \"tpr\": 0.9894552473548756, \"n\": 5328}, {\"threshold\": 0.023, \"p\": 27976, \"fpr\": 0.5773273273273273, \"tpr\": 0.9893480125822133, \"n\": 5328}, {\"threshold\": 0.024, \"p\": 27976, \"fpr\": 0.5730105105105106, \"tpr\": 0.9892050328853302, \"n\": 5328}, {\"threshold\": 0.025, \"p\": 27976, \"fpr\": 0.5698198198198198, \"tpr\": 0.9890263082642264, \"n\": 5328}, {\"threshold\": 0.026, \"p\": 27976, \"fpr\": 0.5662537537537538, \"tpr\": 0.9889190734915642, \"n\": 5328}, {\"threshold\": 0.027, \"p\": 27976, \"fpr\": 0.5630630630630631, \"tpr\": 0.9886688590220188, \"n\": 5328}, {\"threshold\": 0.028, \"p\": 27976, \"fpr\": 0.5602477477477478, \"tpr\": 0.988490134400915, \"n\": 5328}, {\"threshold\": 0.029, \"p\": 27976, \"fpr\": 0.5566816816816816, \"tpr\": 0.988347154704032, \"n\": 5328}, {\"threshold\": 0.03, \"p\": 27976, \"fpr\": 0.5527402402402403, \"tpr\": 0.9880969402344867, \"n\": 5328}, {\"threshold\": 0.031, \"p\": 27976, \"fpr\": 0.5512387387387387, \"tpr\": 0.9879897054618244, \"n\": 5328}, {\"threshold\": 0.032, \"p\": 27976, \"fpr\": 0.547484984984985, \"tpr\": 0.9877394909922791, \"n\": 5328}, {\"threshold\": 0.033, \"p\": 27976, \"fpr\": 0.5433558558558559, \"tpr\": 0.987596511295396, \"n\": 5328}, {\"threshold\": 0.034, \"p\": 27976, \"fpr\": 0.541478978978979, \"tpr\": 0.9874892765227338, \"n\": 5328}, {\"threshold\": 0.035, \"p\": 27976, \"fpr\": 0.5396021021021021, \"tpr\": 0.987453531598513, \"n\": 5328}, {\"threshold\": 0.036, \"p\": 27976, \"fpr\": 0.5375375375375375, \"tpr\": 0.9873462968258507, \"n\": 5328}, {\"threshold\": 0.037, \"p\": 27976, \"fpr\": 0.5350975975975976, \"tpr\": 0.9872748069774092, \"n\": 5328}, {\"threshold\": 0.038, \"p\": 27976, \"fpr\": 0.5319069069069069, \"tpr\": 0.9869173577352016, \"n\": 5328}, {\"threshold\": 0.039, \"p\": 27976, \"fpr\": 0.5307807807807807, \"tpr\": 0.9867028881898771, \"n\": 5328}, {\"threshold\": 0.04, \"p\": 27976, \"fpr\": 0.5294669669669669, \"tpr\": 0.9865956534172148, \"n\": 5328}, {\"threshold\": 0.041, \"p\": 27976, \"fpr\": 0.5272147147147147, \"tpr\": 0.9865241635687733, \"n\": 5328}, {\"threshold\": 0.042, \"p\": 27976, \"fpr\": 0.5242117117117117, \"tpr\": 0.9863811838718902, \"n\": 5328}, {\"threshold\": 0.043, \"p\": 27976, \"fpr\": 0.5230855855855856, \"tpr\": 0.9862024592507864, \"n\": 5328}, {\"threshold\": 0.044, \"p\": 27976, \"fpr\": 0.5206456456456456, \"tpr\": 0.9860952244781241, \"n\": 5328}, {\"threshold\": 0.045, \"p\": 27976, \"fpr\": 0.5195195195195195, \"tpr\": 0.9859522447812411, \"n\": 5328}, {\"threshold\": 0.046, \"p\": 27976, \"fpr\": 0.5167042042042042, \"tpr\": 0.9859164998570203, \"n\": 5328}, {\"threshold\": 0.047, \"p\": 27976, \"fpr\": 0.5148273273273273, \"tpr\": 0.9857020303116958, \"n\": 5328}, {\"threshold\": 0.048, \"p\": 27976, \"fpr\": 0.512575075075075, \"tpr\": 0.9854875607663712, \"n\": 5328}, {\"threshold\": 0.049, \"p\": 27976, \"fpr\": 0.511448948948949, \"tpr\": 0.9853445810694881, \"n\": 5328}, {\"threshold\": 0.05, \"p\": 27976, \"fpr\": 0.5095720720720721, \"tpr\": 0.985201601372605, \"n\": 5328}, {\"threshold\": 0.051, \"p\": 27976, \"fpr\": 0.5063813813813813, \"tpr\": 0.9849871318272805, \"n\": 5328}, {\"threshold\": 0.052, \"p\": 27976, \"fpr\": 0.5037537537537538, \"tpr\": 0.9848441521303974, \"n\": 5328}, {\"threshold\": 0.053, \"p\": 27976, \"fpr\": 0.5020645645645646, \"tpr\": 0.9848084072061767, \"n\": 5328}, {\"threshold\": 0.054, \"p\": 27976, \"fpr\": 0.5, \"tpr\": 0.9846296825850729, \"n\": 5328}, {\"threshold\": 0.055, \"p\": 27976, \"fpr\": 0.4988738738738739, \"tpr\": 0.9845581927366314, \"n\": 5328}, {\"threshold\": 0.056, \"p\": 27976, \"fpr\": 0.4964339339339339, \"tpr\": 0.9845224478124106, \"n\": 5328}, {\"threshold\": 0.057, \"p\": 27976, \"fpr\": 0.49436936936936937, \"tpr\": 0.984307978267086, \"n\": 5328}, {\"threshold\": 0.058, \"p\": 27976, \"fpr\": 0.49211711711711714, \"tpr\": 0.984164998570203, \"n\": 5328}, {\"threshold\": 0.059, \"p\": 27976, \"fpr\": 0.49099099099099097, \"tpr\": 0.98402201887332, \"n\": 5328}, {\"threshold\": 0.06, \"p\": 27976, \"fpr\": 0.48855105105105107, \"tpr\": 0.9839862739490992, \"n\": 5328}, {\"threshold\": 0.061, \"p\": 27976, \"fpr\": 0.4864864864864865, \"tpr\": 0.9838432942522162, \"n\": 5328}, {\"threshold\": 0.062, \"p\": 27976, \"fpr\": 0.48460960960960964, \"tpr\": 0.9838075493279954, \"n\": 5328}, {\"threshold\": 0.063, \"p\": 27976, \"fpr\": 0.4832957957957958, \"tpr\": 0.9837360594795539, \"n\": 5328}, {\"threshold\": 0.064, \"p\": 27976, \"fpr\": 0.4821696696696697, \"tpr\": 0.9835930797826709, \"n\": 5328}, {\"threshold\": 0.065, \"p\": 27976, \"fpr\": 0.48085585585585583, \"tpr\": 0.9835930797826709, \"n\": 5328}, {\"threshold\": 0.066, \"p\": 27976, \"fpr\": 0.4802927927927928, \"tpr\": 0.9835930797826709, \"n\": 5328}, {\"threshold\": 0.067, \"p\": 27976, \"fpr\": 0.47954204204204204, \"tpr\": 0.9835215899342293, \"n\": 5328}, {\"threshold\": 0.068, \"p\": 27976, \"fpr\": 0.4784159159159159, \"tpr\": 0.9833428653131255, \"n\": 5328}, {\"threshold\": 0.069, \"p\": 27976, \"fpr\": 0.4772897897897898, \"tpr\": 0.9833071203889048, \"n\": 5328}, {\"threshold\": 0.07, \"p\": 27976, \"fpr\": 0.47653903903903905, \"tpr\": 0.9832356305404633, \"n\": 5328}, {\"threshold\": 0.071, \"p\": 27976, \"fpr\": 0.4752252252252252, \"tpr\": 0.9831998856162425, \"n\": 5328}, {\"threshold\": 0.072, \"p\": 27976, \"fpr\": 0.4739114114114114, \"tpr\": 0.9831998856162425, \"n\": 5328}, {\"threshold\": 0.073, \"p\": 27976, \"fpr\": 0.47203453453453453, \"tpr\": 0.9831641406920217, \"n\": 5328}, {\"threshold\": 0.074, \"p\": 27976, \"fpr\": 0.470533033033033, \"tpr\": 0.9830569059193595, \"n\": 5328}, {\"threshold\": 0.075, \"p\": 27976, \"fpr\": 0.46865615615615613, \"tpr\": 0.9829496711466972, \"n\": 5328}, {\"threshold\": 0.076, \"p\": 27976, \"fpr\": 0.4677177177177177, \"tpr\": 0.9827709465255934, \"n\": 5328}, {\"threshold\": 0.077, \"p\": 27976, \"fpr\": 0.4664039039039039, \"tpr\": 0.9827352016013726, \"n\": 5328}, {\"threshold\": 0.078, \"p\": 27976, \"fpr\": 0.46546546546546547, \"tpr\": 0.9824492422076065, \"n\": 5328}, {\"threshold\": 0.079, \"p\": 27976, \"fpr\": 0.46452702702702703, \"tpr\": 0.9824492422076065, \"n\": 5328}, {\"threshold\": 0.08, \"p\": 27976, \"fpr\": 0.4635885885885886, \"tpr\": 0.9823420074349443, \"n\": 5328}, {\"threshold\": 0.081, \"p\": 27976, \"fpr\": 0.46283783783783783, \"tpr\": 0.9823062625107235, \"n\": 5328}, {\"threshold\": 0.082, \"p\": 27976, \"fpr\": 0.46133633633633636, \"tpr\": 0.9822705175865027, \"n\": 5328}, {\"threshold\": 0.083, \"p\": 27976, \"fpr\": 0.45983483483483484, \"tpr\": 0.9820560480411782, \"n\": 5328}, {\"threshold\": 0.084, \"p\": 27976, \"fpr\": 0.45852102102102105, \"tpr\": 0.9819845581927367, \"n\": 5328}, {\"threshold\": 0.085, \"p\": 27976, \"fpr\": 0.45645645645645644, \"tpr\": 0.9819845581927367, \"n\": 5328}, {\"threshold\": 0.086, \"p\": 27976, \"fpr\": 0.455518018018018, \"tpr\": 0.9819488132685159, \"n\": 5328}, {\"threshold\": 0.087, \"p\": 27976, \"fpr\": 0.45401651651651653, \"tpr\": 0.9818773234200744, \"n\": 5328}, {\"threshold\": 0.088, \"p\": 27976, \"fpr\": 0.452515015015015, \"tpr\": 0.9816628538747498, \"n\": 5328}, {\"threshold\": 0.089, \"p\": 27976, \"fpr\": 0.4519519519519519, \"tpr\": 0.981484129253646, \"n\": 5328}, {\"threshold\": 0.09, \"p\": 27976, \"fpr\": 0.4510135135135135, \"tpr\": 0.9814126394052045, \"n\": 5328}, {\"threshold\": 0.091, \"p\": 27976, \"fpr\": 0.45007507507507505, \"tpr\": 0.9813768944809838, \"n\": 5328}, {\"threshold\": 0.092, \"p\": 27976, \"fpr\": 0.44894894894894893, \"tpr\": 0.9813768944809838, \"n\": 5328}, {\"threshold\": 0.093, \"p\": 27976, \"fpr\": 0.44763513513513514, \"tpr\": 0.9812339147841006, \"n\": 5328}, {\"threshold\": 0.094, \"p\": 27976, \"fpr\": 0.4468843843843844, \"tpr\": 0.9811624249356591, \"n\": 5328}, {\"threshold\": 0.095, \"p\": 27976, \"fpr\": 0.44594594594594594, \"tpr\": 0.9810551901629968, \"n\": 5328}, {\"threshold\": 0.096, \"p\": 27976, \"fpr\": 0.4450075075075075, \"tpr\": 0.9809479553903345, \"n\": 5328}, {\"threshold\": 0.097, \"p\": 27976, \"fpr\": 0.44425675675675674, \"tpr\": 0.9809122104661138, \"n\": 5328}, {\"threshold\": 0.098, \"p\": 27976, \"fpr\": 0.443506006006006, \"tpr\": 0.9806977409207892, \"n\": 5328}, {\"threshold\": 0.099, \"p\": 27976, \"fpr\": 0.44256756756756754, \"tpr\": 0.9804832713754646, \"n\": 5328}, {\"threshold\": 0.1, \"p\": 27976, \"fpr\": 0.4416291291291291, \"tpr\": 0.9804117815270231, \"n\": 5328}, {\"threshold\": 0.101, \"p\": 27976, \"fpr\": 0.43975225225225223, \"tpr\": 0.9803402916785816, \"n\": 5328}, {\"threshold\": 0.102, \"p\": 27976, \"fpr\": 0.43825075075075076, \"tpr\": 0.9802330569059193, \"n\": 5328}, {\"threshold\": 0.103, \"p\": 27976, \"fpr\": 0.4375, \"tpr\": 0.9801973119816986, \"n\": 5328}, {\"threshold\": 0.104, \"p\": 27976, \"fpr\": 0.4363738738738739, \"tpr\": 0.9800185873605948, \"n\": 5328}, {\"threshold\": 0.105, \"p\": 27976, \"fpr\": 0.4359984984984985, \"tpr\": 0.979839862739491, \"n\": 5328}, {\"threshold\": 0.106, \"p\": 27976, \"fpr\": 0.43430930930930933, \"tpr\": 0.9796968830426079, \"n\": 5328}, {\"threshold\": 0.107, \"p\": 27976, \"fpr\": 0.43318318318318316, \"tpr\": 0.9796611381183872, \"n\": 5328}, {\"threshold\": 0.108, \"p\": 27976, \"fpr\": 0.43262012012012013, \"tpr\": 0.9795896482699457, \"n\": 5328}, {\"threshold\": 0.109, \"p\": 27976, \"fpr\": 0.431493993993994, \"tpr\": 0.9794109236488419, \"n\": 5328}, {\"threshold\": 0.11, \"p\": 27976, \"fpr\": 0.43074324324324326, \"tpr\": 0.9793036888761796, \"n\": 5328}, {\"threshold\": 0.111, \"p\": 27976, \"fpr\": 0.42924174174174173, \"tpr\": 0.9793036888761796, \"n\": 5328}, {\"threshold\": 0.112, \"p\": 27976, \"fpr\": 0.4286786786786787, \"tpr\": 0.9791607091792965, \"n\": 5328}, {\"threshold\": 0.113, \"p\": 27976, \"fpr\": 0.42792792792792794, \"tpr\": 0.9790177294824135, \"n\": 5328}, {\"threshold\": 0.114, \"p\": 27976, \"fpr\": 0.4271771771771772, \"tpr\": 0.9789819845581927, \"n\": 5328}, {\"threshold\": 0.115, \"p\": 27976, \"fpr\": 0.42567567567567566, \"tpr\": 0.9788747497855305, \"n\": 5328}, {\"threshold\": 0.116, \"p\": 27976, \"fpr\": 0.4247372372372372, \"tpr\": 0.9788390048613097, \"n\": 5328}, {\"threshold\": 0.117, \"p\": 27976, \"fpr\": 0.4241741741741742, \"tpr\": 0.9787317700886474, \"n\": 5328}, {\"threshold\": 0.118, \"p\": 27976, \"fpr\": 0.4239864864864865, \"tpr\": 0.9786602802402059, \"n\": 5328}, {\"threshold\": 0.119, \"p\": 27976, \"fpr\": 0.42323573573573575, \"tpr\": 0.9786245353159851, \"n\": 5328}, {\"threshold\": 0.12, \"p\": 27976, \"fpr\": 0.422484984984985, \"tpr\": 0.9785530454675436, \"n\": 5328}, {\"threshold\": 0.121, \"p\": 27976, \"fpr\": 0.4219219219219219, \"tpr\": 0.9783028309979983, \"n\": 5328}, {\"threshold\": 0.122, \"p\": 27976, \"fpr\": 0.4219219219219219, \"tpr\": 0.978195596225336, \"n\": 5328}, {\"threshold\": 0.123, \"p\": 27976, \"fpr\": 0.42173423423423423, \"tpr\": 0.9781241063768945, \"n\": 5328}, {\"threshold\": 0.124, \"p\": 27976, \"fpr\": 0.4206081081081081, \"tpr\": 0.9780168716042322, \"n\": 5328}, {\"threshold\": 0.125, \"p\": 27976, \"fpr\": 0.42004504504504503, \"tpr\": 0.9779811266800115, \"n\": 5328}, {\"threshold\": 0.126, \"p\": 27976, \"fpr\": 0.4191066066066066, \"tpr\": 0.9779811266800115, \"n\": 5328}, {\"threshold\": 0.127, \"p\": 27976, \"fpr\": 0.41835585585585583, \"tpr\": 0.9778024020589077, \"n\": 5328}, {\"threshold\": 0.128, \"p\": 27976, \"fpr\": 0.4176051051051051, \"tpr\": 0.9777666571346869, \"n\": 5328}, {\"threshold\": 0.129, \"p\": 27976, \"fpr\": 0.41704204204204204, \"tpr\": 0.9775879325135831, \"n\": 5328}, {\"threshold\": 0.13, \"p\": 27976, \"fpr\": 0.4159159159159159, \"tpr\": 0.9773734629682586, \"n\": 5328}, {\"threshold\": 0.131, \"p\": 27976, \"fpr\": 0.41535285285285284, \"tpr\": 0.9773377180440378, \"n\": 5328}, {\"threshold\": 0.132, \"p\": 27976, \"fpr\": 0.41403903903903905, \"tpr\": 0.9771947383471548, \"n\": 5328}, {\"threshold\": 0.133, \"p\": 27976, \"fpr\": 0.41347597597597596, \"tpr\": 0.9771232484987132, \"n\": 5328}, {\"threshold\": 0.134, \"p\": 27976, \"fpr\": 0.41234984984984985, \"tpr\": 0.9770160137260508, \"n\": 5328}, {\"threshold\": 0.135, \"p\": 27976, \"fpr\": 0.41066066066066065, \"tpr\": 0.9769087789533886, \"n\": 5328}, {\"threshold\": 0.136, \"p\": 27976, \"fpr\": 0.4099099099099099, \"tpr\": 0.9769087789533886, \"n\": 5328}, {\"threshold\": 0.137, \"p\": 27976, \"fpr\": 0.40878378378378377, \"tpr\": 0.9766585644838433, \"n\": 5328}, {\"threshold\": 0.138, \"p\": 27976, \"fpr\": 0.40822072072072074, \"tpr\": 0.9766228195596225, \"n\": 5328}, {\"threshold\": 0.139, \"p\": 27976, \"fpr\": 0.4072822822822823, \"tpr\": 0.9765870746354017, \"n\": 5328}, {\"threshold\": 0.14, \"p\": 27976, \"fpr\": 0.40709459459459457, \"tpr\": 0.976551329711181, \"n\": 5328}, {\"threshold\": 0.141, \"p\": 27976, \"fpr\": 0.4069069069069069, \"tpr\": 0.9765155847869602, \"n\": 5328}, {\"threshold\": 0.142, \"p\": 27976, \"fpr\": 0.40615615615615613, \"tpr\": 0.9764798398627395, \"n\": 5328}, {\"threshold\": 0.143, \"p\": 27976, \"fpr\": 0.4052177177177177, \"tpr\": 0.9764440949385187, \"n\": 5328}, {\"threshold\": 0.144, \"p\": 27976, \"fpr\": 0.40484234234234234, \"tpr\": 0.9764440949385187, \"n\": 5328}, {\"threshold\": 0.145, \"p\": 27976, \"fpr\": 0.40315315315315314, \"tpr\": 0.9764083500142979, \"n\": 5328}, {\"threshold\": 0.146, \"p\": 27976, \"fpr\": 0.4024024024024024, \"tpr\": 0.9763368601658564, \"n\": 5328}, {\"threshold\": 0.147, \"p\": 27976, \"fpr\": 0.40127627627627627, \"tpr\": 0.9762653703174149, \"n\": 5328}, {\"threshold\": 0.148, \"p\": 27976, \"fpr\": 0.4010885885885886, \"tpr\": 0.9761581355447526, \"n\": 5328}, {\"threshold\": 0.149, \"p\": 27976, \"fpr\": 0.4005255255255255, \"tpr\": 0.9761223906205319, \"n\": 5328}, {\"threshold\": 0.15, \"p\": 27976, \"fpr\": 0.3999624624624625, \"tpr\": 0.9760866456963111, \"n\": 5328}, {\"threshold\": 0.151, \"p\": 27976, \"fpr\": 0.39883633633633636, \"tpr\": 0.9760509007720903, \"n\": 5328}, {\"threshold\": 0.152, \"p\": 27976, \"fpr\": 0.39883633633633636, \"tpr\": 0.9759794109236488, \"n\": 5328}, {\"threshold\": 0.153, \"p\": 27976, \"fpr\": 0.3982732732732733, \"tpr\": 0.9758364312267658, \"n\": 5328}, {\"threshold\": 0.154, \"p\": 27976, \"fpr\": 0.39714714714714716, \"tpr\": 0.9757649413783243, \"n\": 5328}, {\"threshold\": 0.155, \"p\": 27976, \"fpr\": 0.39677177177177175, \"tpr\": 0.9756219616814412, \"n\": 5328}, {\"threshold\": 0.156, \"p\": 27976, \"fpr\": 0.3962087087087087, \"tpr\": 0.9755504718329997, \"n\": 5328}, {\"threshold\": 0.157, \"p\": 27976, \"fpr\": 0.39602102102102105, \"tpr\": 0.9754432370603374, \"n\": 5328}, {\"threshold\": 0.158, \"p\": 27976, \"fpr\": 0.3952702702702703, \"tpr\": 0.9753717472118959, \"n\": 5328}, {\"threshold\": 0.159, \"p\": 27976, \"fpr\": 0.3950825825825826, \"tpr\": 0.9753360022876751, \"n\": 5328}, {\"threshold\": 0.16, \"p\": 27976, \"fpr\": 0.3945195195195195, \"tpr\": 0.9753360022876751, \"n\": 5328}, {\"threshold\": 0.161, \"p\": 27976, \"fpr\": 0.39376876876876876, \"tpr\": 0.9752645124392336, \"n\": 5328}, {\"threshold\": 0.162, \"p\": 27976, \"fpr\": 0.39320570570570573, \"tpr\": 0.9751930225907921, \"n\": 5328}, {\"threshold\": 0.163, \"p\": 27976, \"fpr\": 0.3928303303303303, \"tpr\": 0.9751215327423506, \"n\": 5328}, {\"threshold\": 0.164, \"p\": 27976, \"fpr\": 0.3918918918918919, \"tpr\": 0.9751215327423506, \"n\": 5328}, {\"threshold\": 0.165, \"p\": 27976, \"fpr\": 0.3911411411411411, \"tpr\": 0.9750142979696883, \"n\": 5328}, {\"threshold\": 0.166, \"p\": 27976, \"fpr\": 0.39076576576576577, \"tpr\": 0.9749428081212468, \"n\": 5328}, {\"threshold\": 0.167, \"p\": 27976, \"fpr\": 0.39039039039039036, \"tpr\": 0.9748355733485845, \"n\": 5328}, {\"threshold\": 0.168, \"p\": 27976, \"fpr\": 0.390015015015015, \"tpr\": 0.974764083500143, \"n\": 5328}, {\"threshold\": 0.169, \"p\": 27976, \"fpr\": 0.38926426426426425, \"tpr\": 0.9746568487274807, \"n\": 5328}, {\"threshold\": 0.17, \"p\": 27976, \"fpr\": 0.38795045045045046, \"tpr\": 0.9745496139548184, \"n\": 5328}, {\"threshold\": 0.171, \"p\": 27976, \"fpr\": 0.38682432432432434, \"tpr\": 0.9745496139548184, \"n\": 5328}, {\"threshold\": 0.172, \"p\": 27976, \"fpr\": 0.38644894894894893, \"tpr\": 0.9744781241063769, \"n\": 5328}, {\"threshold\": 0.173, \"p\": 27976, \"fpr\": 0.3855105105105105, \"tpr\": 0.9744781241063769, \"n\": 5328}, {\"threshold\": 0.174, \"p\": 27976, \"fpr\": 0.3853228228228228, \"tpr\": 0.9744066342579354, \"n\": 5328}, {\"threshold\": 0.175, \"p\": 27976, \"fpr\": 0.38513513513513514, \"tpr\": 0.9742636545610524, \"n\": 5328}, {\"threshold\": 0.176, \"p\": 27976, \"fpr\": 0.3843843843843844, \"tpr\": 0.9742279096368316, \"n\": 5328}, {\"threshold\": 0.177, \"p\": 27976, \"fpr\": 0.38288288288288286, \"tpr\": 0.9741921647126108, \"n\": 5328}, {\"threshold\": 0.178, \"p\": 27976, \"fpr\": 0.38213213213213215, \"tpr\": 0.9740849299399486, \"n\": 5328}, {\"threshold\": 0.179, \"p\": 27976, \"fpr\": 0.38175675675675674, \"tpr\": 0.974013440091507, \"n\": 5328}, {\"threshold\": 0.18, \"p\": 27976, \"fpr\": 0.3808183183183183, \"tpr\": 0.9739062053188448, \"n\": 5328}, {\"threshold\": 0.181, \"p\": 27976, \"fpr\": 0.3802552552552553, \"tpr\": 0.9738347154704032, \"n\": 5328}, {\"threshold\": 0.182, \"p\": 27976, \"fpr\": 0.3795045045045045, \"tpr\": 0.9736202459250787, \"n\": 5328}, {\"threshold\": 0.183, \"p\": 27976, \"fpr\": 0.37875375375375375, \"tpr\": 0.9734772662281956, \"n\": 5328}, {\"threshold\": 0.184, \"p\": 27976, \"fpr\": 0.3783783783783784, \"tpr\": 0.9733342865313126, \"n\": 5328}, {\"threshold\": 0.185, \"p\": 27976, \"fpr\": 0.3778153153153153, \"tpr\": 0.9732985416070918, \"n\": 5328}, {\"threshold\": 0.186, \"p\": 27976, \"fpr\": 0.3768768768768769, \"tpr\": 0.9732985416070918, \"n\": 5328}, {\"threshold\": 0.187, \"p\": 27976, \"fpr\": 0.37575075075075076, \"tpr\": 0.9731555619102088, \"n\": 5328}, {\"threshold\": 0.188, \"p\": 27976, \"fpr\": 0.37575075075075076, \"tpr\": 0.973119816985988, \"n\": 5328}, {\"threshold\": 0.189, \"p\": 27976, \"fpr\": 0.37537537537537535, \"tpr\": 0.9730483271375465, \"n\": 5328}, {\"threshold\": 0.19, \"p\": 27976, \"fpr\": 0.375, \"tpr\": 0.9729053474406634, \"n\": 5328}, {\"threshold\": 0.191, \"p\": 27976, \"fpr\": 0.3744369369369369, \"tpr\": 0.9728338575922219, \"n\": 5328}, {\"threshold\": 0.192, \"p\": 27976, \"fpr\": 0.37424924924924924, \"tpr\": 0.9727266228195596, \"n\": 5328}, {\"threshold\": 0.193, \"p\": 27976, \"fpr\": 0.3736861861861862, \"tpr\": 0.972655132971118, \"n\": 5328}, {\"threshold\": 0.194, \"p\": 27976, \"fpr\": 0.3733108108108108, \"tpr\": 0.9725836431226765, \"n\": 5328}, {\"threshold\": 0.195, \"p\": 27976, \"fpr\": 0.37293543543543545, \"tpr\": 0.972512153274235, \"n\": 5328}, {\"threshold\": 0.196, \"p\": 27976, \"fpr\": 0.37256006006006004, \"tpr\": 0.9724406634257935, \"n\": 5328}, {\"threshold\": 0.197, \"p\": 27976, \"fpr\": 0.37237237237237236, \"tpr\": 0.9724049185015727, \"n\": 5328}, {\"threshold\": 0.198, \"p\": 27976, \"fpr\": 0.3721846846846847, \"tpr\": 0.972369173577352, \"n\": 5328}, {\"threshold\": 0.199, \"p\": 27976, \"fpr\": 0.37180930930930933, \"tpr\": 0.9722619388046897, \"n\": 5328}, {\"threshold\": 0.2, \"p\": 27976, \"fpr\": 0.37105855855855857, \"tpr\": 0.9722261938804689, \"n\": 5328}, {\"threshold\": 0.201, \"p\": 27976, \"fpr\": 0.3704954954954955, \"tpr\": 0.9721904489562482, \"n\": 5328}, {\"threshold\": 0.202, \"p\": 27976, \"fpr\": 0.37012012012012013, \"tpr\": 0.9721189591078067, \"n\": 5328}, {\"threshold\": 0.203, \"p\": 27976, \"fpr\": 0.37012012012012013, \"tpr\": 0.9720832141835859, \"n\": 5328}, {\"threshold\": 0.204, \"p\": 27976, \"fpr\": 0.36955705705705705, \"tpr\": 0.9719402344867029, \"n\": 5328}, {\"threshold\": 0.205, \"p\": 27976, \"fpr\": 0.36843093093093093, \"tpr\": 0.9717972547898198, \"n\": 5328}, {\"threshold\": 0.206, \"p\": 27976, \"fpr\": 0.3674924924924925, \"tpr\": 0.9717257649413783, \"n\": 5328}, {\"threshold\": 0.207, \"p\": 27976, \"fpr\": 0.36711711711711714, \"tpr\": 0.9717257649413783, \"n\": 5328}, {\"threshold\": 0.208, \"p\": 27976, \"fpr\": 0.36674174174174173, \"tpr\": 0.971618530168716, \"n\": 5328}, {\"threshold\": 0.209, \"p\": 27976, \"fpr\": 0.3658033033033033, \"tpr\": 0.9715470403202745, \"n\": 5328}, {\"threshold\": 0.21, \"p\": 27976, \"fpr\": 0.3644894894894895, \"tpr\": 0.971475550471833, \"n\": 5328}, {\"threshold\": 0.211, \"p\": 27976, \"fpr\": 0.3641141141141141, \"tpr\": 0.9713683156991707, \"n\": 5328}, {\"threshold\": 0.212, \"p\": 27976, \"fpr\": 0.3639264264264264, \"tpr\": 0.9711538461538461, \"n\": 5328}, {\"threshold\": 0.213, \"p\": 27976, \"fpr\": 0.3633633633633634, \"tpr\": 0.9711181012296254, \"n\": 5328}, {\"threshold\": 0.214, \"p\": 27976, \"fpr\": 0.362987987987988, \"tpr\": 0.9710108664569631, \"n\": 5328}, {\"threshold\": 0.215, \"p\": 27976, \"fpr\": 0.36242492492492495, \"tpr\": 0.9709751215327423, \"n\": 5328}, {\"threshold\": 0.216, \"p\": 27976, \"fpr\": 0.3614864864864865, \"tpr\": 0.9709036316843008, \"n\": 5328}, {\"threshold\": 0.217, \"p\": 27976, \"fpr\": 0.3611111111111111, \"tpr\": 0.9709036316843008, \"n\": 5328}, {\"threshold\": 0.218, \"p\": 27976, \"fpr\": 0.359984984984985, \"tpr\": 0.9709036316843008, \"n\": 5328}, {\"threshold\": 0.219, \"p\": 27976, \"fpr\": 0.35923423423423423, \"tpr\": 0.9708321418358593, \"n\": 5328}, {\"threshold\": 0.22, \"p\": 27976, \"fpr\": 0.3582957957957958, \"tpr\": 0.9707963969116385, \"n\": 5328}, {\"threshold\": 0.221, \"p\": 27976, \"fpr\": 0.3577327327327327, \"tpr\": 0.9706891621389763, \"n\": 5328}, {\"threshold\": 0.222, \"p\": 27976, \"fpr\": 0.35754504504504503, \"tpr\": 0.9706891621389763, \"n\": 5328}, {\"threshold\": 0.223, \"p\": 27976, \"fpr\": 0.3571696696696697, \"tpr\": 0.9704746925936517, \"n\": 5328}, {\"threshold\": 0.224, \"p\": 27976, \"fpr\": 0.35623123123123124, \"tpr\": 0.9704032027452102, \"n\": 5328}, {\"threshold\": 0.225, \"p\": 27976, \"fpr\": 0.3554804804804805, \"tpr\": 0.9703674578209894, \"n\": 5328}, {\"threshold\": 0.226, \"p\": 27976, \"fpr\": 0.3549174174174174, \"tpr\": 0.9702602230483272, \"n\": 5328}, {\"threshold\": 0.227, \"p\": 27976, \"fpr\": 0.3547297297297297, \"tpr\": 0.9700457535030026, \"n\": 5328}, {\"threshold\": 0.228, \"p\": 27976, \"fpr\": 0.3541666666666667, \"tpr\": 0.9699742636545611, \"n\": 5328}, {\"threshold\": 0.229, \"p\": 27976, \"fpr\": 0.3534159159159159, \"tpr\": 0.9699385187303403, \"n\": 5328}, {\"threshold\": 0.23, \"p\": 27976, \"fpr\": 0.3530405405405405, \"tpr\": 0.9699027738061196, \"n\": 5328}, {\"threshold\": 0.231, \"p\": 27976, \"fpr\": 0.3522897897897898, \"tpr\": 0.9697955390334573, \"n\": 5328}, {\"threshold\": 0.232, \"p\": 27976, \"fpr\": 0.35135135135135137, \"tpr\": 0.9697240491850158, \"n\": 5328}, {\"threshold\": 0.233, \"p\": 27976, \"fpr\": 0.35097597597597596, \"tpr\": 0.9696525593365742, \"n\": 5328}, {\"threshold\": 0.234, \"p\": 27976, \"fpr\": 0.3506006006006006, \"tpr\": 0.9696168144123535, \"n\": 5328}, {\"threshold\": 0.235, \"p\": 27976, \"fpr\": 0.35041291291291293, \"tpr\": 0.9696168144123535, \"n\": 5328}, {\"threshold\": 0.236, \"p\": 27976, \"fpr\": 0.3494744744744745, \"tpr\": 0.9695810694881327, \"n\": 5328}, {\"threshold\": 0.237, \"p\": 27976, \"fpr\": 0.3490990990990991, \"tpr\": 0.969545324563912, \"n\": 5328}, {\"threshold\": 0.238, \"p\": 27976, \"fpr\": 0.34816066066066065, \"tpr\": 0.9695095796396912, \"n\": 5328}, {\"threshold\": 0.239, \"p\": 27976, \"fpr\": 0.3475975975975976, \"tpr\": 0.9694738347154704, \"n\": 5328}, {\"threshold\": 0.24, \"p\": 27976, \"fpr\": 0.3474099099099099, \"tpr\": 0.9691878753217044, \"n\": 5328}, {\"threshold\": 0.241, \"p\": 27976, \"fpr\": 0.3466591591591592, \"tpr\": 0.9690806405490421, \"n\": 5328}, {\"threshold\": 0.242, \"p\": 27976, \"fpr\": 0.34647147147147145, \"tpr\": 0.9690091507006006, \"n\": 5328}, {\"threshold\": 0.243, \"p\": 27976, \"fpr\": 0.3460960960960961, \"tpr\": 0.9689019159279383, \"n\": 5328}, {\"threshold\": 0.244, \"p\": 27976, \"fpr\": 0.34572072072072074, \"tpr\": 0.9688304260794968, \"n\": 5328}, {\"threshold\": 0.245, \"p\": 27976, \"fpr\": 0.3447822822822823, \"tpr\": 0.9687231913068344, \"n\": 5328}, {\"threshold\": 0.246, \"p\": 27976, \"fpr\": 0.34403153153153154, \"tpr\": 0.9686517014583929, \"n\": 5328}, {\"threshold\": 0.247, \"p\": 27976, \"fpr\": 0.34403153153153154, \"tpr\": 0.9685802116099513, \"n\": 5328}, {\"threshold\": 0.248, \"p\": 27976, \"fpr\": 0.34365615615615613, \"tpr\": 0.9685444666857306, \"n\": 5328}, {\"threshold\": 0.249, \"p\": 27976, \"fpr\": 0.3432807807807808, \"tpr\": 0.9684729768372891, \"n\": 5328}, {\"threshold\": 0.25, \"p\": 27976, \"fpr\": 0.34290540540540543, \"tpr\": 0.9684372319130683, \"n\": 5328}, {\"threshold\": 0.251, \"p\": 27976, \"fpr\": 0.34253003003003, \"tpr\": 0.9684014869888475, \"n\": 5328}, {\"threshold\": 0.252, \"p\": 27976, \"fpr\": 0.34234234234234234, \"tpr\": 0.9682942522161853, \"n\": 5328}, {\"threshold\": 0.253, \"p\": 27976, \"fpr\": 0.341966966966967, \"tpr\": 0.9682227623677437, \"n\": 5328}, {\"threshold\": 0.254, \"p\": 27976, \"fpr\": 0.3415915915915916, \"tpr\": 0.968187017443523, \"n\": 5328}, {\"threshold\": 0.255, \"p\": 27976, \"fpr\": 0.34121621621621623, \"tpr\": 0.9681512725193022, \"n\": 5328}, {\"threshold\": 0.256, \"p\": 27976, \"fpr\": 0.34046546546546547, \"tpr\": 0.9680797826708607, \"n\": 5328}, {\"threshold\": 0.257, \"p\": 27976, \"fpr\": 0.3400900900900901, \"tpr\": 0.9680440377466399, \"n\": 5328}, {\"threshold\": 0.258, \"p\": 27976, \"fpr\": 0.3399024024024024, \"tpr\": 0.9679725478981984, \"n\": 5328}, {\"threshold\": 0.259, \"p\": 27976, \"fpr\": 0.33877627627627627, \"tpr\": 0.9679368029739777, \"n\": 5328}, {\"threshold\": 0.26, \"p\": 27976, \"fpr\": 0.3385885885885886, \"tpr\": 0.9678653131255361, \"n\": 5328}, {\"threshold\": 0.261, \"p\": 27976, \"fpr\": 0.3385885885885886, \"tpr\": 0.9677938232770946, \"n\": 5328}, {\"threshold\": 0.262, \"p\": 27976, \"fpr\": 0.33821321321321324, \"tpr\": 0.9677938232770946, \"n\": 5328}, {\"threshold\": 0.263, \"p\": 27976, \"fpr\": 0.33765015015015015, \"tpr\": 0.9677223334286531, \"n\": 5328}, {\"threshold\": 0.264, \"p\": 27976, \"fpr\": 0.3372747747747748, \"tpr\": 0.9676508435802116, \"n\": 5328}, {\"threshold\": 0.265, \"p\": 27976, \"fpr\": 0.3367117117117117, \"tpr\": 0.9676150986559908, \"n\": 5328}, {\"threshold\": 0.266, \"p\": 27976, \"fpr\": 0.33652402402402404, \"tpr\": 0.9674721189591078, \"n\": 5328}, {\"threshold\": 0.267, \"p\": 27976, \"fpr\": 0.3355855855855856, \"tpr\": 0.967436374034887, \"n\": 5328}, {\"threshold\": 0.268, \"p\": 27976, \"fpr\": 0.3352102102102102, \"tpr\": 0.9673291392622247, \"n\": 5328}, {\"threshold\": 0.269, \"p\": 27976, \"fpr\": 0.33483483483483484, \"tpr\": 0.9672576494137832, \"n\": 5328}, {\"threshold\": 0.27, \"p\": 27976, \"fpr\": 0.33464714714714716, \"tpr\": 0.9672576494137832, \"n\": 5328}, {\"threshold\": 0.271, \"p\": 27976, \"fpr\": 0.3344594594594595, \"tpr\": 0.9671146697169002, \"n\": 5328}, {\"threshold\": 0.272, \"p\": 27976, \"fpr\": 0.33352102102102105, \"tpr\": 0.9671146697169002, \"n\": 5328}, {\"threshold\": 0.273, \"p\": 27976, \"fpr\": 0.33295795795795796, \"tpr\": 0.9670789247926794, \"n\": 5328}, {\"threshold\": 0.274, \"p\": 27976, \"fpr\": 0.3323948948948949, \"tpr\": 0.9670074349442379, \"n\": 5328}, {\"threshold\": 0.275, \"p\": 27976, \"fpr\": 0.33183183183183185, \"tpr\": 0.9669002001715756, \"n\": 5328}, {\"threshold\": 0.276, \"p\": 27976, \"fpr\": 0.33145645645645644, \"tpr\": 0.9668644552473549, \"n\": 5328}, {\"threshold\": 0.277, \"p\": 27976, \"fpr\": 0.3310810810810811, \"tpr\": 0.9668644552473549, \"n\": 5328}, {\"threshold\": 0.278, \"p\": 27976, \"fpr\": 0.33070570570570573, \"tpr\": 0.9668287103231341, \"n\": 5328}, {\"threshold\": 0.279, \"p\": 27976, \"fpr\": 0.33014264264264265, \"tpr\": 0.9667929653989134, \"n\": 5328}, {\"threshold\": 0.28, \"p\": 27976, \"fpr\": 0.32995495495495497, \"tpr\": 0.9667929653989134, \"n\": 5328}, {\"threshold\": 0.281, \"p\": 27976, \"fpr\": 0.32957957957957956, \"tpr\": 0.9666857306262511, \"n\": 5328}, {\"threshold\": 0.282, \"p\": 27976, \"fpr\": 0.32957957957957956, \"tpr\": 0.9666499857020303, \"n\": 5328}, {\"threshold\": 0.283, \"p\": 27976, \"fpr\": 0.3286411411411411, \"tpr\": 0.966542750929368, \"n\": 5328}, {\"threshold\": 0.284, \"p\": 27976, \"fpr\": 0.32826576576576577, \"tpr\": 0.9664355161567058, \"n\": 5328}, {\"threshold\": 0.285, \"p\": 27976, \"fpr\": 0.3277027027027027, \"tpr\": 0.9663282813840435, \"n\": 5328}, {\"threshold\": 0.286, \"p\": 27976, \"fpr\": 0.327515015015015, \"tpr\": 0.9662925364598227, \"n\": 5328}, {\"threshold\": 0.287, \"p\": 27976, \"fpr\": 0.3269519519519519, \"tpr\": 0.9661495567629397, \"n\": 5328}, {\"threshold\": 0.288, \"p\": 27976, \"fpr\": 0.3263888888888889, \"tpr\": 0.9660423219902774, \"n\": 5328}, {\"threshold\": 0.289, \"p\": 27976, \"fpr\": 0.3260135135135135, \"tpr\": 0.9659350872176151, \"n\": 5328}, {\"threshold\": 0.29, \"p\": 27976, \"fpr\": 0.32563813813813813, \"tpr\": 0.9657921075207321, \"n\": 5328}, {\"threshold\": 0.291, \"p\": 27976, \"fpr\": 0.32507507507507505, \"tpr\": 0.9657206176722906, \"n\": 5328}, {\"threshold\": 0.292, \"p\": 27976, \"fpr\": 0.3246996996996997, \"tpr\": 0.9656133828996283, \"n\": 5328}, {\"threshold\": 0.293, \"p\": 27976, \"fpr\": 0.3241366366366366, \"tpr\": 0.9655418930511868, \"n\": 5328}, {\"threshold\": 0.294, \"p\": 27976, \"fpr\": 0.3241366366366366, \"tpr\": 0.9653989133543037, \"n\": 5328}, {\"threshold\": 0.295, \"p\": 27976, \"fpr\": 0.32394894894894893, \"tpr\": 0.9652916785816414, \"n\": 5328}, {\"threshold\": 0.296, \"p\": 27976, \"fpr\": 0.3233858858858859, \"tpr\": 0.9652559336574207, \"n\": 5328}, {\"threshold\": 0.297, \"p\": 27976, \"fpr\": 0.32263513513513514, \"tpr\": 0.9651844438089792, \"n\": 5328}, {\"threshold\": 0.298, \"p\": 27976, \"fpr\": 0.32244744744744747, \"tpr\": 0.9650772090363169, \"n\": 5328}, {\"threshold\": 0.299, \"p\": 27976, \"fpr\": 0.3218843843843844, \"tpr\": 0.9650414641120961, \"n\": 5328}, {\"threshold\": 0.3, \"p\": 27976, \"fpr\": 0.3216966966966967, \"tpr\": 0.9648984844152131, \"n\": 5328}, {\"threshold\": 0.301, \"p\": 27976, \"fpr\": 0.32094594594594594, \"tpr\": 0.9648627394909923, \"n\": 5328}, {\"threshold\": 0.302, \"p\": 27976, \"fpr\": 0.32075825825825827, \"tpr\": 0.96475550471833, \"n\": 5328}, {\"threshold\": 0.303, \"p\": 27976, \"fpr\": 0.3201951951951952, \"tpr\": 0.96475550471833, \"n\": 5328}, {\"threshold\": 0.304, \"p\": 27976, \"fpr\": 0.31963213213213215, \"tpr\": 0.9646840148698885, \"n\": 5328}, {\"threshold\": 0.305, \"p\": 27976, \"fpr\": 0.31906906906906907, \"tpr\": 0.964612525021447, \"n\": 5328}, {\"threshold\": 0.306, \"p\": 27976, \"fpr\": 0.318506006006006, \"tpr\": 0.9645052902487846, \"n\": 5328}, {\"threshold\": 0.307, \"p\": 27976, \"fpr\": 0.318506006006006, \"tpr\": 0.9644338004003431, \"n\": 5328}, {\"threshold\": 0.308, \"p\": 27976, \"fpr\": 0.31813063063063063, \"tpr\": 0.9644338004003431, \"n\": 5328}, {\"threshold\": 0.309, \"p\": 27976, \"fpr\": 0.3171921921921922, \"tpr\": 0.9644338004003431, \"n\": 5328}, {\"threshold\": 0.31, \"p\": 27976, \"fpr\": 0.3170045045045045, \"tpr\": 0.9642550757792393, \"n\": 5328}, {\"threshold\": 0.311, \"p\": 27976, \"fpr\": 0.31625375375375375, \"tpr\": 0.9642550757792393, \"n\": 5328}, {\"threshold\": 0.312, \"p\": 27976, \"fpr\": 0.3160660660660661, \"tpr\": 0.964147841006577, \"n\": 5328}, {\"threshold\": 0.313, \"p\": 27976, \"fpr\": 0.31569069069069067, \"tpr\": 0.9640406062339147, \"n\": 5328}, {\"threshold\": 0.314, \"p\": 27976, \"fpr\": 0.31512762762762764, \"tpr\": 0.9640406062339147, \"n\": 5328}, {\"threshold\": 0.315, \"p\": 27976, \"fpr\": 0.3140015015015015, \"tpr\": 0.964004861309694, \"n\": 5328}, {\"threshold\": 0.316, \"p\": 27976, \"fpr\": 0.3136261261261261, \"tpr\": 0.963861881612811, \"n\": 5328}, {\"threshold\": 0.317, \"p\": 27976, \"fpr\": 0.31287537537537535, \"tpr\": 0.9637189019159279, \"n\": 5328}, {\"threshold\": 0.318, \"p\": 27976, \"fpr\": 0.3126876876876877, \"tpr\": 0.9636474120674864, \"n\": 5328}, {\"threshold\": 0.319, \"p\": 27976, \"fpr\": 0.3123123123123123, \"tpr\": 0.9635401772948241, \"n\": 5328}, {\"threshold\": 0.32, \"p\": 27976, \"fpr\": 0.31212462462462465, \"tpr\": 0.9634686874463826, \"n\": 5328}, {\"threshold\": 0.321, \"p\": 27976, \"fpr\": 0.3119369369369369, \"tpr\": 0.9633614526737203, \"n\": 5328}, {\"threshold\": 0.322, \"p\": 27976, \"fpr\": 0.31156156156156156, \"tpr\": 0.9631469831283958, \"n\": 5328}, {\"threshold\": 0.323, \"p\": 27976, \"fpr\": 0.3113738738738739, \"tpr\": 0.9631469831283958, \"n\": 5328}, {\"threshold\": 0.324, \"p\": 27976, \"fpr\": 0.3111861861861862, \"tpr\": 0.9630754932799542, \"n\": 5328}, {\"threshold\": 0.325, \"p\": 27976, \"fpr\": 0.3108108108108108, \"tpr\": 0.9630040034315127, \"n\": 5328}, {\"threshold\": 0.326, \"p\": 27976, \"fpr\": 0.31043543543543545, \"tpr\": 0.9628967686588504, \"n\": 5328}, {\"threshold\": 0.327, \"p\": 27976, \"fpr\": 0.31006006006006004, \"tpr\": 0.9628610237346297, \"n\": 5328}, {\"threshold\": 0.328, \"p\": 27976, \"fpr\": 0.3089339339339339, \"tpr\": 0.9628252788104089, \"n\": 5328}, {\"threshold\": 0.329, \"p\": 27976, \"fpr\": 0.30818318318318316, \"tpr\": 0.9627895338861882, \"n\": 5328}, {\"threshold\": 0.33, \"p\": 27976, \"fpr\": 0.30743243243243246, \"tpr\": 0.9627537889619674, \"n\": 5328}, {\"threshold\": 0.331, \"p\": 27976, \"fpr\": 0.30705705705705705, \"tpr\": 0.9627180440377466, \"n\": 5328}, {\"threshold\": 0.332, \"p\": 27976, \"fpr\": 0.30686936936936937, \"tpr\": 0.9626108092650844, \"n\": 5328}, {\"threshold\": 0.333, \"p\": 27976, \"fpr\": 0.3066816816816817, \"tpr\": 0.9625393194166428, \"n\": 5328}, {\"threshold\": 0.334, \"p\": 27976, \"fpr\": 0.30574324324324326, \"tpr\": 0.9625393194166428, \"n\": 5328}, {\"threshold\": 0.335, \"p\": 27976, \"fpr\": 0.30536786786786785, \"tpr\": 0.9625035744924221, \"n\": 5328}, {\"threshold\": 0.336, \"p\": 27976, \"fpr\": 0.3049924924924925, \"tpr\": 0.9624678295682013, \"n\": 5328}, {\"threshold\": 0.337, \"p\": 27976, \"fpr\": 0.30461711711711714, \"tpr\": 0.9623248498713183, \"n\": 5328}, {\"threshold\": 0.338, \"p\": 27976, \"fpr\": 0.30424174174174173, \"tpr\": 0.962217615098656, \"n\": 5328}, {\"threshold\": 0.339, \"p\": 27976, \"fpr\": 0.3038663663663664, \"tpr\": 0.9621818701744352, \"n\": 5328}, {\"threshold\": 0.34, \"p\": 27976, \"fpr\": 0.30292792792792794, \"tpr\": 0.9620388904775522, \"n\": 5328}, {\"threshold\": 0.341, \"p\": 27976, \"fpr\": 0.30274024024024027, \"tpr\": 0.9619674006291107, \"n\": 5328}, {\"threshold\": 0.342, \"p\": 27976, \"fpr\": 0.3019894894894895, \"tpr\": 0.9618601658564484, \"n\": 5328}, {\"threshold\": 0.343, \"p\": 27976, \"fpr\": 0.3019894894894895, \"tpr\": 0.9617529310837861, \"n\": 5328}, {\"threshold\": 0.344, \"p\": 27976, \"fpr\": 0.30180180180180183, \"tpr\": 0.9615384615384616, \"n\": 5328}, {\"threshold\": 0.345, \"p\": 27976, \"fpr\": 0.30123873873873874, \"tpr\": 0.96146697169002, \"n\": 5328}, {\"threshold\": 0.346, \"p\": 27976, \"fpr\": 0.30105105105105107, \"tpr\": 0.9614312267657993, \"n\": 5328}, {\"threshold\": 0.347, \"p\": 27976, \"fpr\": 0.3003003003003003, \"tpr\": 0.9612882470689162, \"n\": 5328}, {\"threshold\": 0.348, \"p\": 27976, \"fpr\": 0.30011261261261263, \"tpr\": 0.9612525021446955, \"n\": 5328}, {\"threshold\": 0.349, \"p\": 27976, \"fpr\": 0.29992492492492495, \"tpr\": 0.961181012296254, \"n\": 5328}, {\"threshold\": 0.35, \"p\": 27976, \"fpr\": 0.29992492492492495, \"tpr\": 0.9611095224478124, \"n\": 5328}, {\"threshold\": 0.351, \"p\": 27976, \"fpr\": 0.2989864864864865, \"tpr\": 0.9610380325993709, \"n\": 5328}, {\"threshold\": 0.352, \"p\": 27976, \"fpr\": 0.2987987987987988, \"tpr\": 0.9610022876751502, \"n\": 5328}, {\"threshold\": 0.353, \"p\": 27976, \"fpr\": 0.29823573573573575, \"tpr\": 0.9608593079782671, \"n\": 5328}, {\"threshold\": 0.354, \"p\": 27976, \"fpr\": 0.2980480480480481, \"tpr\": 0.9607878181298256, \"n\": 5328}, {\"threshold\": 0.355, \"p\": 27976, \"fpr\": 0.2980480480480481, \"tpr\": 0.9606448384329426, \"n\": 5328}, {\"threshold\": 0.356, \"p\": 27976, \"fpr\": 0.29786036036036034, \"tpr\": 0.9606448384329426, \"n\": 5328}, {\"threshold\": 0.357, \"p\": 27976, \"fpr\": 0.2972972972972973, \"tpr\": 0.9605376036602803, \"n\": 5328}, {\"threshold\": 0.358, \"p\": 27976, \"fpr\": 0.29710960960960964, \"tpr\": 0.9604661138118388, \"n\": 5328}, {\"threshold\": 0.359, \"p\": 27976, \"fpr\": 0.29710960960960964, \"tpr\": 0.9603588790391764, \"n\": 5328}, {\"threshold\": 0.36, \"p\": 27976, \"fpr\": 0.2963588588588589, \"tpr\": 0.9603231341149556, \"n\": 5328}, {\"threshold\": 0.361, \"p\": 27976, \"fpr\": 0.29617117117117114, \"tpr\": 0.9602158993422933, \"n\": 5328}, {\"threshold\": 0.362, \"p\": 27976, \"fpr\": 0.29598348348348347, \"tpr\": 0.9601444094938518, \"n\": 5328}, {\"threshold\": 0.363, \"p\": 27976, \"fpr\": 0.2956081081081081, \"tpr\": 0.9600371747211895, \"n\": 5328}, {\"threshold\": 0.364, \"p\": 27976, \"fpr\": 0.2956081081081081, \"tpr\": 0.9600014297969688, \"n\": 5328}, {\"threshold\": 0.365, \"p\": 27976, \"fpr\": 0.2952327327327327, \"tpr\": 0.9599299399485273, \"n\": 5328}, {\"threshold\": 0.366, \"p\": 27976, \"fpr\": 0.29485735735735735, \"tpr\": 0.9598584501000857, \"n\": 5328}, {\"threshold\": 0.367, \"p\": 27976, \"fpr\": 0.294481981981982, \"tpr\": 0.959822705175865, \"n\": 5328}, {\"threshold\": 0.368, \"p\": 27976, \"fpr\": 0.294481981981982, \"tpr\": 0.9596439805547612, \"n\": 5328}, {\"threshold\": 0.369, \"p\": 27976, \"fpr\": 0.294481981981982, \"tpr\": 0.9594652559336574, \"n\": 5328}, {\"threshold\": 0.37, \"p\": 27976, \"fpr\": 0.29429429429429427, \"tpr\": 0.9594295110094366, \"n\": 5328}, {\"threshold\": 0.371, \"p\": 27976, \"fpr\": 0.29429429429429427, \"tpr\": 0.9593222762367744, \"n\": 5328}, {\"threshold\": 0.372, \"p\": 27976, \"fpr\": 0.2941066066066066, \"tpr\": 0.9592507863883328, \"n\": 5328}, {\"threshold\": 0.373, \"p\": 27976, \"fpr\": 0.29354354354354356, \"tpr\": 0.9592507863883328, \"n\": 5328}, {\"threshold\": 0.374, \"p\": 27976, \"fpr\": 0.29316816816816815, \"tpr\": 0.9592507863883328, \"n\": 5328}, {\"threshold\": 0.375, \"p\": 27976, \"fpr\": 0.2929804804804805, \"tpr\": 0.9591435516156706, \"n\": 5328}, {\"threshold\": 0.376, \"p\": 27976, \"fpr\": 0.2924174174174174, \"tpr\": 0.9591435516156706, \"n\": 5328}, {\"threshold\": 0.377, \"p\": 27976, \"fpr\": 0.2922297297297297, \"tpr\": 0.959072061767229, \"n\": 5328}, {\"threshold\": 0.378, \"p\": 27976, \"fpr\": 0.29185435435435436, \"tpr\": 0.958786102373463, \"n\": 5328}, {\"threshold\": 0.379, \"p\": 27976, \"fpr\": 0.2912912912912913, \"tpr\": 0.9587503574492422, \"n\": 5328}, {\"threshold\": 0.38, \"p\": 27976, \"fpr\": 0.2911036036036036, \"tpr\": 0.9586073777523592, \"n\": 5328}, {\"threshold\": 0.381, \"p\": 27976, \"fpr\": 0.2905405405405405, \"tpr\": 0.9585358879039176, \"n\": 5328}, {\"threshold\": 0.382, \"p\": 27976, \"fpr\": 0.2897897897897898, \"tpr\": 0.9584643980554761, \"n\": 5328}, {\"threshold\": 0.383, \"p\": 27976, \"fpr\": 0.2896021021021021, \"tpr\": 0.9582856734343723, \"n\": 5328}, {\"threshold\": 0.384, \"p\": 27976, \"fpr\": 0.2894144144144144, \"tpr\": 0.95817843866171, \"n\": 5328}, {\"threshold\": 0.385, \"p\": 27976, \"fpr\": 0.2894144144144144, \"tpr\": 0.9580712038890478, \"n\": 5328}, {\"threshold\": 0.386, \"p\": 27976, \"fpr\": 0.2882882882882883, \"tpr\": 0.958035458964827, \"n\": 5328}, {\"threshold\": 0.387, \"p\": 27976, \"fpr\": 0.28791291291291293, \"tpr\": 0.958035458964827, \"n\": 5328}, {\"threshold\": 0.388, \"p\": 27976, \"fpr\": 0.2869744744744745, \"tpr\": 0.957892479267944, \"n\": 5328}, {\"threshold\": 0.389, \"p\": 27976, \"fpr\": 0.28622372372372373, \"tpr\": 0.9578209894195024, \"n\": 5328}, {\"threshold\": 0.39, \"p\": 27976, \"fpr\": 0.28603603603603606, \"tpr\": 0.9577494995710609, \"n\": 5328}, {\"threshold\": 0.391, \"p\": 27976, \"fpr\": 0.28547297297297297, \"tpr\": 0.9576780097226194, \"n\": 5328}, {\"threshold\": 0.392, \"p\": 27976, \"fpr\": 0.2850975975975976, \"tpr\": 0.9575707749499571, \"n\": 5328}, {\"threshold\": 0.393, \"p\": 27976, \"fpr\": 0.28434684684684686, \"tpr\": 0.9573563054046326, \"n\": 5328}, {\"threshold\": 0.394, \"p\": 27976, \"fpr\": 0.28397147147147145, \"tpr\": 0.9573205604804118, \"n\": 5328}, {\"threshold\": 0.395, \"p\": 27976, \"fpr\": 0.28378378378378377, \"tpr\": 0.9571775807835288, \"n\": 5328}, {\"threshold\": 0.396, \"p\": 27976, \"fpr\": 0.2834084084084084, \"tpr\": 0.9571060909350873, \"n\": 5328}, {\"threshold\": 0.397, \"p\": 27976, \"fpr\": 0.28284534534534533, \"tpr\": 0.9570346010866457, \"n\": 5328}, {\"threshold\": 0.398, \"p\": 27976, \"fpr\": 0.28246996996997, \"tpr\": 0.9570346010866457, \"n\": 5328}, {\"threshold\": 0.399, \"p\": 27976, \"fpr\": 0.28246996996997, \"tpr\": 0.9569631112382042, \"n\": 5328}, {\"threshold\": 0.4, \"p\": 27976, \"fpr\": 0.2819069069069069, \"tpr\": 0.9568558764655419, \"n\": 5328}, {\"threshold\": 0.401, \"p\": 27976, \"fpr\": 0.28096846846846846, \"tpr\": 0.9567843866171004, \"n\": 5328}, {\"threshold\": 0.402, \"p\": 27976, \"fpr\": 0.28040540540540543, \"tpr\": 0.9566414069202174, \"n\": 5328}, {\"threshold\": 0.403, \"p\": 27976, \"fpr\": 0.27984234234234234, \"tpr\": 0.9565699170717759, \"n\": 5328}, {\"threshold\": 0.404, \"p\": 27976, \"fpr\": 0.27984234234234234, \"tpr\": 0.9565341721475551, \"n\": 5328}, {\"threshold\": 0.405, \"p\": 27976, \"fpr\": 0.27984234234234234, \"tpr\": 0.9565341721475551, \"n\": 5328}, {\"threshold\": 0.406, \"p\": 27976, \"fpr\": 0.27965465465465467, \"tpr\": 0.9564984272233343, \"n\": 5328}, {\"threshold\": 0.407, \"p\": 27976, \"fpr\": 0.279466966966967, \"tpr\": 0.9564984272233343, \"n\": 5328}, {\"threshold\": 0.408, \"p\": 27976, \"fpr\": 0.2789039039039039, \"tpr\": 0.9564269373748928, \"n\": 5328}, {\"threshold\": 0.409, \"p\": 27976, \"fpr\": 0.27852852852852855, \"tpr\": 0.9563554475264513, \"n\": 5328}, {\"threshold\": 0.41, \"p\": 27976, \"fpr\": 0.2783408408408408, \"tpr\": 0.9563554475264513, \"n\": 5328}, {\"threshold\": 0.411, \"p\": 27976, \"fpr\": 0.27815315315315314, \"tpr\": 0.9561052330569059, \"n\": 5328}, {\"threshold\": 0.412, \"p\": 27976, \"fpr\": 0.2775900900900901, \"tpr\": 0.9560694881326851, \"n\": 5328}, {\"threshold\": 0.413, \"p\": 27976, \"fpr\": 0.2772147147147147, \"tpr\": 0.9560694881326851, \"n\": 5328}, {\"threshold\": 0.414, \"p\": 27976, \"fpr\": 0.2766516516516517, \"tpr\": 0.9559979982842436, \"n\": 5328}, {\"threshold\": 0.415, \"p\": 27976, \"fpr\": 0.2766516516516517, \"tpr\": 0.9559622533600228, \"n\": 5328}, {\"threshold\": 0.416, \"p\": 27976, \"fpr\": 0.27627627627627627, \"tpr\": 0.9558907635115813, \"n\": 5328}, {\"threshold\": 0.417, \"p\": 27976, \"fpr\": 0.27571321321321324, \"tpr\": 0.9558550185873605, \"n\": 5328}, {\"threshold\": 0.418, \"p\": 27976, \"fpr\": 0.27571321321321324, \"tpr\": 0.9557477838146983, \"n\": 5328}, {\"threshold\": 0.419, \"p\": 27976, \"fpr\": 0.27533783783783783, \"tpr\": 0.955640549042036, \"n\": 5328}, {\"threshold\": 0.42, \"p\": 27976, \"fpr\": 0.27533783783783783, \"tpr\": 0.9556048041178152, \"n\": 5328}, {\"threshold\": 0.421, \"p\": 27976, \"fpr\": 0.2749624624624625, \"tpr\": 0.9555333142693737, \"n\": 5328}, {\"threshold\": 0.422, \"p\": 27976, \"fpr\": 0.2747747747747748, \"tpr\": 0.9554260794967114, \"n\": 5328}, {\"threshold\": 0.423, \"p\": 27976, \"fpr\": 0.27458708708708707, \"tpr\": 0.9553188447240492, \"n\": 5328}, {\"threshold\": 0.424, \"p\": 27976, \"fpr\": 0.27458708708708707, \"tpr\": 0.9552116099513869, \"n\": 5328}, {\"threshold\": 0.425, \"p\": 27976, \"fpr\": 0.2743993993993994, \"tpr\": 0.9551758650271661, \"n\": 5328}, {\"threshold\": 0.426, \"p\": 27976, \"fpr\": 0.27383633633633636, \"tpr\": 0.9551758650271661, \"n\": 5328}, {\"threshold\": 0.427, \"p\": 27976, \"fpr\": 0.2732732732732733, \"tpr\": 0.9551401201029454, \"n\": 5328}, {\"threshold\": 0.428, \"p\": 27976, \"fpr\": 0.27233483483483484, \"tpr\": 0.9549613954818416, \"n\": 5328}, {\"threshold\": 0.429, \"p\": 27976, \"fpr\": 0.27177177177177175, \"tpr\": 0.9548184157849585, \"n\": 5328}, {\"threshold\": 0.43, \"p\": 27976, \"fpr\": 0.2712087087087087, \"tpr\": 0.954746925936517, \"n\": 5328}, {\"threshold\": 0.431, \"p\": 27976, \"fpr\": 0.2708333333333333, \"tpr\": 0.9546754360880755, \"n\": 5328}, {\"threshold\": 0.432, \"p\": 27976, \"fpr\": 0.2700825825825826, \"tpr\": 0.954603946239634, \"n\": 5328}, {\"threshold\": 0.433, \"p\": 27976, \"fpr\": 0.2697072072072072, \"tpr\": 0.9545324563911924, \"n\": 5328}, {\"threshold\": 0.434, \"p\": 27976, \"fpr\": 0.2695195195195195, \"tpr\": 0.9544967114669717, \"n\": 5328}, {\"threshold\": 0.435, \"p\": 27976, \"fpr\": 0.26914414414414417, \"tpr\": 0.9544967114669717, \"n\": 5328}, {\"threshold\": 0.436, \"p\": 27976, \"fpr\": 0.26914414414414417, \"tpr\": 0.9543894766943094, \"n\": 5328}, {\"threshold\": 0.437, \"p\": 27976, \"fpr\": 0.26876876876876876, \"tpr\": 0.9542822419216471, \"n\": 5328}, {\"threshold\": 0.438, \"p\": 27976, \"fpr\": 0.26820570570570573, \"tpr\": 0.9542464969974264, \"n\": 5328}, {\"threshold\": 0.439, \"p\": 27976, \"fpr\": 0.26820570570570573, \"tpr\": 0.9542107520732056, \"n\": 5328}, {\"threshold\": 0.44, \"p\": 27976, \"fpr\": 0.26764264264264265, \"tpr\": 0.9540677723763226, \"n\": 5328}, {\"threshold\": 0.441, \"p\": 27976, \"fpr\": 0.26764264264264265, \"tpr\": 0.9539605376036603, \"n\": 5328}, {\"threshold\": 0.442, \"p\": 27976, \"fpr\": 0.26745495495495497, \"tpr\": 0.9538175579067772, \"n\": 5328}, {\"threshold\": 0.443, \"p\": 27976, \"fpr\": 0.2672672672672673, \"tpr\": 0.9537818129825565, \"n\": 5328}, {\"threshold\": 0.444, \"p\": 27976, \"fpr\": 0.26632882882882886, \"tpr\": 0.9537818129825565, \"n\": 5328}, {\"threshold\": 0.445, \"p\": 27976, \"fpr\": 0.26576576576576577, \"tpr\": 0.9537460680583357, \"n\": 5328}, {\"threshold\": 0.446, \"p\": 27976, \"fpr\": 0.26539039039039036, \"tpr\": 0.9536388332856734, \"n\": 5328}, {\"threshold\": 0.447, \"p\": 27976, \"fpr\": 0.265015015015015, \"tpr\": 0.9536030883614527, \"n\": 5328}, {\"threshold\": 0.448, \"p\": 27976, \"fpr\": 0.26482732732732733, \"tpr\": 0.9534243637403489, \"n\": 5328}, {\"threshold\": 0.449, \"p\": 27976, \"fpr\": 0.26463963963963966, \"tpr\": 0.9532813840434659, \"n\": 5328}, {\"threshold\": 0.45, \"p\": 27976, \"fpr\": 0.26407657657657657, \"tpr\": 0.9532098941950243, \"n\": 5328}, {\"threshold\": 0.451, \"p\": 27976, \"fpr\": 0.2633258258258258, \"tpr\": 0.953102659422362, \"n\": 5328}, {\"threshold\": 0.452, \"p\": 27976, \"fpr\": 0.2633258258258258, \"tpr\": 0.952959679725479, \"n\": 5328}, {\"threshold\": 0.453, \"p\": 27976, \"fpr\": 0.2627627627627628, \"tpr\": 0.9529239348012583, \"n\": 5328}, {\"threshold\": 0.454, \"p\": 27976, \"fpr\": 0.2627627627627628, \"tpr\": 0.9528524449528167, \"n\": 5328}, {\"threshold\": 0.455, \"p\": 27976, \"fpr\": 0.26257507507507505, \"tpr\": 0.9527809551043752, \"n\": 5328}, {\"threshold\": 0.456, \"p\": 27976, \"fpr\": 0.26238738738738737, \"tpr\": 0.9526737203317129, \"n\": 5328}, {\"threshold\": 0.457, \"p\": 27976, \"fpr\": 0.2621996996996997, \"tpr\": 0.9524949957106091, \"n\": 5328}, {\"threshold\": 0.458, \"p\": 27976, \"fpr\": 0.262012012012012, \"tpr\": 0.9523162710895053, \"n\": 5328}, {\"threshold\": 0.459, \"p\": 27976, \"fpr\": 0.262012012012012, \"tpr\": 0.9522090363168431, \"n\": 5328}, {\"threshold\": 0.46, \"p\": 27976, \"fpr\": 0.2616366366366366, \"tpr\": 0.9520303116957392, \"n\": 5328}, {\"threshold\": 0.461, \"p\": 27976, \"fpr\": 0.26144894894894893, \"tpr\": 0.9519588218472976, \"n\": 5328}, {\"threshold\": 0.462, \"p\": 27976, \"fpr\": 0.2608858858858859, \"tpr\": 0.9517086073777523, \"n\": 5328}, {\"threshold\": 0.463, \"p\": 27976, \"fpr\": 0.2605105105105105, \"tpr\": 0.9516371175293108, \"n\": 5328}, {\"threshold\": 0.464, \"p\": 27976, \"fpr\": 0.2603228228228228, \"tpr\": 0.9515656276808693, \"n\": 5328}, {\"threshold\": 0.465, \"p\": 27976, \"fpr\": 0.26013513513513514, \"tpr\": 0.9514226479839862, \"n\": 5328}, {\"threshold\": 0.466, \"p\": 27976, \"fpr\": 0.25994744744744747, \"tpr\": 0.9513869030597655, \"n\": 5328}, {\"threshold\": 0.467, \"p\": 27976, \"fpr\": 0.25957207207207206, \"tpr\": 0.951315413211324, \"n\": 5328}, {\"threshold\": 0.468, \"p\": 27976, \"fpr\": 0.2593843843843844, \"tpr\": 0.9511366885902202, \"n\": 5328}, {\"threshold\": 0.469, \"p\": 27976, \"fpr\": 0.2586336336336336, \"tpr\": 0.9511009436659994, \"n\": 5328}, {\"threshold\": 0.47, \"p\": 27976, \"fpr\": 0.25788288288288286, \"tpr\": 0.9511009436659994, \"n\": 5328}, {\"threshold\": 0.471, \"p\": 27976, \"fpr\": 0.25788288288288286, \"tpr\": 0.9510651987417786, \"n\": 5328}, {\"threshold\": 0.472, \"p\": 27976, \"fpr\": 0.25731981981981983, \"tpr\": 0.9508864741206748, \"n\": 5328}, {\"threshold\": 0.473, \"p\": 27976, \"fpr\": 0.25713213213213215, \"tpr\": 0.9507434944237918, \"n\": 5328}, {\"threshold\": 0.474, \"p\": 27976, \"fpr\": 0.2561936936936937, \"tpr\": 0.950707749499571, \"n\": 5328}, {\"threshold\": 0.475, \"p\": 27976, \"fpr\": 0.256006006006006, \"tpr\": 0.9506720045753503, \"n\": 5328}, {\"threshold\": 0.476, \"p\": 27976, \"fpr\": 0.256006006006006, \"tpr\": 0.9504932799542465, \"n\": 5328}, {\"threshold\": 0.477, \"p\": 27976, \"fpr\": 0.2558183183183183, \"tpr\": 0.9503860451815842, \"n\": 5328}, {\"threshold\": 0.478, \"p\": 27976, \"fpr\": 0.25506756756756754, \"tpr\": 0.9503145553331427, \"n\": 5328}, {\"threshold\": 0.479, \"p\": 27976, \"fpr\": 0.25506756756756754, \"tpr\": 0.9502430654847012, \"n\": 5328}, {\"threshold\": 0.48, \"p\": 27976, \"fpr\": 0.2546921921921922, \"tpr\": 0.9501000857878181, \"n\": 5328}, {\"threshold\": 0.481, \"p\": 27976, \"fpr\": 0.2541291291291291, \"tpr\": 0.9500285959393766, \"n\": 5328}, {\"threshold\": 0.482, \"p\": 27976, \"fpr\": 0.2533783783783784, \"tpr\": 0.9499928510151558, \"n\": 5328}, {\"threshold\": 0.483, \"p\": 27976, \"fpr\": 0.25319069069069067, \"tpr\": 0.9499213611667143, \"n\": 5328}, {\"threshold\": 0.484, \"p\": 27976, \"fpr\": 0.2528153153153153, \"tpr\": 0.9497068916213898, \"n\": 5328}, {\"threshold\": 0.485, \"p\": 27976, \"fpr\": 0.25243993993993996, \"tpr\": 0.9496354017729483, \"n\": 5328}, {\"threshold\": 0.486, \"p\": 27976, \"fpr\": 0.25243993993993996, \"tpr\": 0.9494924220760652, \"n\": 5328}, {\"threshold\": 0.487, \"p\": 27976, \"fpr\": 0.25225225225225223, \"tpr\": 0.9493136974549614, \"n\": 5328}, {\"threshold\": 0.488, \"p\": 27976, \"fpr\": 0.2516891891891892, \"tpr\": 0.9492779525307407, \"n\": 5328}, {\"threshold\": 0.489, \"p\": 27976, \"fpr\": 0.2516891891891892, \"tpr\": 0.9491707177580784, \"n\": 5328}, {\"threshold\": 0.49, \"p\": 27976, \"fpr\": 0.25093843843843844, \"tpr\": 0.9490992279096369, \"n\": 5328}, {\"threshold\": 0.491, \"p\": 27976, \"fpr\": 0.2505630630630631, \"tpr\": 0.9490634829854161, \"n\": 5328}, {\"threshold\": 0.492, \"p\": 27976, \"fpr\": 0.25037537537537535, \"tpr\": 0.9489562482127538, \"n\": 5328}, {\"threshold\": 0.493, \"p\": 27976, \"fpr\": 0.25037537537537535, \"tpr\": 0.9488847583643123, \"n\": 5328}, {\"threshold\": 0.494, \"p\": 27976, \"fpr\": 0.25037537537537535, \"tpr\": 0.9487417786674293, \"n\": 5328}, {\"threshold\": 0.495, \"p\": 27976, \"fpr\": 0.2501876876876877, \"tpr\": 0.948634543894767, \"n\": 5328}, {\"threshold\": 0.496, \"p\": 27976, \"fpr\": 0.2501876876876877, \"tpr\": 0.9484558192736632, \"n\": 5328}, {\"threshold\": 0.497, \"p\": 27976, \"fpr\": 0.25, \"tpr\": 0.9482770946525594, \"n\": 5328}, {\"threshold\": 0.498, \"p\": 27976, \"fpr\": 0.24981231231231232, \"tpr\": 0.9481341149556763, \"n\": 5328}, {\"threshold\": 0.499, \"p\": 27976, \"fpr\": 0.24981231231231232, \"tpr\": 0.9479553903345725, \"n\": 5328}, {\"threshold\": 0.5, \"p\": 27976, \"fpr\": 0.24924924924924924, \"tpr\": 0.9477766657134686, \"n\": 5328}, {\"threshold\": 0.501, \"p\": 27976, \"fpr\": 0.24887387387387389, \"tpr\": 0.9477051758650271, \"n\": 5328}, {\"threshold\": 0.502, \"p\": 27976, \"fpr\": 0.2484984984984985, \"tpr\": 0.9476694309408064, \"n\": 5328}, {\"threshold\": 0.503, \"p\": 27976, \"fpr\": 0.24793543543543545, \"tpr\": 0.9475621961681441, \"n\": 5328}, {\"threshold\": 0.504, \"p\": 27976, \"fpr\": 0.24756006006006007, \"tpr\": 0.947419216471261, \"n\": 5328}, {\"threshold\": 0.505, \"p\": 27976, \"fpr\": 0.24756006006006007, \"tpr\": 0.947276236774378, \"n\": 5328}, {\"threshold\": 0.506, \"p\": 27976, \"fpr\": 0.2468093093093093, \"tpr\": 0.9472047469259365, \"n\": 5328}, {\"threshold\": 0.507, \"p\": 27976, \"fpr\": 0.24643393393393392, \"tpr\": 0.9470975121532742, \"n\": 5328}, {\"threshold\": 0.508, \"p\": 27976, \"fpr\": 0.24643393393393392, \"tpr\": 0.9469545324563912, \"n\": 5328}, {\"threshold\": 0.509, \"p\": 27976, \"fpr\": 0.24605855855855857, \"tpr\": 0.9468472976837289, \"n\": 5328}, {\"threshold\": 0.51, \"p\": 27976, \"fpr\": 0.2453078078078078, \"tpr\": 0.9468115527595081, \"n\": 5328}, {\"threshold\": 0.511, \"p\": 27976, \"fpr\": 0.24474474474474475, \"tpr\": 0.9466328281384043, \"n\": 5328}, {\"threshold\": 0.512, \"p\": 27976, \"fpr\": 0.24455705705705705, \"tpr\": 0.9465970832141836, \"n\": 5328}, {\"threshold\": 0.513, \"p\": 27976, \"fpr\": 0.2441816816816817, \"tpr\": 0.946525593365742, \"n\": 5328}, {\"threshold\": 0.514, \"p\": 27976, \"fpr\": 0.2441816816816817, \"tpr\": 0.9463468687446382, \"n\": 5328}, {\"threshold\": 0.515, \"p\": 27976, \"fpr\": 0.24324324324324326, \"tpr\": 0.9463111238204175, \"n\": 5328}, {\"threshold\": 0.516, \"p\": 27976, \"fpr\": 0.24305555555555555, \"tpr\": 0.9462753788961967, \"n\": 5328}, {\"threshold\": 0.517, \"p\": 27976, \"fpr\": 0.24268018018018017, \"tpr\": 0.9461681441235344, \"n\": 5328}, {\"threshold\": 0.518, \"p\": 27976, \"fpr\": 0.24268018018018017, \"tpr\": 0.9461681441235344, \"n\": 5328}, {\"threshold\": 0.519, \"p\": 27976, \"fpr\": 0.24268018018018017, \"tpr\": 0.9460966542750929, \"n\": 5328}, {\"threshold\": 0.52, \"p\": 27976, \"fpr\": 0.2424924924924925, \"tpr\": 0.9460609093508722, \"n\": 5328}, {\"threshold\": 0.521, \"p\": 27976, \"fpr\": 0.24211711711711711, \"tpr\": 0.9459894195024307, \"n\": 5328}, {\"threshold\": 0.522, \"p\": 27976, \"fpr\": 0.24155405405405406, \"tpr\": 0.9458106948813269, \"n\": 5328}, {\"threshold\": 0.523, \"p\": 27976, \"fpr\": 0.24117867867867868, \"tpr\": 0.9457034601086646, \"n\": 5328}, {\"threshold\": 0.524, \"p\": 27976, \"fpr\": 0.24042792792792791, \"tpr\": 0.9455962253360023, \"n\": 5328}, {\"threshold\": 0.525, \"p\": 27976, \"fpr\": 0.23986486486486486, \"tpr\": 0.9454532456391193, \"n\": 5328}, {\"threshold\": 0.526, \"p\": 27976, \"fpr\": 0.23948948948948948, \"tpr\": 0.9453817557906777, \"n\": 5328}, {\"threshold\": 0.527, \"p\": 27976, \"fpr\": 0.2393018018018018, \"tpr\": 0.9452387760937947, \"n\": 5328}, {\"threshold\": 0.528, \"p\": 27976, \"fpr\": 0.23855105105105104, \"tpr\": 0.9451315413211324, \"n\": 5328}, {\"threshold\": 0.529, \"p\": 27976, \"fpr\": 0.23798798798798798, \"tpr\": 0.9450243065484701, \"n\": 5328}, {\"threshold\": 0.53, \"p\": 27976, \"fpr\": 0.2376126126126126, \"tpr\": 0.9449528167000286, \"n\": 5328}, {\"threshold\": 0.531, \"p\": 27976, \"fpr\": 0.2376126126126126, \"tpr\": 0.9448098370031456, \"n\": 5328}, {\"threshold\": 0.532, \"p\": 27976, \"fpr\": 0.23723723723723725, \"tpr\": 0.9448098370031456, \"n\": 5328}, {\"threshold\": 0.533, \"p\": 27976, \"fpr\": 0.23704954954954954, \"tpr\": 0.9447740920789248, \"n\": 5328}, {\"threshold\": 0.534, \"p\": 27976, \"fpr\": 0.23667417417417416, \"tpr\": 0.9447026022304833, \"n\": 5328}, {\"threshold\": 0.535, \"p\": 27976, \"fpr\": 0.23592342342342343, \"tpr\": 0.9445238776093795, \"n\": 5328}, {\"threshold\": 0.536, \"p\": 27976, \"fpr\": 0.23573573573573572, \"tpr\": 0.944452387760938, \"n\": 5328}, {\"threshold\": 0.537, \"p\": 27976, \"fpr\": 0.23554804804804805, \"tpr\": 0.9444166428367172, \"n\": 5328}, {\"threshold\": 0.538, \"p\": 27976, \"fpr\": 0.23554804804804805, \"tpr\": 0.9442736631398342, \"n\": 5328}, {\"threshold\": 0.539, \"p\": 27976, \"fpr\": 0.23536036036036037, \"tpr\": 0.9441664283671719, \"n\": 5328}, {\"threshold\": 0.54, \"p\": 27976, \"fpr\": 0.23517267267267267, \"tpr\": 0.9441306834429511, \"n\": 5328}, {\"threshold\": 0.541, \"p\": 27976, \"fpr\": 0.234984984984985, \"tpr\": 0.9440949385187304, \"n\": 5328}, {\"threshold\": 0.542, \"p\": 27976, \"fpr\": 0.234984984984985, \"tpr\": 0.9439519588218473, \"n\": 5328}, {\"threshold\": 0.543, \"p\": 27976, \"fpr\": 0.2346096096096096, \"tpr\": 0.9439162138976266, \"n\": 5328}, {\"threshold\": 0.544, \"p\": 27976, \"fpr\": 0.23404654654654655, \"tpr\": 0.9438447240491851, \"n\": 5328}, {\"threshold\": 0.545, \"p\": 27976, \"fpr\": 0.23404654654654655, \"tpr\": 0.9438089791249643, \"n\": 5328}, {\"threshold\": 0.546, \"p\": 27976, \"fpr\": 0.2332957957957958, \"tpr\": 0.9437017443523019, \"n\": 5328}, {\"threshold\": 0.547, \"p\": 27976, \"fpr\": 0.23310810810810811, \"tpr\": 0.9436302545038604, \"n\": 5328}, {\"threshold\": 0.548, \"p\": 27976, \"fpr\": 0.2329204204204204, \"tpr\": 0.9435587646554189, \"n\": 5328}, {\"threshold\": 0.549, \"p\": 27976, \"fpr\": 0.23235735735735735, \"tpr\": 0.9433800400343151, \"n\": 5328}, {\"threshold\": 0.55, \"p\": 27976, \"fpr\": 0.23198198198198197, \"tpr\": 0.9433085501858736, \"n\": 5328}, {\"threshold\": 0.551, \"p\": 27976, \"fpr\": 0.23160660660660662, \"tpr\": 0.9432013154132113, \"n\": 5328}, {\"threshold\": 0.552, \"p\": 27976, \"fpr\": 0.23160660660660662, \"tpr\": 0.9431298255647698, \"n\": 5328}, {\"threshold\": 0.553, \"p\": 27976, \"fpr\": 0.23123123123123124, \"tpr\": 0.9430583357163282, \"n\": 5328}, {\"threshold\": 0.554, \"p\": 27976, \"fpr\": 0.23048048048048048, \"tpr\": 0.9429868458678867, \"n\": 5328}, {\"threshold\": 0.555, \"p\": 27976, \"fpr\": 0.2301051051051051, \"tpr\": 0.9428796110952244, \"n\": 5328}, {\"threshold\": 0.556, \"p\": 27976, \"fpr\": 0.22954204204204204, \"tpr\": 0.9426651415498999, \"n\": 5328}, {\"threshold\": 0.557, \"p\": 27976, \"fpr\": 0.22916666666666666, \"tpr\": 0.9425221618530168, \"n\": 5328}, {\"threshold\": 0.558, \"p\": 27976, \"fpr\": 0.2286036036036036, \"tpr\": 0.9425221618530168, \"n\": 5328}, {\"threshold\": 0.559, \"p\": 27976, \"fpr\": 0.2286036036036036, \"tpr\": 0.9423791821561338, \"n\": 5328}, {\"threshold\": 0.56, \"p\": 27976, \"fpr\": 0.2286036036036036, \"tpr\": 0.9423791821561338, \"n\": 5328}, {\"threshold\": 0.561, \"p\": 27976, \"fpr\": 0.22841591591591592, \"tpr\": 0.9421647126108093, \"n\": 5328}, {\"threshold\": 0.562, \"p\": 27976, \"fpr\": 0.22785285285285287, \"tpr\": 0.9420217329139262, \"n\": 5328}, {\"threshold\": 0.563, \"p\": 27976, \"fpr\": 0.22728978978978978, \"tpr\": 0.9419502430654847, \"n\": 5328}, {\"threshold\": 0.564, \"p\": 27976, \"fpr\": 0.2271021021021021, \"tpr\": 0.9418787532170432, \"n\": 5328}, {\"threshold\": 0.565, \"p\": 27976, \"fpr\": 0.22672672672672672, \"tpr\": 0.9417000285959394, \"n\": 5328}, {\"threshold\": 0.566, \"p\": 27976, \"fpr\": 0.22653903903903905, \"tpr\": 0.9415927938232771, \"n\": 5328}, {\"threshold\": 0.567, \"p\": 27976, \"fpr\": 0.22635135135135134, \"tpr\": 0.9415927938232771, \"n\": 5328}, {\"threshold\": 0.568, \"p\": 27976, \"fpr\": 0.22578828828828829, \"tpr\": 0.9415570488990563, \"n\": 5328}, {\"threshold\": 0.569, \"p\": 27976, \"fpr\": 0.2254129129129129, \"tpr\": 0.9414140692021733, \"n\": 5328}, {\"threshold\": 0.57, \"p\": 27976, \"fpr\": 0.22522522522522523, \"tpr\": 0.941306834429511, \"n\": 5328}, {\"threshold\": 0.571, \"p\": 27976, \"fpr\": 0.22522522522522523, \"tpr\": 0.9412353445810695, \"n\": 5328}, {\"threshold\": 0.572, \"p\": 27976, \"fpr\": 0.22466216216216217, \"tpr\": 0.941163854732628, \"n\": 5328}, {\"threshold\": 0.573, \"p\": 27976, \"fpr\": 0.22466216216216217, \"tpr\": 0.9410923648841865, \"n\": 5328}, {\"threshold\": 0.574, \"p\": 27976, \"fpr\": 0.22447447447447447, \"tpr\": 0.9409493851873034, \"n\": 5328}, {\"threshold\": 0.575, \"p\": 27976, \"fpr\": 0.22372372372372373, \"tpr\": 0.9408778953388619, \"n\": 5328}, {\"threshold\": 0.576, \"p\": 27976, \"fpr\": 0.22334834834834835, \"tpr\": 0.9406991707177581, \"n\": 5328}, {\"threshold\": 0.577, \"p\": 27976, \"fpr\": 0.2227852852852853, \"tpr\": 0.9405919359450958, \"n\": 5328}, {\"threshold\": 0.578, \"p\": 27976, \"fpr\": 0.22240990990990991, \"tpr\": 0.9405561910208751, \"n\": 5328}, {\"threshold\": 0.579, \"p\": 27976, \"fpr\": 0.2222222222222222, \"tpr\": 0.9403774663997713, \"n\": 5328}, {\"threshold\": 0.58, \"p\": 27976, \"fpr\": 0.2222222222222222, \"tpr\": 0.940270231627109, \"n\": 5328}, {\"threshold\": 0.581, \"p\": 27976, \"fpr\": 0.22147147147147148, \"tpr\": 0.9401629968544467, \"n\": 5328}, {\"threshold\": 0.582, \"p\": 27976, \"fpr\": 0.22053303303303304, \"tpr\": 0.9400200171575637, \"n\": 5328}, {\"threshold\": 0.583, \"p\": 27976, \"fpr\": 0.22034534534534533, \"tpr\": 0.9399485273091222, \"n\": 5328}, {\"threshold\": 0.584, \"p\": 27976, \"fpr\": 0.22015765765765766, \"tpr\": 0.9399127823849014, \"n\": 5328}, {\"threshold\": 0.585, \"p\": 27976, \"fpr\": 0.21978228228228228, \"tpr\": 0.9398412925364599, \"n\": 5328}, {\"threshold\": 0.586, \"p\": 27976, \"fpr\": 0.2195945945945946, \"tpr\": 0.9397698026880184, \"n\": 5328}, {\"threshold\": 0.587, \"p\": 27976, \"fpr\": 0.21921921921921922, \"tpr\": 0.9397340577637976, \"n\": 5328}, {\"threshold\": 0.588, \"p\": 27976, \"fpr\": 0.21903153153153154, \"tpr\": 0.9396983128395768, \"n\": 5328}, {\"threshold\": 0.589, \"p\": 27976, \"fpr\": 0.21865615615615616, \"tpr\": 0.9396268229911353, \"n\": 5328}, {\"threshold\": 0.59, \"p\": 27976, \"fpr\": 0.21828078078078078, \"tpr\": 0.9394480983700314, \"n\": 5328}, {\"threshold\": 0.591, \"p\": 27976, \"fpr\": 0.2180930930930931, \"tpr\": 0.9394480983700314, \"n\": 5328}, {\"threshold\": 0.592, \"p\": 27976, \"fpr\": 0.2179054054054054, \"tpr\": 0.9394123534458106, \"n\": 5328}, {\"threshold\": 0.593, \"p\": 27976, \"fpr\": 0.21753003003003002, \"tpr\": 0.9393051186731484, \"n\": 5328}, {\"threshold\": 0.594, \"p\": 27976, \"fpr\": 0.21696696696696696, \"tpr\": 0.9392336288247068, \"n\": 5328}, {\"threshold\": 0.595, \"p\": 27976, \"fpr\": 0.21621621621621623, \"tpr\": 0.9390906491278238, \"n\": 5328}, {\"threshold\": 0.596, \"p\": 27976, \"fpr\": 0.21565315315315314, \"tpr\": 0.9390191592793823, \"n\": 5328}, {\"threshold\": 0.597, \"p\": 27976, \"fpr\": 0.2152777777777778, \"tpr\": 0.93891192450672, \"n\": 5328}, {\"threshold\": 0.598, \"p\": 27976, \"fpr\": 0.2147147147147147, \"tpr\": 0.9388404346582785, \"n\": 5328}, {\"threshold\": 0.599, \"p\": 27976, \"fpr\": 0.21433933933933935, \"tpr\": 0.938768944809837, \"n\": 5328}, {\"threshold\": 0.6, \"p\": 27976, \"fpr\": 0.21396396396396397, \"tpr\": 0.9386974549613954, \"n\": 5328}, {\"threshold\": 0.601, \"p\": 27976, \"fpr\": 0.2135885885885886, \"tpr\": 0.9385544752645124, \"n\": 5328}, {\"threshold\": 0.602, \"p\": 27976, \"fpr\": 0.21283783783783783, \"tpr\": 0.9384829854160709, \"n\": 5328}, {\"threshold\": 0.603, \"p\": 27976, \"fpr\": 0.2120870870870871, \"tpr\": 0.9384472404918501, \"n\": 5328}, {\"threshold\": 0.604, \"p\": 27976, \"fpr\": 0.21152402402402404, \"tpr\": 0.9384114955676294, \"n\": 5328}, {\"threshold\": 0.605, \"p\": 27976, \"fpr\": 0.21096096096096095, \"tpr\": 0.9382327709465256, \"n\": 5328}, {\"threshold\": 0.606, \"p\": 27976, \"fpr\": 0.21058558558558557, \"tpr\": 0.9380540463254218, \"n\": 5328}, {\"threshold\": 0.607, \"p\": 27976, \"fpr\": 0.21058558558558557, \"tpr\": 0.9379468115527595, \"n\": 5328}, {\"threshold\": 0.608, \"p\": 27976, \"fpr\": 0.21021021021021022, \"tpr\": 0.9378395767800972, \"n\": 5328}, {\"threshold\": 0.609, \"p\": 27976, \"fpr\": 0.21002252252252251, \"tpr\": 0.9376965970832142, \"n\": 5328}, {\"threshold\": 0.61, \"p\": 27976, \"fpr\": 0.21002252252252251, \"tpr\": 0.9376965970832142, \"n\": 5328}, {\"threshold\": 0.611, \"p\": 27976, \"fpr\": 0.20983483483483484, \"tpr\": 0.9375893623105519, \"n\": 5328}, {\"threshold\": 0.612, \"p\": 27976, \"fpr\": 0.20964714714714713, \"tpr\": 0.9374821275378896, \"n\": 5328}, {\"threshold\": 0.613, \"p\": 27976, \"fpr\": 0.20945945945945946, \"tpr\": 0.9373391478410066, \"n\": 5328}, {\"threshold\": 0.614, \"p\": 27976, \"fpr\": 0.20927177177177178, \"tpr\": 0.9372319130683443, \"n\": 5328}, {\"threshold\": 0.615, \"p\": 27976, \"fpr\": 0.20908408408408408, \"tpr\": 0.9370889333714613, \"n\": 5328}, {\"threshold\": 0.616, \"p\": 27976, \"fpr\": 0.2088963963963964, \"tpr\": 0.9369102087503575, \"n\": 5328}, {\"threshold\": 0.617, \"p\": 27976, \"fpr\": 0.2087087087087087, \"tpr\": 0.9367314841292537, \"n\": 5328}, {\"threshold\": 0.618, \"p\": 27976, \"fpr\": 0.2087087087087087, \"tpr\": 0.9365170145839291, \"n\": 5328}, {\"threshold\": 0.619, \"p\": 27976, \"fpr\": 0.20852102102102102, \"tpr\": 0.9363382899628253, \"n\": 5328}, {\"threshold\": 0.62, \"p\": 27976, \"fpr\": 0.20852102102102102, \"tpr\": 0.9362668001143838, \"n\": 5328}, {\"threshold\": 0.621, \"p\": 27976, \"fpr\": 0.20814564564564564, \"tpr\": 0.9360523305690592, \"n\": 5328}, {\"threshold\": 0.622, \"p\": 27976, \"fpr\": 0.20777027027027026, \"tpr\": 0.9358736059479554, \"n\": 5328}, {\"threshold\": 0.623, \"p\": 27976, \"fpr\": 0.20758258258258258, \"tpr\": 0.9358021160995139, \"n\": 5328}, {\"threshold\": 0.624, \"p\": 27976, \"fpr\": 0.20701951951951952, \"tpr\": 0.9356948813268516, \"n\": 5328}, {\"threshold\": 0.625, \"p\": 27976, \"fpr\": 0.20645645645645647, \"tpr\": 0.9355876465541894, \"n\": 5328}, {\"threshold\": 0.626, \"p\": 27976, \"fpr\": 0.20645645645645647, \"tpr\": 0.9354804117815271, \"n\": 5328}, {\"threshold\": 0.627, \"p\": 27976, \"fpr\": 0.20608108108108109, \"tpr\": 0.9353731770088647, \"n\": 5328}, {\"threshold\": 0.628, \"p\": 27976, \"fpr\": 0.2057057057057057, \"tpr\": 0.9351229625393194, \"n\": 5328}, {\"threshold\": 0.629, \"p\": 27976, \"fpr\": 0.20514264264264265, \"tpr\": 0.9349084929939948, \"n\": 5328}, {\"threshold\": 0.63, \"p\": 27976, \"fpr\": 0.20495495495495494, \"tpr\": 0.9346940234486703, \"n\": 5328}, {\"threshold\": 0.631, \"p\": 27976, \"fpr\": 0.20476726726726727, \"tpr\": 0.9343723191306834, \"n\": 5328}, {\"threshold\": 0.632, \"p\": 27976, \"fpr\": 0.2045795795795796, \"tpr\": 0.9343008292822419, \"n\": 5328}, {\"threshold\": 0.633, \"p\": 27976, \"fpr\": 0.2042042042042042, \"tpr\": 0.9341935945095796, \"n\": 5328}, {\"threshold\": 0.634, \"p\": 27976, \"fpr\": 0.2040165165165165, \"tpr\": 0.9340863597369173, \"n\": 5328}, {\"threshold\": 0.635, \"p\": 27976, \"fpr\": 0.20382882882882883, \"tpr\": 0.9339076351158135, \"n\": 5328}, {\"threshold\": 0.636, \"p\": 27976, \"fpr\": 0.20364114114114115, \"tpr\": 0.9337289104947097, \"n\": 5328}, {\"threshold\": 0.637, \"p\": 27976, \"fpr\": 0.2028903903903904, \"tpr\": 0.9336574206462682, \"n\": 5328}, {\"threshold\": 0.638, \"p\": 27976, \"fpr\": 0.20270270270270271, \"tpr\": 0.9335859307978267, \"n\": 5328}, {\"threshold\": 0.639, \"p\": 27976, \"fpr\": 0.202515015015015, \"tpr\": 0.9333714612525021, \"n\": 5328}, {\"threshold\": 0.64, \"p\": 27976, \"fpr\": 0.202515015015015, \"tpr\": 0.9332999714040606, \"n\": 5328}, {\"threshold\": 0.641, \"p\": 27976, \"fpr\": 0.20195195195195195, \"tpr\": 0.9331569917071776, \"n\": 5328}, {\"threshold\": 0.642, \"p\": 27976, \"fpr\": 0.2013888888888889, \"tpr\": 0.9330497569345153, \"n\": 5328}, {\"threshold\": 0.643, \"p\": 27976, \"fpr\": 0.20101351351351351, \"tpr\": 0.9329782670860738, \"n\": 5328}, {\"threshold\": 0.644, \"p\": 27976, \"fpr\": 0.20063813813813813, \"tpr\": 0.932942522161853, \"n\": 5328}, {\"threshold\": 0.645, \"p\": 27976, \"fpr\": 0.20063813813813813, \"tpr\": 0.9328352873891907, \"n\": 5328}, {\"threshold\": 0.646, \"p\": 27976, \"fpr\": 0.20045045045045046, \"tpr\": 0.9327280526165285, \"n\": 5328}, {\"threshold\": 0.647, \"p\": 27976, \"fpr\": 0.20045045045045046, \"tpr\": 0.9326208178438662, \"n\": 5328}, {\"threshold\": 0.648, \"p\": 27976, \"fpr\": 0.20026276276276275, \"tpr\": 0.9325850729196454, \"n\": 5328}, {\"threshold\": 0.649, \"p\": 27976, \"fpr\": 0.1998873873873874, \"tpr\": 0.9323348584501001, \"n\": 5328}, {\"threshold\": 0.65, \"p\": 27976, \"fpr\": 0.1996996996996997, \"tpr\": 0.9320846439805548, \"n\": 5328}, {\"threshold\": 0.651, \"p\": 27976, \"fpr\": 0.19857357357357358, \"tpr\": 0.931905919359451, \"n\": 5328}, {\"threshold\": 0.652, \"p\": 27976, \"fpr\": 0.19857357357357358, \"tpr\": 0.9316914498141264, \"n\": 5328}, {\"threshold\": 0.653, \"p\": 27976, \"fpr\": 0.1981981981981982, \"tpr\": 0.9316199599656849, \"n\": 5328}, {\"threshold\": 0.654, \"p\": 27976, \"fpr\": 0.19801051051051052, \"tpr\": 0.9315127251930226, \"n\": 5328}, {\"threshold\": 0.655, \"p\": 27976, \"fpr\": 0.19725975975975976, \"tpr\": 0.9313697454961396, \"n\": 5328}, {\"threshold\": 0.656, \"p\": 27976, \"fpr\": 0.19688438438438438, \"tpr\": 0.9312267657992565, \"n\": 5328}, {\"threshold\": 0.657, \"p\": 27976, \"fpr\": 0.196509009009009, \"tpr\": 0.9310837861023734, \"n\": 5328}, {\"threshold\": 0.658, \"p\": 27976, \"fpr\": 0.19594594594594594, \"tpr\": 0.9309408064054904, \"n\": 5328}, {\"threshold\": 0.659, \"p\": 27976, \"fpr\": 0.19575825825825827, \"tpr\": 0.9307978267086073, \"n\": 5328}, {\"threshold\": 0.66, \"p\": 27976, \"fpr\": 0.19557057057057056, \"tpr\": 0.9307620817843866, \"n\": 5328}, {\"threshold\": 0.661, \"p\": 27976, \"fpr\": 0.19519519519519518, \"tpr\": 0.9305833571632828, \"n\": 5328}, {\"threshold\": 0.662, \"p\": 27976, \"fpr\": 0.19519519519519518, \"tpr\": 0.9304403774663997, \"n\": 5328}, {\"threshold\": 0.663, \"p\": 27976, \"fpr\": 0.19481981981981983, \"tpr\": 0.9302616528452959, \"n\": 5328}, {\"threshold\": 0.664, \"p\": 27976, \"fpr\": 0.19481981981981983, \"tpr\": 0.9301544180726337, \"n\": 5328}, {\"threshold\": 0.665, \"p\": 27976, \"fpr\": 0.19463213213213212, \"tpr\": 0.9299399485273091, \"n\": 5328}, {\"threshold\": 0.666, \"p\": 27976, \"fpr\": 0.1938813813813814, \"tpr\": 0.9297969688304261, \"n\": 5328}, {\"threshold\": 0.667, \"p\": 27976, \"fpr\": 0.193506006006006, \"tpr\": 0.929653989133543, \"n\": 5328}, {\"threshold\": 0.668, \"p\": 27976, \"fpr\": 0.19294294294294295, \"tpr\": 0.9294752645124392, \"n\": 5328}, {\"threshold\": 0.669, \"p\": 27976, \"fpr\": 0.19256756756756757, \"tpr\": 0.9294037746639977, \"n\": 5328}, {\"threshold\": 0.67, \"p\": 27976, \"fpr\": 0.19237987987987987, \"tpr\": 0.9292607949671147, \"n\": 5328}, {\"threshold\": 0.671, \"p\": 27976, \"fpr\": 0.1921921921921922, \"tpr\": 0.9291535601944524, \"n\": 5328}, {\"threshold\": 0.672, \"p\": 27976, \"fpr\": 0.1921921921921922, \"tpr\": 0.9290463254217901, \"n\": 5328}, {\"threshold\": 0.673, \"p\": 27976, \"fpr\": 0.1921921921921922, \"tpr\": 0.9289390906491278, \"n\": 5328}, {\"threshold\": 0.674, \"p\": 27976, \"fpr\": 0.19125375375375375, \"tpr\": 0.9286888761795825, \"n\": 5328}, {\"threshold\": 0.675, \"p\": 27976, \"fpr\": 0.18693693693693694, \"tpr\": 0.9235773520160138, \"n\": 5328}, {\"threshold\": 0.676, \"p\": 27976, \"fpr\": 0.18637387387387389, \"tpr\": 0.9233628824706892, \"n\": 5328}, {\"threshold\": 0.677, \"p\": 27976, \"fpr\": 0.18562312312312312, \"tpr\": 0.9231484129253646, \"n\": 5328}, {\"threshold\": 0.678, \"p\": 27976, \"fpr\": 0.18524774774774774, \"tpr\": 0.9230411781527024, \"n\": 5328}, {\"threshold\": 0.679, \"p\": 27976, \"fpr\": 0.18506006006006007, \"tpr\": 0.9228981984558192, \"n\": 5328}, {\"threshold\": 0.68, \"p\": 27976, \"fpr\": 0.18487237237237236, \"tpr\": 0.9226837289104947, \"n\": 5328}, {\"threshold\": 0.681, \"p\": 27976, \"fpr\": 0.18468468468468469, \"tpr\": 0.9226479839862739, \"n\": 5328}, {\"threshold\": 0.682, \"p\": 27976, \"fpr\": 0.1843093093093093, \"tpr\": 0.9225050042893909, \"n\": 5328}, {\"threshold\": 0.683, \"p\": 27976, \"fpr\": 0.18412162162162163, \"tpr\": 0.9223977695167286, \"n\": 5328}, {\"threshold\": 0.684, \"p\": 27976, \"fpr\": 0.18299549549549549, \"tpr\": 0.9222905347440663, \"n\": 5328}, {\"threshold\": 0.685, \"p\": 27976, \"fpr\": 0.1828078078078078, \"tpr\": 0.9221475550471833, \"n\": 5328}, {\"threshold\": 0.686, \"p\": 27976, \"fpr\": 0.18262012012012013, \"tpr\": 0.9219688304260795, \"n\": 5328}, {\"threshold\": 0.687, \"p\": 27976, \"fpr\": 0.18205705705705705, \"tpr\": 0.921897340577638, \"n\": 5328}, {\"threshold\": 0.688, \"p\": 27976, \"fpr\": 0.18093093093093093, \"tpr\": 0.9216828710323134, \"n\": 5328}, {\"threshold\": 0.689, \"p\": 27976, \"fpr\": 0.18018018018018017, \"tpr\": 0.9214684014869888, \"n\": 5328}, {\"threshold\": 0.69, \"p\": 27976, \"fpr\": 0.18018018018018017, \"tpr\": 0.921289676865885, \"n\": 5328}, {\"threshold\": 0.691, \"p\": 27976, \"fpr\": 0.17942942942942944, \"tpr\": 0.921146697169002, \"n\": 5328}, {\"threshold\": 0.692, \"p\": 27976, \"fpr\": 0.17942942942942944, \"tpr\": 0.9209679725478982, \"n\": 5328}, {\"threshold\": 0.693, \"p\": 27976, \"fpr\": 0.17924174174174173, \"tpr\": 0.9207177580783529, \"n\": 5328}, {\"threshold\": 0.694, \"p\": 27976, \"fpr\": 0.17867867867867868, \"tpr\": 0.9205390334572491, \"n\": 5328}, {\"threshold\": 0.695, \"p\": 27976, \"fpr\": 0.17811561561561562, \"tpr\": 0.9203603088361453, \"n\": 5328}, {\"threshold\": 0.696, \"p\": 27976, \"fpr\": 0.17717717717717718, \"tpr\": 0.9203245639119245, \"n\": 5328}, {\"threshold\": 0.697, \"p\": 27976, \"fpr\": 0.17698948948948948, \"tpr\": 0.9200028595939377, \"n\": 5328}, {\"threshold\": 0.698, \"p\": 27976, \"fpr\": 0.17698948948948948, \"tpr\": 0.9198598798970546, \"n\": 5328}, {\"threshold\": 0.699, \"p\": 27976, \"fpr\": 0.17661411411411412, \"tpr\": 0.9197883900486131, \"n\": 5328}, {\"threshold\": 0.7, \"p\": 27976, \"fpr\": 0.17661411411411412, \"tpr\": 0.9196811552759508, \"n\": 5328}, {\"threshold\": 0.701, \"p\": 27976, \"fpr\": 0.17567567567567569, \"tpr\": 0.9196096654275093, \"n\": 5328}, {\"threshold\": 0.702, \"p\": 27976, \"fpr\": 0.17567567567567569, \"tpr\": 0.919359450957964, \"n\": 5328}, {\"threshold\": 0.703, \"p\": 27976, \"fpr\": 0.1753003003003003, \"tpr\": 0.919216471261081, \"n\": 5328}, {\"threshold\": 0.704, \"p\": 27976, \"fpr\": 0.1751126126126126, \"tpr\": 0.9191807263368602, \"n\": 5328}, {\"threshold\": 0.705, \"p\": 27976, \"fpr\": 0.17417417417417416, \"tpr\": 0.9191092364884187, \"n\": 5328}, {\"threshold\": 0.706, \"p\": 27976, \"fpr\": 0.1737987987987988, \"tpr\": 0.9188232770946526, \"n\": 5328}, {\"threshold\": 0.707, \"p\": 27976, \"fpr\": 0.17267267267267267, \"tpr\": 0.9185373177008864, \"n\": 5328}, {\"threshold\": 0.708, \"p\": 27976, \"fpr\": 0.172484984984985, \"tpr\": 0.9183585930797826, \"n\": 5328}, {\"threshold\": 0.709, \"p\": 27976, \"fpr\": 0.1721096096096096, \"tpr\": 0.9180726336860165, \"n\": 5328}, {\"threshold\": 0.71, \"p\": 27976, \"fpr\": 0.1709834834834835, \"tpr\": 0.9178224192164712, \"n\": 5328}, {\"threshold\": 0.711, \"p\": 27976, \"fpr\": 0.1707957957957958, \"tpr\": 0.9176436945953674, \"n\": 5328}, {\"threshold\": 0.712, \"p\": 27976, \"fpr\": 0.1707957957957958, \"tpr\": 0.9173934801258221, \"n\": 5328}, {\"threshold\": 0.713, \"p\": 27976, \"fpr\": 0.1704204204204204, \"tpr\": 0.9170717758078353, \"n\": 5328}, {\"threshold\": 0.714, \"p\": 27976, \"fpr\": 0.16948198198198197, \"tpr\": 0.9168930511867315, \"n\": 5328}, {\"threshold\": 0.715, \"p\": 27976, \"fpr\": 0.16910660660660662, \"tpr\": 0.9167143265656277, \"n\": 5328}, {\"threshold\": 0.716, \"p\": 27976, \"fpr\": 0.16891891891891891, \"tpr\": 0.9164998570203031, \"n\": 5328}, {\"threshold\": 0.717, \"p\": 27976, \"fpr\": 0.16854354354354353, \"tpr\": 0.9162496425507578, \"n\": 5328}, {\"threshold\": 0.718, \"p\": 27976, \"fpr\": 0.16798048048048048, \"tpr\": 0.9161066628538748, \"n\": 5328}, {\"threshold\": 0.719, \"p\": 27976, \"fpr\": 0.1676051051051051, \"tpr\": 0.9160351730054332, \"n\": 5328}, {\"threshold\": 0.72, \"p\": 27976, \"fpr\": 0.16741741741741742, \"tpr\": 0.9159994280812125, \"n\": 5328}, {\"threshold\": 0.721, \"p\": 27976, \"fpr\": 0.16704204204204204, \"tpr\": 0.9157849585358879, \"n\": 5328}, {\"threshold\": 0.722, \"p\": 27976, \"fpr\": 0.1661036036036036, \"tpr\": 0.9154632542179011, \"n\": 5328}, {\"threshold\": 0.723, \"p\": 27976, \"fpr\": 0.16591591591591592, \"tpr\": 0.9152845295967973, \"n\": 5328}, {\"threshold\": 0.724, \"p\": 27976, \"fpr\": 0.16591591591591592, \"tpr\": 0.9151058049756935, \"n\": 5328}, {\"threshold\": 0.725, \"p\": 27976, \"fpr\": 0.16554054054054054, \"tpr\": 0.9149628252788105, \"n\": 5328}, {\"threshold\": 0.726, \"p\": 27976, \"fpr\": 0.16516516516516516, \"tpr\": 0.9146411209608236, \"n\": 5328}, {\"threshold\": 0.727, \"p\": 27976, \"fpr\": 0.16497747747747749, \"tpr\": 0.9143909064912782, \"n\": 5328}, {\"threshold\": 0.728, \"p\": 27976, \"fpr\": 0.16478978978978978, \"tpr\": 0.9143194166428367, \"n\": 5328}, {\"threshold\": 0.729, \"p\": 27976, \"fpr\": 0.1646021021021021, \"tpr\": 0.9141764369459536, \"n\": 5328}, {\"threshold\": 0.73, \"p\": 27976, \"fpr\": 0.16422672672672672, \"tpr\": 0.9140334572490706, \"n\": 5328}, {\"threshold\": 0.731, \"p\": 27976, \"fpr\": 0.16366366366366367, \"tpr\": 0.9137474978553045, \"n\": 5328}, {\"threshold\": 0.732, \"p\": 27976, \"fpr\": 0.1629129129129129, \"tpr\": 0.9136045181584215, \"n\": 5328}, {\"threshold\": 0.733, \"p\": 27976, \"fpr\": 0.16272522522522523, \"tpr\": 0.9132470689162139, \"n\": 5328}, {\"threshold\": 0.734, \"p\": 27976, \"fpr\": 0.16253753753753752, \"tpr\": 0.9130683442951101, \"n\": 5328}, {\"threshold\": 0.735, \"p\": 27976, \"fpr\": 0.16234984984984985, \"tpr\": 0.912925364598227, \"n\": 5328}, {\"threshold\": 0.736, \"p\": 27976, \"fpr\": 0.16216216216216217, \"tpr\": 0.9126751501286817, \"n\": 5328}, {\"threshold\": 0.737, \"p\": 27976, \"fpr\": 0.16216216216216217, \"tpr\": 0.9125321704317987, \"n\": 5328}, {\"threshold\": 0.738, \"p\": 27976, \"fpr\": 0.16159909909909909, \"tpr\": 0.9123534458106949, \"n\": 5328}, {\"threshold\": 0.739, \"p\": 27976, \"fpr\": 0.16103603603603603, \"tpr\": 0.9120674864169288, \"n\": 5328}, {\"threshold\": 0.74, \"p\": 27976, \"fpr\": 0.16066066066066065, \"tpr\": 0.9119602516442665, \"n\": 5328}, {\"threshold\": 0.741, \"p\": 27976, \"fpr\": 0.15990990990990991, \"tpr\": 0.9118172719473835, \"n\": 5328}, {\"threshold\": 0.742, \"p\": 27976, \"fpr\": 0.1597222222222222, \"tpr\": 0.9116028024020589, \"n\": 5328}, {\"threshold\": 0.743, \"p\": 27976, \"fpr\": 0.15915915915915915, \"tpr\": 0.9114598227051759, \"n\": 5328}, {\"threshold\": 0.744, \"p\": 27976, \"fpr\": 0.1585960960960961, \"tpr\": 0.9112096082356306, \"n\": 5328}, {\"threshold\": 0.745, \"p\": 27976, \"fpr\": 0.15840840840840842, \"tpr\": 0.9110308836145268, \"n\": 5328}, {\"threshold\": 0.746, \"p\": 27976, \"fpr\": 0.15822072072072071, \"tpr\": 0.9107091792965399, \"n\": 5328}, {\"threshold\": 0.747, \"p\": 27976, \"fpr\": 0.15784534534534533, \"tpr\": 0.9106019445238777, \"n\": 5328}, {\"threshold\": 0.748, \"p\": 27976, \"fpr\": 0.15765765765765766, \"tpr\": 0.91024449528167, \"n\": 5328}, {\"threshold\": 0.749, \"p\": 27976, \"fpr\": 0.15746996996996998, \"tpr\": 0.9099227909636831, \"n\": 5328}, {\"threshold\": 0.75, \"p\": 27976, \"fpr\": 0.1570945945945946, \"tpr\": 0.9097083214183586, \"n\": 5328}, {\"threshold\": 0.751, \"p\": 27976, \"fpr\": 0.15578078078078078, \"tpr\": 0.9095653417214755, \"n\": 5328}, {\"threshold\": 0.752, \"p\": 27976, \"fpr\": 0.1555930930930931, \"tpr\": 0.909350872176151, \"n\": 5328}, {\"threshold\": 0.753, \"p\": 27976, \"fpr\": 0.15446696696696696, \"tpr\": 0.9091006577066056, \"n\": 5328}, {\"threshold\": 0.754, \"p\": 27976, \"fpr\": 0.15427927927927929, \"tpr\": 0.9090291678581641, \"n\": 5328}, {\"threshold\": 0.755, \"p\": 27976, \"fpr\": 0.15427927927927929, \"tpr\": 0.9088504432370603, \"n\": 5328}, {\"threshold\": 0.756, \"p\": 27976, \"fpr\": 0.1539039039039039, \"tpr\": 0.9086359736917358, \"n\": 5328}, {\"threshold\": 0.757, \"p\": 27976, \"fpr\": 0.15371621621621623, \"tpr\": 0.9082785244495282, \"n\": 5328}, {\"threshold\": 0.758, \"p\": 27976, \"fpr\": 0.15296546546546547, \"tpr\": 0.9080283099799829, \"n\": 5328}, {\"threshold\": 0.759, \"p\": 27976, \"fpr\": 0.1524024024024024, \"tpr\": 0.907563625965113, \"n\": 5328}, {\"threshold\": 0.76, \"p\": 27976, \"fpr\": 0.1522147147147147, \"tpr\": 0.9073134114955677, \"n\": 5328}, {\"threshold\": 0.761, \"p\": 27976, \"fpr\": 0.15183933933933935, \"tpr\": 0.9070274521018016, \"n\": 5328}, {\"threshold\": 0.762, \"p\": 27976, \"fpr\": 0.15146396396396397, \"tpr\": 0.906670002859594, \"n\": 5328}, {\"threshold\": 0.763, \"p\": 27976, \"fpr\": 0.15090090090090091, \"tpr\": 0.9065627680869317, \"n\": 5328}, {\"threshold\": 0.764, \"p\": 27976, \"fpr\": 0.15052552552552553, \"tpr\": 0.9061338289962825, \"n\": 5328}, {\"threshold\": 0.765, \"p\": 27976, \"fpr\": 0.15015015015015015, \"tpr\": 0.9058836145267372, \"n\": 5328}, {\"threshold\": 0.766, \"p\": 27976, \"fpr\": 0.1495870870870871, \"tpr\": 0.9057406348298541, \"n\": 5328}, {\"threshold\": 0.767, \"p\": 27976, \"fpr\": 0.1493993993993994, \"tpr\": 0.9054189305118673, \"n\": 5328}, {\"threshold\": 0.768, \"p\": 27976, \"fpr\": 0.14921171171171171, \"tpr\": 0.9052759508149842, \"n\": 5328}, {\"threshold\": 0.769, \"p\": 27976, \"fpr\": 0.14883633633633633, \"tpr\": 0.9049542464969974, \"n\": 5328}, {\"threshold\": 0.77, \"p\": 27976, \"fpr\": 0.14883633633633633, \"tpr\": 0.9047755218758936, \"n\": 5328}, {\"threshold\": 0.771, \"p\": 27976, \"fpr\": 0.14846096096096095, \"tpr\": 0.904418072633686, \"n\": 5328}, {\"threshold\": 0.772, \"p\": 27976, \"fpr\": 0.14827327327327328, \"tpr\": 0.9040963683156992, \"n\": 5328}, {\"threshold\": 0.773, \"p\": 27976, \"fpr\": 0.14771021021021022, \"tpr\": 0.9038104089219331, \"n\": 5328}, {\"threshold\": 0.774, \"p\": 27976, \"fpr\": 0.14714714714714713, \"tpr\": 0.9035959393766085, \"n\": 5328}, {\"threshold\": 0.775, \"p\": 27976, \"fpr\": 0.14677177177177178, \"tpr\": 0.9034172147555047, \"n\": 5328}, {\"threshold\": 0.776, \"p\": 27976, \"fpr\": 0.1462087087087087, \"tpr\": 0.903381469831284, \"n\": 5328}, {\"threshold\": 0.777, \"p\": 27976, \"fpr\": 0.14545795795795796, \"tpr\": 0.9031312553617387, \"n\": 5328}, {\"threshold\": 0.778, \"p\": 27976, \"fpr\": 0.14527027027027026, \"tpr\": 0.9028810408921933, \"n\": 5328}, {\"threshold\": 0.779, \"p\": 27976, \"fpr\": 0.1447072072072072, \"tpr\": 0.902487846725765, \"n\": 5328}, {\"threshold\": 0.78, \"p\": 27976, \"fpr\": 0.1447072072072072, \"tpr\": 0.9022018873319989, \"n\": 5328}, {\"threshold\": 0.781, \"p\": 27976, \"fpr\": 0.14451951951951952, \"tpr\": 0.9020946525593366, \"n\": 5328}, {\"threshold\": 0.782, \"p\": 27976, \"fpr\": 0.14395645645645647, \"tpr\": 0.9017372033171289, \"n\": 5328}, {\"threshold\": 0.783, \"p\": 27976, \"fpr\": 0.14395645645645647, \"tpr\": 0.9015227337718044, \"n\": 5328}, {\"threshold\": 0.784, \"p\": 27976, \"fpr\": 0.14395645645645647, \"tpr\": 0.9012367743780383, \"n\": 5328}, {\"threshold\": 0.785, \"p\": 27976, \"fpr\": 0.14358108108108109, \"tpr\": 0.900986559908493, \"n\": 5328}, {\"threshold\": 0.786, \"p\": 27976, \"fpr\": 0.14358108108108109, \"tpr\": 0.9007363454389476, \"n\": 5328}, {\"threshold\": 0.787, \"p\": 27976, \"fpr\": 0.14283033033033032, \"tpr\": 0.9004146411209608, \"n\": 5328}, {\"threshold\": 0.788, \"p\": 27976, \"fpr\": 0.14245495495495494, \"tpr\": 0.900235916499857, \"n\": 5328}, {\"threshold\": 0.789, \"p\": 27976, \"fpr\": 0.1415165165165165, \"tpr\": 0.8999857020303117, \"n\": 5328}, {\"threshold\": 0.79, \"p\": 27976, \"fpr\": 0.1415165165165165, \"tpr\": 0.8997354875607664, \"n\": 5328}, {\"threshold\": 0.791, \"p\": 27976, \"fpr\": 0.14132882882882883, \"tpr\": 0.8994852730912211, \"n\": 5328}, {\"threshold\": 0.792, \"p\": 27976, \"fpr\": 0.14076576576576577, \"tpr\": 0.8992350586216757, \"n\": 5328}, {\"threshold\": 0.793, \"p\": 27976, \"fpr\": 0.1403903903903904, \"tpr\": 0.8989848441521304, \"n\": 5328}, {\"threshold\": 0.794, \"p\": 27976, \"fpr\": 0.13982732732732733, \"tpr\": 0.8986988847583643, \"n\": 5328}, {\"threshold\": 0.795, \"p\": 27976, \"fpr\": 0.13945195195195195, \"tpr\": 0.898448670288819, \"n\": 5328}, {\"threshold\": 0.796, \"p\": 27976, \"fpr\": 0.1387012012012012, \"tpr\": 0.898162710895053, \"n\": 5328}, {\"threshold\": 0.797, \"p\": 27976, \"fpr\": 0.13813813813813813, \"tpr\": 0.8979482413497284, \"n\": 5328}, {\"threshold\": 0.798, \"p\": 27976, \"fpr\": 0.13776276276276275, \"tpr\": 0.897698026880183, \"n\": 5328}, {\"threshold\": 0.799, \"p\": 27976, \"fpr\": 0.1371996996996997, \"tpr\": 0.8974478124106376, \"n\": 5328}, {\"threshold\": 0.8, \"p\": 27976, \"fpr\": 0.13701201201201202, \"tpr\": 0.8974120674864169, \"n\": 5328}, {\"threshold\": 0.801, \"p\": 27976, \"fpr\": 0.13663663663663664, \"tpr\": 0.89709036316843, \"n\": 5328}, {\"threshold\": 0.802, \"p\": 27976, \"fpr\": 0.13607357357357358, \"tpr\": 0.8967686588504432, \"n\": 5328}, {\"threshold\": 0.803, \"p\": 27976, \"fpr\": 0.1356981981981982, \"tpr\": 0.8964112096082356, \"n\": 5328}, {\"threshold\": 0.804, \"p\": 27976, \"fpr\": 0.1356981981981982, \"tpr\": 0.8959822705175865, \"n\": 5328}, {\"threshold\": 0.805, \"p\": 27976, \"fpr\": 0.13494744744744744, \"tpr\": 0.8956248212753789, \"n\": 5328}, {\"threshold\": 0.806, \"p\": 27976, \"fpr\": 0.13494744744744744, \"tpr\": 0.8954460966542751, \"n\": 5328}, {\"threshold\": 0.807, \"p\": 27976, \"fpr\": 0.13475975975975976, \"tpr\": 0.8952316271089505, \"n\": 5328}, {\"threshold\": 0.808, \"p\": 27976, \"fpr\": 0.1341966966966967, \"tpr\": 0.8950886474120675, \"n\": 5328}, {\"threshold\": 0.809, \"p\": 27976, \"fpr\": 0.13363363363363365, \"tpr\": 0.8945524735487561, \"n\": 5328}, {\"threshold\": 0.81, \"p\": 27976, \"fpr\": 0.13344594594594594, \"tpr\": 0.8941592793823278, \"n\": 5328}, {\"threshold\": 0.811, \"p\": 27976, \"fpr\": 0.13325825825825827, \"tpr\": 0.8938375750643409, \"n\": 5328}, {\"threshold\": 0.812, \"p\": 27976, \"fpr\": 0.13288288288288289, \"tpr\": 0.8936945953674578, \"n\": 5328}, {\"threshold\": 0.813, \"p\": 27976, \"fpr\": 0.13269519519519518, \"tpr\": 0.8934801258221332, \"n\": 5328}, {\"threshold\": 0.814, \"p\": 27976, \"fpr\": 0.13269519519519518, \"tpr\": 0.8930869316557049, \"n\": 5328}, {\"threshold\": 0.815, \"p\": 27976, \"fpr\": 0.13213213213213212, \"tpr\": 0.8926937374892765, \"n\": 5328}, {\"threshold\": 0.816, \"p\": 27976, \"fpr\": 0.13194444444444445, \"tpr\": 0.8925865027166142, \"n\": 5328}, {\"threshold\": 0.817, \"p\": 27976, \"fpr\": 0.131006006006006, \"tpr\": 0.8922647983986274, \"n\": 5328}, {\"threshold\": 0.818, \"p\": 27976, \"fpr\": 0.131006006006006, \"tpr\": 0.8920145839290821, \"n\": 5328}, {\"threshold\": 0.819, \"p\": 27976, \"fpr\": 0.1308183183183183, \"tpr\": 0.891728624535316, \"n\": 5328}, {\"threshold\": 0.82, \"p\": 27976, \"fpr\": 0.1308183183183183, \"tpr\": 0.8910852158993423, \"n\": 5328}, {\"threshold\": 0.821, \"p\": 27976, \"fpr\": 0.13006756756756757, \"tpr\": 0.8907277666571347, \"n\": 5328}, {\"threshold\": 0.822, \"p\": 27976, \"fpr\": 0.13006756756756757, \"tpr\": 0.8902988275664856, \"n\": 5328}, {\"threshold\": 0.823, \"p\": 27976, \"fpr\": 0.12987987987987987, \"tpr\": 0.8899056334000572, \"n\": 5328}, {\"threshold\": 0.824, \"p\": 27976, \"fpr\": 0.12950450450450451, \"tpr\": 0.8895839290820704, \"n\": 5328}, {\"threshold\": 0.825, \"p\": 27976, \"fpr\": 0.12856606606606608, \"tpr\": 0.8891907349156419, \"n\": 5328}, {\"threshold\": 0.826, \"p\": 27976, \"fpr\": 0.128003003003003, \"tpr\": 0.8886903059765513, \"n\": 5328}, {\"threshold\": 0.827, \"p\": 27976, \"fpr\": 0.12762762762762764, \"tpr\": 0.8882971118101229, \"n\": 5328}, {\"threshold\": 0.828, \"p\": 27976, \"fpr\": 0.12706456456456455, \"tpr\": 0.8880468973405776, \"n\": 5328}, {\"threshold\": 0.829, \"p\": 27976, \"fpr\": 0.1266891891891892, \"tpr\": 0.8878324277952531, \"n\": 5328}, {\"threshold\": 0.83, \"p\": 27976, \"fpr\": 0.1265015015015015, \"tpr\": 0.8874749785530455, \"n\": 5328}, {\"threshold\": 0.831, \"p\": 27976, \"fpr\": 0.12518768768768768, \"tpr\": 0.8873319988561624, \"n\": 5328}, {\"threshold\": 0.832, \"p\": 27976, \"fpr\": 0.12481231231231231, \"tpr\": 0.8868673148412926, \"n\": 5328}, {\"threshold\": 0.833, \"p\": 27976, \"fpr\": 0.12406156156156156, \"tpr\": 0.8864741206748642, \"n\": 5328}, {\"threshold\": 0.834, \"p\": 27976, \"fpr\": 0.12368618618618618, \"tpr\": 0.8860094366599943, \"n\": 5328}, {\"threshold\": 0.835, \"p\": 27976, \"fpr\": 0.12293543543543543, \"tpr\": 0.8856877323420075, \"n\": 5328}, {\"threshold\": 0.836, \"p\": 27976, \"fpr\": 0.12218468468468469, \"tpr\": 0.8852230483271375, \"n\": 5328}, {\"threshold\": 0.837, \"p\": 27976, \"fpr\": 0.1218093093093093, \"tpr\": 0.8849728338575922, \"n\": 5328}, {\"threshold\": 0.838, \"p\": 27976, \"fpr\": 0.12143393393393394, \"tpr\": 0.8847941092364884, \"n\": 5328}, {\"threshold\": 0.839, \"p\": 27976, \"fpr\": 0.12143393393393394, \"tpr\": 0.884257935373177, \"n\": 5328}, {\"threshold\": 0.84, \"p\": 27976, \"fpr\": 0.12068318318318318, \"tpr\": 0.8836502716614241, \"n\": 5328}, {\"threshold\": 0.841, \"p\": 27976, \"fpr\": 0.12030780780780781, \"tpr\": 0.8834358021160995, \"n\": 5328}, {\"threshold\": 0.842, \"p\": 27976, \"fpr\": 0.11974474474474474, \"tpr\": 0.8828281384043466, \"n\": 5328}, {\"threshold\": 0.843, \"p\": 27976, \"fpr\": 0.11955705705705706, \"tpr\": 0.882327709465256, \"n\": 5328}, {\"threshold\": 0.844, \"p\": 27976, \"fpr\": 0.11861861861861862, \"tpr\": 0.8816485559050615, \"n\": 5328}, {\"threshold\": 0.845, \"p\": 27976, \"fpr\": 0.11786786786786786, \"tpr\": 0.8813983414355162, \"n\": 5328}, {\"threshold\": 0.846, \"p\": 27976, \"fpr\": 0.11768018018018019, \"tpr\": 0.88111238204175, \"n\": 5328}, {\"threshold\": 0.847, \"p\": 27976, \"fpr\": 0.1174924924924925, \"tpr\": 0.8807906777237632, \"n\": 5328}, {\"threshold\": 0.848, \"p\": 27976, \"fpr\": 0.11655405405405406, \"tpr\": 0.8805404632542179, \"n\": 5328}, {\"threshold\": 0.849, \"p\": 27976, \"fpr\": 0.11636636636636637, \"tpr\": 0.8801115241635687, \"n\": 5328}, {\"threshold\": 0.85, \"p\": 27976, \"fpr\": 0.11617867867867868, \"tpr\": 0.8797183299971404, \"n\": 5328}, {\"threshold\": 0.851, \"p\": 27976, \"fpr\": 0.11599099099099099, \"tpr\": 0.879325135830712, \"n\": 5328}, {\"threshold\": 0.852, \"p\": 27976, \"fpr\": 0.11580330330330331, \"tpr\": 0.8788604518158422, \"n\": 5328}, {\"threshold\": 0.853, \"p\": 27976, \"fpr\": 0.11505255255255255, \"tpr\": 0.878431512725193, \"n\": 5328}, {\"threshold\": 0.854, \"p\": 27976, \"fpr\": 0.11467717717717718, \"tpr\": 0.8780383185587647, \"n\": 5328}, {\"threshold\": 0.855, \"p\": 27976, \"fpr\": 0.11411411411411411, \"tpr\": 0.8773234200743495, \"n\": 5328}, {\"threshold\": 0.856, \"p\": 27976, \"fpr\": 0.11392642642642643, \"tpr\": 0.8767515012868172, \"n\": 5328}, {\"threshold\": 0.857, \"p\": 27976, \"fpr\": 0.11373873873873874, \"tpr\": 0.8765012868172719, \"n\": 5328}, {\"threshold\": 0.858, \"p\": 27976, \"fpr\": 0.11298798798798798, \"tpr\": 0.8761080926508436, \"n\": 5328}, {\"threshold\": 0.859, \"p\": 27976, \"fpr\": 0.11298798798798798, \"tpr\": 0.8755361738633114, \"n\": 5328}, {\"threshold\": 0.86, \"p\": 27976, \"fpr\": 0.1128003003003003, \"tpr\": 0.8750714898484415, \"n\": 5328}, {\"threshold\": 0.861, \"p\": 27976, \"fpr\": 0.11223723723723723, \"tpr\": 0.8748212753788962, \"n\": 5328}, {\"threshold\": 0.862, \"p\": 27976, \"fpr\": 0.11204954954954954, \"tpr\": 0.8744280812124678, \"n\": 5328}, {\"threshold\": 0.863, \"p\": 27976, \"fpr\": 0.11186186186186187, \"tpr\": 0.8740348870460395, \"n\": 5328}, {\"threshold\": 0.864, \"p\": 27976, \"fpr\": 0.1111111111111111, \"tpr\": 0.8737131827280527, \"n\": 5328}, {\"threshold\": 0.865, \"p\": 27976, \"fpr\": 0.10998498498498499, \"tpr\": 0.8731412639405205, \"n\": 5328}, {\"threshold\": 0.866, \"p\": 27976, \"fpr\": 0.10942192192192192, \"tpr\": 0.8724263654561052, \"n\": 5328}, {\"threshold\": 0.867, \"p\": 27976, \"fpr\": 0.10885885885885886, \"tpr\": 0.8720689162138976, \"n\": 5328}, {\"threshold\": 0.868, \"p\": 27976, \"fpr\": 0.10867117117117117, \"tpr\": 0.8715327423505862, \"n\": 5328}, {\"threshold\": 0.869, \"p\": 27976, \"fpr\": 0.10829579579579579, \"tpr\": 0.8712467829568201, \"n\": 5328}, {\"threshold\": 0.87, \"p\": 27976, \"fpr\": 0.10754504504504504, \"tpr\": 0.8707106090935087, \"n\": 5328}, {\"threshold\": 0.871, \"p\": 27976, \"fpr\": 0.10716966966966968, \"tpr\": 0.8704603946239634, \"n\": 5328}, {\"threshold\": 0.872, \"p\": 27976, \"fpr\": 0.10623123123123124, \"tpr\": 0.8699957106090935, \"n\": 5328}, {\"threshold\": 0.873, \"p\": 27976, \"fpr\": 0.10566816816816817, \"tpr\": 0.8693523019731199, \"n\": 5328}, {\"threshold\": 0.874, \"p\": 27976, \"fpr\": 0.10529279279279279, \"tpr\": 0.8689948527309123, \"n\": 5328}, {\"threshold\": 0.875, \"p\": 27976, \"fpr\": 0.10472972972972973, \"tpr\": 0.86842293394338, \"n\": 5328}, {\"threshold\": 0.876, \"p\": 27976, \"fpr\": 0.10397897897897898, \"tpr\": 0.8681012296253932, \"n\": 5328}, {\"threshold\": 0.877, \"p\": 27976, \"fpr\": 0.10322822822822823, \"tpr\": 0.8674578209894195, \"n\": 5328}, {\"threshold\": 0.878, \"p\": 27976, \"fpr\": 0.1022897897897898, \"tpr\": 0.8669573920503288, \"n\": 5328}, {\"threshold\": 0.879, \"p\": 27976, \"fpr\": 0.10191441441441441, \"tpr\": 0.8664569631112382, \"n\": 5328}, {\"threshold\": 0.88, \"p\": 27976, \"fpr\": 0.10172672672672672, \"tpr\": 0.8656705747783815, \"n\": 5328}, {\"threshold\": 0.881, \"p\": 27976, \"fpr\": 0.10135135135135136, \"tpr\": 0.8649199313697455, \"n\": 5328}, {\"threshold\": 0.882, \"p\": 27976, \"fpr\": 0.10078828828828829, \"tpr\": 0.8643480125822133, \"n\": 5328}, {\"threshold\": 0.883, \"p\": 27976, \"fpr\": 0.10041291291291292, \"tpr\": 0.8637403488704604, \"n\": 5328}, {\"threshold\": 0.884, \"p\": 27976, \"fpr\": 0.09947447447447448, \"tpr\": 0.8629897054618244, \"n\": 5328}, {\"threshold\": 0.885, \"p\": 27976, \"fpr\": 0.0990990990990991, \"tpr\": 0.8621318272805262, \"n\": 5328}, {\"threshold\": 0.886, \"p\": 27976, \"fpr\": 0.09891141141141141, \"tpr\": 0.8617386331140978, \"n\": 5328}, {\"threshold\": 0.887, \"p\": 27976, \"fpr\": 0.09853603603603604, \"tpr\": 0.8609522447812411, \"n\": 5328}, {\"threshold\": 0.888, \"p\": 27976, \"fpr\": 0.09816066066066066, \"tpr\": 0.8602730912210466, \"n\": 5328}, {\"threshold\": 0.889, \"p\": 27976, \"fpr\": 0.09778528528528528, \"tpr\": 0.8598441521303974, \"n\": 5328}, {\"threshold\": 0.89, \"p\": 27976, \"fpr\": 0.09628378378378379, \"tpr\": 0.8592364884186445, \"n\": 5328}, {\"threshold\": 0.891, \"p\": 27976, \"fpr\": 0.0959084084084084, \"tpr\": 0.8583071203889048, \"n\": 5328}, {\"threshold\": 0.892, \"p\": 27976, \"fpr\": 0.09515765765765766, \"tpr\": 0.8576637117529311, \"n\": 5328}, {\"threshold\": 0.893, \"p\": 27976, \"fpr\": 0.09478228228228228, \"tpr\": 0.8569488132685159, \"n\": 5328}, {\"threshold\": 0.894, \"p\": 27976, \"fpr\": 0.09384384384384384, \"tpr\": 0.856019445238776, \"n\": 5328}, {\"threshold\": 0.895, \"p\": 27976, \"fpr\": 0.09346846846846847, \"tpr\": 0.8553402916785816, \"n\": 5328}, {\"threshold\": 0.896, \"p\": 27976, \"fpr\": 0.09346846846846847, \"tpr\": 0.8545181584215041, \"n\": 5328}, {\"threshold\": 0.897, \"p\": 27976, \"fpr\": 0.09328078078078078, \"tpr\": 0.8538032599370889, \"n\": 5328}, {\"threshold\": 0.898, \"p\": 27976, \"fpr\": 0.0929054054054054, \"tpr\": 0.853195596225336, \"n\": 5328}, {\"threshold\": 0.899, \"p\": 27976, \"fpr\": 0.09234234234234234, \"tpr\": 0.8524092078924793, \"n\": 5328}, {\"threshold\": 0.9, \"p\": 27976, \"fpr\": 0.09196696696696696, \"tpr\": 0.8517300543322848, \"n\": 5328}, {\"threshold\": 0.901, \"p\": 27976, \"fpr\": 0.09102852852852852, \"tpr\": 0.8510509007720903, \"n\": 5328}, {\"threshold\": 0.902, \"p\": 27976, \"fpr\": 0.09084084084084085, \"tpr\": 0.8503717472118959, \"n\": 5328}, {\"threshold\": 0.903, \"p\": 27976, \"fpr\": 0.09027777777777778, \"tpr\": 0.8500500428939091, \"n\": 5328}, {\"threshold\": 0.904, \"p\": 27976, \"fpr\": 0.09009009009009009, \"tpr\": 0.8492279096368316, \"n\": 5328}, {\"threshold\": 0.905, \"p\": 27976, \"fpr\": 0.08915165165165165, \"tpr\": 0.8486559908492994, \"n\": 5328}, {\"threshold\": 0.906, \"p\": 27976, \"fpr\": 0.08802552552552552, \"tpr\": 0.8477266228195596, \"n\": 5328}, {\"threshold\": 0.907, \"p\": 27976, \"fpr\": 0.08727477477477477, \"tpr\": 0.8468687446382613, \"n\": 5328}, {\"threshold\": 0.908, \"p\": 27976, \"fpr\": 0.08633633633633633, \"tpr\": 0.8458321418358593, \"n\": 5328}, {\"threshold\": 0.909, \"p\": 27976, \"fpr\": 0.08614864864864864, \"tpr\": 0.8447955390334573, \"n\": 5328}, {\"threshold\": 0.91, \"p\": 27976, \"fpr\": 0.08596096096096097, \"tpr\": 0.843937660852159, \"n\": 5328}, {\"threshold\": 0.911, \"p\": 27976, \"fpr\": 0.0852102102102102, \"tpr\": 0.8430082928224192, \"n\": 5328}, {\"threshold\": 0.912, \"p\": 27976, \"fpr\": 0.08502252252252253, \"tpr\": 0.8423291392622247, \"n\": 5328}, {\"threshold\": 0.913, \"p\": 27976, \"fpr\": 0.08464714714714715, \"tpr\": 0.8416142407778096, \"n\": 5328}, {\"threshold\": 0.914, \"p\": 27976, \"fpr\": 0.08464714714714715, \"tpr\": 0.8409350872176151, \"n\": 5328}, {\"threshold\": 0.915, \"p\": 27976, \"fpr\": 0.08427177177177177, \"tpr\": 0.8398269945667716, \"n\": 5328}, {\"threshold\": 0.916, \"p\": 27976, \"fpr\": 0.08370870870870871, \"tpr\": 0.8389333714612525, \"n\": 5328}, {\"threshold\": 0.917, \"p\": 27976, \"fpr\": 0.08295795795795796, \"tpr\": 0.8375393194166428, \"n\": 5328}, {\"threshold\": 0.918, \"p\": 27976, \"fpr\": 0.08295795795795796, \"tpr\": 0.8362525021446955, \"n\": 5328}, {\"threshold\": 0.919, \"p\": 27976, \"fpr\": 0.08239489489489489, \"tpr\": 0.8353588790391764, \"n\": 5328}, {\"threshold\": 0.92, \"p\": 27976, \"fpr\": 0.08164414414414414, \"tpr\": 0.833929082070346, \"n\": 5328}, {\"threshold\": 0.921, \"p\": 27976, \"fpr\": 0.08126876876876876, \"tpr\": 0.8329282241921647, \"n\": 5328}, {\"threshold\": 0.922, \"p\": 27976, \"fpr\": 0.08033033033033032, \"tpr\": 0.8317843866171004, \"n\": 5328}, {\"threshold\": 0.923, \"p\": 27976, \"fpr\": 0.07957957957957958, \"tpr\": 0.830640549042036, \"n\": 5328}, {\"threshold\": 0.924, \"p\": 27976, \"fpr\": 0.07920420420420421, \"tpr\": 0.8297111810122962, \"n\": 5328}, {\"threshold\": 0.925, \"p\": 27976, \"fpr\": 0.07882882882882883, \"tpr\": 0.8289247926794395, \"n\": 5328}, {\"threshold\": 0.926, \"p\": 27976, \"fpr\": 0.07789039039039039, \"tpr\": 0.8276022304832714, \"n\": 5328}, {\"threshold\": 0.927, \"p\": 27976, \"fpr\": 0.07789039039039039, \"tpr\": 0.8264226479839862, \"n\": 5328}, {\"threshold\": 0.928, \"p\": 27976, \"fpr\": 0.0777027027027027, \"tpr\": 0.8254575350300257, \"n\": 5328}, {\"threshold\": 0.929, \"p\": 27976, \"fpr\": 0.07695195195195195, \"tpr\": 0.8240992279096369, \"n\": 5328}, {\"threshold\": 0.93, \"p\": 27976, \"fpr\": 0.0762012012012012, \"tpr\": 0.8228839004861309, \"n\": 5328}, {\"threshold\": 0.931, \"p\": 27976, \"fpr\": 0.07507507507507508, \"tpr\": 0.8213111238204175, \"n\": 5328}, {\"threshold\": 0.932, \"p\": 27976, \"fpr\": 0.07488738738738739, \"tpr\": 0.8199170717758079, \"n\": 5328}, {\"threshold\": 0.933, \"p\": 27976, \"fpr\": 0.07488738738738739, \"tpr\": 0.8187374892765227, \"n\": 5328}, {\"threshold\": 0.934, \"p\": 27976, \"fpr\": 0.0746996996996997, \"tpr\": 0.81720045753503, \"n\": 5328}, {\"threshold\": 0.935, \"p\": 27976, \"fpr\": 0.07451201201201202, \"tpr\": 0.8156634257935373, \"n\": 5328}, {\"threshold\": 0.936, \"p\": 27976, \"fpr\": 0.07394894894894895, \"tpr\": 0.8144480983700314, \"n\": 5328}, {\"threshold\": 0.937, \"p\": 27976, \"fpr\": 0.07338588588588589, \"tpr\": 0.8133400057191879, \"n\": 5328}, {\"threshold\": 0.938, \"p\": 27976, \"fpr\": 0.07301051051051051, \"tpr\": 0.8118744638261367, \"n\": 5328}, {\"threshold\": 0.939, \"p\": 27976, \"fpr\": 0.07263513513513513, \"tpr\": 0.8103374320846439, \"n\": 5328}, {\"threshold\": 0.94, \"p\": 27976, \"fpr\": 0.07188438438438438, \"tpr\": 0.8085144409493852, \"n\": 5328}, {\"threshold\": 0.941, \"p\": 27976, \"fpr\": 0.07132132132132132, \"tpr\": 0.8071918787532171, \"n\": 5328}, {\"threshold\": 0.942, \"p\": 27976, \"fpr\": 0.07057057057057058, \"tpr\": 0.8057620817843866, \"n\": 5328}, {\"threshold\": 0.943, \"p\": 27976, \"fpr\": 0.07038288288288289, \"tpr\": 0.8042250500428939, \"n\": 5328}, {\"threshold\": 0.944, \"p\": 27976, \"fpr\": 0.06963213213213214, \"tpr\": 0.8027952530740635, \"n\": 5328}, {\"threshold\": 0.945, \"p\": 27976, \"fpr\": 0.06925675675675676, \"tpr\": 0.8011867314841292, \"n\": 5328}, {\"threshold\": 0.946, \"p\": 27976, \"fpr\": 0.06888138138138138, \"tpr\": 0.7993279954246497, \"n\": 5328}, {\"threshold\": 0.947, \"p\": 27976, \"fpr\": 0.06794294294294294, \"tpr\": 0.7976479839862739, \"n\": 5328}, {\"threshold\": 0.948, \"p\": 27976, \"fpr\": 0.06737987987987988, \"tpr\": 0.7962539319416643, \"n\": 5328}, {\"threshold\": 0.949, \"p\": 27976, \"fpr\": 0.06587837837837837, \"tpr\": 0.7946096654275093, \"n\": 5328}, {\"threshold\": 0.95, \"p\": 27976, \"fpr\": 0.06456456456456457, \"tpr\": 0.7921432656562768, \"n\": 5328}, {\"threshold\": 0.951, \"p\": 27976, \"fpr\": 0.06381381381381382, \"tpr\": 0.7906062339147841, \"n\": 5328}, {\"threshold\": 0.952, \"p\": 27976, \"fpr\": 0.06306306306306306, \"tpr\": 0.7890334572490706, \"n\": 5328}, {\"threshold\": 0.953, \"p\": 27976, \"fpr\": 0.0625, \"tpr\": 0.7866385473262797, \"n\": 5328}, {\"threshold\": 0.954, \"p\": 27976, \"fpr\": 0.061936936936936936, \"tpr\": 0.7842078924792679, \"n\": 5328}, {\"threshold\": 0.955, \"p\": 27976, \"fpr\": 0.06118618618618619, \"tpr\": 0.7820631970260223, \"n\": 5328}, {\"threshold\": 0.956, \"p\": 27976, \"fpr\": 0.0609984984984985, \"tpr\": 0.7804189305118673, \"n\": 5328}, {\"threshold\": 0.957, \"p\": 27976, \"fpr\": 0.05987237237237237, \"tpr\": 0.7782027452101802, \"n\": 5328}, {\"threshold\": 0.958, \"p\": 27976, \"fpr\": 0.05912162162162162, \"tpr\": 0.776272519302259, \"n\": 5328}, {\"threshold\": 0.959, \"p\": 27976, \"fpr\": 0.05818318318318318, \"tpr\": 0.7734844152130398, \"n\": 5328}, {\"threshold\": 0.96, \"p\": 27976, \"fpr\": 0.05780780780780781, \"tpr\": 0.7710895052902488, \"n\": 5328}, {\"threshold\": 0.961, \"p\": 27976, \"fpr\": 0.057244744744744745, \"tpr\": 0.7685516156705747, \"n\": 5328}, {\"threshold\": 0.962, \"p\": 27976, \"fpr\": 0.05593093093093093, \"tpr\": 0.7664069202173291, \"n\": 5328}, {\"threshold\": 0.963, \"p\": 27976, \"fpr\": 0.05536786786786787, \"tpr\": 0.763440091507006, \"n\": 5328}, {\"threshold\": 0.964, \"p\": 27976, \"fpr\": 0.05442942942942943, \"tpr\": 0.7602230483271375, \"n\": 5328}, {\"threshold\": 0.965, \"p\": 27976, \"fpr\": 0.053678678678678676, \"tpr\": 0.7577209036316843, \"n\": 5328}, {\"threshold\": 0.966, \"p\": 27976, \"fpr\": 0.05292792792792793, \"tpr\": 0.7547540749213612, \"n\": 5328}, {\"threshold\": 0.967, \"p\": 27976, \"fpr\": 0.052177177177177174, \"tpr\": 0.7517157563625965, \"n\": 5328}, {\"threshold\": 0.968, \"p\": 27976, \"fpr\": 0.05161411411411412, \"tpr\": 0.7481770088647413, \"n\": 5328}, {\"threshold\": 0.969, \"p\": 27976, \"fpr\": 0.051238738738738736, \"tpr\": 0.7450314555333143, \"n\": 5328}, {\"threshold\": 0.97, \"p\": 27976, \"fpr\": 0.050112612612612614, \"tpr\": 0.7412782384901344, \"n\": 5328}, {\"threshold\": 0.971, \"p\": 27976, \"fpr\": 0.049174174174174176, \"tpr\": 0.738204175007149, \"n\": 5328}, {\"threshold\": 0.972, \"p\": 27976, \"fpr\": 0.04823573573573574, \"tpr\": 0.734164998570203, \"n\": 5328}, {\"threshold\": 0.973, \"p\": 27976, \"fpr\": 0.047672672672672674, \"tpr\": 0.7306977409207892, \"n\": 5328}, {\"threshold\": 0.974, \"p\": 27976, \"fpr\": 0.046546546546546545, \"tpr\": 0.7262653703174149, \"n\": 5328}, {\"threshold\": 0.975, \"p\": 27976, \"fpr\": 0.045420420420420424, \"tpr\": 0.7218329997140406, \"n\": 5328}, {\"threshold\": 0.976, \"p\": 27976, \"fpr\": 0.04373123123123123, \"tpr\": 0.7173648841864455, \"n\": 5328}, {\"threshold\": 0.977, \"p\": 27976, \"fpr\": 0.0426051051051051, \"tpr\": 0.7127537889619674, \"n\": 5328}, {\"threshold\": 0.978, \"p\": 27976, \"fpr\": 0.041666666666666664, \"tpr\": 0.7083929082070346, \"n\": 5328}, {\"threshold\": 0.979, \"p\": 27976, \"fpr\": 0.04129129129129129, \"tpr\": 0.7033886188161281, \"n\": 5328}, {\"threshold\": 0.98, \"p\": 27976, \"fpr\": 0.040728228228228226, \"tpr\": 0.6974549613954818, \"n\": 5328}, {\"threshold\": 0.981, \"p\": 27976, \"fpr\": 0.03997747747747748, \"tpr\": 0.6917000285959394, \"n\": 5328}, {\"threshold\": 0.982, \"p\": 27976, \"fpr\": 0.03866366366366367, \"tpr\": 0.6851229625393194, \"n\": 5328}, {\"threshold\": 0.983, \"p\": 27976, \"fpr\": 0.0365990990990991, \"tpr\": 0.6791893051186731, \"n\": 5328}, {\"threshold\": 0.984, \"p\": 27976, \"fpr\": 0.0350975975975976, \"tpr\": 0.6718615956534172, \"n\": 5328}, {\"threshold\": 0.985, \"p\": 27976, \"fpr\": 0.03453453453453453, \"tpr\": 0.6642479267943951, \"n\": 5328}, {\"threshold\": 0.986, \"p\": 27976, \"fpr\": 0.03322072072072072, \"tpr\": 0.6559551043751787, \"n\": 5328}, {\"threshold\": 0.987, \"p\": 27976, \"fpr\": 0.03228228228228228, \"tpr\": 0.6466971690020017, \"n\": 5328}, {\"threshold\": 0.988, \"p\": 27976, \"fpr\": 0.030968468468468468, \"tpr\": 0.6373677437803832, \"n\": 5328}, {\"threshold\": 0.989, \"p\": 27976, \"fpr\": 0.02927927927927928, \"tpr\": 0.6274306548470118, \"n\": 5328}, {\"threshold\": 0.99, \"p\": 27976, \"fpr\": 0.026839339339339338, \"tpr\": 0.6158492993994853, \"n\": 5328}, {\"threshold\": 0.991, \"p\": 27976, \"fpr\": 0.025525525525525526, \"tpr\": 0.6035887903917644, \"n\": 5328}, {\"threshold\": 0.992, \"p\": 27976, \"fpr\": 0.02421171171171171, \"tpr\": 0.5895052902487846, \"n\": 5328}, {\"threshold\": 0.993, \"p\": 27976, \"fpr\": 0.022334834834834835, \"tpr\": 0.5742779525307407, \"n\": 5328}, {\"threshold\": 0.994, \"p\": 27976, \"fpr\": 0.020833333333333332, \"tpr\": 0.5570846439805548, \"n\": 5328}, {\"threshold\": 0.995, \"p\": 27976, \"fpr\": 0.019707207207207207, \"tpr\": 0.5346725764941378, \"n\": 5328}, {\"threshold\": 0.996, \"p\": 27976, \"fpr\": 0.018205705705705705, \"tpr\": 0.5075064340863598, \"n\": 5328}, {\"threshold\": 0.997, \"p\": 27976, \"fpr\": 0.01614114114114114, \"tpr\": 0.47419216471261083, \"n\": 5328}, {\"threshold\": 0.998, \"p\": 27976, \"fpr\": 0.013138138138138139, \"tpr\": 0.4294752645124392, \"n\": 5328}, {\"threshold\": 0.999, \"p\": 27976, \"fpr\": 0.009384384384384385, \"tpr\": 0.3602016013726051, \"n\": 5328}, {\"threshold\": 1.0, \"p\": 27976, \"fpr\": 0.0, \"tpr\": 0.0, \"n\": 5328}]}]]}, e);\n",
       "                });\n",
       "            })();\n",
       "        "
      ]
     },
     "metadata": {},
     "output_type": "display_data"
    }
   ],
   "source": [
    "sentiment_analysis_model.show(view='Evaluation')"
   ]
  },
  {
   "cell_type": "code",
   "execution_count": null,
   "metadata": {
    "collapsed": false
   },
   "outputs": [],
   "source": []
  },
  {
   "cell_type": "code",
   "execution_count": 34,
   "metadata": {
    "collapsed": false
   },
   "outputs": [
    {
     "data": {
      "application/javascript": [
       "$(\"head\").append($(\"<link/>\").attr({\n",
       "  rel:  \"stylesheet\",\n",
       "  type: \"text/css\",\n",
       "  href: \"//cdnjs.cloudflare.com/ajax/libs/font-awesome/4.1.0/css/font-awesome.min.css\"\n",
       "}));\n",
       "$(\"head\").append($(\"<link/>\").attr({\n",
       "  rel:  \"stylesheet\",\n",
       "  type: \"text/css\",\n",
       "  href: \"https://static.turi.com/products/graphlab-create/2.0.1/canvas/css/canvas.css\"\n",
       "}));\n",
       "\n",
       "            (function(){\n",
       "\n",
       "                var e = null;\n",
       "                if (typeof element == 'undefined') {\n",
       "                    var scripts = document.getElementsByTagName('script');\n",
       "                    var thisScriptTag = scripts[scripts.length-1];\n",
       "                    var parentDiv = thisScriptTag.parentNode;\n",
       "                    e = document.createElement('div');\n",
       "                    parentDiv.appendChild(e);\n",
       "                } else {\n",
       "                    e = element[0];\n",
       "                }\n",
       "\n",
       "                if (typeof requirejs !== 'undefined') {\n",
       "                    // disable load timeout; ipython_app.js is large and can take a while to load.\n",
       "                    requirejs.config({waitSeconds: 0});\n",
       "                }\n",
       "\n",
       "                require(['https://static.turi.com/products/graphlab-create/2.0.1/canvas/js/ipython_app.js'], function(IPythonApp){\n",
       "                    var app = new IPythonApp();\n",
       "                    app.attachView('sframe','Summary', {\"ipython\": true, \"sketch\": {\"rating\": {\"complete\": true, \"numeric\": true, \"num_unique\": 0, \"num_undefined\": 0, \"progress\": 1.0, \"frequent_items\": {}, \"size\": 0}, \"review\": {\"complete\": true, \"numeric\": false, \"num_unique\": 0, \"num_undefined\": 0, \"progress\": 1.0, \"frequent_items\": {}, \"size\": 0}, \"name\": {\"complete\": true, \"numeric\": false, \"num_unique\": 0, \"num_undefined\": 0, \"progress\": 1.0, \"frequent_items\": {}, \"size\": 0}, \"word_count\": {\"keys\": {\"complete\": true, \"numeric\": false, \"num_unique\": 0, \"num_undefined\": 0, \"progress\": 1.0, \"frequent_items\": {}, \"size\": 0}, \"progress\": 1.0, \"values\": {\"complete\": true, \"numeric\": false, \"num_unique\": 0, \"num_undefined\": 0, \"progress\": 1.0, \"frequent_items\": {}, \"size\": 0}, \"complete\": true, \"num_undefined\": 0}, \"sentiment\": {\"complete\": true, \"numeric\": true, \"num_unique\": 0, \"num_undefined\": 0, \"progress\": 1.0, \"frequent_items\": {}, \"size\": 0}}, \"selected_variable\": {\"name\": [\"giraffe_reviews\"], \"descriptives\": {\"rows\": 0, \"columns\": 5}, \"view_component\": \"Summary\", \"view_file\": \"sframe\", \"view_params\": {\"y\": null, \"x\": null, \"columns\": [\"name\", \"review\", \"rating\", \"word_count\", \"sentiment\"], \"view\": null}, \"view_components\": [\"Summary\", \"Table\", \"Bar Chart\", \"BoxWhisker Plot\", \"Line Chart\", \"Scatter Plot\", \"Heat Map\", \"Plots\"], \"type\": \"SFrame\", \"columns\": [{\"dtype\": \"str\", \"name\": \"name\"}, {\"dtype\": \"str\", \"name\": \"review\"}, {\"dtype\": \"float\", \"name\": \"rating\"}, {\"dtype\": \"dict\", \"name\": \"word_count\"}, {\"dtype\": \"int\", \"name\": \"sentiment\"}], \"column_identifiers\": [\"rating\", \"review\", \"name\", \"word_count\", \"sentiment\"]}, \"columns\": [{\"dtype\": \"str\", \"name\": \"name\"}, {\"dtype\": \"str\", \"name\": \"review\"}, {\"dtype\": \"float\", \"name\": \"rating\"}, {\"dtype\": \"dict\", \"name\": \"word_count\"}, {\"dtype\": \"int\", \"name\": \"sentiment\"}]}, e);\n",
       "                });\n",
       "            })();\n",
       "        "
      ]
     },
     "metadata": {},
     "output_type": "display_data"
    }
   ],
   "source": [
    "giraffe_reviews.show()"
   ]
  },
  {
   "cell_type": "code",
   "execution_count": 43,
   "metadata": {
    "collapsed": false
   },
   "outputs": [],
   "source": [
    "graphlab.canvas.set_target('browser')"
   ]
  },
  {
   "cell_type": "code",
   "execution_count": 44,
   "metadata": {
    "collapsed": false
   },
   "outputs": [
    {
     "name": "stdout",
     "output_type": "stream",
     "text": [
      "Canvas is accessible via web browser at the URL: http://localhost:52224/index.html\n",
      "Opening Canvas in default web browser.\n"
     ]
    }
   ],
   "source": [
    "giraffe_reviews.show()"
   ]
  },
  {
   "cell_type": "code",
   "execution_count": 54,
   "metadata": {
    "collapsed": false
   },
   "outputs": [
    {
     "data": {
      "text/html": [
       "<div style=\"max-height:1000px;max-width:1500px;overflow:auto;\"><table frame=\"box\" rules=\"cols\">\n",
       "    <tr>\n",
       "        <th style=\"padding-left: 1em; padding-right: 1em; text-align: center\">name</th>\n",
       "        <th style=\"padding-left: 1em; padding-right: 1em; text-align: center\">review</th>\n",
       "        <th style=\"padding-left: 1em; padding-right: 1em; text-align: center\">rating</th>\n",
       "        <th style=\"padding-left: 1em; padding-right: 1em; text-align: center\">word_count</th>\n",
       "        <th style=\"padding-left: 1em; padding-right: 1em; text-align: center\">sentiment</th>\n",
       "    </tr>\n",
       "    <tr>\n",
       "        <td style=\"padding-left: 1em; padding-right: 1em; text-align: center; vertical-align: top\">Vulli Sophie the Giraffe<br>Teether ...</td>\n",
       "        <td style=\"padding-left: 1em; padding-right: 1em; text-align: center; vertical-align: top\">He likes chewing on all<br>the parts especially the ...</td>\n",
       "        <td style=\"padding-left: 1em; padding-right: 1em; text-align: center; vertical-align: top\">5.0</td>\n",
       "        <td style=\"padding-left: 1em; padding-right: 1em; text-align: center; vertical-align: top\">{'and': 1, 'all': 1,<br>'because': 1, 'it': 1, ...</td>\n",
       "        <td style=\"padding-left: 1em; padding-right: 1em; text-align: center; vertical-align: top\">1</td>\n",
       "    </tr>\n",
       "    <tr>\n",
       "        <td style=\"padding-left: 1em; padding-right: 1em; text-align: center; vertical-align: top\">Vulli Sophie the Giraffe<br>Teether ...</td>\n",
       "        <td style=\"padding-left: 1em; padding-right: 1em; text-align: center; vertical-align: top\">My son loves this toy and<br>fits great in the diaper ...</td>\n",
       "        <td style=\"padding-left: 1em; padding-right: 1em; text-align: center; vertical-align: top\">5.0</td>\n",
       "        <td style=\"padding-left: 1em; padding-right: 1em; text-align: center; vertical-align: top\">{'and': 1, 'right': 1,<br>'help': 1, 'just': 1, ...</td>\n",
       "        <td style=\"padding-left: 1em; padding-right: 1em; text-align: center; vertical-align: top\">1</td>\n",
       "    </tr>\n",
       "    <tr>\n",
       "        <td style=\"padding-left: 1em; padding-right: 1em; text-align: center; vertical-align: top\">Vulli Sophie the Giraffe<br>Teether ...</td>\n",
       "        <td style=\"padding-left: 1em; padding-right: 1em; text-align: center; vertical-align: top\">There really should be a<br>large warning on the  ...</td>\n",
       "        <td style=\"padding-left: 1em; padding-right: 1em; text-align: center; vertical-align: top\">1.0</td>\n",
       "        <td style=\"padding-left: 1em; padding-right: 1em; text-align: center; vertical-align: top\">{'and': 2, 'all': 1,<br>'would': 1, 'latex.': 1, ...</td>\n",
       "        <td style=\"padding-left: 1em; padding-right: 1em; text-align: center; vertical-align: top\">0</td>\n",
       "    </tr>\n",
       "    <tr>\n",
       "        <td style=\"padding-left: 1em; padding-right: 1em; text-align: center; vertical-align: top\">Vulli Sophie the Giraffe<br>Teether ...</td>\n",
       "        <td style=\"padding-left: 1em; padding-right: 1em; text-align: center; vertical-align: top\">All the moms in my moms'<br>group got Sophie for ...</td>\n",
       "        <td style=\"padding-left: 1em; padding-right: 1em; text-align: center; vertical-align: top\">5.0</td>\n",
       "        <td style=\"padding-left: 1em; padding-right: 1em; text-align: center; vertical-align: top\">{'and': 2, 'one!': 1,<br>'all': 1, 'love': 1, ...</td>\n",
       "        <td style=\"padding-left: 1em; padding-right: 1em; text-align: center; vertical-align: top\">1</td>\n",
       "    </tr>\n",
       "    <tr>\n",
       "        <td style=\"padding-left: 1em; padding-right: 1em; text-align: center; vertical-align: top\">Vulli Sophie the Giraffe<br>Teether ...</td>\n",
       "        <td style=\"padding-left: 1em; padding-right: 1em; text-align: center; vertical-align: top\">I was a little skeptical<br>on whether Sophie was ...</td>\n",
       "        <td style=\"padding-left: 1em; padding-right: 1em; text-align: center; vertical-align: top\">5.0</td>\n",
       "        <td style=\"padding-left: 1em; padding-right: 1em; text-align: center; vertical-align: top\">{'and': 3, 'all': 1,<br>'months': 1, 'old': 1, ...</td>\n",
       "        <td style=\"padding-left: 1em; padding-right: 1em; text-align: center; vertical-align: top\">1</td>\n",
       "    </tr>\n",
       "    <tr>\n",
       "        <td style=\"padding-left: 1em; padding-right: 1em; text-align: center; vertical-align: top\">Vulli Sophie the Giraffe<br>Teether ...</td>\n",
       "        <td style=\"padding-left: 1em; padding-right: 1em; text-align: center; vertical-align: top\">I have been reading about<br>Sophie and was going  ...</td>\n",
       "        <td style=\"padding-left: 1em; padding-right: 1em; text-align: center; vertical-align: top\">5.0</td>\n",
       "        <td style=\"padding-left: 1em; padding-right: 1em; text-align: center; vertical-align: top\">{'and': 6, 'seven': 1,<br>'already': 1, 'love': 1, ...</td>\n",
       "        <td style=\"padding-left: 1em; padding-right: 1em; text-align: center; vertical-align: top\">1</td>\n",
       "    </tr>\n",
       "    <tr>\n",
       "        <td style=\"padding-left: 1em; padding-right: 1em; text-align: center; vertical-align: top\">Vulli Sophie the Giraffe<br>Teether ...</td>\n",
       "        <td style=\"padding-left: 1em; padding-right: 1em; text-align: center; vertical-align: top\">My neice loves her sophie<br>and has spent hours ...</td>\n",
       "        <td style=\"padding-left: 1em; padding-right: 1em; text-align: center; vertical-align: top\">5.0</td>\n",
       "        <td style=\"padding-left: 1em; padding-right: 1em; text-align: center; vertical-align: top\">{'and': 4, 'drooling,':<br>1, 'love': 1, ...</td>\n",
       "        <td style=\"padding-left: 1em; padding-right: 1em; text-align: center; vertical-align: top\">1</td>\n",
       "    </tr>\n",
       "    <tr>\n",
       "        <td style=\"padding-left: 1em; padding-right: 1em; text-align: center; vertical-align: top\">Vulli Sophie the Giraffe<br>Teether ...</td>\n",
       "        <td style=\"padding-left: 1em; padding-right: 1em; text-align: center; vertical-align: top\">What a friendly face!<br>And those mesmerizing ...</td>\n",
       "        <td style=\"padding-left: 1em; padding-right: 1em; text-align: center; vertical-align: top\">5.0</td>\n",
       "        <td style=\"padding-left: 1em; padding-right: 1em; text-align: center; vertical-align: top\">{'and': 3, 'chew': 1,<br>'be': 1, 'is': 1, ...</td>\n",
       "        <td style=\"padding-left: 1em; padding-right: 1em; text-align: center; vertical-align: top\">1</td>\n",
       "    </tr>\n",
       "    <tr>\n",
       "        <td style=\"padding-left: 1em; padding-right: 1em; text-align: center; vertical-align: top\">Vulli Sophie the Giraffe<br>Teether ...</td>\n",
       "        <td style=\"padding-left: 1em; padding-right: 1em; text-align: center; vertical-align: top\">We got this just for my<br>son to chew on instea ...</td>\n",
       "        <td style=\"padding-left: 1em; padding-right: 1em; text-align: center; vertical-align: top\">5.0</td>\n",
       "        <td style=\"padding-left: 1em; padding-right: 1em; text-align: center; vertical-align: top\">{'chew': 2, 'seemed': 1,<br>'because': 1, 'about.': ...</td>\n",
       "        <td style=\"padding-left: 1em; padding-right: 1em; text-align: center; vertical-align: top\">1</td>\n",
       "    </tr>\n",
       "    <tr>\n",
       "        <td style=\"padding-left: 1em; padding-right: 1em; text-align: center; vertical-align: top\">Vulli Sophie the Giraffe<br>Teether ...</td>\n",
       "        <td style=\"padding-left: 1em; padding-right: 1em; text-align: center; vertical-align: top\">This product is without a<br>doubt the best on the ...</td>\n",
       "        <td style=\"padding-left: 1em; padding-right: 1em; text-align: center; vertical-align: top\">5.0</td>\n",
       "        <td style=\"padding-left: 1em; padding-right: 1em; text-align: center; vertical-align: top\">{'and': 4, ':)': 1,<br>'just': 2, 'give': 1, ...</td>\n",
       "        <td style=\"padding-left: 1em; padding-right: 1em; text-align: center; vertical-align: top\">1</td>\n",
       "    </tr>\n",
       "</table>\n",
       "[? rows x 5 columns]<br/>Note: Only the head of the SFrame is printed. This SFrame is lazily evaluated.<br/>You can use sf.materialize() to force materialization.\n",
       "</div>"
      ],
      "text/plain": [
       "Columns:\n",
       "\tname\tstr\n",
       "\treview\tstr\n",
       "\trating\tfloat\n",
       "\tword_count\tdict\n",
       "\tsentiment\tint\n",
       "\n",
       "Rows: Unknown\n",
       "\n",
       "Data:\n",
       "+-------------------------------+-------------------------------+--------+\n",
       "|              name             |             review            | rating |\n",
       "+-------------------------------+-------------------------------+--------+\n",
       "| Vulli Sophie the Giraffe T... | He likes chewing on all th... |  5.0   |\n",
       "| Vulli Sophie the Giraffe T... | My son loves this toy and ... |  5.0   |\n",
       "| Vulli Sophie the Giraffe T... | There really should be a l... |  1.0   |\n",
       "| Vulli Sophie the Giraffe T... | All the moms in my moms' g... |  5.0   |\n",
       "| Vulli Sophie the Giraffe T... | I was a little skeptical o... |  5.0   |\n",
       "| Vulli Sophie the Giraffe T... | I have been reading about ... |  5.0   |\n",
       "| Vulli Sophie the Giraffe T... | My neice loves her sophie ... |  5.0   |\n",
       "| Vulli Sophie the Giraffe T... | What a friendly face!  And... |  5.0   |\n",
       "| Vulli Sophie the Giraffe T... | We got this just for my so... |  5.0   |\n",
       "| Vulli Sophie the Giraffe T... | This product is without a ... |  5.0   |\n",
       "+-------------------------------+-------------------------------+--------+\n",
       "+-------------------------------+-----------+\n",
       "|           word_count          | sentiment |\n",
       "+-------------------------------+-----------+\n",
       "| {'and': 1, 'all': 1, 'beca... |     1     |\n",
       "| {'and': 1, 'right': 1, 'he... |     1     |\n",
       "| {'and': 2, 'all': 1, 'woul... |     0     |\n",
       "| {'and': 2, 'one!': 1, 'all... |     1     |\n",
       "| {'and': 3, 'all': 1, 'mont... |     1     |\n",
       "| {'and': 6, 'seven': 1, 'al... |     1     |\n",
       "| {'and': 4, 'drooling,': 1,... |     1     |\n",
       "| {'and': 3, 'chew': 1, 'be'... |     1     |\n",
       "| {'chew': 2, 'seemed': 1, '... |     1     |\n",
       "| {'and': 4, ':)': 1, 'just'... |     1     |\n",
       "+-------------------------------+-----------+\n",
       "[? rows x 5 columns]\n",
       "Note: Only the head of the SFrame is printed. This SFrame is lazily evaluated.\n",
       "You can use sf.materialize() to force materialization."
      ]
     },
     "execution_count": 54,
     "metadata": {},
     "output_type": "execute_result"
    }
   ],
   "source": [
    "giraffe_reviews"
   ]
  },
  {
   "cell_type": "code",
   "execution_count": 36,
   "metadata": {
    "collapsed": false
   },
   "outputs": [
    {
     "data": {
      "text/html": [
       "<div style=\"max-height:1000px;max-width:1500px;overflow:auto;\"><table frame=\"box\" rules=\"cols\">\n",
       "    <tr>\n",
       "        <th style=\"padding-left: 1em; padding-right: 1em; text-align: center\">name</th>\n",
       "        <th style=\"padding-left: 1em; padding-right: 1em; text-align: center\">review</th>\n",
       "        <th style=\"padding-left: 1em; padding-right: 1em; text-align: center\">rating</th>\n",
       "        <th style=\"padding-left: 1em; padding-right: 1em; text-align: center\">word_count</th>\n",
       "        <th style=\"padding-left: 1em; padding-right: 1em; text-align: center\">sentiment</th>\n",
       "    </tr>\n",
       "    <tr>\n",
       "        <td style=\"padding-left: 1em; padding-right: 1em; text-align: center; vertical-align: top\">Planetwise Wipe Pouch</td>\n",
       "        <td style=\"padding-left: 1em; padding-right: 1em; text-align: center; vertical-align: top\">it came early and was not<br>disappointed. i love ...</td>\n",
       "        <td style=\"padding-left: 1em; padding-right: 1em; text-align: center; vertical-align: top\">5.0</td>\n",
       "        <td style=\"padding-left: 1em; padding-right: 1em; text-align: center; vertical-align: top\">{'and': 3, 'love': 1,<br>'it': 2, 'highly': 1, ...</td>\n",
       "        <td style=\"padding-left: 1em; padding-right: 1em; text-align: center; vertical-align: top\">1</td>\n",
       "    </tr>\n",
       "    <tr>\n",
       "        <td style=\"padding-left: 1em; padding-right: 1em; text-align: center; vertical-align: top\">Annas Dream Full Quilt<br>with 2 Shams ...</td>\n",
       "        <td style=\"padding-left: 1em; padding-right: 1em; text-align: center; vertical-align: top\">Very soft and comfortable<br>and warmer than it ...</td>\n",
       "        <td style=\"padding-left: 1em; padding-right: 1em; text-align: center; vertical-align: top\">5.0</td>\n",
       "        <td style=\"padding-left: 1em; padding-right: 1em; text-align: center; vertical-align: top\">{'and': 2, 'quilt': 1,<br>'it': 1, 'comfortable': ...</td>\n",
       "        <td style=\"padding-left: 1em; padding-right: 1em; text-align: center; vertical-align: top\">1</td>\n",
       "    </tr>\n",
       "    <tr>\n",
       "        <td style=\"padding-left: 1em; padding-right: 1em; text-align: center; vertical-align: top\">Stop Pacifier Sucking<br>without tears with ...</td>\n",
       "        <td style=\"padding-left: 1em; padding-right: 1em; text-align: center; vertical-align: top\">This is a product well<br>worth the purchase.  I ...</td>\n",
       "        <td style=\"padding-left: 1em; padding-right: 1em; text-align: center; vertical-align: top\">5.0</td>\n",
       "        <td style=\"padding-left: 1em; padding-right: 1em; text-align: center; vertical-align: top\">{'ingenious': 1, 'and':<br>3, 'love': 2, ...</td>\n",
       "        <td style=\"padding-left: 1em; padding-right: 1em; text-align: center; vertical-align: top\">1</td>\n",
       "    </tr>\n",
       "    <tr>\n",
       "        <td style=\"padding-left: 1em; padding-right: 1em; text-align: center; vertical-align: top\">Stop Pacifier Sucking<br>without tears with ...</td>\n",
       "        <td style=\"padding-left: 1em; padding-right: 1em; text-align: center; vertical-align: top\">All of my kids have cried<br>non-stop when I tried to ...</td>\n",
       "        <td style=\"padding-left: 1em; padding-right: 1em; text-align: center; vertical-align: top\">5.0</td>\n",
       "        <td style=\"padding-left: 1em; padding-right: 1em; text-align: center; vertical-align: top\">{'and': 2, 'parents!!':<br>1, 'all': 2, 'puppet.': ...</td>\n",
       "        <td style=\"padding-left: 1em; padding-right: 1em; text-align: center; vertical-align: top\">1</td>\n",
       "    </tr>\n",
       "    <tr>\n",
       "        <td style=\"padding-left: 1em; padding-right: 1em; text-align: center; vertical-align: top\">Stop Pacifier Sucking<br>without tears with ...</td>\n",
       "        <td style=\"padding-left: 1em; padding-right: 1em; text-align: center; vertical-align: top\">When the Binky Fairy came<br>to our house, we didn't ...</td>\n",
       "        <td style=\"padding-left: 1em; padding-right: 1em; text-align: center; vertical-align: top\">5.0</td>\n",
       "        <td style=\"padding-left: 1em; padding-right: 1em; text-align: center; vertical-align: top\">{'and': 2, 'this': 2,<br>'her': 1, 'help': 2, ...</td>\n",
       "        <td style=\"padding-left: 1em; padding-right: 1em; text-align: center; vertical-align: top\">1</td>\n",
       "    </tr>\n",
       "    <tr>\n",
       "        <td style=\"padding-left: 1em; padding-right: 1em; text-align: center; vertical-align: top\">A Tale of Baby's Days<br>with Peter Rabbit ...</td>\n",
       "        <td style=\"padding-left: 1em; padding-right: 1em; text-align: center; vertical-align: top\">Lovely book, it's bound<br>tightly so you may no ...</td>\n",
       "        <td style=\"padding-left: 1em; padding-right: 1em; text-align: center; vertical-align: top\">4.0</td>\n",
       "        <td style=\"padding-left: 1em; padding-right: 1em; text-align: center; vertical-align: top\">{'shop': 1, 'noble': 1,<br>'is': 1, 'it': 1, 'as': ...</td>\n",
       "        <td style=\"padding-left: 1em; padding-right: 1em; text-align: center; vertical-align: top\">1</td>\n",
       "    </tr>\n",
       "    <tr>\n",
       "        <td style=\"padding-left: 1em; padding-right: 1em; text-align: center; vertical-align: top\">Baby Tracker&amp;reg; - Daily<br>Childcare Journal, ...</td>\n",
       "        <td style=\"padding-left: 1em; padding-right: 1em; text-align: center; vertical-align: top\">Perfect for new parents.<br>We were able to keep ...</td>\n",
       "        <td style=\"padding-left: 1em; padding-right: 1em; text-align: center; vertical-align: top\">5.0</td>\n",
       "        <td style=\"padding-left: 1em; padding-right: 1em; text-align: center; vertical-align: top\">{'and': 2, 'all': 1,<br>'right': 1, 'when': 1, ...</td>\n",
       "        <td style=\"padding-left: 1em; padding-right: 1em; text-align: center; vertical-align: top\">1</td>\n",
       "    </tr>\n",
       "    <tr>\n",
       "        <td style=\"padding-left: 1em; padding-right: 1em; text-align: center; vertical-align: top\">Baby Tracker&amp;reg; - Daily<br>Childcare Journal, ...</td>\n",
       "        <td style=\"padding-left: 1em; padding-right: 1em; text-align: center; vertical-align: top\">A friend of mine pinned<br>this product on Pinte ...</td>\n",
       "        <td style=\"padding-left: 1em; padding-right: 1em; text-align: center; vertical-align: top\">5.0</td>\n",
       "        <td style=\"padding-left: 1em; padding-right: 1em; text-align: center; vertical-align: top\">{'and': 1, 'help': 1,<br>'give': 1, 'is': 1, ' ...</td>\n",
       "        <td style=\"padding-left: 1em; padding-right: 1em; text-align: center; vertical-align: top\">1</td>\n",
       "    </tr>\n",
       "    <tr>\n",
       "        <td style=\"padding-left: 1em; padding-right: 1em; text-align: center; vertical-align: top\">Baby Tracker&amp;reg; - Daily<br>Childcare Journal, ...</td>\n",
       "        <td style=\"padding-left: 1em; padding-right: 1em; text-align: center; vertical-align: top\">This has been an easy way<br>for my nanny to record ...</td>\n",
       "        <td style=\"padding-left: 1em; padding-right: 1em; text-align: center; vertical-align: top\">4.0</td>\n",
       "        <td style=\"padding-left: 1em; padding-right: 1em; text-align: center; vertical-align: top\">{'journal.': 1, 'nanny':<br>1, 'standarad': 1, ...</td>\n",
       "        <td style=\"padding-left: 1em; padding-right: 1em; text-align: center; vertical-align: top\">1</td>\n",
       "    </tr>\n",
       "    <tr>\n",
       "        <td style=\"padding-left: 1em; padding-right: 1em; text-align: center; vertical-align: top\">Baby Tracker&amp;reg; - Daily<br>Childcare Journal, ...</td>\n",
       "        <td style=\"padding-left: 1em; padding-right: 1em; text-align: center; vertical-align: top\">I love this journal and<br>our nanny uses it ...</td>\n",
       "        <td style=\"padding-left: 1em; padding-right: 1em; text-align: center; vertical-align: top\">4.0</td>\n",
       "        <td style=\"padding-left: 1em; padding-right: 1em; text-align: center; vertical-align: top\">{'all': 1, 'forget': 1,<br>'just': 1, 'food': 1, ...</td>\n",
       "        <td style=\"padding-left: 1em; padding-right: 1em; text-align: center; vertical-align: top\">1</td>\n",
       "    </tr>\n",
       "</table>\n",
       "[166752 rows x 5 columns]<br/>Note: Only the head of the SFrame is printed.<br/>You can use print_rows(num_rows=m, num_columns=n) to print more rows and columns.\n",
       "</div>"
      ],
      "text/plain": [
       "Columns:\n",
       "\tname\tstr\n",
       "\treview\tstr\n",
       "\trating\tfloat\n",
       "\tword_count\tdict\n",
       "\tsentiment\tint\n",
       "\n",
       "Rows: 166752\n",
       "\n",
       "Data:\n",
       "+-------------------------------+-------------------------------+--------+\n",
       "|              name             |             review            | rating |\n",
       "+-------------------------------+-------------------------------+--------+\n",
       "|     Planetwise Wipe Pouch     | it came early and was not ... |  5.0   |\n",
       "| Annas Dream Full Quilt wit... | Very soft and comfortable ... |  5.0   |\n",
       "| Stop Pacifier Sucking with... | This is a product well wor... |  5.0   |\n",
       "| Stop Pacifier Sucking with... | All of my kids have cried ... |  5.0   |\n",
       "| Stop Pacifier Sucking with... | When the Binky Fairy came ... |  5.0   |\n",
       "| A Tale of Baby's Days with... | Lovely book, it's bound ti... |  4.0   |\n",
       "| Baby Tracker&reg; - Daily ... | Perfect for new parents. W... |  5.0   |\n",
       "| Baby Tracker&reg; - Daily ... | A friend of mine pinned th... |  5.0   |\n",
       "| Baby Tracker&reg; - Daily ... | This has been an easy way ... |  4.0   |\n",
       "| Baby Tracker&reg; - Daily ... | I love this journal and ou... |  4.0   |\n",
       "+-------------------------------+-------------------------------+--------+\n",
       "+-------------------------------+-----------+\n",
       "|           word_count          | sentiment |\n",
       "+-------------------------------+-----------+\n",
       "| {'and': 3, 'love': 1, 'it'... |     1     |\n",
       "| {'and': 2, 'quilt': 1, 'it... |     1     |\n",
       "| {'ingenious': 1, 'and': 3,... |     1     |\n",
       "| {'and': 2, 'parents!!': 1,... |     1     |\n",
       "| {'and': 2, 'this': 2, 'her... |     1     |\n",
       "| {'shop': 1, 'noble': 1, 'i... |     1     |\n",
       "| {'and': 2, 'all': 1, 'righ... |     1     |\n",
       "| {'and': 1, 'help': 1, 'giv... |     1     |\n",
       "| {'journal.': 1, 'nanny': 1... |     1     |\n",
       "| {'all': 1, 'forget': 1, 'j... |     1     |\n",
       "+-------------------------------+-----------+\n",
       "[166752 rows x 5 columns]\n",
       "Note: Only the head of the SFrame is printed.\n",
       "You can use print_rows(num_rows=m, num_columns=n) to print more rows and columns."
      ]
     },
     "execution_count": 36,
     "metadata": {},
     "output_type": "execute_result"
    }
   ],
   "source": [
    "products"
   ]
  },
  {
   "cell_type": "code",
   "execution_count": 38,
   "metadata": {
    "collapsed": false
   },
   "outputs": [
    {
     "data": {
      "text/html": [
       "<div style=\"max-height:1000px;max-width:1500px;overflow:auto;\"><table frame=\"box\" rules=\"cols\">\n",
       "    <tr>\n",
       "        <th style=\"padding-left: 1em; padding-right: 1em; text-align: center\">name</th>\n",
       "        <th style=\"padding-left: 1em; padding-right: 1em; text-align: center\">review</th>\n",
       "        <th style=\"padding-left: 1em; padding-right: 1em; text-align: center\">rating</th>\n",
       "        <th style=\"padding-left: 1em; padding-right: 1em; text-align: center\">word_count</th>\n",
       "        <th style=\"padding-left: 1em; padding-right: 1em; text-align: center\">sentiment</th>\n",
       "    </tr>\n",
       "</table>\n",
       "[? rows x 5 columns]<br/>Note: Only the head of the SFrame is printed. This SFrame is lazily evaluated.<br/>You can use sf.materialize() to force materialization.\n",
       "</div>"
      ],
      "text/plain": [
       "Columns:\n",
       "\tname\tstr\n",
       "\treview\tstr\n",
       "\trating\tfloat\n",
       "\tword_count\tdict\n",
       "\tsentiment\tint\n",
       "\n",
       "Rows: Unknown\n",
       "\n",
       "Data:\n",
       "\t[]"
      ]
     },
     "execution_count": 38,
     "metadata": {},
     "output_type": "execute_result"
    }
   ],
   "source": [
    "products[products['name'] == 'Vulli Sophie the Giraffe Theeter']"
   ]
  },
  {
   "cell_type": "code",
   "execution_count": 53,
   "metadata": {
    "collapsed": false
   },
   "outputs": [
    {
     "data": {
      "text/html": [
       "<div style=\"max-height:1000px;max-width:1500px;overflow:auto;\"><table frame=\"box\" rules=\"cols\">\n",
       "    <tr>\n",
       "        <th style=\"padding-left: 1em; padding-right: 1em; text-align: center\">name</th>\n",
       "        <th style=\"padding-left: 1em; padding-right: 1em; text-align: center\">review</th>\n",
       "        <th style=\"padding-left: 1em; padding-right: 1em; text-align: center\">rating</th>\n",
       "        <th style=\"padding-left: 1em; padding-right: 1em; text-align: center\">word_count</th>\n",
       "        <th style=\"padding-left: 1em; padding-right: 1em; text-align: center\">sentiment</th>\n",
       "    </tr>\n",
       "    <tr>\n",
       "        <td style=\"padding-left: 1em; padding-right: 1em; text-align: center; vertical-align: top\">Vulli Sophie the Giraffe<br>Teether ...</td>\n",
       "        <td style=\"padding-left: 1em; padding-right: 1em; text-align: center; vertical-align: top\">He likes chewing on all<br>the parts especially the ...</td>\n",
       "        <td style=\"padding-left: 1em; padding-right: 1em; text-align: center; vertical-align: top\">5.0</td>\n",
       "        <td style=\"padding-left: 1em; padding-right: 1em; text-align: center; vertical-align: top\">{'and': 1, 'all': 1,<br>'because': 1, 'it': 1, ...</td>\n",
       "        <td style=\"padding-left: 1em; padding-right: 1em; text-align: center; vertical-align: top\">1</td>\n",
       "    </tr>\n",
       "    <tr>\n",
       "        <td style=\"padding-left: 1em; padding-right: 1em; text-align: center; vertical-align: top\">Vulli Sophie the Giraffe<br>Teether ...</td>\n",
       "        <td style=\"padding-left: 1em; padding-right: 1em; text-align: center; vertical-align: top\">My son loves this toy and<br>fits great in the diaper ...</td>\n",
       "        <td style=\"padding-left: 1em; padding-right: 1em; text-align: center; vertical-align: top\">5.0</td>\n",
       "        <td style=\"padding-left: 1em; padding-right: 1em; text-align: center; vertical-align: top\">{'and': 1, 'right': 1,<br>'help': 1, 'just': 1, ...</td>\n",
       "        <td style=\"padding-left: 1em; padding-right: 1em; text-align: center; vertical-align: top\">1</td>\n",
       "    </tr>\n",
       "    <tr>\n",
       "        <td style=\"padding-left: 1em; padding-right: 1em; text-align: center; vertical-align: top\">Vulli Sophie the Giraffe<br>Teether ...</td>\n",
       "        <td style=\"padding-left: 1em; padding-right: 1em; text-align: center; vertical-align: top\">There really should be a<br>large warning on the  ...</td>\n",
       "        <td style=\"padding-left: 1em; padding-right: 1em; text-align: center; vertical-align: top\">1.0</td>\n",
       "        <td style=\"padding-left: 1em; padding-right: 1em; text-align: center; vertical-align: top\">{'and': 2, 'all': 1,<br>'would': 1, 'latex.': 1, ...</td>\n",
       "        <td style=\"padding-left: 1em; padding-right: 1em; text-align: center; vertical-align: top\">0</td>\n",
       "    </tr>\n",
       "    <tr>\n",
       "        <td style=\"padding-left: 1em; padding-right: 1em; text-align: center; vertical-align: top\">Vulli Sophie the Giraffe<br>Teether ...</td>\n",
       "        <td style=\"padding-left: 1em; padding-right: 1em; text-align: center; vertical-align: top\">All the moms in my moms'<br>group got Sophie for ...</td>\n",
       "        <td style=\"padding-left: 1em; padding-right: 1em; text-align: center; vertical-align: top\">5.0</td>\n",
       "        <td style=\"padding-left: 1em; padding-right: 1em; text-align: center; vertical-align: top\">{'and': 2, 'one!': 1,<br>'all': 1, 'love': 1, ...</td>\n",
       "        <td style=\"padding-left: 1em; padding-right: 1em; text-align: center; vertical-align: top\">1</td>\n",
       "    </tr>\n",
       "    <tr>\n",
       "        <td style=\"padding-left: 1em; padding-right: 1em; text-align: center; vertical-align: top\">Vulli Sophie the Giraffe<br>Teether ...</td>\n",
       "        <td style=\"padding-left: 1em; padding-right: 1em; text-align: center; vertical-align: top\">I was a little skeptical<br>on whether Sophie was ...</td>\n",
       "        <td style=\"padding-left: 1em; padding-right: 1em; text-align: center; vertical-align: top\">5.0</td>\n",
       "        <td style=\"padding-left: 1em; padding-right: 1em; text-align: center; vertical-align: top\">{'and': 3, 'all': 1,<br>'months': 1, 'old': 1, ...</td>\n",
       "        <td style=\"padding-left: 1em; padding-right: 1em; text-align: center; vertical-align: top\">1</td>\n",
       "    </tr>\n",
       "    <tr>\n",
       "        <td style=\"padding-left: 1em; padding-right: 1em; text-align: center; vertical-align: top\">Vulli Sophie the Giraffe<br>Teether ...</td>\n",
       "        <td style=\"padding-left: 1em; padding-right: 1em; text-align: center; vertical-align: top\">I have been reading about<br>Sophie and was going  ...</td>\n",
       "        <td style=\"padding-left: 1em; padding-right: 1em; text-align: center; vertical-align: top\">5.0</td>\n",
       "        <td style=\"padding-left: 1em; padding-right: 1em; text-align: center; vertical-align: top\">{'and': 6, 'seven': 1,<br>'already': 1, 'love': 1, ...</td>\n",
       "        <td style=\"padding-left: 1em; padding-right: 1em; text-align: center; vertical-align: top\">1</td>\n",
       "    </tr>\n",
       "    <tr>\n",
       "        <td style=\"padding-left: 1em; padding-right: 1em; text-align: center; vertical-align: top\">Vulli Sophie the Giraffe<br>Teether ...</td>\n",
       "        <td style=\"padding-left: 1em; padding-right: 1em; text-align: center; vertical-align: top\">My neice loves her sophie<br>and has spent hours ...</td>\n",
       "        <td style=\"padding-left: 1em; padding-right: 1em; text-align: center; vertical-align: top\">5.0</td>\n",
       "        <td style=\"padding-left: 1em; padding-right: 1em; text-align: center; vertical-align: top\">{'and': 4, 'drooling,':<br>1, 'love': 1, ...</td>\n",
       "        <td style=\"padding-left: 1em; padding-right: 1em; text-align: center; vertical-align: top\">1</td>\n",
       "    </tr>\n",
       "    <tr>\n",
       "        <td style=\"padding-left: 1em; padding-right: 1em; text-align: center; vertical-align: top\">Vulli Sophie the Giraffe<br>Teether ...</td>\n",
       "        <td style=\"padding-left: 1em; padding-right: 1em; text-align: center; vertical-align: top\">What a friendly face!<br>And those mesmerizing ...</td>\n",
       "        <td style=\"padding-left: 1em; padding-right: 1em; text-align: center; vertical-align: top\">5.0</td>\n",
       "        <td style=\"padding-left: 1em; padding-right: 1em; text-align: center; vertical-align: top\">{'and': 3, 'chew': 1,<br>'be': 1, 'is': 1, ...</td>\n",
       "        <td style=\"padding-left: 1em; padding-right: 1em; text-align: center; vertical-align: top\">1</td>\n",
       "    </tr>\n",
       "    <tr>\n",
       "        <td style=\"padding-left: 1em; padding-right: 1em; text-align: center; vertical-align: top\">Vulli Sophie the Giraffe<br>Teether ...</td>\n",
       "        <td style=\"padding-left: 1em; padding-right: 1em; text-align: center; vertical-align: top\">We got this just for my<br>son to chew on instea ...</td>\n",
       "        <td style=\"padding-left: 1em; padding-right: 1em; text-align: center; vertical-align: top\">5.0</td>\n",
       "        <td style=\"padding-left: 1em; padding-right: 1em; text-align: center; vertical-align: top\">{'chew': 2, 'seemed': 1,<br>'because': 1, 'about.': ...</td>\n",
       "        <td style=\"padding-left: 1em; padding-right: 1em; text-align: center; vertical-align: top\">1</td>\n",
       "    </tr>\n",
       "    <tr>\n",
       "        <td style=\"padding-left: 1em; padding-right: 1em; text-align: center; vertical-align: top\">Vulli Sophie the Giraffe<br>Teether ...</td>\n",
       "        <td style=\"padding-left: 1em; padding-right: 1em; text-align: center; vertical-align: top\">This product is without a<br>doubt the best on the ...</td>\n",
       "        <td style=\"padding-left: 1em; padding-right: 1em; text-align: center; vertical-align: top\">5.0</td>\n",
       "        <td style=\"padding-left: 1em; padding-right: 1em; text-align: center; vertical-align: top\">{'and': 4, ':)': 1,<br>'just': 2, 'give': 1, ...</td>\n",
       "        <td style=\"padding-left: 1em; padding-right: 1em; text-align: center; vertical-align: top\">1</td>\n",
       "    </tr>\n",
       "</table>\n",
       "[? rows x 5 columns]<br/>Note: Only the head of the SFrame is printed. This SFrame is lazily evaluated.<br/>You can use sf.materialize() to force materialization.\n",
       "</div>"
      ],
      "text/plain": [
       "Columns:\n",
       "\tname\tstr\n",
       "\treview\tstr\n",
       "\trating\tfloat\n",
       "\tword_count\tdict\n",
       "\tsentiment\tint\n",
       "\n",
       "Rows: Unknown\n",
       "\n",
       "Data:\n",
       "+-------------------------------+-------------------------------+--------+\n",
       "|              name             |             review            | rating |\n",
       "+-------------------------------+-------------------------------+--------+\n",
       "| Vulli Sophie the Giraffe T... | He likes chewing on all th... |  5.0   |\n",
       "| Vulli Sophie the Giraffe T... | My son loves this toy and ... |  5.0   |\n",
       "| Vulli Sophie the Giraffe T... | There really should be a l... |  1.0   |\n",
       "| Vulli Sophie the Giraffe T... | All the moms in my moms' g... |  5.0   |\n",
       "| Vulli Sophie the Giraffe T... | I was a little skeptical o... |  5.0   |\n",
       "| Vulli Sophie the Giraffe T... | I have been reading about ... |  5.0   |\n",
       "| Vulli Sophie the Giraffe T... | My neice loves her sophie ... |  5.0   |\n",
       "| Vulli Sophie the Giraffe T... | What a friendly face!  And... |  5.0   |\n",
       "| Vulli Sophie the Giraffe T... | We got this just for my so... |  5.0   |\n",
       "| Vulli Sophie the Giraffe T... | This product is without a ... |  5.0   |\n",
       "+-------------------------------+-------------------------------+--------+\n",
       "+-------------------------------+-----------+\n",
       "|           word_count          | sentiment |\n",
       "+-------------------------------+-----------+\n",
       "| {'and': 1, 'all': 1, 'beca... |     1     |\n",
       "| {'and': 1, 'right': 1, 'he... |     1     |\n",
       "| {'and': 2, 'all': 1, 'woul... |     0     |\n",
       "| {'and': 2, 'one!': 1, 'all... |     1     |\n",
       "| {'and': 3, 'all': 1, 'mont... |     1     |\n",
       "| {'and': 6, 'seven': 1, 'al... |     1     |\n",
       "| {'and': 4, 'drooling,': 1,... |     1     |\n",
       "| {'and': 3, 'chew': 1, 'be'... |     1     |\n",
       "| {'chew': 2, 'seemed': 1, '... |     1     |\n",
       "| {'and': 4, ':)': 1, 'just'... |     1     |\n",
       "+-------------------------------+-----------+\n",
       "[? rows x 5 columns]\n",
       "Note: Only the head of the SFrame is printed. This SFrame is lazily evaluated.\n",
       "You can use sf.materialize() to force materialization."
      ]
     },
     "execution_count": 53,
     "metadata": {},
     "output_type": "execute_result"
    }
   ],
   "source": [
    "giraffe_reviews = products[products['name'] == 'Vulli Sophie the Giraffe Teether']\n",
    "giraffe_reviews\n"
   ]
  },
  {
   "cell_type": "code",
   "execution_count": 51,
   "metadata": {
    "collapsed": false
   },
   "outputs": [
    {
     "data": {
      "text/html": [
       "<div style=\"max-height:1000px;max-width:1500px;overflow:auto;\"><table frame=\"box\" rules=\"cols\">\n",
       "    <tr>\n",
       "        <th style=\"padding-left: 1em; padding-right: 1em; text-align: center\">name</th>\n",
       "        <th style=\"padding-left: 1em; padding-right: 1em; text-align: center\">review</th>\n",
       "        <th style=\"padding-left: 1em; padding-right: 1em; text-align: center\">rating</th>\n",
       "        <th style=\"padding-left: 1em; padding-right: 1em; text-align: center\">word_count</th>\n",
       "        <th style=\"padding-left: 1em; padding-right: 1em; text-align: center\">sentiment</th>\n",
       "    </tr>\n",
       "    <tr>\n",
       "        <td style=\"padding-left: 1em; padding-right: 1em; text-align: center; vertical-align: top\">Planetwise Wipe Pouch</td>\n",
       "        <td style=\"padding-left: 1em; padding-right: 1em; text-align: center; vertical-align: top\">it came early and was not<br>disappointed. i love ...</td>\n",
       "        <td style=\"padding-left: 1em; padding-right: 1em; text-align: center; vertical-align: top\">5.0</td>\n",
       "        <td style=\"padding-left: 1em; padding-right: 1em; text-align: center; vertical-align: top\">{'and': 3, 'love': 1,<br>'it': 2, 'highly': 1, ...</td>\n",
       "        <td style=\"padding-left: 1em; padding-right: 1em; text-align: center; vertical-align: top\">1</td>\n",
       "    </tr>\n",
       "    <tr>\n",
       "        <td style=\"padding-left: 1em; padding-right: 1em; text-align: center; vertical-align: top\">Annas Dream Full Quilt<br>with 2 Shams ...</td>\n",
       "        <td style=\"padding-left: 1em; padding-right: 1em; text-align: center; vertical-align: top\">Very soft and comfortable<br>and warmer than it ...</td>\n",
       "        <td style=\"padding-left: 1em; padding-right: 1em; text-align: center; vertical-align: top\">5.0</td>\n",
       "        <td style=\"padding-left: 1em; padding-right: 1em; text-align: center; vertical-align: top\">{'and': 2, 'quilt': 1,<br>'it': 1, 'comfortable': ...</td>\n",
       "        <td style=\"padding-left: 1em; padding-right: 1em; text-align: center; vertical-align: top\">1</td>\n",
       "    </tr>\n",
       "    <tr>\n",
       "        <td style=\"padding-left: 1em; padding-right: 1em; text-align: center; vertical-align: top\">Stop Pacifier Sucking<br>without tears with ...</td>\n",
       "        <td style=\"padding-left: 1em; padding-right: 1em; text-align: center; vertical-align: top\">This is a product well<br>worth the purchase.  I ...</td>\n",
       "        <td style=\"padding-left: 1em; padding-right: 1em; text-align: center; vertical-align: top\">5.0</td>\n",
       "        <td style=\"padding-left: 1em; padding-right: 1em; text-align: center; vertical-align: top\">{'ingenious': 1, 'and':<br>3, 'love': 2, ...</td>\n",
       "        <td style=\"padding-left: 1em; padding-right: 1em; text-align: center; vertical-align: top\">1</td>\n",
       "    </tr>\n",
       "    <tr>\n",
       "        <td style=\"padding-left: 1em; padding-right: 1em; text-align: center; vertical-align: top\">Stop Pacifier Sucking<br>without tears with ...</td>\n",
       "        <td style=\"padding-left: 1em; padding-right: 1em; text-align: center; vertical-align: top\">All of my kids have cried<br>non-stop when I tried to ...</td>\n",
       "        <td style=\"padding-left: 1em; padding-right: 1em; text-align: center; vertical-align: top\">5.0</td>\n",
       "        <td style=\"padding-left: 1em; padding-right: 1em; text-align: center; vertical-align: top\">{'and': 2, 'parents!!':<br>1, 'all': 2, 'puppet.': ...</td>\n",
       "        <td style=\"padding-left: 1em; padding-right: 1em; text-align: center; vertical-align: top\">1</td>\n",
       "    </tr>\n",
       "    <tr>\n",
       "        <td style=\"padding-left: 1em; padding-right: 1em; text-align: center; vertical-align: top\">Stop Pacifier Sucking<br>without tears with ...</td>\n",
       "        <td style=\"padding-left: 1em; padding-right: 1em; text-align: center; vertical-align: top\">When the Binky Fairy came<br>to our house, we didn't ...</td>\n",
       "        <td style=\"padding-left: 1em; padding-right: 1em; text-align: center; vertical-align: top\">5.0</td>\n",
       "        <td style=\"padding-left: 1em; padding-right: 1em; text-align: center; vertical-align: top\">{'and': 2, 'this': 2,<br>'her': 1, 'help': 2, ...</td>\n",
       "        <td style=\"padding-left: 1em; padding-right: 1em; text-align: center; vertical-align: top\">1</td>\n",
       "    </tr>\n",
       "    <tr>\n",
       "        <td style=\"padding-left: 1em; padding-right: 1em; text-align: center; vertical-align: top\">A Tale of Baby's Days<br>with Peter Rabbit ...</td>\n",
       "        <td style=\"padding-left: 1em; padding-right: 1em; text-align: center; vertical-align: top\">Lovely book, it's bound<br>tightly so you may no ...</td>\n",
       "        <td style=\"padding-left: 1em; padding-right: 1em; text-align: center; vertical-align: top\">4.0</td>\n",
       "        <td style=\"padding-left: 1em; padding-right: 1em; text-align: center; vertical-align: top\">{'shop': 1, 'noble': 1,<br>'is': 1, 'it': 1, 'as': ...</td>\n",
       "        <td style=\"padding-left: 1em; padding-right: 1em; text-align: center; vertical-align: top\">1</td>\n",
       "    </tr>\n",
       "    <tr>\n",
       "        <td style=\"padding-left: 1em; padding-right: 1em; text-align: center; vertical-align: top\">Baby Tracker&amp;reg; - Daily<br>Childcare Journal, ...</td>\n",
       "        <td style=\"padding-left: 1em; padding-right: 1em; text-align: center; vertical-align: top\">Perfect for new parents.<br>We were able to keep ...</td>\n",
       "        <td style=\"padding-left: 1em; padding-right: 1em; text-align: center; vertical-align: top\">5.0</td>\n",
       "        <td style=\"padding-left: 1em; padding-right: 1em; text-align: center; vertical-align: top\">{'and': 2, 'all': 1,<br>'right': 1, 'when': 1, ...</td>\n",
       "        <td style=\"padding-left: 1em; padding-right: 1em; text-align: center; vertical-align: top\">1</td>\n",
       "    </tr>\n",
       "    <tr>\n",
       "        <td style=\"padding-left: 1em; padding-right: 1em; text-align: center; vertical-align: top\">Baby Tracker&amp;reg; - Daily<br>Childcare Journal, ...</td>\n",
       "        <td style=\"padding-left: 1em; padding-right: 1em; text-align: center; vertical-align: top\">A friend of mine pinned<br>this product on Pinte ...</td>\n",
       "        <td style=\"padding-left: 1em; padding-right: 1em; text-align: center; vertical-align: top\">5.0</td>\n",
       "        <td style=\"padding-left: 1em; padding-right: 1em; text-align: center; vertical-align: top\">{'and': 1, 'help': 1,<br>'give': 1, 'is': 1, ' ...</td>\n",
       "        <td style=\"padding-left: 1em; padding-right: 1em; text-align: center; vertical-align: top\">1</td>\n",
       "    </tr>\n",
       "    <tr>\n",
       "        <td style=\"padding-left: 1em; padding-right: 1em; text-align: center; vertical-align: top\">Baby Tracker&amp;reg; - Daily<br>Childcare Journal, ...</td>\n",
       "        <td style=\"padding-left: 1em; padding-right: 1em; text-align: center; vertical-align: top\">This has been an easy way<br>for my nanny to record ...</td>\n",
       "        <td style=\"padding-left: 1em; padding-right: 1em; text-align: center; vertical-align: top\">4.0</td>\n",
       "        <td style=\"padding-left: 1em; padding-right: 1em; text-align: center; vertical-align: top\">{'journal.': 1, 'nanny':<br>1, 'standarad': 1, ...</td>\n",
       "        <td style=\"padding-left: 1em; padding-right: 1em; text-align: center; vertical-align: top\">1</td>\n",
       "    </tr>\n",
       "    <tr>\n",
       "        <td style=\"padding-left: 1em; padding-right: 1em; text-align: center; vertical-align: top\">Baby Tracker&amp;reg; - Daily<br>Childcare Journal, ...</td>\n",
       "        <td style=\"padding-left: 1em; padding-right: 1em; text-align: center; vertical-align: top\">I love this journal and<br>our nanny uses it ...</td>\n",
       "        <td style=\"padding-left: 1em; padding-right: 1em; text-align: center; vertical-align: top\">4.0</td>\n",
       "        <td style=\"padding-left: 1em; padding-right: 1em; text-align: center; vertical-align: top\">{'all': 1, 'forget': 1,<br>'just': 1, 'food': 1, ...</td>\n",
       "        <td style=\"padding-left: 1em; padding-right: 1em; text-align: center; vertical-align: top\">1</td>\n",
       "    </tr>\n",
       "</table>\n",
       "[166752 rows x 5 columns]<br/>Note: Only the head of the SFrame is printed.<br/>You can use print_rows(num_rows=m, num_columns=n) to print more rows and columns.\n",
       "</div>"
      ],
      "text/plain": [
       "Columns:\n",
       "\tname\tstr\n",
       "\treview\tstr\n",
       "\trating\tfloat\n",
       "\tword_count\tdict\n",
       "\tsentiment\tint\n",
       "\n",
       "Rows: 166752\n",
       "\n",
       "Data:\n",
       "+-------------------------------+-------------------------------+--------+\n",
       "|              name             |             review            | rating |\n",
       "+-------------------------------+-------------------------------+--------+\n",
       "|     Planetwise Wipe Pouch     | it came early and was not ... |  5.0   |\n",
       "| Annas Dream Full Quilt wit... | Very soft and comfortable ... |  5.0   |\n",
       "| Stop Pacifier Sucking with... | This is a product well wor... |  5.0   |\n",
       "| Stop Pacifier Sucking with... | All of my kids have cried ... |  5.0   |\n",
       "| Stop Pacifier Sucking with... | When the Binky Fairy came ... |  5.0   |\n",
       "| A Tale of Baby's Days with... | Lovely book, it's bound ti... |  4.0   |\n",
       "| Baby Tracker&reg; - Daily ... | Perfect for new parents. W... |  5.0   |\n",
       "| Baby Tracker&reg; - Daily ... | A friend of mine pinned th... |  5.0   |\n",
       "| Baby Tracker&reg; - Daily ... | This has been an easy way ... |  4.0   |\n",
       "| Baby Tracker&reg; - Daily ... | I love this journal and ou... |  4.0   |\n",
       "+-------------------------------+-------------------------------+--------+\n",
       "+-------------------------------+-----------+\n",
       "|           word_count          | sentiment |\n",
       "+-------------------------------+-----------+\n",
       "| {'and': 3, 'love': 1, 'it'... |     1     |\n",
       "| {'and': 2, 'quilt': 1, 'it... |     1     |\n",
       "| {'ingenious': 1, 'and': 3,... |     1     |\n",
       "| {'and': 2, 'parents!!': 1,... |     1     |\n",
       "| {'and': 2, 'this': 2, 'her... |     1     |\n",
       "| {'shop': 1, 'noble': 1, 'i... |     1     |\n",
       "| {'and': 2, 'all': 1, 'righ... |     1     |\n",
       "| {'and': 1, 'help': 1, 'giv... |     1     |\n",
       "| {'journal.': 1, 'nanny': 1... |     1     |\n",
       "| {'all': 1, 'forget': 1, 'j... |     1     |\n",
       "+-------------------------------+-----------+\n",
       "[166752 rows x 5 columns]\n",
       "Note: Only the head of the SFrame is printed.\n",
       "You can use print_rows(num_rows=m, num_columns=n) to print more rows and columns."
      ]
     },
     "execution_count": 51,
     "metadata": {},
     "output_type": "execute_result"
    }
   ],
   "source": [
    "products\n"
   ]
  },
  {
   "cell_type": "code",
   "execution_count": 55,
   "metadata": {
    "collapsed": false
   },
   "outputs": [
    {
     "name": "stdout",
     "output_type": "stream",
     "text": [
      "Canvas is accessible via web browser at the URL: http://localhost:52224/index.html\n",
      "Opening Canvas in default web browser.\n"
     ]
    }
   ],
   "source": [
    "giraffe_reviews.show()"
   ]
  },
  {
   "cell_type": "code",
   "execution_count": 57,
   "metadata": {
    "collapsed": false
   },
   "outputs": [],
   "source": [
    "giraffe_reviews['predicted_sentiments'] = sentiment_analysis_model.predict(giraffe_reviews, output_type='probability')"
   ]
  },
  {
   "cell_type": "code",
   "execution_count": 58,
   "metadata": {
    "collapsed": false
   },
   "outputs": [
    {
     "data": {
      "text/html": [
       "<div style=\"max-height:1000px;max-width:1500px;overflow:auto;\"><table frame=\"box\" rules=\"cols\">\n",
       "    <tr>\n",
       "        <th style=\"padding-left: 1em; padding-right: 1em; text-align: center\">name</th>\n",
       "        <th style=\"padding-left: 1em; padding-right: 1em; text-align: center\">review</th>\n",
       "        <th style=\"padding-left: 1em; padding-right: 1em; text-align: center\">rating</th>\n",
       "        <th style=\"padding-left: 1em; padding-right: 1em; text-align: center\">word_count</th>\n",
       "        <th style=\"padding-left: 1em; padding-right: 1em; text-align: center\">sentiment</th>\n",
       "    </tr>\n",
       "    <tr>\n",
       "        <td style=\"padding-left: 1em; padding-right: 1em; text-align: center; vertical-align: top\">Vulli Sophie the Giraffe<br>Teether ...</td>\n",
       "        <td style=\"padding-left: 1em; padding-right: 1em; text-align: center; vertical-align: top\">He likes chewing on all<br>the parts especially the ...</td>\n",
       "        <td style=\"padding-left: 1em; padding-right: 1em; text-align: center; vertical-align: top\">5.0</td>\n",
       "        <td style=\"padding-left: 1em; padding-right: 1em; text-align: center; vertical-align: top\">{'and': 1, 'all': 1,<br>'because': 1, 'it': 1, ...</td>\n",
       "        <td style=\"padding-left: 1em; padding-right: 1em; text-align: center; vertical-align: top\">1</td>\n",
       "    </tr>\n",
       "    <tr>\n",
       "        <td style=\"padding-left: 1em; padding-right: 1em; text-align: center; vertical-align: top\">Vulli Sophie the Giraffe<br>Teether ...</td>\n",
       "        <td style=\"padding-left: 1em; padding-right: 1em; text-align: center; vertical-align: top\">My son loves this toy and<br>fits great in the diaper ...</td>\n",
       "        <td style=\"padding-left: 1em; padding-right: 1em; text-align: center; vertical-align: top\">5.0</td>\n",
       "        <td style=\"padding-left: 1em; padding-right: 1em; text-align: center; vertical-align: top\">{'and': 1, 'right': 1,<br>'help': 1, 'just': 1, ...</td>\n",
       "        <td style=\"padding-left: 1em; padding-right: 1em; text-align: center; vertical-align: top\">1</td>\n",
       "    </tr>\n",
       "    <tr>\n",
       "        <td style=\"padding-left: 1em; padding-right: 1em; text-align: center; vertical-align: top\">Vulli Sophie the Giraffe<br>Teether ...</td>\n",
       "        <td style=\"padding-left: 1em; padding-right: 1em; text-align: center; vertical-align: top\">There really should be a<br>large warning on the  ...</td>\n",
       "        <td style=\"padding-left: 1em; padding-right: 1em; text-align: center; vertical-align: top\">1.0</td>\n",
       "        <td style=\"padding-left: 1em; padding-right: 1em; text-align: center; vertical-align: top\">{'and': 2, 'all': 1,<br>'would': 1, 'latex.': 1, ...</td>\n",
       "        <td style=\"padding-left: 1em; padding-right: 1em; text-align: center; vertical-align: top\">0</td>\n",
       "    </tr>\n",
       "    <tr>\n",
       "        <td style=\"padding-left: 1em; padding-right: 1em; text-align: center; vertical-align: top\">Vulli Sophie the Giraffe<br>Teether ...</td>\n",
       "        <td style=\"padding-left: 1em; padding-right: 1em; text-align: center; vertical-align: top\">All the moms in my moms'<br>group got Sophie for ...</td>\n",
       "        <td style=\"padding-left: 1em; padding-right: 1em; text-align: center; vertical-align: top\">5.0</td>\n",
       "        <td style=\"padding-left: 1em; padding-right: 1em; text-align: center; vertical-align: top\">{'and': 2, 'one!': 1,<br>'all': 1, 'love': 1, ...</td>\n",
       "        <td style=\"padding-left: 1em; padding-right: 1em; text-align: center; vertical-align: top\">1</td>\n",
       "    </tr>\n",
       "    <tr>\n",
       "        <td style=\"padding-left: 1em; padding-right: 1em; text-align: center; vertical-align: top\">Vulli Sophie the Giraffe<br>Teether ...</td>\n",
       "        <td style=\"padding-left: 1em; padding-right: 1em; text-align: center; vertical-align: top\">I was a little skeptical<br>on whether Sophie was ...</td>\n",
       "        <td style=\"padding-left: 1em; padding-right: 1em; text-align: center; vertical-align: top\">5.0</td>\n",
       "        <td style=\"padding-left: 1em; padding-right: 1em; text-align: center; vertical-align: top\">{'and': 3, 'all': 1,<br>'months': 1, 'old': 1, ...</td>\n",
       "        <td style=\"padding-left: 1em; padding-right: 1em; text-align: center; vertical-align: top\">1</td>\n",
       "    </tr>\n",
       "    <tr>\n",
       "        <td style=\"padding-left: 1em; padding-right: 1em; text-align: center; vertical-align: top\">Vulli Sophie the Giraffe<br>Teether ...</td>\n",
       "        <td style=\"padding-left: 1em; padding-right: 1em; text-align: center; vertical-align: top\">I have been reading about<br>Sophie and was going  ...</td>\n",
       "        <td style=\"padding-left: 1em; padding-right: 1em; text-align: center; vertical-align: top\">5.0</td>\n",
       "        <td style=\"padding-left: 1em; padding-right: 1em; text-align: center; vertical-align: top\">{'and': 6, 'seven': 1,<br>'already': 1, 'love': 1, ...</td>\n",
       "        <td style=\"padding-left: 1em; padding-right: 1em; text-align: center; vertical-align: top\">1</td>\n",
       "    </tr>\n",
       "    <tr>\n",
       "        <td style=\"padding-left: 1em; padding-right: 1em; text-align: center; vertical-align: top\">Vulli Sophie the Giraffe<br>Teether ...</td>\n",
       "        <td style=\"padding-left: 1em; padding-right: 1em; text-align: center; vertical-align: top\">My neice loves her sophie<br>and has spent hours ...</td>\n",
       "        <td style=\"padding-left: 1em; padding-right: 1em; text-align: center; vertical-align: top\">5.0</td>\n",
       "        <td style=\"padding-left: 1em; padding-right: 1em; text-align: center; vertical-align: top\">{'and': 4, 'drooling,':<br>1, 'love': 1, ...</td>\n",
       "        <td style=\"padding-left: 1em; padding-right: 1em; text-align: center; vertical-align: top\">1</td>\n",
       "    </tr>\n",
       "    <tr>\n",
       "        <td style=\"padding-left: 1em; padding-right: 1em; text-align: center; vertical-align: top\">Vulli Sophie the Giraffe<br>Teether ...</td>\n",
       "        <td style=\"padding-left: 1em; padding-right: 1em; text-align: center; vertical-align: top\">What a friendly face!<br>And those mesmerizing ...</td>\n",
       "        <td style=\"padding-left: 1em; padding-right: 1em; text-align: center; vertical-align: top\">5.0</td>\n",
       "        <td style=\"padding-left: 1em; padding-right: 1em; text-align: center; vertical-align: top\">{'and': 3, 'chew': 1,<br>'be': 1, 'is': 1, ...</td>\n",
       "        <td style=\"padding-left: 1em; padding-right: 1em; text-align: center; vertical-align: top\">1</td>\n",
       "    </tr>\n",
       "    <tr>\n",
       "        <td style=\"padding-left: 1em; padding-right: 1em; text-align: center; vertical-align: top\">Vulli Sophie the Giraffe<br>Teether ...</td>\n",
       "        <td style=\"padding-left: 1em; padding-right: 1em; text-align: center; vertical-align: top\">We got this just for my<br>son to chew on instea ...</td>\n",
       "        <td style=\"padding-left: 1em; padding-right: 1em; text-align: center; vertical-align: top\">5.0</td>\n",
       "        <td style=\"padding-left: 1em; padding-right: 1em; text-align: center; vertical-align: top\">{'chew': 2, 'seemed': 1,<br>'because': 1, 'about.': ...</td>\n",
       "        <td style=\"padding-left: 1em; padding-right: 1em; text-align: center; vertical-align: top\">1</td>\n",
       "    </tr>\n",
       "    <tr>\n",
       "        <td style=\"padding-left: 1em; padding-right: 1em; text-align: center; vertical-align: top\">Vulli Sophie the Giraffe<br>Teether ...</td>\n",
       "        <td style=\"padding-left: 1em; padding-right: 1em; text-align: center; vertical-align: top\">This product is without a<br>doubt the best on the ...</td>\n",
       "        <td style=\"padding-left: 1em; padding-right: 1em; text-align: center; vertical-align: top\">5.0</td>\n",
       "        <td style=\"padding-left: 1em; padding-right: 1em; text-align: center; vertical-align: top\">{'and': 4, ':)': 1,<br>'just': 2, 'give': 1, ...</td>\n",
       "        <td style=\"padding-left: 1em; padding-right: 1em; text-align: center; vertical-align: top\">1</td>\n",
       "    </tr>\n",
       "</table>\n",
       "<table frame=\"box\" rules=\"cols\">\n",
       "    <tr>\n",
       "        <th style=\"padding-left: 1em; padding-right: 1em; text-align: center\">predicted_sentiments</th>\n",
       "    </tr>\n",
       "    <tr>\n",
       "        <td style=\"padding-left: 1em; padding-right: 1em; text-align: center; vertical-align: top\">0.999513023521</td>\n",
       "    </tr>\n",
       "    <tr>\n",
       "        <td style=\"padding-left: 1em; padding-right: 1em; text-align: center; vertical-align: top\">0.999320678306</td>\n",
       "    </tr>\n",
       "    <tr>\n",
       "        <td style=\"padding-left: 1em; padding-right: 1em; text-align: center; vertical-align: top\">0.013558811687</td>\n",
       "    </tr>\n",
       "    <tr>\n",
       "        <td style=\"padding-left: 1em; padding-right: 1em; text-align: center; vertical-align: top\">0.995769474148</td>\n",
       "    </tr>\n",
       "    <tr>\n",
       "        <td style=\"padding-left: 1em; padding-right: 1em; text-align: center; vertical-align: top\">0.662374415673</td>\n",
       "    </tr>\n",
       "    <tr>\n",
       "        <td style=\"padding-left: 1em; padding-right: 1em; text-align: center; vertical-align: top\">0.999997148186</td>\n",
       "    </tr>\n",
       "    <tr>\n",
       "        <td style=\"padding-left: 1em; padding-right: 1em; text-align: center; vertical-align: top\">0.989190989536</td>\n",
       "    </tr>\n",
       "    <tr>\n",
       "        <td style=\"padding-left: 1em; padding-right: 1em; text-align: center; vertical-align: top\">0.999563518413</td>\n",
       "    </tr>\n",
       "    <tr>\n",
       "        <td style=\"padding-left: 1em; padding-right: 1em; text-align: center; vertical-align: top\">0.970160542725</td>\n",
       "    </tr>\n",
       "    <tr>\n",
       "        <td style=\"padding-left: 1em; padding-right: 1em; text-align: center; vertical-align: top\">0.999999795012</td>\n",
       "    </tr>\n",
       "</table>\n",
       "[723 rows x 6 columns]<br/>Note: Only the head of the SFrame is printed.<br/>You can use print_rows(num_rows=m, num_columns=n) to print more rows and columns.\n",
       "</div>"
      ],
      "text/plain": [
       "Columns:\n",
       "\tname\tstr\n",
       "\treview\tstr\n",
       "\trating\tfloat\n",
       "\tword_count\tdict\n",
       "\tsentiment\tint\n",
       "\tpredicted_sentiments\tfloat\n",
       "\n",
       "Rows: 723\n",
       "\n",
       "Data:\n",
       "+-------------------------------+-------------------------------+--------+\n",
       "|              name             |             review            | rating |\n",
       "+-------------------------------+-------------------------------+--------+\n",
       "| Vulli Sophie the Giraffe T... | He likes chewing on all th... |  5.0   |\n",
       "| Vulli Sophie the Giraffe T... | My son loves this toy and ... |  5.0   |\n",
       "| Vulli Sophie the Giraffe T... | There really should be a l... |  1.0   |\n",
       "| Vulli Sophie the Giraffe T... | All the moms in my moms' g... |  5.0   |\n",
       "| Vulli Sophie the Giraffe T... | I was a little skeptical o... |  5.0   |\n",
       "| Vulli Sophie the Giraffe T... | I have been reading about ... |  5.0   |\n",
       "| Vulli Sophie the Giraffe T... | My neice loves her sophie ... |  5.0   |\n",
       "| Vulli Sophie the Giraffe T... | What a friendly face!  And... |  5.0   |\n",
       "| Vulli Sophie the Giraffe T... | We got this just for my so... |  5.0   |\n",
       "| Vulli Sophie the Giraffe T... | This product is without a ... |  5.0   |\n",
       "+-------------------------------+-------------------------------+--------+\n",
       "+-------------------------------+-----------+----------------------+\n",
       "|           word_count          | sentiment | predicted_sentiments |\n",
       "+-------------------------------+-----------+----------------------+\n",
       "| {'and': 1, 'all': 1, 'beca... |     1     |    0.999513023521    |\n",
       "| {'and': 1, 'right': 1, 'he... |     1     |    0.999320678306    |\n",
       "| {'and': 2, 'all': 1, 'woul... |     0     |    0.013558811687    |\n",
       "| {'and': 2, 'one!': 1, 'all... |     1     |    0.995769474148    |\n",
       "| {'and': 3, 'all': 1, 'mont... |     1     |    0.662374415673    |\n",
       "| {'and': 6, 'seven': 1, 'al... |     1     |    0.999997148186    |\n",
       "| {'and': 4, 'drooling,': 1,... |     1     |    0.989190989536    |\n",
       "| {'and': 3, 'chew': 1, 'be'... |     1     |    0.999563518413    |\n",
       "| {'chew': 2, 'seemed': 1, '... |     1     |    0.970160542725    |\n",
       "| {'and': 4, ':)': 1, 'just'... |     1     |    0.999999795012    |\n",
       "+-------------------------------+-----------+----------------------+\n",
       "[723 rows x 6 columns]\n",
       "Note: Only the head of the SFrame is printed.\n",
       "You can use print_rows(num_rows=m, num_columns=n) to print more rows and columns."
      ]
     },
     "execution_count": 58,
     "metadata": {},
     "output_type": "execute_result"
    }
   ],
   "source": [
    "giraffe_reviews"
   ]
  },
  {
   "cell_type": "code",
   "execution_count": 59,
   "metadata": {
    "collapsed": true
   },
   "outputs": [],
   "source": [
    "giraffe_reviews = giraffe_reviews.sort('predicted_sentiments', ascending=False)"
   ]
  },
  {
   "cell_type": "code",
   "execution_count": 60,
   "metadata": {
    "collapsed": false
   },
   "outputs": [
    {
     "data": {
      "text/html": [
       "<div style=\"max-height:1000px;max-width:1500px;overflow:auto;\"><table frame=\"box\" rules=\"cols\">\n",
       "    <tr>\n",
       "        <th style=\"padding-left: 1em; padding-right: 1em; text-align: center\">name</th>\n",
       "        <th style=\"padding-left: 1em; padding-right: 1em; text-align: center\">review</th>\n",
       "        <th style=\"padding-left: 1em; padding-right: 1em; text-align: center\">rating</th>\n",
       "        <th style=\"padding-left: 1em; padding-right: 1em; text-align: center\">word_count</th>\n",
       "        <th style=\"padding-left: 1em; padding-right: 1em; text-align: center\">sentiment</th>\n",
       "    </tr>\n",
       "    <tr>\n",
       "        <td style=\"padding-left: 1em; padding-right: 1em; text-align: center; vertical-align: top\">Vulli Sophie the Giraffe<br>Teether ...</td>\n",
       "        <td style=\"padding-left: 1em; padding-right: 1em; text-align: center; vertical-align: top\">Sophie, oh Sophie, your<br>time has come. My ...</td>\n",
       "        <td style=\"padding-left: 1em; padding-right: 1em; text-align: center; vertical-align: top\">5.0</td>\n",
       "        <td style=\"padding-left: 1em; padding-right: 1em; text-align: center; vertical-align: top\">{'giggles': 1, 'all': 1,<br>\"violet's\": 2, 'bring': ...</td>\n",
       "        <td style=\"padding-left: 1em; padding-right: 1em; text-align: center; vertical-align: top\">1</td>\n",
       "    </tr>\n",
       "    <tr>\n",
       "        <td style=\"padding-left: 1em; padding-right: 1em; text-align: center; vertical-align: top\">Vulli Sophie the Giraffe<br>Teether ...</td>\n",
       "        <td style=\"padding-left: 1em; padding-right: 1em; text-align: center; vertical-align: top\">I'm not sure why Sophie<br>is such a hit with the ...</td>\n",
       "        <td style=\"padding-left: 1em; padding-right: 1em; text-align: center; vertical-align: top\">4.0</td>\n",
       "        <td style=\"padding-left: 1em; padding-right: 1em; text-align: center; vertical-align: top\">{'adoring': 1, 'find': 1,<br>'month': 1, 'bright': 1, ...</td>\n",
       "        <td style=\"padding-left: 1em; padding-right: 1em; text-align: center; vertical-align: top\">1</td>\n",
       "    </tr>\n",
       "    <tr>\n",
       "        <td style=\"padding-left: 1em; padding-right: 1em; text-align: center; vertical-align: top\">Vulli Sophie the Giraffe<br>Teether ...</td>\n",
       "        <td style=\"padding-left: 1em; padding-right: 1em; text-align: center; vertical-align: top\">I'll be honest...I bought<br>this toy because all the ...</td>\n",
       "        <td style=\"padding-left: 1em; padding-right: 1em; text-align: center; vertical-align: top\">4.0</td>\n",
       "        <td style=\"padding-left: 1em; padding-right: 1em; text-align: center; vertical-align: top\">{'all': 2, 'discovered':<br>1, 'existence.': 1, ...</td>\n",
       "        <td style=\"padding-left: 1em; padding-right: 1em; text-align: center; vertical-align: top\">1</td>\n",
       "    </tr>\n",
       "    <tr>\n",
       "        <td style=\"padding-left: 1em; padding-right: 1em; text-align: center; vertical-align: top\">Vulli Sophie the Giraffe<br>Teether ...</td>\n",
       "        <td style=\"padding-left: 1em; padding-right: 1em; text-align: center; vertical-align: top\">We got this little<br>giraffe as a gift from a ...</td>\n",
       "        <td style=\"padding-left: 1em; padding-right: 1em; text-align: center; vertical-align: top\">5.0</td>\n",
       "        <td style=\"padding-left: 1em; padding-right: 1em; text-align: center; vertical-align: top\">{'all': 2, \"don't\": 1,<br>'(literally).so': 1, ...</td>\n",
       "        <td style=\"padding-left: 1em; padding-right: 1em; text-align: center; vertical-align: top\">1</td>\n",
       "    </tr>\n",
       "    <tr>\n",
       "        <td style=\"padding-left: 1em; padding-right: 1em; text-align: center; vertical-align: top\">Vulli Sophie the Giraffe<br>Teether ...</td>\n",
       "        <td style=\"padding-left: 1em; padding-right: 1em; text-align: center; vertical-align: top\">As a mother of 16month<br>old twins; I bought ...</td>\n",
       "        <td style=\"padding-left: 1em; padding-right: 1em; text-align: center; vertical-align: top\">5.0</td>\n",
       "        <td style=\"padding-left: 1em; padding-right: 1em; text-align: center; vertical-align: top\">{'cute': 1, 'all': 1,<br>'reviews.': 2, 'just' ...</td>\n",
       "        <td style=\"padding-left: 1em; padding-right: 1em; text-align: center; vertical-align: top\">1</td>\n",
       "    </tr>\n",
       "    <tr>\n",
       "        <td style=\"padding-left: 1em; padding-right: 1em; text-align: center; vertical-align: top\">Vulli Sophie the Giraffe<br>Teether ...</td>\n",
       "        <td style=\"padding-left: 1em; padding-right: 1em; text-align: center; vertical-align: top\">Sophie the Giraffe is the<br>perfect teething toy. ...</td>\n",
       "        <td style=\"padding-left: 1em; padding-right: 1em; text-align: center; vertical-align: top\">5.0</td>\n",
       "        <td style=\"padding-left: 1em; padding-right: 1em; text-align: center; vertical-align: top\">{'just': 2, 'both': 1,<br>'month': 1, 'ears,': 1, ...</td>\n",
       "        <td style=\"padding-left: 1em; padding-right: 1em; text-align: center; vertical-align: top\">1</td>\n",
       "    </tr>\n",
       "    <tr>\n",
       "        <td style=\"padding-left: 1em; padding-right: 1em; text-align: center; vertical-align: top\">Vulli Sophie the Giraffe<br>Teether ...</td>\n",
       "        <td style=\"padding-left: 1em; padding-right: 1em; text-align: center; vertical-align: top\">Sophie la giraffe is<br>absolutely the best toy ...</td>\n",
       "        <td style=\"padding-left: 1em; padding-right: 1em; text-align: center; vertical-align: top\">5.0</td>\n",
       "        <td style=\"padding-left: 1em; padding-right: 1em; text-align: center; vertical-align: top\">{'and': 5, 'the': 1,<br>'all': 1, 'that': 2, ...</td>\n",
       "        <td style=\"padding-left: 1em; padding-right: 1em; text-align: center; vertical-align: top\">1</td>\n",
       "    </tr>\n",
       "    <tr>\n",
       "        <td style=\"padding-left: 1em; padding-right: 1em; text-align: center; vertical-align: top\">Vulli Sophie the Giraffe<br>Teether ...</td>\n",
       "        <td style=\"padding-left: 1em; padding-right: 1em; text-align: center; vertical-align: top\">My 5-mos old son took to<br>this immediately. The ...</td>\n",
       "        <td style=\"padding-left: 1em; padding-right: 1em; text-align: center; vertical-align: top\">5.0</td>\n",
       "        <td style=\"padding-left: 1em; padding-right: 1em; text-align: center; vertical-align: top\">{'just': 1, 'shape': 2,<br>'mutt': 1, '\"dog': 1, ...</td>\n",
       "        <td style=\"padding-left: 1em; padding-right: 1em; text-align: center; vertical-align: top\">1</td>\n",
       "    </tr>\n",
       "    <tr>\n",
       "        <td style=\"padding-left: 1em; padding-right: 1em; text-align: center; vertical-align: top\">Vulli Sophie the Giraffe<br>Teether ...</td>\n",
       "        <td style=\"padding-left: 1em; padding-right: 1em; text-align: center; vertical-align: top\">My nephews and my four<br>kids all had Sophie in ...</td>\n",
       "        <td style=\"padding-left: 1em; padding-right: 1em; text-align: center; vertical-align: top\">5.0</td>\n",
       "        <td style=\"padding-left: 1em; padding-right: 1em; text-align: center; vertical-align: top\">{'and': 4, 'chew': 1,<br>'all': 1, 'perfect;': 1, ...</td>\n",
       "        <td style=\"padding-left: 1em; padding-right: 1em; text-align: center; vertical-align: top\">1</td>\n",
       "    </tr>\n",
       "    <tr>\n",
       "        <td style=\"padding-left: 1em; padding-right: 1em; text-align: center; vertical-align: top\">Vulli Sophie the Giraffe<br>Teether ...</td>\n",
       "        <td style=\"padding-left: 1em; padding-right: 1em; text-align: center; vertical-align: top\">Never thought I'd see my<br>son French kissing a ...</td>\n",
       "        <td style=\"padding-left: 1em; padding-right: 1em; text-align: center; vertical-align: top\">5.0</td>\n",
       "        <td style=\"padding-left: 1em; padding-right: 1em; text-align: center; vertical-align: top\">{'giggles': 1, 'all': 1,<br>'out,': 1, 'over': 1, ...</td>\n",
       "        <td style=\"padding-left: 1em; padding-right: 1em; text-align: center; vertical-align: top\">1</td>\n",
       "    </tr>\n",
       "</table>\n",
       "<table frame=\"box\" rules=\"cols\">\n",
       "    <tr>\n",
       "        <th style=\"padding-left: 1em; padding-right: 1em; text-align: center\">predicted_sentiments</th>\n",
       "    </tr>\n",
       "    <tr>\n",
       "        <td style=\"padding-left: 1em; padding-right: 1em; text-align: center; vertical-align: top\">1.0</td>\n",
       "    </tr>\n",
       "    <tr>\n",
       "        <td style=\"padding-left: 1em; padding-right: 1em; text-align: center; vertical-align: top\">0.999999999703</td>\n",
       "    </tr>\n",
       "    <tr>\n",
       "        <td style=\"padding-left: 1em; padding-right: 1em; text-align: center; vertical-align: top\">0.999999999392</td>\n",
       "    </tr>\n",
       "    <tr>\n",
       "        <td style=\"padding-left: 1em; padding-right: 1em; text-align: center; vertical-align: top\">0.99999999919</td>\n",
       "    </tr>\n",
       "    <tr>\n",
       "        <td style=\"padding-left: 1em; padding-right: 1em; text-align: center; vertical-align: top\">0.999999998657</td>\n",
       "    </tr>\n",
       "    <tr>\n",
       "        <td style=\"padding-left: 1em; padding-right: 1em; text-align: center; vertical-align: top\">0.999999997108</td>\n",
       "    </tr>\n",
       "    <tr>\n",
       "        <td style=\"padding-left: 1em; padding-right: 1em; text-align: center; vertical-align: top\">0.999999995589</td>\n",
       "    </tr>\n",
       "    <tr>\n",
       "        <td style=\"padding-left: 1em; padding-right: 1em; text-align: center; vertical-align: top\">0.999999995573</td>\n",
       "    </tr>\n",
       "    <tr>\n",
       "        <td style=\"padding-left: 1em; padding-right: 1em; text-align: center; vertical-align: top\">0.999999989527</td>\n",
       "    </tr>\n",
       "    <tr>\n",
       "        <td style=\"padding-left: 1em; padding-right: 1em; text-align: center; vertical-align: top\">0.999999985069</td>\n",
       "    </tr>\n",
       "</table>\n",
       "[723 rows x 6 columns]<br/>Note: Only the head of the SFrame is printed.<br/>You can use print_rows(num_rows=m, num_columns=n) to print more rows and columns.\n",
       "</div>"
      ],
      "text/plain": [
       "Columns:\n",
       "\tname\tstr\n",
       "\treview\tstr\n",
       "\trating\tfloat\n",
       "\tword_count\tdict\n",
       "\tsentiment\tint\n",
       "\tpredicted_sentiments\tfloat\n",
       "\n",
       "Rows: 723\n",
       "\n",
       "Data:\n",
       "+-------------------------------+-------------------------------+--------+\n",
       "|              name             |             review            | rating |\n",
       "+-------------------------------+-------------------------------+--------+\n",
       "| Vulli Sophie the Giraffe T... | Sophie, oh Sophie, your ti... |  5.0   |\n",
       "| Vulli Sophie the Giraffe T... | I'm not sure why Sophie is... |  4.0   |\n",
       "| Vulli Sophie the Giraffe T... | I'll be honest...I bought ... |  4.0   |\n",
       "| Vulli Sophie the Giraffe T... | We got this little giraffe... |  5.0   |\n",
       "| Vulli Sophie the Giraffe T... | As a mother of 16month old... |  5.0   |\n",
       "| Vulli Sophie the Giraffe T... | Sophie the Giraffe is the ... |  5.0   |\n",
       "| Vulli Sophie the Giraffe T... | Sophie la giraffe is absol... |  5.0   |\n",
       "| Vulli Sophie the Giraffe T... | My 5-mos old son took to t... |  5.0   |\n",
       "| Vulli Sophie the Giraffe T... | My nephews and my four kid... |  5.0   |\n",
       "| Vulli Sophie the Giraffe T... | Never thought I'd see my s... |  5.0   |\n",
       "+-------------------------------+-------------------------------+--------+\n",
       "+-------------------------------+-----------+----------------------+\n",
       "|           word_count          | sentiment | predicted_sentiments |\n",
       "+-------------------------------+-----------+----------------------+\n",
       "| {'giggles': 1, 'all': 1, \"... |     1     |         1.0          |\n",
       "| {'adoring': 1, 'find': 1, ... |     1     |    0.999999999703    |\n",
       "| {'all': 2, 'discovered': 1... |     1     |    0.999999999392    |\n",
       "| {'all': 2, \"don't\": 1, '(l... |     1     |    0.99999999919     |\n",
       "| {'cute': 1, 'all': 1, 'rev... |     1     |    0.999999998657    |\n",
       "| {'just': 2, 'both': 1, 'mo... |     1     |    0.999999997108    |\n",
       "| {'and': 5, 'the': 1, 'all'... |     1     |    0.999999995589    |\n",
       "| {'just': 1, 'shape': 2, 'm... |     1     |    0.999999995573    |\n",
       "| {'and': 4, 'chew': 1, 'all... |     1     |    0.999999989527    |\n",
       "| {'giggles': 1, 'all': 1, '... |     1     |    0.999999985069    |\n",
       "+-------------------------------+-----------+----------------------+\n",
       "[723 rows x 6 columns]\n",
       "Note: Only the head of the SFrame is printed.\n",
       "You can use print_rows(num_rows=m, num_columns=n) to print more rows and columns."
      ]
     },
     "execution_count": 60,
     "metadata": {},
     "output_type": "execute_result"
    }
   ],
   "source": [
    "giraffe_reviews"
   ]
  },
  {
   "cell_type": "code",
   "execution_count": 61,
   "metadata": {
    "collapsed": false
   },
   "outputs": [
    {
     "data": {
      "text/plain": [
       "\"My son (now 2.5) LOVED his Sophie, and I bought one for every baby shower I've gone to. Now, my daughter (6 months) just today nearly choked on it and I will never give it to her again. Had I not been within hearing range it could have been fatal. The strange sound she was making caught my attention and when I went to her and found the front curved leg shoved well down her throat and her face a purply/blue I panicked. I pulled it out and she vomited all over the carpet before screaming her head off. I can't believe how my opinion of this toy has changed from a must-have to a must-not-use. Please don't disregard any of the choking hazard comments, they are not over exaggerated!\""
      ]
     },
     "execution_count": 61,
     "metadata": {},
     "output_type": "execute_result"
    }
   ],
   "source": [
    "giraffe_reviews[-1]['review']"
   ]
  },
  {
   "cell_type": "code",
   "execution_count": 62,
   "metadata": {
    "collapsed": true
   },
   "outputs": [],
   "source": [
    "selected_words = ['awesome', 'great', 'fantastic', 'amazing', 'love', 'horrible', 'bad', 'terrible', 'awful', 'wow', 'hate']"
   ]
  },
  {
   "cell_type": "code",
   "execution_count": 63,
   "metadata": {
    "collapsed": false
   },
   "outputs": [
    {
     "data": {
      "text/plain": [
       "['awesome',\n",
       " 'great',\n",
       " 'fantastic',\n",
       " 'amazing',\n",
       " 'love',\n",
       " 'horrible',\n",
       " 'bad',\n",
       " 'terrible',\n",
       " 'awful',\n",
       " 'wow',\n",
       " 'hate']"
      ]
     },
     "execution_count": 63,
     "metadata": {},
     "output_type": "execute_result"
    }
   ],
   "source": [
    "selected_words"
   ]
  },
  {
   "cell_type": "code",
   "execution_count": 85,
   "metadata": {
    "collapsed": true
   },
   "outputs": [],
   "source": [
    "def selected_word_counter(word_dic, word):\n",
    "    if 'awesome' in word_dic:\n",
    "        return word_list[awesome]\n",
    "    return 0\n",
    "products['awesome'] = products['word_count'].apply(awesome_count)"
   ]
  },
  {
   "cell_type": "code",
   "execution_count": 81,
   "metadata": {
    "collapsed": false
   },
   "outputs": [],
   "source": []
  },
  {
   "cell_type": "code",
   "execution_count": 86,
   "metadata": {
    "collapsed": false
   },
   "outputs": [],
   "source": [
    "def great_count(word_list):\n",
    "    if 'great' in word_list:\n",
    "        return word_list['great']\n",
    "    return 0\n",
    "products['great'] = products['word_count'].apply(great_count)"
   ]
  },
  {
   "cell_type": "code",
   "execution_count": 70,
   "metadata": {
    "collapsed": false
   },
   "outputs": [
    {
     "data": {
      "text/html": [
       "<div style=\"max-height:1000px;max-width:1500px;overflow:auto;\"><table frame=\"box\" rules=\"cols\">\n",
       "    <tr>\n",
       "        <th style=\"padding-left: 1em; padding-right: 1em; text-align: center\">name</th>\n",
       "        <th style=\"padding-left: 1em; padding-right: 1em; text-align: center\">review</th>\n",
       "        <th style=\"padding-left: 1em; padding-right: 1em; text-align: center\">rating</th>\n",
       "        <th style=\"padding-left: 1em; padding-right: 1em; text-align: center\">word_count</th>\n",
       "        <th style=\"padding-left: 1em; padding-right: 1em; text-align: center\">sentiment</th>\n",
       "        <th style=\"padding-left: 1em; padding-right: 1em; text-align: center\">awesome</th>\n",
       "    </tr>\n",
       "    <tr>\n",
       "        <td style=\"padding-left: 1em; padding-right: 1em; text-align: center; vertical-align: top\">SnugRide Infant Car Seat<br>Adjustable Base with ...</td>\n",
       "        <td style=\"padding-left: 1em; padding-right: 1em; text-align: center; vertical-align: top\">We bought this extra base<br>for my husbands car (we ...</td>\n",
       "        <td style=\"padding-left: 1em; padding-right: 1em; text-align: center; vertical-align: top\">5.0</td>\n",
       "        <td style=\"padding-left: 1em; padding-right: 1em; text-align: center; vertical-align: top\">{'and': 3, 'infant': 1,<br>\"spouse's\": 1, '(my': 1, ...</td>\n",
       "        <td style=\"padding-left: 1em; padding-right: 1em; text-align: center; vertical-align: top\">1</td>\n",
       "        <td style=\"padding-left: 1em; padding-right: 1em; text-align: center; vertical-align: top\">2</td>\n",
       "    </tr>\n",
       "    <tr>\n",
       "        <td style=\"padding-left: 1em; padding-right: 1em; text-align: center; vertical-align: top\">Skip Hop Duo Diaper Bag<br>BLACK ...</td>\n",
       "        <td style=\"padding-left: 1em; padding-right: 1em; text-align: center; vertical-align: top\">I tried several diaper<br>bags when my first was ...</td>\n",
       "        <td style=\"padding-left: 1em; padding-right: 1em; text-align: center; vertical-align: top\">5.0</td>\n",
       "        <td style=\"padding-left: 1em; padding-right: 1em; text-align: center; vertical-align: top\">{'bags,': 1, \"don't\": 1,<br>'bottom,': 1, 'over': 1, ...</td>\n",
       "        <td style=\"padding-left: 1em; padding-right: 1em; text-align: center; vertical-align: top\">1</td>\n",
       "        <td style=\"padding-left: 1em; padding-right: 1em; text-align: center; vertical-align: top\">2</td>\n",
       "    </tr>\n",
       "    <tr>\n",
       "        <td style=\"padding-left: 1em; padding-right: 1em; text-align: center; vertical-align: top\">BABYBJORN Baby Carrier<br>Original, Black, Cotton ...</td>\n",
       "        <td style=\"padding-left: 1em; padding-right: 1em; text-align: center; vertical-align: top\">I really love this<br>product! It is an awe ...</td>\n",
       "        <td style=\"padding-left: 1em; padding-right: 1em; text-align: center; vertical-align: top\">5.0</td>\n",
       "        <td style=\"padding-left: 1em; padding-right: 1em; text-align: center; vertical-align: top\">{'all': 1, 'just': 1,<br>'able': 1, 'still': 1, ...</td>\n",
       "        <td style=\"padding-left: 1em; padding-right: 1em; text-align: center; vertical-align: top\">1</td>\n",
       "        <td style=\"padding-left: 1em; padding-right: 1em; text-align: center; vertical-align: top\">2</td>\n",
       "    </tr>\n",
       "    <tr>\n",
       "        <td style=\"padding-left: 1em; padding-right: 1em; text-align: center; vertical-align: top\">Cloud b Twilight<br>Constellation Night ...</td>\n",
       "        <td style=\"padding-left: 1em; padding-right: 1em; text-align: center; vertical-align: top\">This is an awesome<br>product.  My son had  ...</td>\n",
       "        <td style=\"padding-left: 1em; padding-right: 1em; text-align: center; vertical-align: top\">5.0</td>\n",
       "        <td style=\"padding-left: 1em; padding-right: 1em; text-align: center; vertical-align: top\">{'just': 1, 'show': 1,<br>'yellow': 2, 'thanks' ...</td>\n",
       "        <td style=\"padding-left: 1em; padding-right: 1em; text-align: center; vertical-align: top\">1</td>\n",
       "        <td style=\"padding-left: 1em; padding-right: 1em; text-align: center; vertical-align: top\">2</td>\n",
       "    </tr>\n",
       "    <tr>\n",
       "        <td style=\"padding-left: 1em; padding-right: 1em; text-align: center; vertical-align: top\">Boon Flo Water Deflector<br>and Protective Faucet ...</td>\n",
       "        <td style=\"padding-left: 1em; padding-right: 1em; text-align: center; vertical-align: top\">Boons Let it Flo seemed<br>like an awesome ...</td>\n",
       "        <td style=\"padding-left: 1em; padding-right: 1em; text-align: center; vertical-align: top\">1.0</td>\n",
       "        <td style=\"padding-left: 1em; padding-right: 1em; text-align: center; vertical-align: top\">{'being': 1, 'held': 1,<br>'softer': 1, 'seemed' ...</td>\n",
       "        <td style=\"padding-left: 1em; padding-right: 1em; text-align: center; vertical-align: top\">0</td>\n",
       "        <td style=\"padding-left: 1em; padding-right: 1em; text-align: center; vertical-align: top\">2</td>\n",
       "    </tr>\n",
       "    <tr>\n",
       "        <td style=\"padding-left: 1em; padding-right: 1em; text-align: center; vertical-align: top\">Hotslings Designer Pouch<br>Style Baby Carrier, Z ...</td>\n",
       "        <td style=\"padding-left: 1em; padding-right: 1em; text-align: center; vertical-align: top\">From newborn till<br>toddlerhood we used this ...</td>\n",
       "        <td style=\"padding-left: 1em; padding-right: 1em; text-align: center; vertical-align: top\">5.0</td>\n",
       "        <td style=\"padding-left: 1em; padding-right: 1em; text-align: center; vertical-align: top\">{'and': 2, 'very': 1,<br>'tired': 1, 'awesome' ...</td>\n",
       "        <td style=\"padding-left: 1em; padding-right: 1em; text-align: center; vertical-align: top\">1</td>\n",
       "        <td style=\"padding-left: 1em; padding-right: 1em; text-align: center; vertical-align: top\">2</td>\n",
       "    </tr>\n",
       "    <tr>\n",
       "        <td style=\"padding-left: 1em; padding-right: 1em; text-align: center; vertical-align: top\">Lamaze Dream Screen</td>\n",
       "        <td style=\"padding-left: 1em; padding-right: 1em; text-align: center; vertical-align: top\">I LOVED this when I saw<br>it online (and loved the ...</td>\n",
       "        <td style=\"padding-left: 1em; padding-right: 1em; text-align: center; vertical-align: top\">4.0</td>\n",
       "        <td style=\"padding-left: 1em; padding-right: 1em; text-align: center; vertical-align: top\">{'help': 2, 'over': 1,<br>'installed': 1, 'four': ...</td>\n",
       "        <td style=\"padding-left: 1em; padding-right: 1em; text-align: center; vertical-align: top\">1</td>\n",
       "        <td style=\"padding-left: 1em; padding-right: 1em; text-align: center; vertical-align: top\">2</td>\n",
       "    </tr>\n",
       "    <tr>\n",
       "        <td style=\"padding-left: 1em; padding-right: 1em; text-align: center; vertical-align: top\">Ride On Carry On Child<br>Seat Luggage Attachment ...</td>\n",
       "        <td style=\"padding-left: 1em; padding-right: 1em; text-align: center; vertical-align: top\">My daughter is very hyper<br>and is very hard to keep ...</td>\n",
       "        <td style=\"padding-left: 1em; padding-right: 1em; text-align: center; vertical-align: top\">5.0</td>\n",
       "        <td style=\"padding-left: 1em; padding-right: 1em; text-align: center; vertical-align: top\">{'and': 2, 'all': 1,<br>'think': 1, 'just': 1, ...</td>\n",
       "        <td style=\"padding-left: 1em; padding-right: 1em; text-align: center; vertical-align: top\">1</td>\n",
       "        <td style=\"padding-left: 1em; padding-right: 1em; text-align: center; vertical-align: top\">2</td>\n",
       "    </tr>\n",
       "    <tr>\n",
       "        <td style=\"padding-left: 1em; padding-right: 1em; text-align: center; vertical-align: top\">DadGear Backpack Diaper<br>Bag - Red Retro Stripe ...</td>\n",
       "        <td style=\"padding-left: 1em; padding-right: 1em; text-align: center; vertical-align: top\">The Dad Gear backpack is<br>a lifesaver! The diaper ...</td>\n",
       "        <td style=\"padding-left: 1em; padding-right: 1em; text-align: center; vertical-align: top\">5.0</td>\n",
       "        <td style=\"padding-left: 1em; padding-right: 1em; text-align: center; vertical-align: top\">{'all': 1, 'product,': 1,<br>'bags.': 1, 'just': 1, ...</td>\n",
       "        <td style=\"padding-left: 1em; padding-right: 1em; text-align: center; vertical-align: top\">1</td>\n",
       "        <td style=\"padding-left: 1em; padding-right: 1em; text-align: center; vertical-align: top\">2</td>\n",
       "    </tr>\n",
       "    <tr>\n",
       "        <td style=\"padding-left: 1em; padding-right: 1em; text-align: center; vertical-align: top\">The First Years Spinning<br>Drying Rack, White ...</td>\n",
       "        <td style=\"padding-left: 1em; padding-right: 1em; text-align: center; vertical-align: top\">I've had this rack since<br>our daughter's birth in ...</td>\n",
       "        <td style=\"padding-left: 1em; padding-right: 1em; text-align: center; vertical-align: top\">5.0</td>\n",
       "        <td style=\"padding-left: 1em; padding-right: 1em; text-align: center; vertical-align: top\">{'no,': 1, 'issue!),': 1,<br>'all': 4, 'being': 1, ...</td>\n",
       "        <td style=\"padding-left: 1em; padding-right: 1em; text-align: center; vertical-align: top\">1</td>\n",
       "        <td style=\"padding-left: 1em; padding-right: 1em; text-align: center; vertical-align: top\">2</td>\n",
       "    </tr>\n",
       "</table>\n",
       "[? rows x 6 columns]<br/>Note: Only the head of the SFrame is printed. This SFrame is lazily evaluated.<br/>You can use sf.materialize() to force materialization.\n",
       "</div>"
      ],
      "text/plain": [
       "Columns:\n",
       "\tname\tstr\n",
       "\treview\tstr\n",
       "\trating\tfloat\n",
       "\tword_count\tdict\n",
       "\tsentiment\tint\n",
       "\tawesome\tint\n",
       "\n",
       "Rows: Unknown\n",
       "\n",
       "Data:\n",
       "+-------------------------------+-------------------------------+--------+\n",
       "|              name             |             review            | rating |\n",
       "+-------------------------------+-------------------------------+--------+\n",
       "| SnugRide Infant Car Seat A... | We bought this extra base ... |  5.0   |\n",
       "| Skip Hop Duo Diaper Bag BLACK | I tried several diaper bag... |  5.0   |\n",
       "| BABYBJORN Baby Carrier Ori... | I really love this product... |  5.0   |\n",
       "| Cloud b Twilight Constella... | This is an awesome product... |  5.0   |\n",
       "| Boon Flo Water Deflector a... | Boons Let it Flo seemed li... |  1.0   |\n",
       "| Hotslings Designer Pouch S... | From newborn till toddlerh... |  5.0   |\n",
       "|      Lamaze Dream Screen      | I LOVED this when I saw it... |  4.0   |\n",
       "| Ride On Carry On Child Sea... | My daughter is very hyper ... |  5.0   |\n",
       "| DadGear Backpack Diaper Ba... | The Dad Gear backpack is a... |  5.0   |\n",
       "| The First Years Spinning D... | I've had this rack since o... |  5.0   |\n",
       "+-------------------------------+-------------------------------+--------+\n",
       "+-------------------------------+-----------+---------+\n",
       "|           word_count          | sentiment | awesome |\n",
       "+-------------------------------+-----------+---------+\n",
       "| {'and': 3, 'infant': 1, \"s... |     1     |    2    |\n",
       "| {'bags,': 1, \"don't\": 1, '... |     1     |    2    |\n",
       "| {'all': 1, 'just': 1, 'abl... |     1     |    2    |\n",
       "| {'just': 1, 'show': 1, 'ye... |     1     |    2    |\n",
       "| {'being': 1, 'held': 1, 's... |     0     |    2    |\n",
       "| {'and': 2, 'very': 1, 'tir... |     1     |    2    |\n",
       "| {'help': 2, 'over': 1, 'in... |     1     |    2    |\n",
       "| {'and': 2, 'all': 1, 'thin... |     1     |    2    |\n",
       "| {'all': 1, 'product,': 1, ... |     1     |    2    |\n",
       "| {'no,': 1, 'issue!),': 1, ... |     1     |    2    |\n",
       "+-------------------------------+-----------+---------+\n",
       "[? rows x 6 columns]\n",
       "Note: Only the head of the SFrame is printed. This SFrame is lazily evaluated.\n",
       "You can use sf.materialize() to force materialization."
      ]
     },
     "execution_count": 70,
     "metadata": {},
     "output_type": "execute_result"
    }
   ],
   "source": [
    "products[products['awesome'] == 2]"
   ]
  },
  {
   "cell_type": "code",
   "execution_count": null,
   "metadata": {
    "collapsed": true
   },
   "outputs": [],
   "source": []
  }
 ],
 "metadata": {
  "kernelspec": {
   "display_name": "Python 2",
   "language": "python",
   "name": "python2"
  },
  "language_info": {
   "codemirror_mode": {
    "name": "ipython",
    "version": 2
   },
   "file_extension": ".py",
   "mimetype": "text/x-python",
   "name": "python",
   "nbconvert_exporter": "python",
   "pygments_lexer": "ipython2",
   "version": "2.7.11"
  }
 },
 "nbformat": 4,
 "nbformat_minor": 0
}
